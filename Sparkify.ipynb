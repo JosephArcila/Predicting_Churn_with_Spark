{
 "cells": [
  {
   "cell_type": "markdown",
   "metadata": {},
   "source": [
    "# Data Wrangling with Spark\n",
    "This workspace contains a tiny subset (128MB) of the full dataset available (12GB) to explore a smaller subset with Spark before deploying your cluster on the cloud. The dataset describes log events comming from a music streaming service. The records describe events such as logging in to the site, visiting a page, listening to the next song, seeing an ad."
   ]
  },
  {
   "cell_type": "code",
   "execution_count": 1,
   "metadata": {
    "scrolled": true
   },
   "outputs": [
    {
     "name": "stdout",
     "output_type": "stream",
     "text": [
      "Collecting matplotlib\n",
      "\u001b[?25l  Downloading https://files.pythonhosted.org/packages/09/03/b7b30fa81cb687d1178e085d0f01111ceaea3bf81f9330c937fb6f6c8ca0/matplotlib-3.3.4-cp36-cp36m-manylinux1_x86_64.whl (11.5MB)\n",
      "\u001b[K    100% |████████████████████████████████| 11.5MB 1.6MB/s eta 0:00:01  1% |▋                               | 215kB 18.1MB/s eta 0:00:01    6% |██▏                             | 778kB 9.8MB/s eta 0:00:02    17% |█████▌                          | 2.0MB 23.8MB/s eta 0:00:01    37% |████████████                    | 4.3MB 24.6MB/s eta 0:00:01    46% |███████████████                 | 5.4MB 22.0MB/s eta 0:00:01    51% |████████████████▍               | 5.9MB 9.3MB/s eta 0:00:01    56% |██████████████████              | 6.5MB 24.6MB/s eta 0:00:01    71% |██████████████████████▉         | 8.2MB 25.9MB/s eta 0:00:01    76% |████████████████████████▌       | 8.8MB 25.7MB/s eta 0:00:01    86% |███████████████████████████▋    | 9.9MB 12.9MB/s eta 0:00:01    90% |█████████████████████████████   | 10.5MB 12.2MB/s eta 0:00:01    95% |██████████████████████████████▌ | 11.0MB 11.9MB/s eta 0:00:01\n",
      "\u001b[?25hRequirement already satisfied, skipping upgrade: cycler>=0.10 in /opt/conda/lib/python3.6/site-packages/cycler-0.10.0-py3.6.egg (from matplotlib) (0.10.0)\n",
      "Requirement already satisfied, skipping upgrade: pyparsing!=2.0.4,!=2.1.2,!=2.1.6,>=2.0.3 in /opt/conda/lib/python3.6/site-packages (from matplotlib) (2.2.0)\n",
      "Collecting kiwisolver>=1.0.1 (from matplotlib)\n",
      "\u001b[?25l  Downloading https://files.pythonhosted.org/packages/a7/1b/cbd8ae738719b5f41592a12057ef5442e2ed5f5cb5451f8fc7e9f8875a1a/kiwisolver-1.3.1-cp36-cp36m-manylinux1_x86_64.whl (1.1MB)\n",
      "\u001b[K    100% |████████████████████████████████| 1.1MB 9.5MB/s eta 0:00:01    39% |████████████▊                   | 450kB 10.4MB/s eta 0:00:01\n",
      "\u001b[?25hRequirement already satisfied, skipping upgrade: python-dateutil>=2.1 in /opt/conda/lib/python3.6/site-packages (from matplotlib) (2.6.1)\n",
      "Collecting numpy>=1.15 (from matplotlib)\n",
      "\u001b[?25l  Downloading https://files.pythonhosted.org/packages/45/b2/6c7545bb7a38754d63048c7696804a0d947328125d81bf12beaa692c3ae3/numpy-1.19.5-cp36-cp36m-manylinux1_x86_64.whl (13.4MB)\n",
      "\u001b[K    100% |████████████████████████████████| 13.4MB 1.5MB/s eta 0:00:01  4% |█▍                              | 583kB 11.3MB/s eta 0:00:02    8% |██▋                             | 1.1MB 25.2MB/s eta 0:00:01    40% |█████████████                   | 5.5MB 11.6MB/s eta 0:00:01    61% |███████████████████▊            | 8.2MB 11.4MB/s eta 0:00:01    65% |█████████████████████           | 8.8MB 20.3MB/s eta 0:00:01    69% |██████████████████████▏         | 9.3MB 21.3MB/s eta 0:00:01    80% |█████████████████████████▊      | 10.8MB 20.0MB/s eta 0:00:01    84% |███████████████████████████     | 11.3MB 11.2MB/s eta 0:00:01    87% |████████████████████████████    | 11.8MB 20.9MB/s eta 0:00:01    90% |████████████████████████████▉   | 12.1MB 4.0MB/s eta 0:00:01\n",
      "\u001b[?25hCollecting pillow>=6.2.0 (from matplotlib)\n",
      "\u001b[?25l  Downloading https://files.pythonhosted.org/packages/7d/2a/2fc11b54e2742db06297f7fa7f420a0e3069fdcf0e4b57dfec33f0b08622/Pillow-8.4.0.tar.gz (49.4MB)\n",
      "\u001b[K    100% |████████████████████████████████| 49.4MB 402kB/s eta 0:00:01  0% |▎                               | 399kB 11.2MB/s eta 0:00:05    3% |█                               | 1.5MB 12.1MB/s eta 0:00:04    4% |█▍                              | 2.1MB 12.9MB/s eta 0:00:04    5% |█▊                              | 2.6MB 10.6MB/s eta 0:00:05    6% |██                              | 3.1MB 7.9MB/s eta 0:00:06    12% |████                            | 6.1MB 7.7MB/s eta 0:00:06    14% |████▋                           | 7.1MB 12.8MB/s eta 0:00:04    15% |█████                           | 7.6MB 12.2MB/s eta 0:00:04    19% |██████▏                         | 9.6MB 9.8MB/s eta 0:00:05    22% |███████                         | 11.0MB 11.3MB/s eta 0:00:04    24% |████████                        | 12.3MB 6.9MB/s eta 0:00:06    25% |████████▎                       | 12.7MB 4.3MB/s eta 0:00:09    26% |████████▍                       | 12.9MB 6.0MB/s eta 0:00:07    27% |████████▊                       | 13.5MB 6.7MB/s eta 0:00:06    36% |███████████▋                    | 17.8MB 9.5MB/s eta 0:00:04    38% |████████████▏                   | 18.8MB 8.4MB/s eta 0:00:04    38% |████████████▌                   | 19.2MB 7.5MB/s eta 0:00:05    41% |█████████████▎                  | 20.5MB 5.4MB/s eta 0:00:06    43% |█████████████▉                  | 21.4MB 19.7MB/s eta 0:00:02    48% |███████████████▌                | 23.9MB 10.5MB/s eta 0:00:03    49% |███████████████▉                | 24.4MB 9.7MB/s eta 0:00:03    52% |█████████████████               | 26.1MB 11.3MB/s eta 0:00:03    53% |█████████████████▏              | 26.6MB 9.4MB/s eta 0:00:03    54% |█████████████████▌              | 27.0MB 10.2MB/s eta 0:00:03    56% |██████████████████              | 27.9MB 7.1MB/s eta 0:00:04    57% |██████████████████▍             | 28.3MB 10.8MB/s eta 0:00:02    59% |███████████████████             | 29.2MB 20.2MB/s eta 0:00:01    60% |███████████████████▏            | 29.6MB 10.0MB/s eta 0:00:02    61% |███████████████████▊            | 30.4MB 14.3MB/s eta 0:00:02    62% |████████████████████            | 30.9MB 14.2MB/s eta 0:00:02    65% |█████████████████████           | 32.3MB 8.7MB/s eta 0:00:02    66% |█████████████████████▎          | 32.8MB 10.8MB/s eta 0:00:02    67% |█████████████████████▌          | 33.2MB 9.8MB/s eta 0:00:02    69% |██████████████████████▏         | 34.2MB 9.0MB/s eta 0:00:02    69% |██████████████████████▍         | 34.5MB 10.9MB/s eta 0:00:02    71% |███████████████████████         | 35.4MB 7.0MB/s eta 0:00:03    75% |████████████████████████▏       | 37.2MB 10.2MB/s eta 0:00:02    77% |████████████████████████▊       | 38.1MB 8.4MB/s eta 0:00:02    78% |█████████████████████████       | 38.5MB 10.8MB/s eta 0:00:02    80% |█████████████████████████▉      | 39.9MB 8.0MB/s eta 0:00:02    81% |██████████████████████████▏     | 40.3MB 6.6MB/s eta 0:00:02    82% |██████████████████████████▍     | 40.7MB 8.4MB/s eta 0:00:02    83% |██████████████████████████▊     | 41.2MB 9.5MB/s eta 0:00:01    84% |███████████████████████████     | 41.6MB 8.4MB/s eta 0:00:01    86% |███████████████████████████▉    | 42.9MB 15.1MB/s eta 0:00:01    88% |████████████████████████████▏   | 43.4MB 17.4MB/s eta 0:00:01    88% |████████████████████████████▍   | 43.9MB 14.1MB/s eta 0:00:01    89% |████████████████████████████▊   | 44.4MB 10.5MB/s eta 0:00:01    92% |█████████████████████████████▋  | 45.7MB 10.0MB/s eta 0:00:01    94% |██████████████████████████████▎ | 46.6MB 10.4MB/s eta 0:00:01    96% |██████████████████████████████▉ | 47.5MB 6.5MB/s eta 0:00:01    97% |███████████████████████████████▎| 48.3MB 6.6MB/s eta 0:00:01    98% |███████████████████████████████▋| 48.7MB 7.6MB/s eta 0:00:01\n",
      "\u001b[?25hRequirement already satisfied, skipping upgrade: six in /opt/conda/lib/python3.6/site-packages (from cycler>=0.10->matplotlib) (1.11.0)\n",
      "Building wheels for collected packages: pillow\n",
      "  Running setup.py bdist_wheel for pillow ... \u001b[?25ldone\n",
      "\u001b[?25h  Stored in directory: /root/.cache/pip/wheels/a7/69/9a/bba9fca6782340f88dbc378893095722a663cbc618e58fe401\n",
      "Successfully built pillow\n",
      "\u001b[31mtensorflow 1.3.0 requires tensorflow-tensorboard<0.2.0,>=0.1.0, which is not installed.\u001b[0m\n",
      "\u001b[31mscikit-image 0.14.2 has requirement dask[array]>=1.0.0, but you'll have dask 0.16.1 which is incompatible.\u001b[0m\n",
      "Installing collected packages: kiwisolver, numpy, pillow, matplotlib\n",
      "  Found existing installation: numpy 1.12.1\n",
      "    Uninstalling numpy-1.12.1:\n",
      "      Successfully uninstalled numpy-1.12.1\n",
      "  Found existing installation: Pillow 5.2.0\n",
      "    Uninstalling Pillow-5.2.0:\n",
      "      Successfully uninstalled Pillow-5.2.0\n",
      "  Found existing installation: matplotlib 2.1.0\n",
      "    Uninstalling matplotlib-2.1.0:\n",
      "      Successfully uninstalled matplotlib-2.1.0\n",
      "Successfully installed kiwisolver-1.3.1 matplotlib-3.3.4 numpy-1.19.5 pillow-8.4.0\n"
     ]
    }
   ],
   "source": [
    "!pip install --upgrade matplotlib"
   ]
  },
  {
   "cell_type": "code",
   "execution_count": 2,
   "metadata": {},
   "outputs": [
    {
     "name": "stderr",
     "output_type": "stream",
     "text": [
      "Matplotlib is building the font cache; this may take a moment.\n"
     ]
    }
   ],
   "source": [
    "# import libraries\n",
    "from pyspark.sql import SparkSession\n",
    "from pyspark.sql.functions import *\n",
    "from pyspark.sql.functions import max as Fmax\n",
    "from pyspark.sql.functions import sum as Fsum\n",
    "from pyspark.sql.types import IntegerType\n",
    "from pyspark.sql import Window\n",
    "from pyspark.sql.types import*\n",
    "\n",
    "from pyspark.ml import Pipeline, Transformer\n",
    "\n",
    "import datetime\n",
    "\n",
    "import pandas as pd\n",
    "import matplotlib.pyplot as plt\n",
    "%matplotlib inline"
   ]
  },
  {
   "cell_type": "code",
   "execution_count": 3,
   "metadata": {},
   "outputs": [],
   "source": [
    "# create a Spark session\n",
    "spark = SparkSession.builder.appName(\"Spark SQL\").getOrCreate()"
   ]
  },
  {
   "cell_type": "markdown",
   "metadata": {},
   "source": [
    "## Loading and Cleaning the Dataset\n",
    "In this workspace, the mini-dataset file is `mini_sparkify_event_data.json`. Load and clean the dataset, checking for invalid or missing data - for example, records without userids or sessionids. "
   ]
  },
  {
   "cell_type": "code",
   "execution_count": 4,
   "metadata": {},
   "outputs": [],
   "source": [
    "# the IP address of the master node\n",
    "path = \"mini_sparkify_event_data.json\""
   ]
  },
  {
   "cell_type": "code",
   "execution_count": 5,
   "metadata": {},
   "outputs": [],
   "source": [
    "# loading the json file into a spark DataFrame\n",
    "user_log = spark.read.json(path)"
   ]
  },
  {
   "cell_type": "markdown",
   "metadata": {},
   "source": [
    "### Data Exploration "
   ]
  },
  {
   "cell_type": "code",
   "execution_count": 6,
   "metadata": {},
   "outputs": [
    {
     "name": "stdout",
     "output_type": "stream",
     "text": [
      "root\n",
      " |-- artist: string (nullable = true)\n",
      " |-- auth: string (nullable = true)\n",
      " |-- firstName: string (nullable = true)\n",
      " |-- gender: string (nullable = true)\n",
      " |-- itemInSession: long (nullable = true)\n",
      " |-- lastName: string (nullable = true)\n",
      " |-- length: double (nullable = true)\n",
      " |-- level: string (nullable = true)\n",
      " |-- location: string (nullable = true)\n",
      " |-- method: string (nullable = true)\n",
      " |-- page: string (nullable = true)\n",
      " |-- registration: long (nullable = true)\n",
      " |-- sessionId: long (nullable = true)\n",
      " |-- song: string (nullable = true)\n",
      " |-- status: long (nullable = true)\n",
      " |-- ts: long (nullable = true)\n",
      " |-- userAgent: string (nullable = true)\n",
      " |-- userId: string (nullable = true)\n",
      "\n"
     ]
    }
   ],
   "source": [
    "# Seeing the columns we have in this dataframe\n",
    "user_log.printSchema()"
   ]
  },
  {
   "cell_type": "code",
   "execution_count": 7,
   "metadata": {},
   "outputs": [
    {
     "name": "stdout",
     "output_type": "stream",
     "text": [
      "+------+\n",
      "|method|\n",
      "+------+\n",
      "|   PUT|\n",
      "|   GET|\n",
      "+------+\n",
      "\n"
     ]
    }
   ],
   "source": [
    "user_log.select(\"method\").dropDuplicates().show()"
   ]
  },
  {
   "cell_type": "markdown",
   "metadata": {},
   "source": [
    "There are fields describing the user like firstName, lastName and userId. We also have information about the request, for example, the page the user accessed, the HTTP method, and the status of the request."
   ]
  },
  {
   "cell_type": "code",
   "execution_count": 8,
   "metadata": {},
   "outputs": [
    {
     "name": "stdout",
     "output_type": "stream",
     "text": [
      "+--------------+---------+---------+------+-------------+--------+---------+-----+---------------+------+--------+-------------+---------+---------+------+-------------+--------------------+------+\n",
      "|        artist|     auth|firstName|gender|itemInSession|lastName|   length|level|       location|method|    page| registration|sessionId|     song|status|           ts|           userAgent|userId|\n",
      "+--------------+---------+---------+------+-------------+--------+---------+-----+---------------+------+--------+-------------+---------+---------+------+-------------+--------------------+------+\n",
      "|Martha Tilston|Logged In|    Colin|     M|           50| Freeman|277.89016| paid|Bakersfield, CA|   PUT|NextSong|1538173362000|       29|Rockpools|   200|1538352117000|Mozilla/5.0 (Wind...|    30|\n",
      "+--------------+---------+---------+------+-------------+--------+---------+-----+---------------+------+--------+-------------+---------+---------+------+-------------+--------------------+------+\n",
      "only showing top 1 row\n",
      "\n"
     ]
    }
   ],
   "source": [
    "# looking at one particular record\n",
    "user_log.show(n=1)"
   ]
  },
  {
   "cell_type": "markdown",
   "metadata": {},
   "source": [
    "Here we can see that Colin was listening to \"Rockpools\""
   ]
  },
  {
   "cell_type": "code",
   "execution_count": 9,
   "metadata": {},
   "outputs": [
    {
     "data": {
      "text/plain": [
       "[Row(artist='Martha Tilston', auth='Logged In', firstName='Colin', gender='M', itemInSession=50, lastName='Freeman', length=277.89016, level='paid', location='Bakersfield, CA', method='PUT', page='NextSong', registration=1538173362000, sessionId=29, song='Rockpools', status=200, ts=1538352117000, userAgent='Mozilla/5.0 (Windows NT 6.1; WOW64; rv:31.0) Gecko/20100101 Firefox/31.0', userId='30'),\n",
       " Row(artist='Five Iron Frenzy', auth='Logged In', firstName='Micah', gender='M', itemInSession=79, lastName='Long', length=236.09424, level='free', location='Boston-Cambridge-Newton, MA-NH', method='PUT', page='NextSong', registration=1538331630000, sessionId=8, song='Canada', status=200, ts=1538352180000, userAgent='\"Mozilla/5.0 (Windows NT 6.1; WOW64) AppleWebKit/537.36 (KHTML, like Gecko) Chrome/37.0.2062.103 Safari/537.36\"', userId='9'),\n",
       " Row(artist='Adam Lambert', auth='Logged In', firstName='Colin', gender='M', itemInSession=51, lastName='Freeman', length=282.8273, level='paid', location='Bakersfield, CA', method='PUT', page='NextSong', registration=1538173362000, sessionId=29, song='Time For Miracles', status=200, ts=1538352394000, userAgent='Mozilla/5.0 (Windows NT 6.1; WOW64; rv:31.0) Gecko/20100101 Firefox/31.0', userId='30'),\n",
       " Row(artist='Enigma', auth='Logged In', firstName='Micah', gender='M', itemInSession=80, lastName='Long', length=262.71302, level='free', location='Boston-Cambridge-Newton, MA-NH', method='PUT', page='NextSong', registration=1538331630000, sessionId=8, song='Knocking On Forbidden Doors', status=200, ts=1538352416000, userAgent='\"Mozilla/5.0 (Windows NT 6.1; WOW64) AppleWebKit/537.36 (KHTML, like Gecko) Chrome/37.0.2062.103 Safari/537.36\"', userId='9'),\n",
       " Row(artist='Daft Punk', auth='Logged In', firstName='Colin', gender='M', itemInSession=52, lastName='Freeman', length=223.60771, level='paid', location='Bakersfield, CA', method='PUT', page='NextSong', registration=1538173362000, sessionId=29, song='Harder Better Faster Stronger', status=200, ts=1538352676000, userAgent='Mozilla/5.0 (Windows NT 6.1; WOW64; rv:31.0) Gecko/20100101 Firefox/31.0', userId='30')]"
      ]
     },
     "execution_count": 9,
     "metadata": {},
     "output_type": "execute_result"
    }
   ],
   "source": [
    "# Looking at the first 5 records\n",
    "user_log.take(5)"
   ]
  },
  {
   "cell_type": "code",
   "execution_count": 10,
   "metadata": {},
   "outputs": [
    {
     "name": "stdout",
     "output_type": "stream",
     "text": [
      "+-------+-----------------+\n",
      "|summary|           length|\n",
      "+-------+-----------------+\n",
      "|  count|           228108|\n",
      "|   mean|249.1171819778458|\n",
      "| stddev|99.23517921058361|\n",
      "|    min|          0.78322|\n",
      "|    max|       3024.66567|\n",
      "+-------+-----------------+\n",
      "\n"
     ]
    }
   ],
   "source": [
    "# Summary statistics on the length column\n",
    "user_log.describe(\"length\").show()"
   ]
  },
  {
   "cell_type": "code",
   "execution_count": 11,
   "metadata": {},
   "outputs": [
    {
     "name": "stdout",
     "output_type": "stream",
     "text": [
      "We have 286500 rows on the dataset\n"
     ]
    }
   ],
   "source": [
    "print(\"We have {} rows on the dataset\".format(user_log.count()))"
   ]
  },
  {
   "cell_type": "code",
   "execution_count": 12,
   "metadata": {},
   "outputs": [
    {
     "name": "stdout",
     "output_type": "stream",
     "text": [
      "+--------------------+\n",
      "|                page|\n",
      "+--------------------+\n",
      "|               About|\n",
      "|          Add Friend|\n",
      "|     Add to Playlist|\n",
      "|              Cancel|\n",
      "|Cancellation Conf...|\n",
      "|           Downgrade|\n",
      "|               Error|\n",
      "|                Help|\n",
      "|                Home|\n",
      "|               Login|\n",
      "|              Logout|\n",
      "|            NextSong|\n",
      "|            Register|\n",
      "|         Roll Advert|\n",
      "|       Save Settings|\n",
      "|            Settings|\n",
      "|    Submit Downgrade|\n",
      "| Submit Registration|\n",
      "|      Submit Upgrade|\n",
      "|         Thumbs Down|\n",
      "|           Thumbs Up|\n",
      "|             Upgrade|\n",
      "+--------------------+\n",
      "\n"
     ]
    }
   ],
   "source": [
    "# Looking at the page requests that we have\n",
    "user_log.select(\"page\").dropDuplicates().sort(\"page\").show(25)"
   ]
  },
  {
   "cell_type": "markdown",
   "metadata": {},
   "source": [
    "Users can login and out, visit the homepage, or play a song."
   ]
  },
  {
   "cell_type": "code",
   "execution_count": 13,
   "metadata": {},
   "outputs": [
    {
     "name": "stdout",
     "output_type": "stream",
     "text": [
      "+-----+\n",
      "|level|\n",
      "+-----+\n",
      "| free|\n",
      "| paid|\n",
      "+-----+\n",
      "\n"
     ]
    }
   ],
   "source": [
    "user_log.select(\"level\").dropDuplicates().sort(\"level\").show()"
   ]
  },
  {
   "cell_type": "markdown",
   "metadata": {},
   "source": [
    "We have two subscriptions levels, and we are going to define that a user chured when the changed from paid to free user"
   ]
  },
  {
   "cell_type": "code",
   "execution_count": 14,
   "metadata": {},
   "outputs": [
    {
     "name": "stdout",
     "output_type": "stream",
     "text": [
      "+----------+\n",
      "|      auth|\n",
      "+----------+\n",
      "| Cancelled|\n",
      "|     Guest|\n",
      "| Logged In|\n",
      "|Logged Out|\n",
      "+----------+\n",
      "\n"
     ]
    }
   ],
   "source": [
    "user_log.select(\"auth\").dropDuplicates().sort(\"auth\").show() "
   ]
  },
  {
   "cell_type": "code",
   "execution_count": 15,
   "metadata": {},
   "outputs": [
    {
     "data": {
      "text/plain": [
       "[Row(userId='30', firstName='Colin', page='NextSong', song='Rockpools'),\n",
       " Row(userId='30', firstName='Colin', page='NextSong', song='Time For Miracles'),\n",
       " Row(userId='30', firstName='Colin', page='NextSong', song='Harder Better Faster Stronger'),\n",
       " Row(userId='30', firstName='Colin', page='NextSong', song='Passengers (Old Album Version)'),\n",
       " Row(userId='30', firstName='Colin', page='Add to Playlist', song=None),\n",
       " Row(userId='30', firstName='Colin', page='NextSong', song='Fuck Kitty'),\n",
       " Row(userId='30', firstName='Colin', page='NextSong', song='Jade'),\n",
       " Row(userId='30', firstName='Colin', page='NextSong', song='So-Called Friends'),\n",
       " Row(userId='30', firstName='Colin', page='NextSong', song='Represent'),\n",
       " Row(userId='30', firstName='Colin', page='NextSong', song='Here I Am')]"
      ]
     },
     "execution_count": 15,
     "metadata": {},
     "output_type": "execute_result"
    }
   ],
   "source": [
    "# Looking at the events of userId 30\n",
    "user_log.select([\"userId\", \"firstName\", \"page\", \"song\"]).filter(user_log.userId == \"30\").head(10)"
   ]
  },
  {
   "cell_type": "markdown",
   "metadata": {},
   "source": [
    "As users use different pages of the application, their page request are logged"
   ]
  },
  {
   "cell_type": "markdown",
   "metadata": {},
   "source": [
    "### Dropping Rows with Missing Values\n",
    "Dropping missing values, making sure that we have the userId and SessionId for all the records"
   ]
  },
  {
   "cell_type": "code",
   "execution_count": 16,
   "metadata": {},
   "outputs": [],
   "source": [
    "# Dropping missing values\n",
    "user_log_valid = user_log.dropna(how=\"any\", subset=[\"userId\", \"sessionId\"])"
   ]
  },
  {
   "cell_type": "code",
   "execution_count": 17,
   "metadata": {
    "scrolled": false
   },
   "outputs": [
    {
     "name": "stdout",
     "output_type": "stream",
     "text": [
      "+------+\n",
      "|userId|\n",
      "+------+\n",
      "|      |\n",
      "|    10|\n",
      "|   100|\n",
      "|100001|\n",
      "|100002|\n",
      "|100003|\n",
      "|100004|\n",
      "|100005|\n",
      "|100006|\n",
      "|100007|\n",
      "|100008|\n",
      "|100009|\n",
      "|100010|\n",
      "|100011|\n",
      "|100012|\n",
      "|100013|\n",
      "|100014|\n",
      "|100015|\n",
      "|100016|\n",
      "|100017|\n",
      "+------+\n",
      "only showing top 20 rows\n",
      "\n"
     ]
    }
   ],
   "source": [
    "# Making sure that we have the userId and SessionId for all the records\n",
    "user_log.select(\"userId\").dropDuplicates().sort(\"userId\").show()"
   ]
  },
  {
   "cell_type": "markdown",
   "metadata": {},
   "source": [
    "There are not None values but there are users with no userId"
   ]
  },
  {
   "cell_type": "code",
   "execution_count": 18,
   "metadata": {},
   "outputs": [
    {
     "data": {
      "text/plain": [
       "[Row(userId='', firstName=None, page='Home', song=None),\n",
       " Row(userId='', firstName=None, page='Help', song=None),\n",
       " Row(userId='', firstName=None, page='Home', song=None),\n",
       " Row(userId='', firstName=None, page='Login', song=None),\n",
       " Row(userId='', firstName=None, page='Home', song=None),\n",
       " Row(userId='', firstName=None, page='Login', song=None),\n",
       " Row(userId='', firstName=None, page='Login', song=None),\n",
       " Row(userId='', firstName=None, page='Login', song=None),\n",
       " Row(userId='', firstName=None, page='Home', song=None),\n",
       " Row(userId='', firstName=None, page='Login', song=None)]"
      ]
     },
     "execution_count": 18,
     "metadata": {},
     "output_type": "execute_result"
    }
   ],
   "source": [
    "# Looking at logs of users with no userId\n",
    "user_log.select([\"userId\", \"firstName\", \"page\", \"song\"]).filter(user_log.userId == \"\").head(10)"
   ]
  },
  {
   "cell_type": "code",
   "execution_count": 19,
   "metadata": {},
   "outputs": [
    {
     "data": {
      "text/plain": [
       "[Row(blank_pages='Home'),\n",
       " Row(blank_pages='About'),\n",
       " Row(blank_pages='Submit Registration'),\n",
       " Row(blank_pages='Login'),\n",
       " Row(blank_pages='Register'),\n",
       " Row(blank_pages='Help'),\n",
       " Row(blank_pages='Error')]"
      ]
     },
     "execution_count": 19,
     "metadata": {},
     "output_type": "execute_result"
    }
   ],
   "source": [
    "# filter for users with blank user id\n",
    "blank_pages = user_log.filter(user_log.userId == '') \\\n",
    "    .select(col('page') \\\n",
    "    .alias('blank_pages')) \\\n",
    "    .dropDuplicates()\n",
    "\n",
    "blank_pages.collect()"
   ]
  },
  {
   "cell_type": "markdown",
   "metadata": {},
   "source": [
    "It seems that the user's with no id represent users who have not signed up yet or who are signed out and are about to log in.\n",
    "It may also represents users who got an error while registrating or loging in."
   ]
  },
  {
   "cell_type": "code",
   "execution_count": 20,
   "metadata": {},
   "outputs": [],
   "source": [
    "user_log_valid = user_log_valid.filter(user_log_valid[\"userId\"] != \"\")"
   ]
  },
  {
   "cell_type": "code",
   "execution_count": 21,
   "metadata": {},
   "outputs": [
    {
     "data": {
      "text/plain": [
       "278154"
      ]
     },
     "execution_count": 21,
     "metadata": {},
     "output_type": "execute_result"
    }
   ],
   "source": [
    "user_log_valid.count()"
   ]
  },
  {
   "cell_type": "markdown",
   "metadata": {},
   "source": [
    "We lost 8346 records. "
   ]
  },
  {
   "cell_type": "code",
   "execution_count": 22,
   "metadata": {},
   "outputs": [
    {
     "name": "stdout",
     "output_type": "stream",
     "text": [
      "We lost 8346 records\n"
     ]
    }
   ],
   "source": [
    "print(\"We lost {} records\".format(user_log.count() - user_log_valid.count()))"
   ]
  },
  {
   "cell_type": "code",
   "execution_count": 23,
   "metadata": {},
   "outputs": [],
   "source": [
    "female_users = user_log_valid.filter(user_log_valid.gender == 'F') \\\n",
    "    .select('userId', 'gender') \\\n",
    "    .dropDuplicates() \\\n",
    "    .count()\n",
    "\n",
    "male_users = user_log_valid.filter(user_log_valid.gender == 'M') \\\n",
    "    .select('userId', 'gender') \\\n",
    "    .dropDuplicates() \\\n",
    "    .count()"
   ]
  },
  {
   "cell_type": "code",
   "execution_count": 24,
   "metadata": {},
   "outputs": [
    {
     "name": "stdout",
     "output_type": "stream",
     "text": [
      "We have 104 female users and 121 male users\n"
     ]
    }
   ],
   "source": [
    "print(\"We have {} female users and {} male users\".format(female_users, male_users))"
   ]
  },
  {
   "cell_type": "markdown",
   "metadata": {},
   "source": [
    "How many songs were played from the most played artist?"
   ]
  },
  {
   "cell_type": "code",
   "execution_count": 25,
   "metadata": {},
   "outputs": [
    {
     "name": "stdout",
     "output_type": "stream",
     "text": [
      "+-------------+-----------+\n",
      "|       Artist|Artistcount|\n",
      "+-------------+-----------+\n",
      "|Kings Of Leon|       1841|\n",
      "+-------------+-----------+\n",
      "only showing top 1 row\n",
      "\n"
     ]
    }
   ],
   "source": [
    "user_log_valid.filter(user_log_valid.page == 'NextSong') \\\n",
    "    .select('Artist') \\\n",
    "    .groupBy('Artist') \\\n",
    "    .agg({'Artist':'count'}) \\\n",
    "    .withColumnRenamed('count(Artist)', 'Artistcount') \\\n",
    "    .sort(desc('Artistcount')) \\\n",
    "    .show(1)"
   ]
  },
  {
   "cell_type": "markdown",
   "metadata": {},
   "source": [
    "## Exploratory Data Analysis\n",
    "When you're working with the full dataset, perform EDA by loading a small subset of the data and doing basic manipulations within Spark. In this workspace, you are already provided a small subset of data you can explore.\n",
    "\n",
    "### Define Churn\n",
    "\n",
    "Once you've done some preliminary analysis, create a column `Churn` to use as the label for your model. I suggest using the `Cancellation Confirmation` events to define your churn, which happen for both paid and free users. As a bonus task, you can also look into the `Downgrade` events.\n",
    "\n",
    "### Explore Data\n",
    "Once you've defined churn, perform some exploratory data analysis to observe the behavior for users who stayed vs users who churned. You can start by exploring aggregates on these two groups of users, observing how much of a specific action they experienced per a certain time unit or number of songs played."
   ]
  },
  {
   "cell_type": "markdown",
   "metadata": {},
   "source": [
    "## Defining Churn as Users Who Cancel Their Accounts\n",
    "Both paid and free users can Cancel their accounts. I will use this as the label for the model"
   ]
  },
  {
   "cell_type": "markdown",
   "metadata": {},
   "source": [
    "To distinguish user's activity before and after they cancel their account, I create a Churn column which divides the users who have confirm a cancellation to use as the label of the model."
   ]
  },
  {
   "cell_type": "code",
   "execution_count": 26,
   "metadata": {},
   "outputs": [],
   "source": [
    "# Adding a new column called Churn_phase to the dataframe\n",
    "# The value here will be 1 if the user cancelled, and zero other wise\n",
    "# # create churn user column\n",
    "\n",
    "flag_churn_event = udf(lambda x: 1 if x == \"Cancellation Confirmation\" else 0, IntegerType())\n",
    "user_log_valid = user_log_valid.withColumn(\"Churn_phase\", flag_churn_event(\"page\"))"
   ]
  },
  {
   "cell_type": "code",
   "execution_count": 27,
   "metadata": {},
   "outputs": [],
   "source": [
    "# Sorting records for a particular user in reverse time order, and adding up the values to distinguish each user's data \n",
    "# as either pre or post churn events\n",
    "windowval = Window.partitionBy(\"userId\").orderBy(desc(\"ts\")).rangeBetween(Window.unboundedPreceding, 0)\n",
    "# Creating a Churn_phase column that uses the window function and cumulative sum\n",
    "user_log_valid = user_log_valid.withColumn('Churn', Fsum('Churn_phase').over(windowval))"
   ]
  },
  {
   "cell_type": "code",
   "execution_count": 28,
   "metadata": {},
   "outputs": [
    {
     "data": {
      "text/plain": [
       "True"
      ]
     },
     "execution_count": 28,
     "metadata": {},
     "output_type": "execute_result"
    }
   ],
   "source": [
    "# Checking the results\n",
    "user_log_valid.filter(\"page = 'Cancellation Confirmation'\").count() == user_log_valid.select('userId') \\\n",
    "    .where(user_log_valid.Churn == 1).dropDuplicates().count()"
   ]
  },
  {
   "cell_type": "code",
   "execution_count": 29,
   "metadata": {
    "scrolled": true
   },
   "outputs": [
    {
     "data": {
      "text/plain": [
       "[Row(userId='18', firstname='Adriel', ts=1538943990000, page='Cancellation Confirmation', Churn=1, Churn_phase=1),\n",
       " Row(userId='18', firstname='Adriel', ts=1538943740000, page='Cancel', Churn=1, Churn_phase=0),\n",
       " Row(userId='18', firstname='Adriel', ts=1538943739000, page='Downgrade', Churn=1, Churn_phase=0),\n",
       " Row(userId='18', firstname='Adriel', ts=1538943726000, page='NextSong', Churn=1, Churn_phase=0),\n",
       " Row(userId='18', firstname='Adriel', ts=1538943440000, page='NextSong', Churn=1, Churn_phase=0)]"
      ]
     },
     "execution_count": 29,
     "metadata": {},
     "output_type": "execute_result"
    }
   ],
   "source": [
    "user_log_valid.select([\"userId\", \"firstname\", \"ts\", \"page\", \"Churn\", \"Churn_phase\"]) \\\n",
    "    .filter(user_log_valid.userId == \"18\").sort(desc(\"ts\")).head(5)"
   ]
  },
  {
   "cell_type": "markdown",
   "metadata": {},
   "source": [
    "After the Cancellation Confirmation we no longer see logs from user Adriel"
   ]
  },
  {
   "cell_type": "code",
   "execution_count": 30,
   "metadata": {},
   "outputs": [
    {
     "name": "stdout",
     "output_type": "stream",
     "text": [
      "+-----+------+\n",
      "|Churn| count|\n",
      "+-----+------+\n",
      "|    0|233290|\n",
      "|    1| 44864|\n",
      "+-----+------+\n",
      "\n"
     ]
    }
   ],
   "source": [
    "user_log_valid.groupBy('Churn').count().show()"
   ]
  },
  {
   "cell_type": "code",
   "execution_count": 31,
   "metadata": {},
   "outputs": [
    {
     "name": "stdout",
     "output_type": "stream",
     "text": [
      "+-----------+------+\n",
      "|Churn_phase| count|\n",
      "+-----------+------+\n",
      "|          1|    52|\n",
      "|          0|278102|\n",
      "+-----------+------+\n",
      "\n"
     ]
    }
   ],
   "source": [
    "user_log_valid.groupBy('Churn_phase').count().show()"
   ]
  },
  {
   "cell_type": "code",
   "execution_count": 32,
   "metadata": {},
   "outputs": [],
   "source": [
    "seed = 42\n",
    "\n",
    "fractions_train = user_log_valid.select(\"Churn\").distinct().withColumn(\"fraction\", lit(0.8)).rdd.collectAsMap()\n",
    "train_user_log = user_log_valid.stat.sampleBy(\"Churn\", fractions_train, seed)\n",
    "\n",
    "fractions_test = user_log_valid.select(\"Churn\").distinct().withColumn(\"fraction\", lit(0.2)).rdd.collectAsMap()\n",
    "test_user_log = user_log_valid.stat.sampleBy(\"Churn\", fractions_test, seed)"
   ]
  },
  {
   "cell_type": "code",
   "execution_count": 33,
   "metadata": {},
   "outputs": [],
   "source": [
    "train = train_user_log.alias('train')"
   ]
  },
  {
   "cell_type": "markdown",
   "metadata": {},
   "source": [
    "## Exploring Data to observe the behavior for users who stayed vs users who churned. "
   ]
  },
  {
   "cell_type": "markdown",
   "metadata": {},
   "source": [
    "### Exploring aggregates on these two groups of users"
   ]
  },
  {
   "cell_type": "code",
   "execution_count": 34,
   "metadata": {},
   "outputs": [],
   "source": [
    "## Plot in a histogram the distinct artist that are listened by churn users and not churn users\n",
    "artist_per_user = train.filter(train.Churn == 0).groupby(train.userId, train.artist) \\\n",
    "    .count()\n",
    "artist_per_user_pd = artist_per_user.toPandas()\n",
    "artist_per_user_pd = artist_per_user_pd[~artist_per_user_pd['artist'].isnull()]\n",
    "artist_per_user_pd = artist_per_user_pd.groupby('userId').count().drop(\"count\", axis=1)"
   ]
  },
  {
   "cell_type": "code",
   "execution_count": 35,
   "metadata": {},
   "outputs": [],
   "source": [
    "## Plot in a histogram the distinct artist that are listened by churn users and not churn users\n",
    "artist_per_user_churn = train.filter(train.Churn == 1) \\\n",
    "    .groupby(train.userId, train.artist).count()\n",
    "artist_per_user_churn_pd = artist_per_user_churn.toPandas()\n",
    "artist_per_user_churn_pd = artist_per_user_churn_pd[~artist_per_user_churn_pd['artist'].isnull()]\n",
    "artist_per_user_churn_pd = artist_per_user_churn_pd.groupby('userId').count().drop(\"count\", axis=1)"
   ]
  },
  {
   "cell_type": "code",
   "execution_count": 36,
   "metadata": {},
   "outputs": [
    {
     "data": {
      "image/png": "[encoded data removed]",
      "text/plain": [
       "<Figure size 432x288 with 1 Axes>"
      ]
     },
     "metadata": {
      "needs_background": "light"
     },
     "output_type": "display_data"
    }
   ],
   "source": [
    "plt.hist(artist_per_user_pd[\"artist\"], density=True, label=\"Not churn-users\", alpha=0.5);\n",
    "plt.hist(artist_per_user_churn_pd[\"artist\"], density=True, label=\"Churn-users\", alpha=0.5);\n",
    "plt.xlabel(\"Number of Artist Listened\");\n",
    "plt.ylabel(\"Distribution in percent\");\n",
    "plt.legend();"
   ]
  },
  {
   "cell_type": "markdown",
   "metadata": {},
   "source": [
    "We can notice from this graph that Not churn-users tend to listen to a higher number of artists compared to churn-users"
   ]
  },
  {
   "cell_type": "code",
   "execution_count": 37,
   "metadata": {},
   "outputs": [],
   "source": [
    "# Avg of each page visited\n",
    "page_percent = train.filter(train.Churn == 0).groupBy('page').count() \\\n",
    "    .withColumn('Percent', col('count')/sum('count').over(Window.partitionBy())).select([\"page\", \"Percent\"])\n",
    "page_percent = page_percent.orderBy('Percent', ascending=False)\n",
    "page_percent = page_percent.toPandas()\n",
    "\n",
    "page_percent_churn = train.filter(train.Churn == 1).groupBy('page').count() \\\n",
    "    .withColumn('Percent_Churn_Users', col('count')/sum('count').over(Window.partitionBy())) \\\n",
    "    .select([\"page\", \"Percent_Churn_Users\"])\n",
    "page_percent_churn = page_percent_churn.orderBy('Percent_Churn_Users', ascending=False)\n",
    "page_percent_churn = page_percent_churn.toPandas()"
   ]
  },
  {
   "cell_type": "code",
   "execution_count": 38,
   "metadata": {
    "scrolled": true
   },
   "outputs": [
    {
     "data": {
      "text/html": [
       "<div>\n",
       "<style scoped>\n",
       "    .dataframe tbody tr th:only-of-type {\n",
       "        vertical-align: middle;\n",
       "    }\n",
       "\n",
       "    .dataframe tbody tr th {\n",
       "        vertical-align: top;\n",
       "    }\n",
       "\n",
       "    .dataframe thead th {\n",
       "        text-align: right;\n",
       "    }\n",
       "</style>\n",
       "<table border=\"1\" class=\"dataframe\">\n",
       "  <thead>\n",
       "    <tr style=\"text-align: right;\">\n",
       "      <th></th>\n",
       "      <th>page</th>\n",
       "      <th>Percent</th>\n",
       "      <th>Percent_Churn_Users</th>\n",
       "      <th>Diff</th>\n",
       "    </tr>\n",
       "  </thead>\n",
       "  <tbody>\n",
       "    <tr>\n",
       "      <th>0</th>\n",
       "      <td>NextSong</td>\n",
       "      <td>0.821775</td>\n",
       "      <td>0.811945</td>\n",
       "      <td>0.009830</td>\n",
       "    </tr>\n",
       "    <tr>\n",
       "      <th>5</th>\n",
       "      <td>Roll Advert</td>\n",
       "      <td>0.012537</td>\n",
       "      <td>0.021370</td>\n",
       "      <td>0.008833</td>\n",
       "    </tr>\n",
       "    <tr>\n",
       "      <th>1</th>\n",
       "      <td>Thumbs Up</td>\n",
       "      <td>0.045912</td>\n",
       "      <td>0.041148</td>\n",
       "      <td>0.004764</td>\n",
       "    </tr>\n",
       "    <tr>\n",
       "      <th>7</th>\n",
       "      <td>Thumbs Down</td>\n",
       "      <td>0.008832</td>\n",
       "      <td>0.011258</td>\n",
       "      <td>0.002425</td>\n",
       "    </tr>\n",
       "    <tr>\n",
       "      <th>4</th>\n",
       "      <td>Add Friend</td>\n",
       "      <td>0.015465</td>\n",
       "      <td>0.014498</td>\n",
       "      <td>0.000967</td>\n",
       "    </tr>\n",
       "    <tr>\n",
       "      <th>6</th>\n",
       "      <td>Logout</td>\n",
       "      <td>0.011402</td>\n",
       "      <td>0.012263</td>\n",
       "      <td>0.000862</td>\n",
       "    </tr>\n",
       "    <tr>\n",
       "      <th>12</th>\n",
       "      <td>Upgrade</td>\n",
       "      <td>0.001670</td>\n",
       "      <td>0.002486</td>\n",
       "      <td>0.000816</td>\n",
       "    </tr>\n",
       "    <tr>\n",
       "      <th>3</th>\n",
       "      <td>Add to Playlist</td>\n",
       "      <td>0.023633</td>\n",
       "      <td>0.023046</td>\n",
       "      <td>0.000587</td>\n",
       "    </tr>\n",
       "    <tr>\n",
       "      <th>9</th>\n",
       "      <td>Settings</td>\n",
       "      <td>0.005358</td>\n",
       "      <td>0.005922</td>\n",
       "      <td>0.000564</td>\n",
       "    </tr>\n",
       "    <tr>\n",
       "      <th>11</th>\n",
       "      <td>About</td>\n",
       "      <td>0.001847</td>\n",
       "      <td>0.001285</td>\n",
       "      <td>0.000562</td>\n",
       "    </tr>\n",
       "    <tr>\n",
       "      <th>2</th>\n",
       "      <td>Home</td>\n",
       "      <td>0.036218</td>\n",
       "      <td>0.036678</td>\n",
       "      <td>0.000460</td>\n",
       "    </tr>\n",
       "    <tr>\n",
       "      <th>14</th>\n",
       "      <td>Error</td>\n",
       "      <td>0.000947</td>\n",
       "      <td>0.000587</td>\n",
       "      <td>0.000361</td>\n",
       "    </tr>\n",
       "    <tr>\n",
       "      <th>13</th>\n",
       "      <td>Save Settings</td>\n",
       "      <td>0.001071</td>\n",
       "      <td>0.001397</td>\n",
       "      <td>0.000326</td>\n",
       "    </tr>\n",
       "    <tr>\n",
       "      <th>8</th>\n",
       "      <td>Downgrade</td>\n",
       "      <td>0.007237</td>\n",
       "      <td>0.007542</td>\n",
       "      <td>0.000305</td>\n",
       "    </tr>\n",
       "    <tr>\n",
       "      <th>15</th>\n",
       "      <td>Submit Upgrade</td>\n",
       "      <td>0.000535</td>\n",
       "      <td>0.000642</td>\n",
       "      <td>0.000107</td>\n",
       "    </tr>\n",
       "    <tr>\n",
       "      <th>16</th>\n",
       "      <td>Submit Downgrade</td>\n",
       "      <td>0.000219</td>\n",
       "      <td>0.000140</td>\n",
       "      <td>0.000080</td>\n",
       "    </tr>\n",
       "    <tr>\n",
       "      <th>10</th>\n",
       "      <td>Help</td>\n",
       "      <td>0.005342</td>\n",
       "      <td>0.005391</td>\n",
       "      <td>0.000049</td>\n",
       "    </tr>\n",
       "  </tbody>\n",
       "</table>\n",
       "</div>"
      ],
      "text/plain": [
       "                page   Percent  Percent_Churn_Users      Diff\n",
       "0           NextSong  0.821775             0.811945  0.009830\n",
       "5        Roll Advert  0.012537             0.021370  0.008833\n",
       "1          Thumbs Up  0.045912             0.041148  0.004764\n",
       "7        Thumbs Down  0.008832             0.011258  0.002425\n",
       "4         Add Friend  0.015465             0.014498  0.000967\n",
       "6             Logout  0.011402             0.012263  0.000862\n",
       "12           Upgrade  0.001670             0.002486  0.000816\n",
       "3    Add to Playlist  0.023633             0.023046  0.000587\n",
       "9           Settings  0.005358             0.005922  0.000564\n",
       "11             About  0.001847             0.001285  0.000562\n",
       "2               Home  0.036218             0.036678  0.000460\n",
       "14             Error  0.000947             0.000587  0.000361\n",
       "13     Save Settings  0.001071             0.001397  0.000326\n",
       "8          Downgrade  0.007237             0.007542  0.000305\n",
       "15    Submit Upgrade  0.000535             0.000642  0.000107\n",
       "16  Submit Downgrade  0.000219             0.000140  0.000080\n",
       "10              Help  0.005342             0.005391  0.000049"
      ]
     },
     "execution_count": 38,
     "metadata": {},
     "output_type": "execute_result"
    }
   ],
   "source": [
    "page_percent_comparison = page_percent.merge(page_percent_churn, on='page')\n",
    "page_percent_comparison['Diff'] = (page_percent_comparison['Percent'] - page_percent_comparison['Percent_Churn_Users']) \\\n",
    "    .abs()\n",
    "page_percent_comparison.sort_values('Diff', ascending=False)"
   ]
  },
  {
   "cell_type": "markdown",
   "metadata": {},
   "source": [
    "### Calculating Statistics by Hour"
   ]
  },
  {
   "cell_type": "markdown",
   "metadata": {},
   "source": [
    "#### Observing how much of a specific action they experienced per a certain time unit"
   ]
  },
  {
   "cell_type": "code",
   "execution_count": 39,
   "metadata": {},
   "outputs": [
    {
     "data": {
      "text/plain": [
       "Row(artist=None, auth='Logged In', firstName='Darianna', gender='F', itemInSession=34, lastName='Carpenter', length=None, level='free', location='Bridgeport-Stamford-Norwalk, CT', method='PUT', page='Logout', registration=1538016340000, sessionId=187, song=None, status=307, ts=1542823952000, userAgent='\"Mozilla/5.0 (iPhone; CPU iPhone OS 7_1_2 like Mac OS X) AppleWebKit/537.51.2 (KHTML, like Gecko) Version/7.0 Mobile/11D257 Safari/9537.53\"', userId='100010', Churn_phase=0, Churn=0, hour='18', day='21', weekday=4, month='11')"
      ]
     },
     "execution_count": 39,
     "metadata": {},
     "output_type": "execute_result"
    }
   ],
   "source": [
    "# Converting timestamps to datetime from epoch time, to get the hour of the day\n",
    "get_hour = udf(lambda x: datetime.datetime.fromtimestamp(x / 1000.0).hour)\n",
    "# Adding a new column called hour to our dataframe\n",
    "train = train.withColumn(\"hour\", get_hour(train.ts))\n",
    "\n",
    "get_day = udf(lambda x: datetime.datetime.fromtimestamp(x / 1000.0).day)\n",
    "train = train.withColumn(\"day\", get_day(train.ts))\n",
    "\n",
    "get_weekday = udf(lambda ts: datetime.datetime.fromtimestamp(ts/1000), TimestampType())\n",
    "train = train.withColumn(\"weekday\", dayofweek(get_weekday(train.ts)))\n",
    "\n",
    "get_month = udf(lambda x: datetime.datetime.fromtimestamp(x / 1000.0).month)\n",
    "train = train.withColumn(\"month\", get_month(train.ts))\n",
    "\n",
    "train.head()"
   ]
  },
  {
   "cell_type": "markdown",
   "metadata": {},
   "source": [
    "Colin was listening to Martha Tilston at 12am"
   ]
  },
  {
   "cell_type": "code",
   "execution_count": 40,
   "metadata": {},
   "outputs": [],
   "source": [
    "items_per_day_churn_oct = train.filter((train.Churn == 1) & (train.month == 10)) \\\n",
    "    .select(\"userId\", \"day\", \"itemInSession\").sort(\"userId\", \"day\", \"itemInSession\").groupBy(\"userId\", \"day\") \\\n",
    "    .count().sort(\"userId\", \"day\").toPandas()\n",
    "items_per_day_oct = train.filter((train.Churn == 0) & (train.month == 10)) \\\n",
    "    .select(\"userId\", \"day\", \"itemInSession\").sort(\"userId\", \"day\", \"itemInSession\").groupBy(\"userId\", \"day\") \\\n",
    "    .count().sort(\"userId\", \"day\").toPandas()\n",
    "items_per_day_all_oct = items_per_day_oct['count'].to_frame() \\\n",
    "    .join(items_per_day_churn_oct['count'], lsuffix=' Not Churn', rsuffix=' Churn')\n",
    "\n",
    "items_per_day_churn_nov = train.filter((train.Churn == 1) & (train.month == 11)) \\\n",
    "    .select(\"userId\", \"day\", \"itemInSession\").sort(\"userId\", \"day\", \"itemInSession\").groupBy(\"userId\", \"day\") \\\n",
    "    .count().sort(\"userId\", \"day\").toPandas()\n",
    "items_per_day_nov = train.filter((train.Churn == 0) & (train.month == 10)) \\\n",
    "    .select(\"userId\", \"day\", \"itemInSession\").sort(\"userId\", \"day\", \"itemInSession\").groupBy(\"userId\", \"day\") \\\n",
    "    .count().sort(\"userId\", \"day\").toPandas()\n",
    "items_per_day_all_nov = items_per_day_nov['count'].to_frame() \\\n",
    "    .join(items_per_day_churn_nov['count'], lsuffix=' Not Churn', rsuffix=' Churn')"
   ]
  },
  {
   "cell_type": "code",
   "execution_count": 41,
   "metadata": {},
   "outputs": [],
   "source": [
    "items_per_day_all_oct.rename(columns={'count Not Churn': 'Not Churn', 'count Churn': 'Churn'}, inplace=True)\n",
    "items_per_day_all_nov.rename(columns={'count Not Churn': 'Not Churn', 'count Churn': 'Churn'}, inplace=True)"
   ]
  },
  {
   "cell_type": "code",
   "execution_count": 42,
   "metadata": {},
   "outputs": [
    {
     "data": {
      "image/png": "[encoded data removed]",
      "text/plain": [
       "<Figure size 432x288 with 2 Axes>"
      ]
     },
     "metadata": {
      "needs_background": "light"
     },
     "output_type": "display_data"
    }
   ],
   "source": [
    "import seaborn as sns\n",
    "plt.subplot(1, 2, 1)\n",
    "plt.title('October')\n",
    "sns.boxplot(data=items_per_day_all_oct);\n",
    "plt.ylabel(\"Number of Items per day\");\n",
    "plt.subplot(1, 2, 2)\n",
    "plt.title('November')\n",
    "sns.boxplot(data=items_per_day_all_nov);"
   ]
  },
  {
   "cell_type": "code",
   "execution_count": 43,
   "metadata": {},
   "outputs": [],
   "source": [
    "# Counting the Ads\n",
    "ads_in_weekday = train.filter((train.page == \"Roll Advert\") & (train.Churn == 0)) \\\n",
    "    .groupby(train.weekday).count().orderBy(train.weekday.cast(\"float\"))\n",
    "ads_in_weekday_pd = ads_in_weekday.toPandas()"
   ]
  },
  {
   "cell_type": "code",
   "execution_count": 44,
   "metadata": {},
   "outputs": [],
   "source": [
    "# Counting the Ads\n",
    "ads_in_weekday_churn = train.filter((train.page == \"Roll Advert\") & (train.Churn == 1)) \\\n",
    "    .groupby(train.weekday).count().orderBy(train.weekday.cast(\"float\"))\n",
    "ads_in_weekday_churn_pd = ads_in_weekday_churn.toPandas()"
   ]
  },
  {
   "cell_type": "code",
   "execution_count": 45,
   "metadata": {},
   "outputs": [],
   "source": [
    "ads_in_weekday_pd['count'] = ads_in_weekday_pd['count']/train.filter(train.Churn==0).count()"
   ]
  },
  {
   "cell_type": "code",
   "execution_count": 46,
   "metadata": {},
   "outputs": [],
   "source": [
    "ads_in_weekday_churn_pd['count'] = ads_in_weekday_churn_pd['count']/train.filter(train.Churn==1).count()"
   ]
  },
  {
   "cell_type": "code",
   "execution_count": 47,
   "metadata": {},
   "outputs": [
    {
     "data": {
      "image/png": "[encoded data removed]",
      "text/plain": [
       "<Figure size 576x432 with 1 Axes>"
      ]
     },
     "metadata": {
      "needs_background": "light"
     },
     "output_type": "display_data"
    }
   ],
   "source": [
    "import numpy as np\n",
    "X = ['Monday','Tuesday','Wednesday','Thursday', 'Friday', 'Saturday', 'Sunday'] \n",
    "X_axis = np.arange(7)\n",
    "\n",
    "plt.figure(figsize=(8, 6))\n",
    "plt.bar(X_axis - 0.2, ads_in_weekday_pd['count'], 0.4, label = 'Not Churn')\n",
    "plt.bar(X_axis + 0.2, ads_in_weekday_churn_pd['count'], 0.4, label = 'Churn')\n",
    "  \n",
    "plt.xticks(X_axis, X)\n",
    "plt.xlabel(\"Days of the Week\")\n",
    "plt.ylabel(\"Percent of Roll Advert per Items Interacted\")\n",
    "plt.legend()\n",
    "plt.show()"
   ]
  },
  {
   "cell_type": "code",
   "execution_count": 48,
   "metadata": {},
   "outputs": [],
   "source": [
    "thumbs_table = train.filter((train.page == 'Thumbs Down') | (train.page == 'Thumbs Up')) \\\n",
    "    .select(\"page\", \"Churn\")\n",
    "thumbs_table = thumbs_table.toPandas()"
   ]
  },
  {
   "cell_type": "code",
   "execution_count": 49,
   "metadata": {},
   "outputs": [
    {
     "data": {
      "image/png": "[encoded data removed]",
      "text/plain": [
       "<Figure size 576x432 with 1 Axes>"
      ]
     },
     "metadata": {
      "needs_background": "light"
     },
     "output_type": "display_data"
    }
   ],
   "source": [
    "user = [0, 1]\n",
    "thumbs = ['Thumbs Up', 'Thumbs Down']\n",
    "colors = ['C2', 'C3']\n",
    "\n",
    "artists = [] # for storing references to plot elements\n",
    "baselines = np.zeros(len(user))\n",
    "user_counts = thumbs_table['Churn'].value_counts()\n",
    "\n",
    "plt.figure(figsize=(8, 6))\n",
    "# for each second-variable category:\n",
    "for i, color in zip(range(len(thumbs)), colors):\n",
    "    # isolate the counts of the first category,\n",
    "    thumb = thumbs[i]\n",
    "    inner_counts = thumbs_table[thumbs_table['page'] == thumb]['Churn'].value_counts()\n",
    "    inner_props = inner_counts / user_counts\n",
    "    # then plot those counts on top of the accumulated baseline\n",
    "    bars = plt.bar(x = np.arange(len(user)),\n",
    "                   height = inner_props[user],\n",
    "                   bottom = baselines, \n",
    "                   color=color)\n",
    "    artists.append(bars)\n",
    "    baselines += inner_props[user]\n",
    "\n",
    "plt.xticks(np.arange(len(user)), ['Not Churn', 'Churn'])\n",
    "plt.legend(reversed(artists), reversed(thumbs), framealpha = 1,\n",
    "           bbox_to_anchor = (1, 0.5), loc = 6);\n",
    "plt.ylabel(\"Percent\");"
   ]
  },
  {
   "cell_type": "markdown",
   "metadata": {},
   "source": [
    "#### How many songs do users listen to in a given hour?"
   ]
  },
  {
   "cell_type": "code",
   "execution_count": 50,
   "metadata": {},
   "outputs": [
    {
     "data": {
      "image/png": "[encoded data removed]",
      "text/plain": [
       "<Figure size 1008x432 with 2 Axes>"
      ]
     },
     "metadata": {
      "needs_background": "light"
     },
     "output_type": "display_data"
    }
   ],
   "source": [
    "plt.figure(figsize=(14, 6))\n",
    "\n",
    "# Counting the next song page requests\n",
    "songs_in_hour = train.filter((train.page == \"NextSong\") & (train.Churn == 0)) \\\n",
    "    .groupby(train.hour).count().orderBy(train.hour.cast(\"float\"))\n",
    "songs_in_hour_pd = songs_in_hour.toPandas()\n",
    "\n",
    "plt.subplot(1, 2, 1)\n",
    "plt.title('Not Churn')\n",
    "plt.scatter(songs_in_hour_pd[\"hour\"], songs_in_hour_pd[\"count\"])\n",
    "plt.xlim(-1, 24)\n",
    "plt.ylim(0, 1.2 * songs_in_hour_pd[\"count\"].max())\n",
    "plt.xlabel(\"Hour\")\n",
    "plt.ylabel(\"Songs Played\");\n",
    "\n",
    "# Counting the next song page requests\n",
    "songs_in_hour_churn = train.filter((train.page == \"NextSong\") & (train.Churn == 1)) \\\n",
    "    .groupby(train.hour).count().orderBy(train.hour.cast(\"float\"))\n",
    "songs_in_hour_churn_pd = songs_in_hour_churn.toPandas()\n",
    "\n",
    "plt.subplot(1, 2, 2)\n",
    "plt.title('Churn')\n",
    "plt.scatter(songs_in_hour_churn_pd[\"hour\"], songs_in_hour_churn_pd[\"count\"], color='C1')\n",
    "plt.xlim(-1, 24)\n",
    "plt.ylim(0, 1.2 * songs_in_hour_churn_pd[\"count\"].max())\n",
    "plt.xlabel(\"Hour\")\n",
    "plt.ylabel(\"Songs Played\");"
   ]
  },
  {
   "cell_type": "markdown",
   "metadata": {},
   "source": [
    "We can see some trends in how many songs our users played in different hours of the day"
   ]
  },
  {
   "cell_type": "code",
   "execution_count": 51,
   "metadata": {},
   "outputs": [],
   "source": [
    "n_songs = train.filter((train.Churn == 0) & (train.page == \"NextSong\")).count()\n",
    "n_sessions = train.filter(train.Churn == 0).groupBy(\"userId\", \"sessionId\").count().count()\n",
    "n_songs_churn = train.filter((train.Churn == 1) & (train.page == \"NextSong\")).count()\n",
    "n_sessions_churn = train.filter(train.Churn == 1).groupBy(\"userId\", \"sessionId\").count().count()"
   ]
  },
  {
   "cell_type": "code",
   "execution_count": 52,
   "metadata": {},
   "outputs": [
    {
     "data": {
      "image/png": "[encoded data removed]",
      "text/plain": [
       "<Figure size 360x504 with 1 Axes>"
      ]
     },
     "metadata": {
      "needs_background": "light"
     },
     "output_type": "display_data"
    }
   ],
   "source": [
    "plt.figure(figsize=(5, 7));\n",
    "plt.title('Avg Number of Songs Per Session');\n",
    "plt.bar(x=['Not Churn', 'Churn'], height=[n_songs/n_sessions, n_songs_churn/n_sessions_churn], color=['C0', 'C1']);\n",
    "\n",
    "values = [n_songs/n_sessions, n_songs_churn/n_sessions_churn]\n",
    "\n",
    "for index, value in enumerate(values):\n",
    "    plt.text(index-0.37, value+1, str(value))"
   ]
  },
  {
   "cell_type": "code",
   "execution_count": 53,
   "metadata": {
    "scrolled": true
   },
   "outputs": [],
   "source": [
    "# How many songs do notChurn users listen to on average between visiting our home page? \n",
    "function = udf(lambda ishome : int(ishome == 'Home'), IntegerType())\n",
    "\n",
    "user_window = Window \\\n",
    "    .partitionBy('userID') \\\n",
    "    .orderBy(desc('ts')) \\\n",
    "    .rangeBetween(Window.unboundedPreceding, 0)\n",
    "\n",
    "cusum = train.filter((train.page == 'NextSong') | (train.page == 'Home')) \\\n",
    "    .select('userID', 'page', 'ts') \\\n",
    "    .withColumn('homevisit', function(col('page'))) \\\n",
    "    .withColumn('period', Fsum('homevisit').over(user_window))\n",
    "\n",
    "df = cusum.filter((cusum.page == 'NextSong')) \\\n",
    "    .filter(train.Churn == 0) \\\n",
    "    .groupBy('userID', 'period') \\\n",
    "    .agg({'period':'count'}) \\\n",
    "    .agg({'count(period)':'avg'}).toPandas()\n",
    "avg_songs_between_homepage = df.loc[0, 'avg(count(period))']\n",
    "\n",
    "df_churn = cusum.filter((cusum.page == 'NextSong')) \\\n",
    "    .filter(train.Churn == 1) \\\n",
    "    .groupBy('userID', 'period') \\\n",
    "    .agg({'period':'count'}) \\\n",
    "    .agg({'count(period)':'avg'}).toPandas()\n",
    "avg_songs_between_homepage_churn = df_churn.loc[0, 'avg(count(period))']"
   ]
  },
  {
   "cell_type": "code",
   "execution_count": 54,
   "metadata": {},
   "outputs": [
    {
     "data": {
      "image/png": "[encoded data removed]",
      "text/plain": [
       "<Figure size 360x504 with 1 Axes>"
      ]
     },
     "metadata": {
      "needs_background": "light"
     },
     "output_type": "display_data"
    }
   ],
   "source": [
    "plt.figure(figsize=(5, 7));\n",
    "plt.title('Avg Number of Songs Between Visiting the Home Page');\n",
    "plt.bar(x=['Not Churn', 'Churn'], height=[avg_songs_between_homepage, avg_songs_between_homepage_churn], color=['C0', 'C1']);\n",
    "\n",
    "values = [avg_songs_between_homepage, avg_songs_between_homepage_churn]\n",
    "\n",
    "for index, value in enumerate(values):\n",
    "    plt.text(index-0.37, value+0.3, str(value))"
   ]
  },
  {
   "cell_type": "markdown",
   "metadata": {},
   "source": [
    "# Feature Engineering\n",
    "Once you've familiarized yourself with the data, build out the features you find promising to train your model on. To work with the full dataset, you can follow the following steps.\n",
    "- Write a script to extract the necessary features from the smaller subset of data\n",
    "- Ensure that your script is scalable, using the best practices discussed in Lesson 3\n",
    "- Try your script on the full data set, debugging your script if necessary\n",
    "\n",
    "If you are working in the classroom workspace, you can just extract features based on the small subset of data contained here. Be sure to transfer over this work to the larger dataset when you work on your Spark cluster."
   ]
  },
  {
   "cell_type": "code",
   "execution_count": 55,
   "metadata": {},
   "outputs": [],
   "source": [
    "# artist: count number of unique artist\n",
    "# gender: \n",
    "# itemInSession: total number\n",
    "\n",
    "# length: mean, std, min, 25, 50, 75, max\n",
    "# level: count free, count paid\n",
    "# registration:\n",
    "# sessionId: total number of unique sessionIds\n",
    "## ts: CALCULATE STATS WITH OTHER VARIABLES\n",
    "    # count of unique ts\n",
    "    # avg songs per day of the week \n",
    "    # avg ads per day of the week\n",
    "# page: value_counts of each page except for cancel and cancel_confi\n",
    "# userAgent: value counts MAYBE"
   ]
  },
  {
   "cell_type": "code",
   "execution_count": 56,
   "metadata": {},
   "outputs": [
    {
     "data": {
      "text/plain": [
       "Row(artist=None, auth='Logged In', firstName='Darianna', gender='F', itemInSession=34, lastName='Carpenter', length=None, level='free', location='Bridgeport-Stamford-Norwalk, CT', method='PUT', page='Logout', registration=1538016340000, sessionId=187, song=None, status=307, ts=1542823952000, userAgent='\"Mozilla/5.0 (iPhone; CPU iPhone OS 7_1_2 like Mac OS X) AppleWebKit/537.51.2 (KHTML, like Gecko) Version/7.0 Mobile/11D257 Safari/9537.53\"', userId='100010', Churn_phase=0, Churn=0, hour='18', day='21', weekday=4, month='11')"
      ]
     },
     "execution_count": 56,
     "metadata": {},
     "output_type": "execute_result"
    }
   ],
   "source": [
    "train.head()"
   ]
  },
  {
   "cell_type": "code",
   "execution_count": 98,
   "metadata": {},
   "outputs": [
    {
     "name": "stdout",
     "output_type": "stream",
     "text": [
      "+------+---------+\n",
      "|userId|n_artists|\n",
      "+------+---------+\n",
      "|100010|      215|\n",
      "|200002|      269|\n",
      "|   125|        8|\n",
      "|   124|     1920|\n",
      "|    51|     1187|\n",
      "|     7|      114|\n",
      "|    15|     1087|\n",
      "|    54|     1467|\n",
      "|   155|      539|\n",
      "|100014|      191|\n",
      "|   132|     1086|\n",
      "|   154|       65|\n",
      "|   101|     1049|\n",
      "|    11|      421|\n",
      "|   138|     1136|\n",
      "|300017|     1778|\n",
      "|100021|      178|\n",
      "|    29|     1515|\n",
      "|    69|      719|\n",
      "|   112|      164|\n",
      "+------+---------+\n",
      "only showing top 20 rows\n",
      "\n"
     ]
    }
   ],
   "source": [
    "df = train.groupBy(\"userId\", \"artist\").count().groupBy(\"userId\").count().withColumnRenamed(\"count\", \"n_artists\")\n",
    "df.show()"
   ]
  },
  {
   "cell_type": "code",
   "execution_count": 99,
   "metadata": {},
   "outputs": [
    {
     "name": "stdout",
     "output_type": "stream",
     "text": [
      "+------+------+\n",
      "|userId|gender|\n",
      "+------+------+\n",
      "|100010|     F|\n",
      "|200002|     M|\n",
      "|   125|     M|\n",
      "|   124|     F|\n",
      "|    51|     M|\n",
      "|     7|     M|\n",
      "|    15|     M|\n",
      "|    54|     F|\n",
      "|   155|     F|\n",
      "|100014|     M|\n",
      "|   132|     F|\n",
      "|   154|     F|\n",
      "|   101|     M|\n",
      "|    11|     F|\n",
      "|   138|     M|\n",
      "|300017|     F|\n",
      "|100021|     M|\n",
      "|    29|     M|\n",
      "|    69|     F|\n",
      "|   112|     M|\n",
      "+------+------+\n",
      "only showing top 20 rows\n",
      "\n"
     ]
    }
   ],
   "source": [
    "gender = train.select(\"userId\", \"gender\").dropDuplicates()\n",
    "gender.show()"
   ]
  },
  {
   "cell_type": "code",
   "execution_count": 101,
   "metadata": {},
   "outputs": [
    {
     "name": "stdout",
     "output_type": "stream",
     "text": [
      "+------+-------+\n",
      "|userId|n_items|\n",
      "+------+-------+\n",
      "|100010|    318|\n",
      "|200002|    373|\n",
      "|   125|      9|\n",
      "|   124|   3875|\n",
      "|    51|   2000|\n",
      "|     7|    158|\n",
      "|    15|   1839|\n",
      "|    54|   2723|\n",
      "|   155|    805|\n",
      "|100014|    246|\n",
      "|   132|   1833|\n",
      "|   154|     92|\n",
      "|   101|   1689|\n",
      "|    11|    652|\n",
      "|   138|   1978|\n",
      "|300017|   3548|\n",
      "|100021|    267|\n",
      "|    29|   2905|\n",
      "|    69|   1080|\n",
      "|   112|    238|\n",
      "+------+-------+\n",
      "only showing top 20 rows\n",
      "\n"
     ]
    }
   ],
   "source": [
    "train.select(\"userId\").groupBy(\"userId\").count().withColumnRenamed(\"count\", \"n_items\").show()"
   ]
  },
  {
   "cell_type": "code",
   "execution_count": 60,
   "metadata": {},
   "outputs": [
    {
     "name": "stdout",
     "output_type": "stream",
     "text": [
      "+------+---------+\n",
      "|userId|   length|\n",
      "+------+---------+\n",
      "|100010|319.42485|\n",
      "|100010|302.57587|\n",
      "|100010|305.05751|\n",
      "|100010|207.64689|\n",
      "|100010|264.93342|\n",
      "|100010|  227.082|\n",
      "|100010| 281.5473|\n",
      "|100010|367.15057|\n",
      "|100010|299.75465|\n",
      "|100010|258.16771|\n",
      "|100010|260.25751|\n",
      "|100010|237.47873|\n",
      "|100010| 61.85751|\n",
      "|100010|228.46649|\n",
      "|100010| 320.1824|\n",
      "|100010|181.21098|\n",
      "|100010|248.58077|\n",
      "|100010|321.54077|\n",
      "|100010|175.56853|\n",
      "|100010| 217.3122|\n",
      "+------+---------+\n",
      "only showing top 20 rows\n",
      "\n"
     ]
    }
   ],
   "source": [
    "train.filter(train.userId == 100010).select(\"userId\", \"length\").dropna(how=\"any\", subset=[\"length\"]).show()"
   ]
  },
  {
   "cell_type": "code",
   "execution_count": 89,
   "metadata": {},
   "outputs": [
    {
     "name": "stdout",
     "output_type": "stream",
     "text": [
      "+-------+-----------------+\n",
      "|summary|           length|\n",
      "+-------+-----------------+\n",
      "|  count|              234|\n",
      "|   mean|240.2018280769232|\n",
      "| stddev| 78.0767004621482|\n",
      "|    min|         52.27057|\n",
      "|    max|        538.85342|\n",
      "+-------+-----------------+\n",
      "\n"
     ]
    }
   ],
   "source": [
    "# mean, std, min, 25, 50, 75, max\n",
    "train.filter(train.userId == 100010).select(\"length\").dropna(how=\"any\", subset=[\"length\"]).describe().show()"
   ]
  },
  {
   "cell_type": "code",
   "execution_count": null,
   "metadata": {},
   "outputs": [],
   "source": [
    "class ColumnDropper(Transformer):\n",
    "    \"\"\"\n",
    "    A custom Transformer which drops all columns that have at least one of the\n",
    "    words from the banned_list in the name.\n",
    "    \"\"\"\n",
    "\n",
    "    def __init__(self, banned_list: Iterable[str]):\n",
    "        super(ColumnDropper, self).__init__()\n",
    "        self.banned_list = banned_list\n",
    "\n",
    "    def _transform(self, df: DataFrame) -> DataFrame:\n",
    "        df = df.drop(*[x for x in df.columns if any(y in x for y in self.banned_list)])\n",
    "        return df"
   ]
  },
  {
   "cell_type": "code",
   "execution_count": null,
   "metadata": {},
   "outputs": [],
   "source": []
  },
  {
   "cell_type": "markdown",
   "metadata": {},
   "source": [
    "# Modeling\n",
    "Split the full dataset into train, test, and validation sets. Test out several of the machine learning methods you learned. Evaluate the accuracy of the various models, tuning parameters as necessary. Determine your winning model based on test accuracy and report results on the validation set. Since the churned users are a fairly small subset, I suggest using F1 score as the metric to optimize."
   ]
  },
  {
   "cell_type": "code",
   "execution_count": null,
   "metadata": {},
   "outputs": [],
   "source": []
  },
  {
   "cell_type": "markdown",
   "metadata": {},
   "source": [
    "# Final Steps\n",
    "Clean up your code, adding comments and renaming variables to make the code easier to read and maintain. Refer to the Spark Project Overview page and Data Scientist Capstone Project Rubric to make sure you are including all components of the capstone project and meet all expectations. Remember, this includes thorough documentation in a README file in a Github repository, as well as a web app or blog post."
   ]
  },
  {
   "cell_type": "code",
   "execution_count": null,
   "metadata": {},
   "outputs": [],
   "source": []
  }
 ],
 "metadata": {
  "kernelspec": {
   "display_name": "Python 3",
   "language": "python",
   "name": "python3"
  },
  "language_info": {
   "codemirror_mode": {
    "name": "ipython",
    "version": 3
   },
   "file_extension": ".py",
   "mimetype": "text/x-python",
   "name": "python",
   "nbconvert_exporter": "python",
   "pygments_lexer": "ipython3",
   "version": "3.6.3"
  }
 },
 "nbformat": 4,
 "nbformat_minor": 2
}
