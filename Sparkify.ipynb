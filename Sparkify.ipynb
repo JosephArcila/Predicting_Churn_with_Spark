{
 "cells": [
  {
   "cell_type": "markdown",
   "metadata": {},
   "source": [
    "# Data Wrangling with Spark\n",
    "This workspace contains a tiny subset (128MB) of the full dataset available (12GB) to explore a smaller subset with Spark before deploying your cluster on the cloud. The dataset describes log events comming from a music streaming service. The records describe events such as logging in to the site, visiting a page, listening to the next song, seeing an ad."
   ]
  },
  {
   "cell_type": "code",
   "execution_count": 1,
   "metadata": {
    "scrolled": true
   },
   "outputs": [
    {
     "name": "stdout",
     "output_type": "stream",
     "text": [
      "Requirement already up-to-date: matplotlib in /opt/conda/lib/python3.6/site-packages (3.3.4)\n",
      "Requirement already satisfied, skipping upgrade: python-dateutil>=2.1 in /opt/conda/lib/python3.6/site-packages (from matplotlib) (2.6.1)\n",
      "Requirement already satisfied, skipping upgrade: kiwisolver>=1.0.1 in /opt/conda/lib/python3.6/site-packages (from matplotlib) (1.3.1)\n",
      "Requirement already satisfied, skipping upgrade: pyparsing!=2.0.4,!=2.1.2,!=2.1.6,>=2.0.3 in /opt/conda/lib/python3.6/site-packages (from matplotlib) (2.2.0)\n",
      "Requirement already satisfied, skipping upgrade: numpy>=1.15 in /opt/conda/lib/python3.6/site-packages (from matplotlib) (1.19.5)\n",
      "Requirement already satisfied, skipping upgrade: pillow>=6.2.0 in /opt/conda/lib/python3.6/site-packages (from matplotlib) (8.4.0)\n",
      "Requirement already satisfied, skipping upgrade: cycler>=0.10 in /opt/conda/lib/python3.6/site-packages/cycler-0.10.0-py3.6.egg (from matplotlib) (0.10.0)\n",
      "Requirement already satisfied, skipping upgrade: six>=1.5 in /opt/conda/lib/python3.6/site-packages (from python-dateutil>=2.1->matplotlib) (1.11.0)\n"
     ]
    }
   ],
   "source": [
    "!pip install --upgrade matplotlib"
   ]
  },
  {
   "cell_type": "code",
   "execution_count": 2,
   "metadata": {},
   "outputs": [],
   "source": [
    "# import libraries\n",
    "from pyspark.sql import SparkSession\n",
    "from pyspark.sql.functions import udf, desc, col, hour, dayofmonth, weekofyear, month, year, dayofweek, from_unixtime\n",
    "from pyspark.sql.functions import max as Fmax\n",
    "from pyspark.sql.functions import sum as Fsum\n",
    "from pyspark.sql.types import IntegerType\n",
    "from pyspark.sql import Window\n",
    "from pyspark.sql.types import*\n",
    "\n",
    "import datetime\n",
    "\n",
    "import pandas as pd\n",
    "import matplotlib.pyplot as plt\n",
    "%matplotlib inline"
   ]
  },
  {
   "cell_type": "code",
   "execution_count": 3,
   "metadata": {},
   "outputs": [],
   "source": [
    "# create a Spark session\n",
    "spark = SparkSession.builder.appName(\"Spark SQL\").getOrCreate()"
   ]
  },
  {
   "cell_type": "markdown",
   "metadata": {},
   "source": [
    "# Load and Clean Dataset\n",
    "In this workspace, the mini-dataset file is `mini_sparkify_event_data.json`. Load and clean the dataset, checking for invalid or missing data - for example, records without userids or sessionids. "
   ]
  },
  {
   "cell_type": "code",
   "execution_count": 4,
   "metadata": {},
   "outputs": [],
   "source": [
    "# the IP address of the master node\n",
    "path = \"mini_sparkify_event_data.json\""
   ]
  },
  {
   "cell_type": "code",
   "execution_count": 5,
   "metadata": {},
   "outputs": [],
   "source": [
    "# loading the json file into a spark DataFrame\n",
    "user_log = spark.read.json(path)"
   ]
  },
  {
   "cell_type": "markdown",
   "metadata": {},
   "source": [
    "# Data Exploration "
   ]
  },
  {
   "cell_type": "code",
   "execution_count": 6,
   "metadata": {},
   "outputs": [
    {
     "name": "stdout",
     "output_type": "stream",
     "text": [
      "root\n",
      " |-- artist: string (nullable = true)\n",
      " |-- auth: string (nullable = true)\n",
      " |-- firstName: string (nullable = true)\n",
      " |-- gender: string (nullable = true)\n",
      " |-- itemInSession: long (nullable = true)\n",
      " |-- lastName: string (nullable = true)\n",
      " |-- length: double (nullable = true)\n",
      " |-- level: string (nullable = true)\n",
      " |-- location: string (nullable = true)\n",
      " |-- method: string (nullable = true)\n",
      " |-- page: string (nullable = true)\n",
      " |-- registration: long (nullable = true)\n",
      " |-- sessionId: long (nullable = true)\n",
      " |-- song: string (nullable = true)\n",
      " |-- status: long (nullable = true)\n",
      " |-- ts: long (nullable = true)\n",
      " |-- userAgent: string (nullable = true)\n",
      " |-- userId: string (nullable = true)\n",
      "\n"
     ]
    }
   ],
   "source": [
    "# Seeing the columns we have in this dataframe\n",
    "user_log.printSchema()"
   ]
  },
  {
   "cell_type": "markdown",
   "metadata": {},
   "source": [
    "There are fields describing the user like firstName, lastName and userId. We also have information about the request, for example, the page the user accessed, the HTTP method, and the status of the request."
   ]
  },
  {
   "cell_type": "code",
   "execution_count": 7,
   "metadata": {},
   "outputs": [
    {
     "name": "stdout",
     "output_type": "stream",
     "text": [
      "+--------------+---------+---------+------+-------------+--------+---------+-----+---------------+------+--------+-------------+---------+---------+------+-------------+--------------------+------+\n",
      "|        artist|     auth|firstName|gender|itemInSession|lastName|   length|level|       location|method|    page| registration|sessionId|     song|status|           ts|           userAgent|userId|\n",
      "+--------------+---------+---------+------+-------------+--------+---------+-----+---------------+------+--------+-------------+---------+---------+------+-------------+--------------------+------+\n",
      "|Martha Tilston|Logged In|    Colin|     M|           50| Freeman|277.89016| paid|Bakersfield, CA|   PUT|NextSong|1538173362000|       29|Rockpools|   200|1538352117000|Mozilla/5.0 (Wind...|    30|\n",
      "+--------------+---------+---------+------+-------------+--------+---------+-----+---------------+------+--------+-------------+---------+---------+------+-------------+--------------------+------+\n",
      "only showing top 1 row\n",
      "\n"
     ]
    }
   ],
   "source": [
    "# looking at one particular record\n",
    "user_log.show(n=1)"
   ]
  },
  {
   "cell_type": "markdown",
   "metadata": {},
   "source": [
    "Here we can see that Colin was listening to \"Rockpools\""
   ]
  },
  {
   "cell_type": "code",
   "execution_count": 8,
   "metadata": {},
   "outputs": [
    {
     "data": {
      "text/plain": [
       "[Row(artist='Martha Tilston', auth='Logged In', firstName='Colin', gender='M', itemInSession=50, lastName='Freeman', length=277.89016, level='paid', location='Bakersfield, CA', method='PUT', page='NextSong', registration=1538173362000, sessionId=29, song='Rockpools', status=200, ts=1538352117000, userAgent='Mozilla/5.0 (Windows NT 6.1; WOW64; rv:31.0) Gecko/20100101 Firefox/31.0', userId='30'),\n",
       " Row(artist='Five Iron Frenzy', auth='Logged In', firstName='Micah', gender='M', itemInSession=79, lastName='Long', length=236.09424, level='free', location='Boston-Cambridge-Newton, MA-NH', method='PUT', page='NextSong', registration=1538331630000, sessionId=8, song='Canada', status=200, ts=1538352180000, userAgent='\"Mozilla/5.0 (Windows NT 6.1; WOW64) AppleWebKit/537.36 (KHTML, like Gecko) Chrome/37.0.2062.103 Safari/537.36\"', userId='9'),\n",
       " Row(artist='Adam Lambert', auth='Logged In', firstName='Colin', gender='M', itemInSession=51, lastName='Freeman', length=282.8273, level='paid', location='Bakersfield, CA', method='PUT', page='NextSong', registration=1538173362000, sessionId=29, song='Time For Miracles', status=200, ts=1538352394000, userAgent='Mozilla/5.0 (Windows NT 6.1; WOW64; rv:31.0) Gecko/20100101 Firefox/31.0', userId='30'),\n",
       " Row(artist='Enigma', auth='Logged In', firstName='Micah', gender='M', itemInSession=80, lastName='Long', length=262.71302, level='free', location='Boston-Cambridge-Newton, MA-NH', method='PUT', page='NextSong', registration=1538331630000, sessionId=8, song='Knocking On Forbidden Doors', status=200, ts=1538352416000, userAgent='\"Mozilla/5.0 (Windows NT 6.1; WOW64) AppleWebKit/537.36 (KHTML, like Gecko) Chrome/37.0.2062.103 Safari/537.36\"', userId='9'),\n",
       " Row(artist='Daft Punk', auth='Logged In', firstName='Colin', gender='M', itemInSession=52, lastName='Freeman', length=223.60771, level='paid', location='Bakersfield, CA', method='PUT', page='NextSong', registration=1538173362000, sessionId=29, song='Harder Better Faster Stronger', status=200, ts=1538352676000, userAgent='Mozilla/5.0 (Windows NT 6.1; WOW64; rv:31.0) Gecko/20100101 Firefox/31.0', userId='30')]"
      ]
     },
     "execution_count": 8,
     "metadata": {},
     "output_type": "execute_result"
    }
   ],
   "source": [
    "# Looking at the first 5 records\n",
    "user_log.take(5)"
   ]
  },
  {
   "cell_type": "code",
   "execution_count": 9,
   "metadata": {},
   "outputs": [
    {
     "name": "stdout",
     "output_type": "stream",
     "text": [
      "+-------+-----------------+\n",
      "|summary|           length|\n",
      "+-------+-----------------+\n",
      "|  count|           228108|\n",
      "|   mean|249.1171819778458|\n",
      "| stddev|99.23517921058361|\n",
      "|    min|          0.78322|\n",
      "|    max|       3024.66567|\n",
      "+-------+-----------------+\n",
      "\n"
     ]
    }
   ],
   "source": [
    "# Summary statistics on the length column\n",
    "user_log.describe(\"length\").show()"
   ]
  },
  {
   "cell_type": "code",
   "execution_count": 10,
   "metadata": {},
   "outputs": [
    {
     "name": "stdout",
     "output_type": "stream",
     "text": [
      "We have 286500 rows on the dataset\n"
     ]
    }
   ],
   "source": [
    "print(\"We have {} rows on the dataset\".format(user_log.count()))"
   ]
  },
  {
   "cell_type": "code",
   "execution_count": 11,
   "metadata": {},
   "outputs": [
    {
     "name": "stdout",
     "output_type": "stream",
     "text": [
      "+--------------------+\n",
      "|                page|\n",
      "+--------------------+\n",
      "|               About|\n",
      "|          Add Friend|\n",
      "|     Add to Playlist|\n",
      "|              Cancel|\n",
      "|Cancellation Conf...|\n",
      "|           Downgrade|\n",
      "|               Error|\n",
      "|                Help|\n",
      "|                Home|\n",
      "|               Login|\n",
      "|              Logout|\n",
      "|            NextSong|\n",
      "|            Register|\n",
      "|         Roll Advert|\n",
      "|       Save Settings|\n",
      "|            Settings|\n",
      "|    Submit Downgrade|\n",
      "| Submit Registration|\n",
      "|      Submit Upgrade|\n",
      "|         Thumbs Down|\n",
      "|           Thumbs Up|\n",
      "|             Upgrade|\n",
      "+--------------------+\n",
      "\n"
     ]
    }
   ],
   "source": [
    "# Looking at the page requests that we have\n",
    "user_log.select(\"page\").dropDuplicates().sort(\"page\").show(25)"
   ]
  },
  {
   "cell_type": "markdown",
   "metadata": {},
   "source": [
    "Users can login and out, visit the homepage, or play a song."
   ]
  },
  {
   "cell_type": "code",
   "execution_count": 12,
   "metadata": {},
   "outputs": [
    {
     "name": "stdout",
     "output_type": "stream",
     "text": [
      "+-----+\n",
      "|level|\n",
      "+-----+\n",
      "| free|\n",
      "| paid|\n",
      "+-----+\n",
      "\n"
     ]
    }
   ],
   "source": [
    "user_log.select(\"level\").dropDuplicates().sort(\"level\").show()"
   ]
  },
  {
   "cell_type": "code",
   "execution_count": 13,
   "metadata": {},
   "outputs": [
    {
     "name": "stdout",
     "output_type": "stream",
     "text": [
      "+----------+\n",
      "|      auth|\n",
      "+----------+\n",
      "| Cancelled|\n",
      "|     Guest|\n",
      "| Logged In|\n",
      "|Logged Out|\n",
      "+----------+\n",
      "\n"
     ]
    }
   ],
   "source": [
    "user_log.select(\"auth\").dropDuplicates().sort(\"auth\").show() "
   ]
  },
  {
   "cell_type": "code",
   "execution_count": 14,
   "metadata": {},
   "outputs": [
    {
     "data": {
      "text/plain": [
       "[Row(userId='30', firstName='Colin', page='NextSong', song='Rockpools'),\n",
       " Row(userId='30', firstName='Colin', page='NextSong', song='Time For Miracles'),\n",
       " Row(userId='30', firstName='Colin', page='NextSong', song='Harder Better Faster Stronger'),\n",
       " Row(userId='30', firstName='Colin', page='NextSong', song='Passengers (Old Album Version)'),\n",
       " Row(userId='30', firstName='Colin', page='Add to Playlist', song=None),\n",
       " Row(userId='30', firstName='Colin', page='NextSong', song='Fuck Kitty'),\n",
       " Row(userId='30', firstName='Colin', page='NextSong', song='Jade'),\n",
       " Row(userId='30', firstName='Colin', page='NextSong', song='So-Called Friends'),\n",
       " Row(userId='30', firstName='Colin', page='NextSong', song='Represent'),\n",
       " Row(userId='30', firstName='Colin', page='NextSong', song='Here I Am'),\n",
       " Row(userId='30', firstName='Colin', page='NextSong', song='Rebirthing (Album Version)'),\n",
       " Row(userId='30', firstName='Colin', page='NextSong', song='Dog Days Are Over (Radio Edit)'),\n",
       " Row(userId='30', firstName='Colin', page='NextSong', song='Tomorrow Is A Long Time'),\n",
       " Row(userId='30', firstName='Colin', page='NextSong', song='Halloween Spooks'),\n",
       " Row(userId='30', firstName='Colin', page='NextSong', song='Stronger'),\n",
       " Row(userId='30', firstName='Colin', page='NextSong', song='Dis Iz Brick City'),\n",
       " Row(userId='30', firstName='Colin', page='NextSong', song='Move Along'),\n",
       " Row(userId='30', firstName='Colin', page='NextSong', song='Manhattan'),\n",
       " Row(userId='30', firstName='Colin', page='NextSong', song='Undo'),\n",
       " Row(userId='30', firstName='Colin', page='NextSong', song='The Big Gundown'),\n",
       " Row(userId='30', firstName='Colin', page='NextSong', song='Black Bird'),\n",
       " Row(userId='30', firstName='Colin', page='Thumbs Down', song=None),\n",
       " Row(userId='30', firstName='Colin', page='NextSong', song='Nausea'),\n",
       " Row(userId='30', firstName='Colin', page='NextSong', song='Matricide'),\n",
       " Row(userId='30', firstName='Colin', page='NextSong', song='Valerie'),\n",
       " Row(userId='30', firstName='Colin', page='NextSong', song='Margarita'),\n",
       " Row(userId='30', firstName='Colin', page='NextSong', song=\"Le Jardin d'Hiver\"),\n",
       " Row(userId='30', firstName='Colin', page='Thumbs Up', song=None),\n",
       " Row(userId='30', firstName='Colin', page='NextSong', song='Soon As I Get Home(Album Version)'),\n",
       " Row(userId='30', firstName='Colin', page='Thumbs Up', song=None),\n",
       " Row(userId='30', firstName='Colin', page='NextSong', song='Vamos a la Playa'),\n",
       " Row(userId='30', firstName='Colin', page='NextSong', song='Perfecta'),\n",
       " Row(userId='30', firstName='Colin', page='NextSong', song='Requiem'),\n",
       " Row(userId='30', firstName='Colin', page='NextSong', song='Who Can Compare'),\n",
       " Row(userId='30', firstName='Colin', page='NextSong', song='240 Years Before Your Time'),\n",
       " Row(userId='30', firstName='Colin', page='NextSong', song='Rosa Pastel'),\n",
       " Row(userId='30', firstName='Colin', page='Roll Advert', song=None),\n",
       " Row(userId='30', firstName='Colin', page='NextSong', song=\"I'm Ready (Album Version)\"),\n",
       " Row(userId='30', firstName='Colin', page='NextSong', song='No Other Saviour'),\n",
       " Row(userId='30', firstName='Colin', page='NextSong', song='Hints'),\n",
       " Row(userId='30', firstName='Colin', page='NextSong', song='Yellow'),\n",
       " Row(userId='30', firstName='Colin', page='Add to Playlist', song=None),\n",
       " Row(userId='30', firstName='Colin', page='NextSong', song='Kill The Director [Radio Edit]'),\n",
       " Row(userId='30', firstName='Colin', page='Add Friend', song=None),\n",
       " Row(userId='30', firstName='Colin', page='Home', song=None),\n",
       " Row(userId='30', firstName='Colin', page='NextSong', song='Third Party'),\n",
       " Row(userId='30', firstName='Colin', page='NextSong', song=\"It's Working\"),\n",
       " Row(userId='30', firstName='Colin', page='NextSong', song=\"I'll Remember April (Digitally Remastered 01)\"),\n",
       " Row(userId='30', firstName='Colin', page='NextSong', song='Atmosphere Station'),\n",
       " Row(userId='30', firstName='Colin', page='NextSong', song='There_ There'),\n",
       " Row(userId='30', firstName='Colin', page='NextSong', song=\"'Til We Die (Album Version)\"),\n",
       " Row(userId='30', firstName='Colin', page='NextSong', song='Lies (Album Version)'),\n",
       " Row(userId='30', firstName='Colin', page='NextSong', song='The Ballad of Michael Valentine'),\n",
       " Row(userId='30', firstName='Colin', page='NextSong', song='Gears'),\n",
       " Row(userId='30', firstName='Colin', page='NextSong', song='These Eyes'),\n",
       " Row(userId='30', firstName='Colin', page='Help', song=None),\n",
       " Row(userId='30', firstName='Colin', page='Home', song=None),\n",
       " Row(userId='30', firstName='Colin', page='NextSong', song='Stronger'),\n",
       " Row(userId='30', firstName='Colin', page='NextSong', song='This Is Such A Pity'),\n",
       " Row(userId='30', firstName='Colin', page='NextSong', song='Strut (1993 Digital Remaster)'),\n",
       " Row(userId='30', firstName='Colin', page='NextSong', song='Fader'),\n",
       " Row(userId='30', firstName='Colin', page='NextSong', song='Se Quiere_ Se Mata'),\n",
       " Row(userId='30', firstName='Colin', page='NextSong', song='Somewhere'),\n",
       " Row(userId='30', firstName='Colin', page='NextSong', song='Canada'),\n",
       " Row(userId='30', firstName='Colin', page='NextSong', song='Dream On Dreamer'),\n",
       " Row(userId='30', firstName='Colin', page='NextSong', song='HÃ\\x83Â¡ Uma MÃ\\x83Âºsica Do Povo (Live)'),\n",
       " Row(userId='30', firstName='Colin', page='NextSong', song=\"Money Ain't A Thang\"),\n",
       " Row(userId='30', firstName='Colin', page='NextSong', song='Howlin\\x19 For You'),\n",
       " Row(userId='30', firstName='Colin', page='NextSong', song='Fireflies'),\n",
       " Row(userId='30', firstName='Colin', page='NextSong', song='Stadium Love'),\n",
       " Row(userId='30', firstName='Colin', page='Downgrade', song=None),\n",
       " Row(userId='30', firstName='Colin', page='NextSong', song='Again & Again'),\n",
       " Row(userId='30', firstName='Colin', page='NextSong', song='The Trooper (1998 Digital Remaster)'),\n",
       " Row(userId='30', firstName='Colin', page='NextSong', song='Get Off My Elevator'),\n",
       " Row(userId='30', firstName='Colin', page='NextSong', song='Speed Trials'),\n",
       " Row(userId='30', firstName='Colin', page='NextSong', song='Invalid'),\n",
       " Row(userId='30', firstName='Colin', page='NextSong', song='Frenchy\\x19s'),\n",
       " Row(userId='30', firstName='Colin', page='NextSong', song='Between Two Lungs'),\n",
       " Row(userId='30', firstName='Colin', page='NextSong', song='Hiding'),\n",
       " Row(userId='30', firstName='Colin', page='NextSong', song='Alone Again (Naturally)'),\n",
       " Row(userId='30', firstName='Colin', page='NextSong', song='You Found Me'),\n",
       " Row(userId='30', firstName='Colin', page='NextSong', song='Our Song'),\n",
       " Row(userId='30', firstName='Colin', page='NextSong', song='Rock Hard'),\n",
       " Row(userId='30', firstName='Colin', page='NextSong', song='Waiting For Tonight'),\n",
       " Row(userId='30', firstName='Colin', page='NextSong', song='Pioneer to The Falls'),\n",
       " Row(userId='30', firstName='Colin', page='NextSong', song=\"You're The One\"),\n",
       " Row(userId='30', firstName='Colin', page='NextSong', song='Trash And Ready'),\n",
       " Row(userId='30', firstName='Colin', page='NextSong', song=\"Keep On Movin'\"),\n",
       " Row(userId='30', firstName='Colin', page='NextSong', song='Quase Um Segundo'),\n",
       " Row(userId='30', firstName='Colin', page='NextSong', song='Costumbres Argentinas'),\n",
       " Row(userId='30', firstName='Colin', page='NextSong', song='Nine Times Out Of Ten (1998 Digital Remaster)'),\n",
       " Row(userId='30', firstName='Colin', page='NextSong', song='Bass Solo'),\n",
       " Row(userId='30', firstName='Colin', page='NextSong', song='The Memory Remains'),\n",
       " Row(userId='30', firstName='Colin', page='NextSong', song='Clock'),\n",
       " Row(userId='30', firstName='Colin', page='NextSong', song='I Don\\x19t Wanna Go To The Party'),\n",
       " Row(userId='30', firstName='Colin', page='NextSong', song=\"She's So Cold\"),\n",
       " Row(userId='30', firstName='Colin', page='NextSong', song='Drops In The River'),\n",
       " Row(userId='30', firstName='Colin', page='NextSong', song='Didgeridoo'),\n",
       " Row(userId='30', firstName='Colin', page='NextSong', song='Sex_ Love & Money'),\n",
       " Row(userId='30', firstName='Colin', page='NextSong', song='Rayando el sol'),\n",
       " Row(userId='30', firstName='Colin', page='NextSong', song='Lights And Sounds'),\n",
       " Row(userId='30', firstName='Colin', page='NextSong', song='You Make Me Wanna...'),\n",
       " Row(userId='30', firstName='Colin', page='NextSong', song=\"When It's Love (Remastered Album Version)\"),\n",
       " Row(userId='30', firstName='Colin', page='NextSong', song='Red Tide'),\n",
       " Row(userId='30', firstName='Colin', page='NextSong', song='Man Of Two Minds'),\n",
       " Row(userId='30', firstName='Colin', page='NextSong', song='Ruled By Secrecy'),\n",
       " Row(userId='30', firstName='Colin', page='NextSong', song='Untitled #5'),\n",
       " Row(userId='30', firstName='Colin', page='NextSong', song='Misery Business (Single Version)'),\n",
       " Row(userId='30', firstName='Colin', page='NextSong', song='Hold My Heart'),\n",
       " Row(userId='30', firstName='Colin', page='NextSong', song='Risen (Rolling Stone Original)'),\n",
       " Row(userId='30', firstName='Colin', page='NextSong', song='Sonne'),\n",
       " Row(userId='30', firstName='Colin', page='Thumbs Up', song=None),\n",
       " Row(userId='30', firstName='Colin', page='NextSong', song='Out Of Exile'),\n",
       " Row(userId='30', firstName='Colin', page='Thumbs Up', song=None),\n",
       " Row(userId='30', firstName='Colin', page='NextSong', song='Old Yellow Bricks'),\n",
       " Row(userId='30', firstName='Colin', page='NextSong', song='GalÃ\\x83Â©rer'),\n",
       " Row(userId='30', firstName='Colin', page='NextSong', song='Casting A Spell (Remixed) (1998 Digital Remaster)'),\n",
       " Row(userId='30', firstName='Colin', page='NextSong', song='Operation Uppsala'),\n",
       " Row(userId='30', firstName='Colin', page='NextSong', song='Detached (Album Version)'),\n",
       " Row(userId='30', firstName='Colin', page='NextSong', song='Echo Beach (2002 Digital Remaster)'),\n",
       " Row(userId='30', firstName='Colin', page='NextSong', song='Te Va A Doler'),\n",
       " Row(userId='30', firstName='Colin', page='NextSong', song='paranoid android'),\n",
       " Row(userId='30', firstName='Colin', page='Home', song=None),\n",
       " Row(userId='30', firstName='Colin', page='NextSong', song='Banned from Heaven'),\n",
       " Row(userId='30', firstName='Colin', page='NextSong', song='Trashcan'),\n",
       " Row(userId='30', firstName='Colin', page='NextSong', song='Go Go Gadget Flow (Explicit Album Version)'),\n",
       " Row(userId='30', firstName='Colin', page='NextSong', song='Home For A Rest'),\n",
       " Row(userId='30', firstName='Colin', page='NextSong', song=\"When You're Gone\"),\n",
       " Row(userId='30', firstName='Colin', page='NextSong', song='The Slam (Welcome To Diverse City Album Version)'),\n",
       " Row(userId='30', firstName='Colin', page='NextSong', song='You Raise Me Up'),\n",
       " Row(userId='30', firstName='Colin', page='Add to Playlist', song=None),\n",
       " Row(userId='30', firstName='Colin', page='NextSong', song='There Is A Light That Never Goes Out'),\n",
       " Row(userId='30', firstName='Colin', page='NextSong', song='The High Way'),\n",
       " Row(userId='30', firstName='Colin', page='Thumbs Up', song=None),\n",
       " Row(userId='30', firstName='Colin', page='Add to Playlist', song=None),\n",
       " Row(userId='30', firstName='Colin', page='NextSong', song=\"The Final Episode (Let's Change The Channel)\"),\n",
       " Row(userId='30', firstName='Colin', page='NextSong', song='Candy'),\n",
       " Row(userId='30', firstName='Colin', page='Thumbs Up', song=None),\n",
       " Row(userId='30', firstName='Colin', page='Add to Playlist', song=None),\n",
       " Row(userId='30', firstName='Colin', page='NextSong', song='re:stacks'),\n",
       " Row(userId='30', firstName='Colin', page='Add to Playlist', song=None),\n",
       " Row(userId='30', firstName='Colin', page='NextSong', song='Converting Vegetarians'),\n",
       " Row(userId='30', firstName='Colin', page='NextSong', song='Airwar'),\n",
       " Row(userId='30', firstName='Colin', page='NextSong', song='Unplayed Piano (Chris Lord-Alge Mix)'),\n",
       " Row(userId='30', firstName='Colin', page='NextSong', song=\"Don't Mean Nothing\"),\n",
       " Row(userId='30', firstName='Colin', page='NextSong', song='Let Me'),\n",
       " Row(userId='30', firstName='Colin', page='NextSong', song='Ã\\x82Â¿Por quÃ\\x83Â© te vas?'),\n",
       " Row(userId='30', firstName='Colin', page='NextSong', song='In My Place'),\n",
       " Row(userId='30', firstName='Colin', page='NextSong', song='Beautiful'),\n",
       " Row(userId='30', firstName='Colin', page='Thumbs Up', song=None),\n",
       " Row(userId='30', firstName='Colin', page='NextSong', song='Miniature Disasters'),\n",
       " Row(userId='30', firstName='Colin', page='NextSong', song='Brothers In Arms'),\n",
       " Row(userId='30', firstName='Colin', page='Home', song=None),\n",
       " Row(userId='30', firstName='Colin', page='NextSong', song='Billy Breathes'),\n",
       " Row(userId='30', firstName='Colin', page='NextSong', song='Revelry'),\n",
       " Row(userId='30', firstName='Colin', page='NextSong', song='Ignition'),\n",
       " Row(userId='30', firstName='Colin', page='Add Friend', song=None),\n",
       " Row(userId='30', firstName='Colin', page='NextSong', song='Sweet Escape'),\n",
       " Row(userId='30', firstName='Colin', page='NextSong', song='Disturbia Money'),\n",
       " Row(userId='30', firstName='Colin', page='NextSong', song='15 Step'),\n",
       " Row(userId='30', firstName='Colin', page='NextSong', song=\"Surfin' Bird\"),\n",
       " Row(userId='30', firstName='Colin', page='Thumbs Up', song=None),\n",
       " Row(userId='30', firstName='Colin', page='NextSong', song='Strange Machines'),\n",
       " Row(userId='30', firstName='Colin', page='NextSong', song='DÃ\\x83Â¬'),\n",
       " Row(userId='30', firstName='Colin', page='NextSong', song='Devotion And Desire'),\n",
       " Row(userId='30', firstName='Colin', page='NextSong', song='The Fire Still Burns'),\n",
       " Row(userId='30', firstName='Colin', page='NextSong', song='My Little Brother'),\n",
       " Row(userId='30', firstName='Colin', page='NextSong', song=\"These Things You Can't Unlearn\"),\n",
       " Row(userId='30', firstName='Colin', page='NextSong', song='Nobody (Featuring Athena Cage) (LP Version)'),\n",
       " Row(userId='30', firstName='Colin', page='NextSong', song='Mr. Jones'),\n",
       " Row(userId='30', firstName='Colin', page='NextSong', song='You Had Me At Hello'),\n",
       " Row(userId='30', firstName='Colin', page='NextSong', song='Rally'),\n",
       " Row(userId='30', firstName='Colin', page='NextSong', song=\"Adam's Song\"),\n",
       " Row(userId='30', firstName='Colin', page='NextSong', song='Too Much'),\n",
       " Row(userId='30', firstName='Colin', page='NextSong', song=\"I'm On A Boat\"),\n",
       " Row(userId='30', firstName='Colin', page='NextSong', song='Questo Pazzo Pazzo Mondo Di Tasse'),\n",
       " Row(userId='30', firstName='Colin', page='NextSong', song='You Are Not Stubborn'),\n",
       " Row(userId='30', firstName='Colin', page='NextSong', song='P.I.M.P.'),\n",
       " Row(userId='30', firstName='Colin', page='NextSong', song='Explosive'),\n",
       " Row(userId='30', firstName='Colin', page='NextSong', song='Conteo'),\n",
       " Row(userId='30', firstName='Colin', page='NextSong', song='Blue'),\n",
       " Row(userId='30', firstName='Colin', page='Thumbs Up', song=None),\n",
       " Row(userId='30', firstName='Colin', page='NextSong', song='These Days'),\n",
       " Row(userId='30', firstName='Colin', page='Home', song=None),\n",
       " Row(userId='30', firstName='Colin', page='NextSong', song='Twenty-Six Temptations (Album version)'),\n",
       " Row(userId='30', firstName='Colin', page='NextSong', song='Janglin'),\n",
       " Row(userId='30', firstName='Colin', page='NextSong', song='I Write Sins Not Tragedies [Live In Chicago]'),\n",
       " Row(userId='30', firstName='Colin', page='NextSong', song='Wore Out'),\n",
       " Row(userId='30', firstName='Colin', page='NextSong', song='JOG-O-MOTION PART 1'),\n",
       " Row(userId='30', firstName='Colin', page='Thumbs Up', song=None),\n",
       " Row(userId='30', firstName='Colin', page='NextSong', song='No Remorse'),\n",
       " Row(userId='30', firstName='Colin', page='NextSong', song='Small'),\n",
       " Row(userId='30', firstName='Colin', page='NextSong', song='Cover Me'),\n",
       " Row(userId='30', firstName='Colin', page='NextSong', song='No Air duet with Chris Brown'),\n",
       " Row(userId='30', firstName='Colin', page='NextSong', song='Between Us And Them'),\n",
       " Row(userId='30', firstName='Colin', page='NextSong', song='ParaÃ\\x83Â\\xadso'),\n",
       " Row(userId='30', firstName='Colin', page='NextSong', song='Untitled'),\n",
       " Row(userId='30', firstName='Colin', page='NextSong', song='Fire With Fire'),\n",
       " Row(userId='30', firstName='Colin', page='NextSong', song='Rainbow'),\n",
       " Row(userId='30', firstName='Colin', page='NextSong', song='Dusk Till Dawn'),\n",
       " Row(userId='30', firstName='Colin', page='NextSong', song='Three Pope (feat. Monty Alexander)'),\n",
       " Row(userId='30', firstName='Colin', page='NextSong', song='She Hates Me'),\n",
       " Row(userId='30', firstName='Colin', page='NextSong', song=\"You'll Be In My Heart\"),\n",
       " Row(userId='30', firstName='Colin', page='NextSong', song='The Bunting Song'),\n",
       " Row(userId='30', firstName='Colin', page='NextSong', song='Beer'),\n",
       " Row(userId='30', firstName='Colin', page='NextSong', song='With Or Without You'),\n",
       " Row(userId='30', firstName='Colin', page='NextSong', song='Going North [Commentary]'),\n",
       " Row(userId='30', firstName='Colin', page='NextSong', song='Greece 2000'),\n",
       " Row(userId='30', firstName='Colin', page='NextSong', song='What A Feeling'),\n",
       " Row(userId='30', firstName='Colin', page='Thumbs Up', song=None),\n",
       " Row(userId='30', firstName='Colin', page='NextSong', song='The Legend of Finn MacCumhail (Album Version)'),\n",
       " Row(userId='30', firstName='Colin', page='NextSong', song='Love Story'),\n",
       " Row(userId='30', firstName='Colin', page='Add Friend', song=None),\n",
       " Row(userId='30', firstName='Colin', page='Add Friend', song=None),\n",
       " Row(userId='30', firstName='Colin', page='NextSong', song='Gafas de pasta'),\n",
       " Row(userId='30', firstName='Colin', page='Add to Playlist', song=None),\n",
       " Row(userId='30', firstName='Colin', page='NextSong', song=\"You've Got A Friend (Live Version)\"),\n",
       " Row(userId='30', firstName='Colin', page='NextSong', song='Diamonds From Sierra Leone'),\n",
       " Row(userId='30', firstName='Colin', page='NextSong', song='No Use'),\n",
       " Row(userId='30', firstName='Colin', page='Settings', song=None),\n",
       " Row(userId='30', firstName='Colin', page='NextSong', song='Bring Me To Life'),\n",
       " Row(userId='30', firstName='Colin', page='NextSong', song='Be Like You'),\n",
       " Row(userId='30', firstName='Colin', page='NextSong', song='U.S. History'),\n",
       " Row(userId='30', firstName='Colin', page='NextSong', song='La Cocinera'),\n",
       " Row(userId='30', firstName='Colin', page='Thumbs Up', song=None),\n",
       " Row(userId='30', firstName='Colin', page='NextSong', song='All Summer Long'),\n",
       " Row(userId='30', firstName='Colin', page='NextSong', song=\"D'Evils\"),\n",
       " Row(userId='30', firstName='Colin', page='NextSong', song='Hard To Concentrate (Album Version)'),\n",
       " Row(userId='30', firstName='Colin', page='NextSong', song='Bad Omen (24-Bit Digitally Remastered 04) ()'),\n",
       " Row(userId='30', firstName='Colin', page='NextSong', song='Put Your Hands Up For Detroit'),\n",
       " Row(userId='30', firstName='Colin', page='NextSong', song='Bad Trails'),\n",
       " Row(userId='30', firstName='Colin', page='NextSong', song='Bring Me Down'),\n",
       " Row(userId='30', firstName='Colin', page='NextSong', song='Last Time (Album Version)'),\n",
       " Row(userId='30', firstName='Colin', page='NextSong', song='Apply Some Pressure'),\n",
       " Row(userId='30', firstName='Colin', page='NextSong', song='Tailor Made'),\n",
       " Row(userId='30', firstName='Colin', page='NextSong', song='I Can Tell'),\n",
       " Row(userId='30', firstName='Colin', page='NextSong', song='Angels We Have Heard On High'),\n",
       " Row(userId='30', firstName='Colin', page='Add to Playlist', song=None),\n",
       " Row(userId='30', firstName='Colin', page='NextSong', song='Catch You Baby (Steve Pitron & Max Sanna Radio Edit)'),\n",
       " Row(userId='30', firstName='Colin', page='NextSong', song='Picture Perfect'),\n",
       " Row(userId='30', firstName='Colin', page='Error', song=None),\n",
       " Row(userId='30', firstName='Colin', page='NextSong', song='Ours Alone'),\n",
       " Row(userId='30', firstName='Colin', page='NextSong', song='Master Of Puppets'),\n",
       " Row(userId='30', firstName='Colin', page='NextSong', song='Costruire'),\n",
       " Row(userId='30', firstName='Colin', page='NextSong', song='Sparks'),\n",
       " Row(userId='30', firstName='Colin', page='NextSong', song='Wildlife'),\n",
       " Row(userId='30', firstName='Colin', page='NextSong', song='Hello'),\n",
       " Row(userId='30', firstName='Colin', page='NextSong', song='Even If Kills Me (Cd)'),\n",
       " Row(userId='30', firstName='Colin', page='NextSong', song='Drinking In L.A.'),\n",
       " Row(userId='30', firstName='Colin', page='NextSong', song='Xehasmeni Melodia'),\n",
       " Row(userId='30', firstName='Colin', page='NextSong', song=\"You Can't Break A Broken Heart\"),\n",
       " Row(userId='30', firstName='Colin', page='Downgrade', song=None),\n",
       " Row(userId='30', firstName='Colin', page='NextSong', song='Truth In The Age Of Lies (Album Version)'),\n",
       " Row(userId='30', firstName='Colin', page='NextSong', song='Donde Vamos'),\n",
       " Row(userId='30', firstName='Colin', page='NextSong', song=\"Lady '95\"),\n",
       " Row(userId='30', firstName='Colin', page='NextSong', song='Horseshoes and Hand Grenades'),\n",
       " Row(userId='30', firstName='Colin', page='NextSong', song='Jamaica Roots II(Agora E Sempre)'),\n",
       " Row(userId='30', firstName='Colin', page='Downgrade', song=None),\n",
       " Row(userId='30', firstName='Colin', page='Submit Downgrade', song=None),\n",
       " Row(userId='30', firstName='Colin', page='Home', song=None),\n",
       " Row(userId='30', firstName='Colin', page='NextSong', song='Crimewave (Crystal Castles vs Health)'),\n",
       " Row(userId='30', firstName='Colin', page='NextSong', song='Hey (Album Version)'),\n",
       " Row(userId='30', firstName='Colin', page='NextSong', song='I Believe In Forever'),\n",
       " Row(userId='30', firstName='Colin', page='Add to Playlist', song=None),\n",
       " Row(userId='30', firstName='Colin', page='NextSong', song=\"Don't Stop The Music\"),\n",
       " Row(userId='30', firstName='Colin', page='NextSong', song='City Of The Dead'),\n",
       " Row(userId='30', firstName='Colin', page='NextSong', song='Too Afraid To Love'),\n",
       " Row(userId='30', firstName='Colin', page='Home', song=None),\n",
       " Row(userId='30', firstName='Colin', page='NextSong', song='Hasir'),\n",
       " Row(userId='30', firstName='Colin', page='NextSong', song='Bloat On (featuring the Bloaters) (LP Version)'),\n",
       " Row(userId='30', firstName='Colin', page='NextSong', song=\"Frisch und g'sund\"),\n",
       " Row(userId='30', firstName='Colin', page='NextSong', song='Boom Boom'),\n",
       " Row(userId='30', firstName='Colin', page='Thumbs Up', song=None),\n",
       " Row(userId='30', firstName='Colin', page='NextSong', song='Undo'),\n",
       " Row(userId='30', firstName='Colin', page='Add to Playlist', song=None),\n",
       " Row(userId='30', firstName='Colin', page='NextSong', song='Hunting For Witches'),\n",
       " Row(userId='30', firstName='Colin', page='NextSong', song='Blindsided'),\n",
       " Row(userId='30', firstName='Colin', page='NextSong', song='Survive'),\n",
       " Row(userId='30', firstName='Colin', page='NextSong', song='Alice'),\n",
       " Row(userId='30', firstName='Colin', page='NextSong', song='Dog Days Are Over (Radio Edit)'),\n",
       " Row(userId='30', firstName='Colin', page='NextSong', song=\"Lovin' You\"),\n",
       " Row(userId='30', firstName='Colin', page='NextSong', song=\"Everybody's Fool (Live in Europe)\"),\n",
       " Row(userId='30', firstName='Colin', page='NextSong', song='Jeune Et Con'),\n",
       " Row(userId='30', firstName='Colin', page='NextSong', song='Somebody (Loves You) (Explicit Album Version)'),\n",
       " Row(userId='30', firstName='Colin', page='NextSong', song='Not Big'),\n",
       " Row(userId='30', firstName='Colin', page='NextSong', song='Paint You'),\n",
       " Row(userId='30', firstName='Colin', page='NextSong', song='Block Of Ice'),\n",
       " Row(userId='30', firstName='Colin', page='Upgrade', song=None),\n",
       " Row(userId='30', firstName='Colin', page='NextSong', song='Sun It Rises'),\n",
       " Row(userId='30', firstName='Colin', page='Upgrade', song=None),\n",
       " Row(userId='30', firstName='Colin', page='NextSong', song='Paralyzer'),\n",
       " Row(userId='30', firstName='Colin', page='NextSong', song='Bleed It Out [Live At Milton Keynes]'),\n",
       " Row(userId='30', firstName='Colin', page='Add to Playlist', song=None),\n",
       " Row(userId='30', firstName='Colin', page='NextSong', song='Ven Conmigo (Solamente TÃ\\x83Âº)'),\n",
       " Row(userId='30', firstName='Colin', page='NextSong', song='Give In'),\n",
       " Row(userId='30', firstName='Colin', page='NextSong', song='Arrepentida'),\n",
       " Row(userId='30', firstName='Colin', page='NextSong', song=\"I Don't Want To Wait (Album Version)\"),\n",
       " Row(userId='30', firstName='Colin', page='NextSong', song='Down To The River To Pray'),\n",
       " Row(userId='30', firstName='Colin', page='NextSong', song='Castles In The Sky'),\n",
       " Row(userId='30', firstName='Colin', page='Thumbs Up', song=None),\n",
       " Row(userId='30', firstName='Colin', page='NextSong', song='Sitting On Top Of The World'),\n",
       " Row(userId='30', firstName='Colin', page='NextSong', song='The Way Things Go'),\n",
       " Row(userId='30', firstName='Colin', page='NextSong', song='Recruiting Soldiers (2002 Digital Remaster)'),\n",
       " Row(userId='30', firstName='Colin', page='Thumbs Up', song=None),\n",
       " Row(userId='30', firstName='Colin', page='NextSong', song='Clara meets Slope - Hard To Say'),\n",
       " Row(userId='30', firstName='Colin', page='NextSong', song='Timeless'),\n",
       " Row(userId='30', firstName='Colin', page='NextSong', song=\"Punta D'Alba\"),\n",
       " Row(userId='30', firstName='Colin', page='Roll Advert', song=None),\n",
       " Row(userId='30', firstName='Colin', page='NextSong', song=\"Ghosts 'n' Stuff (Original Instrumental Mix)\"),\n",
       " Row(userId='30', firstName='Colin', page='NextSong', song=\"I Couldn't Help It If I Tried\"),\n",
       " Row(userId='30', firstName='Colin', page='NextSong', song='The Blood_ The Sweat_ The Tears (Album Version)'),\n",
       " Row(userId='30', firstName='Colin', page='Add to Playlist', song=None),\n",
       " Row(userId='30', firstName='Colin', page='NextSong', song='She Said'),\n",
       " Row(userId='30', firstName='Colin', page='Home', song=None),\n",
       " Row(userId='30', firstName='Colin', page='NextSong', song='Undo'),\n",
       " Row(userId='30', firstName='Colin', page='NextSong', song='Bust A Move'),\n",
       " Row(userId='30', firstName='Colin', page='Thumbs Up', song=None),\n",
       " Row(userId='30', firstName='Colin', page='NextSong', song='Catch You Baby (Steve Pitron & Max Sanna Radio Edit)'),\n",
       " Row(userId='30', firstName='Colin', page='NextSong', song='White Light/White Heat'),\n",
       " Row(userId='30', firstName='Colin', page='NextSong', song='Infinity'),\n",
       " Row(userId='30', firstName='Colin', page='NextSong', song='Bros Sto Rimagmeno Spiti (2003 Digital Remaster)'),\n",
       " Row(userId='30', firstName='Colin', page='Add Friend', song=None),\n",
       " Row(userId='30', firstName='Colin', page='Add Friend', song=None),\n",
       " Row(userId='30', firstName='Colin', page='Home', song=None),\n",
       " Row(userId='30', firstName='Colin', page='NextSong', song='Gear Box'),\n",
       " Row(userId='30', firstName='Colin', page='Roll Advert', song=None),\n",
       " Row(userId='30', firstName='Colin', page='NextSong', song='In Liverpool'),\n",
       " Row(userId='30', firstName='Colin', page='NextSong', song='Work It Out'),\n",
       " Row(userId='30', firstName='Colin', page='NextSong', song='Timberwolves At New Jersey (Album Version)'),\n",
       " Row(userId='30', firstName='Colin', page='Home', song=None),\n",
       " Row(userId='30', firstName='Colin', page='NextSong', song='Great Escape'),\n",
       " Row(userId='30', firstName='Colin', page='NextSong', song='Drop The World'),\n",
       " Row(userId='30', firstName='Colin', page='NextSong', song='My Poor Old Heart'),\n",
       " Row(userId='30', firstName='Colin', page='NextSong', song='Hey! (A Lil Gratitude) (Album Version) ()'),\n",
       " Row(userId='30', firstName='Colin', page='Home', song=None),\n",
       " Row(userId='30', firstName='Colin', page='NextSong', song='Map Of The Problematique'),\n",
       " Row(userId='30', firstName='Colin', page='NextSong', song='Gente Que No'),\n",
       " Row(userId='30', firstName='Colin', page='NextSong', song='Half Of My Heart'),\n",
       " Row(userId='30', firstName='Colin', page='NextSong', song='All My Love'),\n",
       " Row(userId='30', firstName='Colin', page='NextSong', song='Dog Eat Dog'),\n",
       " Row(userId='30', firstName='Colin', page='Home', song=None),\n",
       " Row(userId='30', firstName='Colin', page='Home', song=None),\n",
       " Row(userId='30', firstName='Colin', page='Home', song=None),\n",
       " Row(userId='30', firstName='Colin', page='NextSong', song='The Laws Have Changed'),\n",
       " Row(userId='30', firstName='Colin', page='NextSong', song=\"She's My Baby\"),\n",
       " Row(userId='30', firstName='Colin', page='NextSong', song=\"Don't Give Up On Us\"),\n",
       " Row(userId='30', firstName='Colin', page='NextSong', song=\"What's Left of the Flag\"),\n",
       " Row(userId='30', firstName='Colin', page='NextSong', song='Why Do You Laugh At Me'),\n",
       " Row(userId='30', firstName='Colin', page='NextSong', song='Eskimo - Album Version (not as hidden track)'),\n",
       " Row(userId='30', firstName='Colin', page='Roll Advert', song=None),\n",
       " Row(userId='30', firstName='Colin', page='NextSong', song='A Beggar On A Beach Of Gold'),\n",
       " Row(userId='30', firstName='Colin', page='Upgrade', song=None),\n",
       " Row(userId='30', firstName='Colin', page='NextSong', song='Ragoo'),\n",
       " Row(userId='30', firstName='Colin', page='NextSong', song='Unreachable'),\n",
       " Row(userId='30', firstName='Colin', page='NextSong', song='Misunderstood'),\n",
       " Row(userId='30', firstName='Colin', page='NextSong', song='Seize The Day (Album Version)'),\n",
       " Row(userId='30', firstName='Colin', page='NextSong', song='All Over Again (Album Version)'),\n",
       " Row(userId='30', firstName='Colin', page='NextSong', song='Car (Album)'),\n",
       " Row(userId='30', firstName='Colin', page='NextSong', song=\"You're The One\"),\n",
       " Row(userId='30', firstName='Colin', page='NextSong', song='(You Drive Me) Crazy (The Stop Remix!)'),\n",
       " Row(userId='30', firstName='Colin', page='NextSong', song='The Battery'),\n",
       " Row(userId='30', firstName='Colin', page='NextSong', song='Ordinary Man'),\n",
       " Row(userId='30', firstName='Colin', page='NextSong', song=\"I CAN'T GET STARTED\"),\n",
       " Row(userId='30', firstName='Colin', page='Thumbs Up', song=None),\n",
       " Row(userId='30', firstName='Colin', page='NextSong', song='Corrido Al Torero'),\n",
       " Row(userId='30', firstName='Colin', page='NextSong', song='Dull Life'),\n",
       " Row(userId='30', firstName='Colin', page='NextSong', song='Aht Uh Mi Hed'),\n",
       " Row(userId='30', firstName='Colin', page='Roll Advert', song=None),\n",
       " Row(userId='30', firstName='Colin', page='Roll Advert', song=None),\n",
       " Row(userId='30', firstName='Colin', page='NextSong', song='Fisticuffs (LP Version)'),\n",
       " Row(userId='30', firstName='Colin', page='NextSong', song='More Than This'),\n",
       " Row(userId='30', firstName='Colin', page='NextSong', song='Baby I Want You'),\n",
       " Row(userId='30', firstName='Colin', page='NextSong', song='I Miss You'),\n",
       " Row(userId='30', firstName='Colin', page='Roll Advert', song=None),\n",
       " Row(userId='30', firstName='Colin', page='NextSong', song='Alejate De Mi'),\n",
       " Row(userId='30', firstName='Colin', page='NextSong', song='Crazy Bitch (Album Version)'),\n",
       " Row(userId='30', firstName='Colin', page='NextSong', song='Por segunda vez'),\n",
       " Row(userId='30', firstName='Colin', page='Thumbs Up', song=None),\n",
       " Row(userId='30', firstName='Colin', page='NextSong', song='Antibodies'),\n",
       " Row(userId='30', firstName='Colin', page='NextSong', song='Toxic Girl'),\n",
       " Row(userId='30', firstName='Colin', page='NextSong', song='Lowlands'),\n",
       " Row(userId='30', firstName='Colin', page='NextSong', song='Even Deeper'),\n",
       " Row(userId='30', firstName='Colin', page='Roll Advert', song=None),\n",
       " Row(userId='30', firstName='Colin', page='NextSong', song='I Second That Emotion'),\n",
       " Row(userId='30', firstName='Colin', page='NextSong', song='Scatman (Ski-Ba-Bop-Ba-Dop-Bop)'),\n",
       " Row(userId='30', firstName='Colin', page='NextSong', song='Countdown'),\n",
       " Row(userId='30', firstName='Colin', page='NextSong', song='Forever'),\n",
       " Row(userId='30', firstName='Colin', page='NextSong', song='Bootzilla'),\n",
       " Row(userId='30', firstName='Colin', page='Thumbs Up', song=None),\n",
       " Row(userId='30', firstName='Colin', page='NextSong', song=\"I'd Rather Fuck You (Explicit) (Feat. Eazy-E)\"),\n",
       " Row(userId='30', firstName='Colin', page='NextSong', song='New Generation'),\n",
       " Row(userId='30', firstName='Colin', page='NextSong', song='Follow You'),\n",
       " Row(userId='30', firstName='Colin', page='NextSong', song='Shine On (Album Version)'),\n",
       " Row(userId='30', firstName='Colin', page='NextSong', song='Venice Queen (Album Version)'),\n",
       " Row(userId='30', firstName='Colin', page='NextSong', song='Tear You Apart'),\n",
       " Row(userId='30', firstName='Colin', page='NextSong', song='Horn Concerto No. 4 in E flat K495: II. Romance (Andante cantabile)'),\n",
       " Row(userId='30', firstName='Colin', page='Thumbs Up', song=None),\n",
       " Row(userId='30', firstName='Colin', page='NextSong', song='Over Now'),\n",
       " Row(userId='30', firstName='Colin', page='Upgrade', song=None),\n",
       " Row(userId='30', firstName='Colin', page='NextSong', song='Superbeast'),\n",
       " Row(userId='30', firstName='Colin', page='Logout', song=None),\n",
       " Row(userId='30', firstName='Colin', page='Home', song=None),\n",
       " Row(userId='30', firstName='Colin', page='NextSong', song='Broke Up The Time'),\n",
       " Row(userId='30', firstName='Colin', page='Add to Playlist', song=None),\n",
       " Row(userId='30', firstName='Colin', page='NextSong', song='Roll Over Beethoven'),\n",
       " Row(userId='30', firstName='Colin', page='NextSong', song='Way Back Home'),\n",
       " Row(userId='30', firstName='Colin', page='NextSong', song='Back To Life (Album Version)'),\n",
       " Row(userId='30', firstName='Colin', page='NextSong', song='Strut (1993 Digital Remaster)'),\n",
       " Row(userId='30', firstName='Colin', page='NextSong', song='Super Inuit (Studio) [Bonus Track]'),\n",
       " Row(userId='30', firstName='Colin', page='NextSong', song='16 Candles'),\n",
       " Row(userId='30', firstName='Colin', page='NextSong', song='The Outlaw'),\n",
       " Row(userId='30', firstName='Colin', page='NextSong', song='Geek In The Pink [Phil Tan Remix]'),\n",
       " Row(userId='30', firstName='Colin', page='NextSong', song='The Chosen Legacy'),\n",
       " Row(userId='30', firstName='Colin', page='NextSong', song=\"Don't You Run With Him\"),\n",
       " Row(userId='30', firstName='Colin', page='Roll Advert', song=None),\n",
       " Row(userId='30', firstName='Colin', page='NextSong', song='Brianstorm'),\n",
       " Row(userId='30', firstName='Colin', page='NextSong', song='To Zion'),\n",
       " Row(userId='30', firstName='Colin', page='Home', song=None),\n",
       " Row(userId='30', firstName='Colin', page='NextSong', song='Lucy (Album Version)'),\n",
       " Row(userId='30', firstName='Colin', page='NextSong', song='What Goes Around...Comes Around'),\n",
       " Row(userId='30', firstName='Colin', page='NextSong', song='Bang On The Drum'),\n",
       " Row(userId='30', firstName='Colin', page='NextSong', song='Bill Sykes'),\n",
       " Row(userId='30', firstName='Colin', page='NextSong', song='Rhyme & Reason'),\n",
       " Row(userId='30', firstName='Colin', page='NextSong', song='Schifrin and Variations'),\n",
       " Row(userId='30', firstName='Colin', page='Thumbs Up', song=None),\n",
       " Row(userId='30', firstName='Colin', page='NextSong', song='Teach Me How To Dougie'),\n",
       " Row(userId='30', firstName='Colin', page='NextSong', song='We Deal In Dreams'),\n",
       " Row(userId='30', firstName='Colin', page='NextSong', song='Undo'),\n",
       " Row(userId='30', firstName='Colin', page='NextSong', song='Pushing Me Away (Album Version)'),\n",
       " Row(userId='30', firstName='Colin', page='Roll Advert', song=None),\n",
       " Row(userId='30', firstName='Colin', page='Logout', song=None),\n",
       " Row(userId='30', firstName='Colin', page='Home', song=None),\n",
       " Row(userId='30', firstName='Colin', page='NextSong', song='Trouble Dub - FAMS Mix'),\n",
       " Row(userId='30', firstName='Colin', page='NextSong', song='Electric Avenue'),\n",
       " Row(userId='30', firstName='Colin', page='NextSong', song=\"If I Ain't Got You\"),\n",
       " Row(userId='30', firstName='Colin', page='Roll Advert', song=None),\n",
       " Row(userId='30', firstName='Colin', page='Roll Advert', song=None),\n",
       " Row(userId='30', firstName='Colin', page='NextSong', song='Dream'),\n",
       " Row(userId='30', firstName='Colin', page='NextSong', song='Pak Dit Grej (1998 Digital Remaster)'),\n",
       " Row(userId='30', firstName='Colin', page='NextSong', song='My Moon My Man'),\n",
       " Row(userId='30', firstName='Colin', page='Thumbs Up', song=None),\n",
       " Row(userId='30', firstName='Colin', page='NextSong', song='Constellations'),\n",
       " Row(userId='30', firstName='Colin', page='NextSong', song='Kiss (LP Version)'),\n",
       " Row(userId='30', firstName='Colin', page='NextSong', song='Ven AquÃ\\x83Â\\xad'),\n",
       " Row(userId='30', firstName='Colin', page='NextSong', song='Christmas Journey'),\n",
       " Row(userId='30', firstName='Colin', page='NextSong', song='Little Fighter'),\n",
       " Row(userId='30', firstName='Colin', page='NextSong', song='Always Coming Back Home To You'),\n",
       " Row(userId='30', firstName='Colin', page='NextSong', song='Alarm!'),\n",
       " Row(userId='30', firstName='Colin', page='NextSong', song='Run'),\n",
       " Row(userId='30', firstName='Colin', page='NextSong', song='Do You Dream'),\n",
       " Row(userId='30', firstName='Colin', page='NextSong', song='The Only Exception (Album Version)'),\n",
       " Row(userId='30', firstName='Colin', page='Roll Advert', song=None),\n",
       " Row(userId='30', firstName='Colin', page='NextSong', song='Spiderwebs'),\n",
       " Row(userId='30', firstName='Colin', page='NextSong', song=\"Please Don't Go\"),\n",
       " Row(userId='30', firstName='Colin', page='Add to Playlist', song=None),\n",
       " Row(userId='30', firstName='Colin', page='NextSong', song='Pursuit Of Happiness (nightmare)'),\n",
       " Row(userId='30', firstName='Colin', page='NextSong', song=\"Breakin' Dishes\"),\n",
       " Row(userId='30', firstName='Colin', page='NextSong', song='Hall of Fame'),\n",
       " Row(userId='30', firstName='Colin', page='NextSong', song='Brothers'),\n",
       " Row(userId='30', firstName='Colin', page='NextSong', song='Hide & Seek'),\n",
       " Row(userId='30', firstName='Colin', page='Add to Playlist', song=None),\n",
       " Row(userId='30', firstName='Colin', page='NextSong', song=\"It's No Good (Single Version)\"),\n",
       " Row(userId='30', firstName='Colin', page='NextSong', song='Here We Are (Family In The Hallways)'),\n",
       " Row(userId='30', firstName='Colin', page='NextSong', song='Love Is Blue'),\n",
       " Row(userId='30', firstName='Colin', page='Thumbs Up', song=None),\n",
       " Row(userId='30', firstName='Colin', page='NextSong', song='Wounded'),\n",
       " Row(userId='30', firstName='Colin', page='NextSong', song='Selling The Drama'),\n",
       " Row(userId='30', firstName='Colin', page='NextSong', song='My Michelle'),\n",
       " Row(userId='30', firstName='Colin', page='Logout', song=None),\n",
       " Row(userId='30', firstName='Colin', page='Home', song=None),\n",
       " Row(userId='30', firstName='Colin', page='NextSong', song='Superstition'),\n",
       " Row(userId='30', firstName='Colin', page='NextSong', song='The Scientist'),\n",
       " Row(userId='30', firstName='Colin', page='Help', song=None),\n",
       " Row(userId='30', firstName='Colin', page='NextSong', song='Make Love To Your Mind'),\n",
       " Row(userId='30', firstName='Colin', page='NextSong', song='Art is Hard'),\n",
       " Row(userId='30', firstName='Colin', page='Home', song=None),\n",
       " Row(userId='30', firstName='Colin', page='Add Friend', song=None),\n",
       " Row(userId='30', firstName='Colin', page='Settings', song=None),\n",
       " Row(userId='30', firstName='Colin', page='Home', song=None),\n",
       " Row(userId='30', firstName='Colin', page='Logout', song=None),\n",
       " Row(userId='30', firstName='Colin', page='Home', song=None),\n",
       " Row(userId='30', firstName='Colin', page='NextSong', song='Silent Running'),\n",
       " Row(userId='30', firstName='Colin', page='NextSong', song='The Unforgiven II'),\n",
       " Row(userId='30', firstName='Colin', page='NextSong', song=\"Valjean's Soliloquy\"),\n",
       " Row(userId='30', firstName='Colin', page='NextSong', song='Tonight'),\n",
       " Row(userId='30', firstName='Colin', page='NextSong', song='Playing To Win (24-Bit Digitally Remastered 02)'),\n",
       " Row(userId='30', firstName='Colin', page='NextSong', song='El nazareno'),\n",
       " Row(userId='30', firstName='Colin', page='NextSong', song='Your Song'),\n",
       " Row(userId='30', firstName='Colin', page='NextSong', song='Thunderbird'),\n",
       " Row(userId='30', firstName='Colin', page='NextSong', song='Rayando el sol'),\n",
       " Row(userId='30', firstName='Colin', page='NextSong', song='Mama Your Boys Will Find A Home'),\n",
       " Row(userId='30', firstName='Colin', page='NextSong', song='Absolution: Of Flight and Failure'),\n",
       " Row(userId='30', firstName='Colin', page='NextSong', song='The Bones Of You'),\n",
       " Row(userId='30', firstName='Colin', page='NextSong', song='Kickstarts'),\n",
       " Row(userId='30', firstName='Colin', page='NextSong', song='Mrs. Robinson (LP Version)'),\n",
       " Row(userId='30', firstName='Colin', page='Add to Playlist', song=None),\n",
       " Row(userId='30', firstName='Colin', page='NextSong', song='Rain Is A Good Thing'),\n",
       " Row(userId='30', firstName='Colin', page='NextSong', song='Barco a Venus'),\n",
       " Row(userId='30', firstName='Colin', page='NextSong', song='Planet Caravan (Remastered LP Version)'),\n",
       " Row(userId='30', firstName='Colin', page='NextSong', song='I Melt With You'),\n",
       " Row(userId='30', firstName='Colin', page='NextSong', song='Failures Burden'),\n",
       " Row(userId='30', firstName='Colin', page='Roll Advert', song=None),\n",
       " Row(userId='30', firstName='Colin', page='NextSong', song='I Get It'),\n",
       " Row(userId='30', firstName='Colin', page='NextSong', song='Lie To Me'),\n",
       " Row(userId='30', firstName='Colin', page='Add to Playlist', song=None),\n",
       " Row(userId='30', firstName='Colin', page='NextSong', song=\"Sonny's Dream\"),\n",
       " Row(userId='30', firstName='Colin', page='Roll Advert', song=None),\n",
       " Row(userId='30', firstName='Colin', page='NextSong', song='Mandy'),\n",
       " Row(userId='30', firstName='Colin', page='Thumbs Down', song=None),\n",
       " Row(userId='30', firstName='Colin', page='NextSong', song='Still'),\n",
       " Row(userId='30', firstName='Colin', page='Roll Advert', song=None),\n",
       " Row(userId='30', firstName='Colin', page='NextSong', song='Future Says Run'),\n",
       " Row(userId='30', firstName='Colin', page='NextSong', song='Not So Usual (Eagles Ballroom Live Version)'),\n",
       " Row(userId='30', firstName='Colin', page='NextSong', song='Troublemaker'),\n",
       " Row(userId='30', firstName='Colin', page='Thumbs Up', song=None),\n",
       " Row(userId='30', firstName='Colin', page='NextSong', song=\"Our Lawyer Made Us Change The Name Of This Song So We Wouldn't Get Sued\"),\n",
       " Row(userId='30', firstName='Colin', page='NextSong', song='The Vanishing'),\n",
       " Row(userId='30', firstName='Colin', page='Home', song=None),\n",
       " Row(userId='30', firstName='Colin', page='NextSong', song='Forget Me'),\n",
       " Row(userId='30', firstName='Colin', page='NextSong', song='Wayfaring Stranger'),\n",
       " Row(userId='30', firstName='Colin', page='NextSong', song='The Runner'),\n",
       " Row(userId='30', firstName='Colin', page='NextSong', song='Harder To Breathe'),\n",
       " Row(userId='30', firstName='Colin', page='Thumbs Up', song=None),\n",
       " Row(userId='30', firstName='Colin', page='NextSong', song='Rain'),\n",
       " Row(userId='30', firstName='Colin', page='NextSong', song='Bon Voyage'),\n",
       " Row(userId='30', firstName='Colin', page='NextSong', song='Calm Down Dearest (Explicit)'),\n",
       " Row(userId='30', firstName='Colin', page='NextSong', song=\"What's Left of the Flag\"),\n",
       " Row(userId='30', firstName='Colin', page='NextSong', song='Enigma (Album Version)'),\n",
       " Row(userId='30', firstName='Colin', page='NextSong', song='Lay Me Down'),\n",
       " Row(userId='30', firstName='Colin', page='NextSong', song='I Repeat'),\n",
       " Row(userId='30', firstName='Colin', page='NextSong', song='Catch You Baby (Steve Pitron & Max Sanna Radio Edit)'),\n",
       " Row(userId='30', firstName='Colin', page='NextSong', song='Burgalveist'),\n",
       " Row(userId='30', firstName='Colin', page='NextSong', song=\"It's Time I Go (Jazz)\"),\n",
       " Row(userId='30', firstName='Colin', page='NextSong', song='COLORADOSUNRISE (Explicit Album Version)'),\n",
       " Row(userId='30', firstName='Colin', page='NextSong', song='Deseret'),\n",
       " Row(userId='30', firstName='Colin', page='NextSong', song='Pink'),\n",
       " Row(userId='30', firstName='Colin', page='Settings', song=None),\n",
       " Row(userId='30', firstName='Colin', page='NextSong', song='Ras Trent'),\n",
       " Row(userId='30', firstName='Colin', page='Roll Advert', song=None),\n",
       " Row(userId='30', firstName='Colin', page='NextSong', song=\"Help I'm Alive\"),\n",
       " Row(userId='30', firstName='Colin', page='NextSong', song=\"Prodigal Son (Harvey's A Star In Your Own Mind Mix)\"),\n",
       " Row(userId='30', firstName='Colin', page='NextSong', song='Rhinestone Eyes'),\n",
       " Row(userId='30', firstName='Colin', page='Add Friend', song=None),\n",
       " Row(userId='30', firstName='Colin', page='NextSong', song=\"When It's Over (Remastered Album Version)\"),\n",
       " Row(userId='30', firstName='Colin', page='NextSong', song='Punch Drunk Love'),\n",
       " Row(userId='30', firstName='Colin', page='NextSong', song=\"She's Got The Time\"),\n",
       " Row(userId='30', firstName='Colin', page='NextSong', song='The Strength To Go On'),\n",
       " Row(userId='30', firstName='Colin', page='NextSong', song='The Stakes Are High'),\n",
       " Row(userId='30', firstName='Colin', page='NextSong', song=\"Hustler's Prayer\"),\n",
       " Row(userId='30', firstName='Colin', page='NextSong', song='Fleur blanche'),\n",
       " Row(userId='30', firstName='Colin', page='Thumbs Down', song=None),\n",
       " Row(userId='30', firstName='Colin', page='NextSong', song='Live And Let Die'),\n",
       " Row(userId='30', firstName='Colin', page='NextSong', song='Fast As I Can'),\n",
       " Row(userId='30', firstName='Colin', page='NextSong', song='One In A Million'),\n",
       " Row(userId='30', firstName='Colin', page='NextSong', song='Book Of Brilliant Things (2002 Digital Remaster)'),\n",
       " Row(userId='30', firstName='Colin', page='NextSong', song='Glad All Over'),\n",
       " Row(userId='30', firstName='Colin', page='NextSong', song='Arma dispuesta'),\n",
       " Row(userId='30', firstName='Colin', page='NextSong', song='Heavyweight'),\n",
       " Row(userId='30', firstName='Colin', page='Roll Advert', song=None),\n",
       " Row(userId='30', firstName='Colin', page='NextSong', song='Deeply Disturbed'),\n",
       " Row(userId='30', firstName='Colin', page='NextSong', song='Signifying'),\n",
       " Row(userId='30', firstName='Colin', page='NextSong', song='Boy From School (Hot Chip Re-Work)'),\n",
       " Row(userId='30', firstName='Colin', page='Roll Advert', song=None),\n",
       " Row(userId='30', firstName='Colin', page='NextSong', song='Sehr kosmisch'),\n",
       " Row(userId='30', firstName='Colin', page='NextSong', song='Clocks'),\n",
       " Row(userId='30', firstName='Colin', page='Roll Advert', song=None),\n",
       " Row(userId='30', firstName='Colin', page='NextSong', song='Shut Up & Kiss Me'),\n",
       " Row(userId='30', firstName='Colin', page='NextSong', song='Use Somebody'),\n",
       " Row(userId='30', firstName='Colin', page='NextSong', song='Sparkover'),\n",
       " Row(userId='30', firstName='Colin', page='NextSong', song='Do You Feel Their Pain?'),\n",
       " Row(userId='30', firstName='Colin', page='NextSong', song='Back Against The Wall'),\n",
       " Row(userId='30', firstName='Colin', page='Home', song=None),\n",
       " Row(userId='30', firstName='Colin', page='NextSong', song='Lonely'),\n",
       " Row(userId='30', firstName='Colin', page='Roll Advert', song=None),\n",
       " Row(userId='30', firstName='Colin', page='NextSong', song='It Was A Good Day'),\n",
       " Row(userId='30', firstName='Colin', page='NextSong', song='Bliss'),\n",
       " Row(userId='30', firstName='Colin', page='NextSong', song='Marry Me'),\n",
       " Row(userId='30', firstName='Colin', page='Add to Playlist', song=None),\n",
       " Row(userId='30', firstName='Colin', page='NextSong', song='Paint The Town Red'),\n",
       " Row(userId='30', firstName='Colin', page='NextSong', song='Butterfly'),\n",
       " Row(userId='30', firstName='Colin', page='NextSong', song='The Breaking of the Dawn (LP Version)'),\n",
       " Row(userId='30', firstName='Colin', page='NextSong', song='Prenzlauerberg'),\n",
       " Row(userId='30', firstName='Colin', page='NextSong', song='Not Fair (Clean Radio Edit)'),\n",
       " Row(userId='30', firstName='Colin', page='Logout', song=None),\n",
       " Row(userId='30', firstName='Colin', page='Home', song=None),\n",
       " Row(userId='30', firstName='Colin', page='NextSong', song='Ribbons'),\n",
       " Row(userId='30', firstName='Colin', page='NextSong', song='Please Forgive Me'),\n",
       " Row(userId='30', firstName='Colin', page='NextSong', song='Kiss With A Fist'),\n",
       " Row(userId='30', firstName='Colin', page='NextSong', song='Surf Wax America'),\n",
       " Row(userId='30', firstName='Colin', page='NextSong', song='Smooth Sailing Remix'),\n",
       " Row(userId='30', firstName='Colin', page='Settings', song=None),\n",
       " Row(userId='30', firstName='Colin', page='NextSong', song='Hey Baby'),\n",
       " Row(userId='30', firstName='Colin', page='NextSong', song='Pump It'),\n",
       " Row(userId='30', firstName='Colin', page='Roll Advert', song=None),\n",
       " Row(userId='30', firstName='Colin', page='NextSong', song='Superballs'),\n",
       " Row(userId='30', firstName='Colin', page='NextSong', song='Away From Me'),\n",
       " Row(userId='30', firstName='Colin', page='NextSong', song='The shooting company of Captain Frans B.Cocq'),\n",
       " Row(userId='30', firstName='Colin', page='NextSong', song='Just'),\n",
       " Row(userId='30', firstName='Colin', page='NextSong', song='Le Soir'),\n",
       " Row(userId='30', firstName='Colin', page='Settings', song=None),\n",
       " Row(userId='30', firstName='Colin', page='NextSong', song='Thursday'),\n",
       " Row(userId='30', firstName='Colin', page='NextSong', song='Waiting For 22'),\n",
       " Row(userId='30', firstName='Colin', page='NextSong', song='C-Town'),\n",
       " Row(userId='30', firstName='Colin', page='NextSong', song='Never Again'),\n",
       " Row(userId='30', firstName='Colin', page='NextSong', song='I Love You'),\n",
       " Row(userId='30', firstName='Colin', page='NextSong', song='Appointment With Death'),\n",
       " Row(userId='30', firstName='Colin', page='NextSong', song='Even The Streets'),\n",
       " Row(userId='30', firstName='Colin', page='NextSong', song='Opis Helpus'),\n",
       " Row(userId='30', firstName='Colin', page='NextSong', song='Sehr kosmisch'),\n",
       " Row(userId='30', firstName='Colin', page='Roll Advert', song=None),\n",
       " Row(userId='30', firstName='Colin', page='NextSong', song='Nueve Y Quince (9:15)'),\n",
       " Row(userId='30', firstName='Colin', page='NextSong', song='Invocation: Attica Blues'),\n",
       " Row(userId='30', firstName='Colin', page='NextSong', song='Birds'),\n",
       " Row(userId='30', firstName='Colin', page='NextSong', song='Picture'),\n",
       " Row(userId='30', firstName='Colin', page='Thumbs Up', song=None),\n",
       " Row(userId='30', firstName='Colin', page='Add to Playlist', song=None),\n",
       " Row(userId='30', firstName='Colin', page='NextSong', song='Half Of My Heart'),\n",
       " Row(userId='30', firstName='Colin', page='NextSong', song='Catch You Baby (Steve Pitron & Max Sanna Radio Edit)'),\n",
       " Row(userId='30', firstName='Colin', page='NextSong', song='Gan Haedden (Edden)'),\n",
       " Row(userId='30', firstName='Colin', page='NextSong', song='Collide'),\n",
       " Row(userId='30', firstName='Colin', page='NextSong', song='Tan Solo (En Vivo)'),\n",
       " Row(userId='30', firstName='Colin', page='Logout', song=None),\n",
       " Row(userId='30', firstName='Colin', page='Home', song=None),\n",
       " Row(userId='30', firstName='Colin', page='NextSong', song=\"Everything's Gonna Be Alright\"),\n",
       " Row(userId='30', firstName='Colin', page='NextSong', song='The Happy Song'),\n",
       " Row(userId='30', firstName='Colin', page='NextSong', song='My Axe'),\n",
       " Row(userId='30', firstName='Colin', page='NextSong', song='Home Is Where (Scavenged Luxury EP)'),\n",
       " Row(userId='30', firstName='Colin', page='NextSong', song='The Scientist'),\n",
       " Row(userId='30', firstName='Colin', page='Roll Advert', song=None),\n",
       " Row(userId='30', firstName='Colin', page='NextSong', song='Deny Selected'),\n",
       " Row(userId='30', firstName='Colin', page='Roll Advert', song=None),\n",
       " Row(userId='30', firstName='Colin', page='NextSong', song='Late Nights'),\n",
       " Row(userId='30', firstName='Colin', page='NextSong', song='The Scientist'),\n",
       " Row(userId='30', firstName='Colin', page='NextSong', song='10%'),\n",
       " Row(userId='30', firstName='Colin', page='NextSong', song='Beds Are Burning'),\n",
       " Row(userId='30', firstName='Colin', page='NextSong', song='Relax'),\n",
       " Row(userId='30', firstName='Colin', page='NextSong', song='Revelry'),\n",
       " Row(userId='30', firstName='Colin', page='Upgrade', song=None),\n",
       " Row(userId='30', firstName='Colin', page='Add Friend', song=None),\n",
       " Row(userId='30', firstName='Colin', page='About', song=None),\n",
       " Row(userId='30', firstName='Colin', page='NextSong', song=\"Dancin' On The Killing Floor\"),\n",
       " Row(userId='30', firstName='Colin', page='NextSong', song='Undo'),\n",
       " Row(userId='30', firstName='Colin', page='NextSong', song='Te Hacen Falta Vitaminas'),\n",
       " Row(userId='30', firstName='Colin', page='Thumbs Up', song=None),\n",
       " Row(userId='30', firstName='Colin', page='NextSong', song='U Smile'),\n",
       " Row(userId='30', firstName='Colin', page='NextSong', song='Smile'),\n",
       " Row(userId='30', firstName='Colin', page='NextSong', song='Angels Fall First'),\n",
       " Row(userId='30', firstName='Colin', page='NextSong', song='Sehr kosmisch'),\n",
       " Row(userId='30', firstName='Colin', page='Home', song=None),\n",
       " Row(userId='30', firstName='Colin', page='NextSong', song='Meeting Daisy'),\n",
       " Row(userId='30', firstName='Colin', page='NextSong', song='El nazareno'),\n",
       " Row(userId='30', firstName='Colin', page='Thumbs Up', song=None),\n",
       " Row(userId='30', firstName='Colin', page='NextSong', song='Bat Country (Album Version)'),\n",
       " Row(userId='30', firstName='Colin', page='NextSong', song='Sinisten tÃ\\x83Â¤htien alla'),\n",
       " Row(userId='30', firstName='Colin', page='NextSong', song='Deadweight On Velveteen'),\n",
       " Row(userId='30', firstName='Colin', page='NextSong', song='Crank That (Soulja Boy)'),\n",
       " Row(userId='30', firstName='Colin', page='NextSong', song='Recado Falado (MetrÃ\\x83Â´ Da Saudade)'),\n",
       " Row(userId='30', firstName='Colin', page='NextSong', song=\"It's OK\"),\n",
       " Row(userId='30', firstName='Colin', page='NextSong', song=\"Can't Stop This\"),\n",
       " Row(userId='30', firstName='Colin', page='NextSong', song=\"You're The One\"),\n",
       " Row(userId='30', firstName='Colin', page='NextSong', song='DONTTRUSTME [BENNYBLANCOREMIX] FEATURINGKIDCUDI (Explicit Bonus Version)'),\n",
       " Row(userId='30', firstName='Colin', page='NextSong', song='The Grease Mega-Mix'),\n",
       " Row(userId='30', firstName='Colin', page='NextSong', song='Snuff'),\n",
       " Row(userId='30', firstName='Colin', page='NextSong', song='Runaway Love'),\n",
       " Row(userId='30', firstName='Colin', page='NextSong', song='Camera Talk'),\n",
       " Row(userId='30', firstName='Colin', page='NextSong', song='The Sicilian'),\n",
       " Row(userId='30', firstName='Colin', page='NextSong', song='Pursuit Of Happiness (nightmare)'),\n",
       " Row(userId='30', firstName='Colin', page='NextSong', song='Basbhat (Album Version)'),\n",
       " Row(userId='30', firstName='Colin', page='NextSong', song='The Pretender'),\n",
       " Row(userId='30', firstName='Colin', page='Roll Advert', song=None),\n",
       " Row(userId='30', firstName='Colin', page='Roll Advert', song=None),\n",
       " Row(userId='30', firstName='Colin', page='NextSong', song='Movement'),\n",
       " Row(userId='30', firstName='Colin', page='NextSong', song='Revelry'),\n",
       " Row(userId='30', firstName='Colin', page='NextSong', song='My Last Serenade'),\n",
       " Row(userId='30', firstName='Colin', page='NextSong', song='Her Alone'),\n",
       " Row(userId='30', firstName='Colin', page='NextSong', song='Diva'),\n",
       " Row(userId='30', firstName='Colin', page='Roll Advert', song=None),\n",
       " Row(userId='30', firstName='Colin', page='NextSong', song='Inhuman Creation Station'),\n",
       " Row(userId='30', firstName='Colin', page='NextSong', song='Monster (Alternate Radio Version)'),\n",
       " Row(userId='30', firstName='Colin', page='NextSong', song='The Game (Amended Version)'),\n",
       " Row(userId='30', firstName='Colin', page='NextSong', song='Keep It Simple'),\n",
       " Row(userId='30', firstName='Colin', page='NextSong', song='No Leaf Clover'),\n",
       " Row(userId='30', firstName='Colin', page='NextSong', song='Tramazi Parti'),\n",
       " Row(userId='30', firstName='Colin', page='NextSong', song='My Way (A Mi Manera) (Album Version)'),\n",
       " Row(userId='30', firstName='Colin', page='NextSong', song='Horrorbeach (Album Version)'),\n",
       " Row(userId='30', firstName='Colin', page='NextSong', song='Red Light Indicates Doors Are Secured'),\n",
       " Row(userId='30', firstName='Colin', page='NextSong', song='Girl'),\n",
       " Row(userId='30', firstName='Colin', page='Upgrade', song=None),\n",
       " Row(userId='30', firstName='Colin', page='NextSong', song=\"Don't Worry Be Happy\"),\n",
       " Row(userId='30', firstName='Colin', page='NextSong', song='Splash'),\n",
       " Row(userId='30', firstName='Colin', page='NextSong', song='Missing You'),\n",
       " Row(userId='30', firstName='Colin', page='NextSong', song='Goodbye Is All We Have'),\n",
       " Row(userId='30', firstName='Colin', page='NextSong', song='Raunioilla'),\n",
       " Row(userId='30', firstName='Colin', page='NextSong', song='Time/Breathe [Reprise] (Album Version)'),\n",
       " Row(userId='30', firstName='Colin', page='NextSong', song='Magic Mountain'),\n",
       " Row(userId='30', firstName='Colin', page='NextSong', song='Take The Box'),\n",
       " Row(userId='30', firstName='Colin', page='NextSong', song=\"O Ouranos Pano Ap' ton Grammo\"),\n",
       " Row(userId='30', firstName='Colin', page='Add to Playlist', song=None),\n",
       " Row(userId='30', firstName='Colin', page='NextSong', song=\"Boys Don't Cry\"),\n",
       " Row(userId='30', firstName='Colin', page='Thumbs Down', song=None),\n",
       " Row(userId='30', firstName='Colin', page='NextSong', song='Precious Memories (LP Version)'),\n",
       " Row(userId='30', firstName='Colin', page='Thumbs Up', song=None),\n",
       " Row(userId='30', firstName='Colin', page='NextSong', song='Path'),\n",
       " Row(userId='30', firstName='Colin', page='NextSong', song='The Scientist'),\n",
       " Row(userId='30', firstName='Colin', page='Logout', song=None),\n",
       " Row(userId='30', firstName='Colin', page='Home', song=None),\n",
       " Row(userId='30', firstName='Colin', page='NextSong', song='Rock Star'),\n",
       " Row(userId='30', firstName='Colin', page='NextSong', song='Palm Reader'),\n",
       " Row(userId='30', firstName='Colin', page='NextSong', song='Para Bellum'),\n",
       " Row(userId='30', firstName='Colin', page='NextSong', song=\"Maggie's Farm\"),\n",
       " Row(userId='30', firstName='Colin', page='NextSong', song='Four Winds'),\n",
       " Row(userId='30', firstName='Colin', page='Roll Advert', song=None),\n",
       " Row(userId='30', firstName='Colin', page='NextSong', song='Fight'),\n",
       " Row(userId='30', firstName='Colin', page='Roll Advert', song=None),\n",
       " Row(userId='30', firstName='Colin', page='NextSong', song='Things She Said'),\n",
       " Row(userId='30', firstName='Colin', page='NextSong', song='Sehr kosmisch'),\n",
       " Row(userId='30', firstName='Colin', page='NextSong', song='Sin Coro'),\n",
       " Row(userId='30', firstName='Colin', page='NextSong', song='Not In Love'),\n",
       " Row(userId='30', firstName='Colin', page='NextSong', song='Miserable Lie'),\n",
       " Row(userId='30', firstName='Colin', page='NextSong', song='Scooby Snacks (Explicit)'),\n",
       " Row(userId='30', firstName='Colin', page='NextSong', song='Him'),\n",
       " Row(userId='30', firstName='Colin', page='NextSong', song='Diary'),\n",
       " Row(userId='30', firstName='Colin', page='NextSong', song='Opening Up (Ce Soir On Danse)'),\n",
       " Row(userId='30', firstName='Colin', page='NextSong', song='Guiding Light'),\n",
       " Row(userId='30', firstName='Colin', page='NextSong', song='La Guerra'),\n",
       " Row(userId='30', firstName='Colin', page='NextSong', song='Oh Girl'),\n",
       " Row(userId='30', firstName='Colin', page='NextSong', song=\"Bottle Poppin' (feat. Gorilla Zoe) (Explicit Album Version)\"),\n",
       " Row(userId='30', firstName='Colin', page='Roll Advert', song=None),\n",
       " Row(userId='30', firstName='Colin', page='NextSong', song='Einfeld'),\n",
       " Row(userId='30', firstName='Colin', page='Logout', song=None),\n",
       " Row(userId='30', firstName='Colin', page='Home', song=None),\n",
       " Row(userId='30', firstName='Colin', page='NextSong', song=\"I'm With You\"),\n",
       " Row(userId='30', firstName='Colin', page='Settings', song=None),\n",
       " Row(userId='30', firstName='Colin', page='NextSong', song='Machine Gun Man'),\n",
       " Row(userId='30', firstName='Colin', page='NextSong', song='I Want It All'),\n",
       " Row(userId='30', firstName='Colin', page='NextSong', song='Straight To The Bank'),\n",
       " Row(userId='30', firstName='Colin', page='NextSong', song='Rock On'),\n",
       " Row(userId='30', firstName='Colin', page='NextSong', song='This Is All I Ask (Live)'),\n",
       " Row(userId='30', firstName='Colin', page='NextSong', song='Woman Tonight'),\n",
       " Row(userId='30', firstName='Colin', page='NextSong', song='Dialogue'),\n",
       " Row(userId='30', firstName='Colin', page='NextSong', song='No Child Of Mine'),\n",
       " Row(userId='30', firstName='Colin', page='Upgrade', song=None),\n",
       " Row(userId='30', firstName='Colin', page='Upgrade', song=None),\n",
       " Row(userId='30', firstName='Colin', page='NextSong', song='This Is Not America (performed by Juliette Lewis)'),\n",
       " Row(userId='30', firstName='Colin', page='Thumbs Up', song=None),\n",
       " Row(userId='30', firstName='Colin', page='NextSong', song=\"Where's Rexy?\"),\n",
       " Row(userId='30', firstName='Colin', page='Roll Advert', song=None),\n",
       " Row(userId='30', firstName='Colin', page='NextSong', song='Canal Song (End Of Sentence)'),\n",
       " Row(userId='30', firstName='Colin', page='NextSong', song=\"Witchdoctor's Curse\"),\n",
       " Row(userId='30', firstName='Colin', page='Help', song=None),\n",
       " Row(userId='30', firstName='Colin', page='Home', song=None),\n",
       " Row(userId='30', firstName='Colin', page='NextSong', song='Something (Album Version)'),\n",
       " Row(userId='30', firstName='Colin', page='NextSong', song='Will I See You Again'),\n",
       " Row(userId='30', firstName='Colin', page='NextSong', song='Two Hands (Plastic Soul Impalement Album Version)'),\n",
       " Row(userId='30', firstName='Colin', page='NextSong', song='Cut The Rope'),\n",
       " Row(userId='30', firstName='Colin', page='NextSong', song='A Comet Appears (Album)'),\n",
       " Row(userId='30', firstName='Colin', page='Thumbs Up', song=None),\n",
       " Row(userId='30', firstName='Colin', page='NextSong', song='The Power Of One'),\n",
       " Row(userId='30', firstName='Colin', page='Roll Advert', song=None),\n",
       " Row(userId='30', firstName='Colin', page='NextSong', song='Being Alive'),\n",
       " Row(userId='30', firstName='Colin', page='NextSong', song='Technologic ( Basement Jaxx Kontrol Mixx )'),\n",
       " Row(userId='30', firstName='Colin', page='Add Friend', song=None),\n",
       " Row(userId='30', firstName='Colin', page='NextSong', song='Back To You'),\n",
       " Row(userId='30', firstName='Colin', page='NextSong', song='Ironic (Acoustic Album Version)'),\n",
       " Row(userId='30', firstName='Colin', page='Add to Playlist', song=None),\n",
       " Row(userId='30', firstName='Colin', page='NextSong', song='All I Ever Wanted'),\n",
       " Row(userId='30', firstName='Colin', page='NextSong', song='Better in time'),\n",
       " Row(userId='30', firstName='Colin', page='Roll Advert', song=None),\n",
       " Row(userId='30', firstName='Colin', page='NextSong', song='One Above One'),\n",
       " Row(userId='30', firstName='Colin', page='NextSong', song='Crank That (Soulja Boy)'),\n",
       " Row(userId='30', firstName='Colin', page='NextSong', song='Du Hast'),\n",
       " Row(userId='30', firstName='Colin', page='NextSong', song='Confetti Smile (AO Album Version)'),\n",
       " Row(userId='30', firstName='Colin', page='NextSong', song='Vem Pra CÃ\\x83Â¡'),\n",
       " Row(userId='30', firstName='Colin', page='NextSong', song='True Stories'),\n",
       " Row(userId='30', firstName='Colin', page='NextSong', song='Dr. Feelgood'),\n",
       " Row(userId='30', firstName='Colin', page='NextSong', song='The Writer'),\n",
       " Row(userId='30', firstName='Colin', page='NextSong', song='Ass Fucking Murder'),\n",
       " Row(userId='30', firstName='Colin', page='Home', song=None),\n",
       " Row(userId='30', firstName='Colin', page='NextSong', song=\"All Tomorrow's Parties\"),\n",
       " Row(userId='30', firstName='Colin', page='NextSong', song='Ocean Avenue'),\n",
       " Row(userId='30', firstName='Colin', page='NextSong', song='Venus'),\n",
       " Row(userId='30', firstName='Colin', page='Thumbs Up', song=None),\n",
       " Row(userId='30', firstName='Colin', page='Add to Playlist', song=None),\n",
       " Row(userId='30', firstName='Colin', page='NextSong', song='Learn To Fly'),\n",
       " Row(userId='30', firstName='Colin', page='NextSong', song='Touchy! (Album Version)'),\n",
       " Row(userId='30', firstName='Colin', page='NextSong', song='Jude Law and a Semester Abroad'),\n",
       " Row(userId='30', firstName='Colin', page='NextSong', song='Dream On'),\n",
       " Row(userId='30', firstName='Colin', page='NextSong', song='Half Asleep'),\n",
       " Row(userId='30', firstName='Colin', page='NextSong', song='MatinÃ\\x83Â©e'),\n",
       " Row(userId='30', firstName='Colin', page='NextSong', song='Mysterious Ways'),\n",
       " Row(userId='30', firstName='Colin', page='NextSong', song='Peaceful'),\n",
       " Row(userId='30', firstName='Colin', page='NextSong', song='Otherside (Album Version)'),\n",
       " Row(userId='30', firstName='Colin', page='NextSong', song='Bad Little Woman (LP Version)'),\n",
       " Row(userId='30', firstName='Colin', page='NextSong', song='Superman'),\n",
       " Row(userId='30', firstName='Colin', page='NextSong', song='Intro 2/ Kick Out The Jams (LP Version)'),\n",
       " Row(userId='30', firstName='Colin', page='NextSong', song='Dance Flow'),\n",
       " Row(userId='30', firstName='Colin', page='NextSong', song='Hey Now Now'),\n",
       " Row(userId='30', firstName='Colin', page='NextSong', song='Save The Last Dance For Me [Ralphi Rosario Anthomic Vocal]'),\n",
       " Row(userId='30', firstName='Colin', page='Thumbs Up', song=None),\n",
       " Row(userId='30', firstName='Colin', page='NextSong', song='MÃ\\x83Â¡s Papaya'),\n",
       " Row(userId='30', firstName='Colin', page='NextSong', song='Dialogue Box'),\n",
       " Row(userId='30', firstName='Colin', page='NextSong', song='The Ex'),\n",
       " Row(userId='30', firstName='Colin', page='NextSong', song='Crack Under Pressure'),\n",
       " Row(userId='30', firstName='Colin', page='Add to Playlist', song=None),\n",
       " Row(userId='30', firstName='Colin', page='NextSong', song='Odessa'),\n",
       " Row(userId='30', firstName='Colin', page='NextSong', song='Addicted'),\n",
       " Row(userId='30', firstName='Colin', page='NextSong', song='DVNO'),\n",
       " Row(userId='30', firstName='Colin', page='NextSong', song='Bad Luck'),\n",
       " Row(userId='30', firstName='Colin', page='NextSong', song=\"Rupi's Dance\"),\n",
       " Row(userId='30', firstName='Colin', page='Home', song=None),\n",
       " Row(userId='30', firstName='Colin', page='NextSong', song='Horn Concerto No. 4 in E flat K495: II. Romance (Andante cantabile)'),\n",
       " Row(userId='30', firstName='Colin', page='NextSong', song='Safety Dance'),\n",
       " Row(userId='30', firstName='Colin', page='NextSong', song=\"Build God_ Then We'll Talk (Album Version)\"),\n",
       " Row(userId='30', firstName='Colin', page='NextSong', song='ReprÃ\\x83Â©sente'),\n",
       " Row(userId='30', firstName='Colin', page='NextSong', song=\"I CAN'T GET STARTED\"),\n",
       " Row(userId='30', firstName='Colin', page='NextSong', song='What A Wonderful World'),\n",
       " Row(userId='30', firstName='Colin', page='NextSong', song='Not Like That (Album Version)'),\n",
       " Row(userId='30', firstName='Colin', page='NextSong', song='So far so long'),\n",
       " Row(userId='30', firstName='Colin', page='NextSong', song='En El Septimo Dia'),\n",
       " Row(userId='30', firstName='Colin', page='NextSong', song='Let Down'),\n",
       " Row(userId='30', firstName='Colin', page='NextSong', song='Pon De Floor'),\n",
       " Row(userId='30', firstName='Colin', page='Upgrade', song=None),\n",
       " Row(userId='30', firstName='Colin', page='NextSong', song='Hotel'),\n",
       " Row(userId='30', firstName='Colin', page='Roll Advert', song=None),\n",
       " Row(userId='30', firstName='Colin', page='NextSong', song='Gestern_Morgen'),\n",
       " Row(userId='30', firstName='Colin', page='NextSong', song='Show'),\n",
       " Row(userId='30', firstName='Colin', page='NextSong', song='Jasey Rae'),\n",
       " Row(userId='30', firstName='Colin', page='Home', song=None),\n",
       " Row(userId='30', firstName='Colin', page='Add Friend', song=None),\n",
       " Row(userId='30', firstName='Colin', page='Add Friend', song=None),\n",
       " Row(userId='30', firstName='Colin', page='NextSong', song='Sooner or Later'),\n",
       " Row(userId='30', firstName='Colin', page='NextSong', song='Good Soldier'),\n",
       " Row(userId='30', firstName='Colin', page='Home', song=None),\n",
       " Row(userId='30', firstName='Colin', page='NextSong', song='Soul Suckers'),\n",
       " Row(userId='30', firstName='Colin', page='Add to Playlist', song=None),\n",
       " Row(userId='30', firstName='Colin', page='NextSong', song='Seed (Album Version)'),\n",
       " Row(userId='30', firstName='Colin', page='NextSong', song=\"Day 'N' Nite\"),\n",
       " Row(userId='30', firstName='Colin', page='NextSong', song='Climbing A Hill'),\n",
       " Row(userId='30', firstName='Colin', page='Home', song=None),\n",
       " Row(userId='30', firstName='Colin', page='NextSong', song='Ode To My Family'),\n",
       " Row(userId='30', firstName='Colin', page='NextSong', song='Live And Let Die'),\n",
       " Row(userId='30', firstName='Colin', page='NextSong', song=\"Livin' On A Prayer\"),\n",
       " Row(userId='30', firstName='Colin', page='NextSong', song='Good Morning Little School Girl'),\n",
       " Row(userId='30', firstName='Colin', page='NextSong', song=\"Stayin' Alive\"),\n",
       " Row(userId='30', firstName='Colin', page='NextSong', song='Two As One'),\n",
       " Row(userId='30', firstName='Colin', page='Add Friend', song=None),\n",
       " Row(userId='30', firstName='Colin', page='NextSong', song='Big Uncle Ugliness'),\n",
       " Row(userId='30', firstName='Colin', page='NextSong', song='Prelude'),\n",
       " Row(userId='30', firstName='Colin', page='Upgrade', song=None),\n",
       " Row(userId='30', firstName='Colin', page='NextSong', song='Transparency'),\n",
       " Row(userId='30', firstName='Colin', page='Roll Advert', song=None),\n",
       " Row(userId='30', firstName='Colin', page='NextSong', song='Behind Closed Doors'),\n",
       " Row(userId='30', firstName='Colin', page='NextSong', song='Sample Track 2'),\n",
       " Row(userId='30', firstName='Colin', page='Roll Advert', song=None),\n",
       " Row(userId='30', firstName='Colin', page='NextSong', song='La Lluvia Gris'),\n",
       " Row(userId='30', firstName='Colin', page='NextSong', song='Stream'),\n",
       " Row(userId='30', firstName='Colin', page='Logout', song=None),\n",
       " Row(userId='30', firstName='Colin', page='Home', song=None),\n",
       " Row(userId='30', firstName='Colin', page='NextSong', song='Three Simple Words'),\n",
       " Row(userId='30', firstName='Colin', page='NextSong', song='Fortunate Son (Live)'),\n",
       " Row(userId='30', firstName='Colin', page='NextSong', song='Yeah!'),\n",
       " Row(userId='30', firstName='Colin', page='NextSong', song='Mamma'),\n",
       " Row(userId='30', firstName='Colin', page='NextSong', song='Venice Industry'),\n",
       " Row(userId='30', firstName='Colin', page='NextSong', song='Nah!'),\n",
       " Row(userId='30', firstName='Colin', page='Thumbs Down', song=None),\n",
       " Row(userId='30', firstName='Colin', page='NextSong', song='ReprÃ\\x83Â©sente'),\n",
       " Row(userId='30', firstName='Colin', page='NextSong', song='Jiguen'),\n",
       " Row(userId='30', firstName='Colin', page='NextSong', song='Ba Ba'),\n",
       " Row(userId='30', firstName='Colin', page='NextSong', song='Superballs'),\n",
       " Row(userId='30', firstName='Colin', page='NextSong', song='Horn Concerto No. 4 in E flat K495: II. Romance (Andante cantabile)'),\n",
       " Row(userId='30', firstName='Colin', page='Add to Playlist', song=None),\n",
       " Row(userId='30', firstName='Colin', page='NextSong', song=\"You're The One\"),\n",
       " Row(userId='30', firstName='Colin', page='NextSong', song='Heartbeats'),\n",
       " Row(userId='30', firstName='Colin', page='NextSong', song='Otherside (Album Version)'),\n",
       " Row(userId='30', firstName='Colin', page='NextSong', song='Rio'),\n",
       " Row(userId='30', firstName='Colin', page='Roll Advert', song=None),\n",
       " Row(userId='30', firstName='Colin', page='NextSong', song='Plush (LP Version)'),\n",
       " Row(userId='30', firstName='Colin', page='NextSong', song='First Of The Gang'),\n",
       " Row(userId='30', firstName='Colin', page='NextSong', song='Me And Armini'),\n",
       " Row(userId='30', firstName='Colin', page='NextSong', song='Traveller'),\n",
       " Row(userId='30', firstName='Colin', page='NextSong', song='Sweet Carrie'),\n",
       " Row(userId='30', firstName='Colin', page='Thumbs Up', song=None),\n",
       " Row(userId='30', firstName='Colin', page='NextSong', song='Sick_ Sick_ Sick'),\n",
       " Row(userId='30', firstName='Colin', page='NextSong', song='The Blast'),\n",
       " Row(userId='30', firstName='Colin', page='NextSong', song='Beautiful Stranger'),\n",
       " Row(userId='30', firstName='Colin', page='NextSong', song='No Milk Today'),\n",
       " Row(userId='30', firstName='Colin', page='NextSong', song='Repression Song'),\n",
       " Row(userId='30', firstName='Colin', page='NextSong', song='Non E_ Per Te_ Per Me'),\n",
       " Row(userId='30', firstName='Colin', page='NextSong', song=\"What's The Difference\"),\n",
       " Row(userId='30', firstName='Colin', page='NextSong', song='Restless'),\n",
       " Row(userId='30', firstName='Colin', page='NextSong', song='Horn Concerto No. 4 in E flat K495: II. Romance (Andante cantabile)'),\n",
       " Row(userId='30', firstName='Colin', page='NextSong', song='Teardrop'),\n",
       " Row(userId='30', firstName='Colin', page='NextSong', song='Seven'),\n",
       " Row(userId='30', firstName='Colin', page='NextSong', song='Gone In The Morning'),\n",
       " Row(userId='30', firstName='Colin', page='NextSong', song='Baby_ This Love I Have'),\n",
       " Row(userId='30', firstName='Colin', page='NextSong', song='Me Da Miedo'),\n",
       " Row(userId='30', firstName='Colin', page='NextSong', song='I Can See Clearly Now'),\n",
       " Row(userId='30', firstName='Colin', page='NextSong', song='Nemo'),\n",
       " Row(userId='30', firstName='Colin', page='NextSong', song='Choctaw Hayride'),\n",
       " Row(userId='30', firstName='Colin', page='NextSong', song='The Real Slim Shady'),\n",
       " Row(userId='30', firstName='Colin', page='NextSong', song='Silence'),\n",
       " Row(userId='30', firstName='Colin', page='NextSong', song='Snake'),\n",
       " Row(userId='30', firstName='Colin', page='About', song=None),\n",
       " Row(userId='30', firstName='Colin', page='NextSong', song='Your Hand In Mine'),\n",
       " Row(userId='30', firstName='Colin', page='Logout', song=None),\n",
       " Row(userId='30', firstName='Colin', page='Home', song=None),\n",
       " Row(userId='30', firstName='Colin', page='NextSong', song='Marry Me'),\n",
       " Row(userId='30', firstName='Colin', page='Thumbs Up', song=None),\n",
       " Row(userId='30', firstName='Colin', page='NextSong', song='Undo'),\n",
       " Row(userId='30', firstName='Colin', page='Upgrade', song=None),\n",
       " Row(userId='30', firstName='Colin', page='NextSong', song='Use Somebody'),\n",
       " Row(userId='30', firstName='Colin', page='NextSong', song=\"Can't You See\"),\n",
       " Row(userId='30', firstName='Colin', page='NextSong', song='Skinny Love'),\n",
       " Row(userId='30', firstName='Colin', page='NextSong', song='All We Ever Do Is Say Goodbye'),\n",
       " Row(userId='30', firstName='Colin', page='NextSong', song='Amanecer'),\n",
       " Row(userId='30', firstName='Colin', page='Roll Advert', song=None),\n",
       " Row(userId='30', firstName='Colin', page='NextSong', song='Starry Night'),\n",
       " Row(userId='30', firstName='Colin', page='NextSong', song='Unwell (Album Version)'),\n",
       " Row(userId='30', firstName='Colin', page='NextSong', song='West One (Shine On Me)'),\n",
       " Row(userId='30', firstName='Colin', page='Roll Advert', song=None),\n",
       " Row(userId='30', firstName='Colin', page='NextSong', song='Ironic (Acoustic Album Version)'),\n",
       " Row(userId='30', firstName='Colin', page='NextSong', song=\"You've Got The Love\"),\n",
       " Row(userId='30', firstName='Colin', page='Roll Advert', song=None),\n",
       " Row(userId='30', firstName='Colin', page='NextSong', song='Innocence'),\n",
       " Row(userId='30', firstName='Colin', page='NextSong', song='Las flores'),\n",
       " Row(userId='30', firstName='Colin', page='NextSong', song='Longhaired Redneck'),\n",
       " Row(userId='30', firstName='Colin', page='Home', song=None),\n",
       " Row(userId='30', firstName='Colin', page='NextSong', song=\"Don't Come Around Here No More\"),\n",
       " Row(userId='30', firstName='Colin', page='NextSong', song='Love Story'),\n",
       " Row(userId='30', firstName='Colin', page='Roll Advert', song=None),\n",
       " Row(userId='30', firstName='Colin', page='NextSong', song='The Message'),\n",
       " Row(userId='30', firstName='Colin', page='NextSong', song='Beautiful Stranger'),\n",
       " Row(userId='30', firstName='Colin', page='NextSong', song='White Noise'),\n",
       " Row(userId='30', firstName='Colin', page='NextSong', song='Home'),\n",
       " Row(userId='30', firstName='Colin', page='NextSong', song='Cry Baby'),\n",
       " Row(userId='30', firstName='Colin', page='NextSong', song='Vals fÃ\\x83Â¶r satan (din vÃ\\x83Â¤n pessimisten)'),\n",
       " Row(userId='30', firstName='Colin', page='NextSong', song='If She Wants Me'),\n",
       " Row(userId='30', firstName='Colin', page='NextSong', song='Behind The Sea [Live In Chicago]'),\n",
       " Row(userId='30', firstName='Colin', page='NextSong', song='Complex Person'),\n",
       " Row(userId='30', firstName='Colin', page='NextSong', song='Better'),\n",
       " Row(userId='30', firstName='Colin', page='NextSong', song='Hallelujah (Album Version)'),\n",
       " Row(userId='30', firstName='Colin', page='NextSong', song='You Girl'),\n",
       " Row(userId='30', firstName='Colin', page='NextSong', song='No BalanÃ\\x83Â§o Da Canoa'),\n",
       " Row(userId='30', firstName='Colin', page='Add to Playlist', song=None),\n",
       " Row(userId='30', firstName='Colin', page='NextSong', song='The Drive System (Demo)'),\n",
       " Row(userId='30', firstName='Colin', page='NextSong', song='Kick It Up'),\n",
       " Row(userId='30', firstName='Colin', page='NextSong', song='Bombtrack'),\n",
       " Row(userId='30', firstName='Colin', page='Home', song=None),\n",
       " Row(userId='30', firstName='Colin', page='Add Friend', song=None),\n",
       " Row(userId='30', firstName='Colin', page='NextSong', song=\"I'm With You\"),\n",
       " Row(userId='30', firstName='Colin', page='Thumbs Up', song=None),\n",
       " Row(userId='30', firstName='Colin', page='NextSong', song='Pills'),\n",
       " Row(userId='30', firstName='Colin', page='NextSong', song='The Seed (2.0)'),\n",
       " Row(userId='30', firstName='Colin', page='NextSong', song='The Count (aka HervÃ\\x83Â©) And Lily Face The Fear'),\n",
       " Row(userId='30', firstName='Colin', page='Thumbs Up', song=None),\n",
       " Row(userId='30', firstName='Colin', page='NextSong', song=\"Don't Dream It's Over\"),\n",
       " Row(userId='30', firstName='Colin', page='NextSong', song='The Alliance Of Hellhoundz'),\n",
       " Row(userId='30', firstName='Colin', page='NextSong', song='What If I Stumble?'),\n",
       " Row(userId='30', firstName='Colin', page='NextSong', song=\"I'll Be There For You\"),\n",
       " Row(userId='30', firstName='Colin', page='NextSong', song='Somebody To Love'),\n",
       " Row(userId='30', firstName='Colin', page='NextSong', song='Use Somebody'),\n",
       " Row(userId='30', firstName='Colin', page='NextSong', song='Too Much To Ask'),\n",
       " Row(userId='30', firstName='Colin', page='Add to Playlist', song=None),\n",
       " Row(userId='30', firstName='Colin', page='NextSong', song='Gears'),\n",
       " Row(userId='30', firstName='Colin', page='NextSong', song='Dog Days Are Over (Radio Edit)'),\n",
       " Row(userId='30', firstName='Colin', page='NextSong', song=\"Dreamin'\"),\n",
       " Row(userId='30', firstName='Colin', page='NextSong', song='Inside The Fire (Album Version)'),\n",
       " Row(userId='30', firstName='Colin', page='Roll Advert', song=None),\n",
       " Row(userId='30', firstName='Colin', page='Roll Advert', song=None),\n",
       " Row(userId='30', firstName='Colin', page='NextSong', song='Fakty'),\n",
       " Row(userId='30', firstName='Colin', page='NextSong', song='Jambalaya'),\n",
       " Row(userId='30', firstName='Colin', page='Upgrade', song=None),\n",
       " Row(userId='30', firstName='Colin', page='NextSong', song='The Shadowlands'),\n",
       " Row(userId='30', firstName='Colin', page='Logout', song=None),\n",
       " Row(userId='30', firstName='Colin', page='Home', song=None),\n",
       " Row(userId='30', firstName='Colin', page='NextSong', song='The Invisible Man'),\n",
       " Row(userId='30', firstName='Colin', page='NextSong', song='Firecracker'),\n",
       " Row(userId='30', firstName='Colin', page='NextSong', song='Bleed It Out [Live At Milton Keynes]'),\n",
       " Row(userId='30', firstName='Colin', page='NextSong', song='Miralo'),\n",
       " Row(userId='30', firstName='Colin', page='NextSong', song='ReprÃ\\x83Â©sente'),\n",
       " Row(userId='30', firstName='Colin', page='NextSong', song='Silencio'),\n",
       " Row(userId='30', firstName='Colin', page='Roll Advert', song=None),\n",
       " Row(userId='30', firstName='Colin', page='NextSong', song='Momma Cried'),\n",
       " Row(userId='30', firstName='Colin', page='Roll Advert', song=None),\n",
       " Row(userId='30', firstName='Colin', page='NextSong', song='La Vida Es Un Ratico'),\n",
       " Row(userId='30', firstName='Colin', page='Thumbs Down', song=None),\n",
       " Row(userId='30', firstName='Colin', page='NextSong', song='Cape Cod Kwassa Kwassa (Album)'),\n",
       " Row(userId='30', firstName='Colin', page='NextSong', song='Write You A Song'),\n",
       " Row(userId='30', firstName='Colin', page='NextSong', song='Elijah'),\n",
       " Row(userId='30', firstName='Colin', page='NextSong', song='Fireflies'),\n",
       " Row(userId='30', firstName='Colin', page='Thumbs Up', song=None),\n",
       " Row(userId='30', firstName='Colin', page='NextSong', song=\"You Don't Have Far To Go\"),\n",
       " Row(userId='30', firstName='Colin', page='NextSong', song='One by One'),\n",
       " Row(userId='30', firstName='Colin', page='NextSong', song='Wasted'),\n",
       " Row(userId='30', firstName='Colin', page='NextSong', song='Me Voy'),\n",
       " Row(userId='30', firstName='Colin', page='NextSong', song='Dear God (Album Version)'),\n",
       " Row(userId='30', firstName='Colin', page='NextSong', song='Die Hard'),\n",
       " Row(userId='30', firstName='Colin', page='Thumbs Up', song=None),\n",
       " Row(userId='30', firstName='Colin', page='NextSong', song='When The Stars Go Blue (Featuring Bono) (Disclab Remix)'),\n",
       " Row(userId='30', firstName='Colin', page='NextSong', song='What Can I Give You This Christmas?'),\n",
       " ...]"
      ]
     },
     "execution_count": 14,
     "metadata": {},
     "output_type": "execute_result"
    }
   ],
   "source": [
    "# Looking at the events of userId 30\n",
    "user_log.select([\"userId\", \"firstName\", \"page\", \"song\"]).filter(user_log.userId == \"30\").collect()"
   ]
  },
  {
   "cell_type": "markdown",
   "metadata": {},
   "source": [
    "As users use different pages of the application, their page request are logged"
   ]
  },
  {
   "cell_type": "markdown",
   "metadata": {},
   "source": [
    "# Calculating Statistics by Hour\n",
    "How many songs do users listen to in a given hour?"
   ]
  },
  {
   "cell_type": "code",
   "execution_count": 15,
   "metadata": {},
   "outputs": [],
   "source": [
    "# songs_in_hour = user_log_valid.filter((user_log_valid.page == \"NextSong\") & (user_log_valid.churn_user == 0)).groupby(user_log_valid.hour).count().orderBy(user_log_valid.hour.cast(\"float\"))\n",
    "# songs_in_hour_pd = songs_in_hour.toPandas()"
   ]
  },
  {
   "cell_type": "code",
   "execution_count": 16,
   "metadata": {},
   "outputs": [],
   "source": [
    "# Converting timestamps to datetime from epoch time, to get the hour of the day\n",
    "get_hour = udf(lambda x: datetime.datetime.fromtimestamp(x / 1000.0).hour)"
   ]
  },
  {
   "cell_type": "code",
   "execution_count": 17,
   "metadata": {},
   "outputs": [],
   "source": [
    "# Adding a new column called hour to our dataframe\n",
    "user_log = user_log.withColumn(\"hour\", get_hour(user_log.ts))"
   ]
  },
  {
   "cell_type": "code",
   "execution_count": 18,
   "metadata": {},
   "outputs": [
    {
     "name": "stdout",
     "output_type": "stream",
     "text": [
      "+----+\n",
      "|hour|\n",
      "+----+\n",
      "|   0|\n",
      "|   1|\n",
      "|  10|\n",
      "|  11|\n",
      "|  12|\n",
      "|  13|\n",
      "|  14|\n",
      "|  15|\n",
      "|  16|\n",
      "|  17|\n",
      "|  18|\n",
      "|  19|\n",
      "|   2|\n",
      "|  20|\n",
      "|  21|\n",
      "|  22|\n",
      "|  23|\n",
      "|   3|\n",
      "|   4|\n",
      "|   5|\n",
      "+----+\n",
      "only showing top 20 rows\n",
      "\n"
     ]
    }
   ],
   "source": [
    "user_log.select(\"hour\").dropDuplicates().sort(\"hour\").show() "
   ]
  },
  {
   "cell_type": "code",
   "execution_count": 19,
   "metadata": {},
   "outputs": [],
   "source": [
    "get_hour = udf(lambda x: datetime.datetime.fromtimestamp(x / 1000.0))"
   ]
  },
  {
   "cell_type": "code",
   "execution_count": 20,
   "metadata": {},
   "outputs": [],
   "source": [
    "user_log = user_log.withColumn('start_time', get_hour(user_log.ts).cast(TimestampType()))"
   ]
  },
  {
   "cell_type": "code",
   "execution_count": 21,
   "metadata": {},
   "outputs": [
    {
     "name": "stdout",
     "output_type": "stream",
     "text": [
      "+----------+\n",
      "|start_time|\n",
      "+----------+\n",
      "|      null|\n",
      "+----------+\n",
      "\n"
     ]
    }
   ],
   "source": [
    "user_log.select(\"start_time\").dropDuplicates().sort(\"start_time\").show() "
   ]
  },
  {
   "cell_type": "code",
   "execution_count": 22,
   "metadata": {},
   "outputs": [],
   "source": [
    "get_hour = udf(lambda x: datetime.datetime.fromtimestamp(x / 1000.0).hour)"
   ]
  },
  {
   "cell_type": "code",
   "execution_count": 23,
   "metadata": {},
   "outputs": [],
   "source": [
    "user_log = user_log.withColumn('start_time', get_hour('ts').cast(TimestampType()))"
   ]
  },
  {
   "cell_type": "code",
   "execution_count": 24,
   "metadata": {},
   "outputs": [
    {
     "name": "stdout",
     "output_type": "stream",
     "text": [
      "+----------+\n",
      "|start_time|\n",
      "+----------+\n",
      "|      null|\n",
      "+----------+\n",
      "\n"
     ]
    }
   ],
   "source": [
    "user_log.select(\"start_time\").dropDuplicates().sort(\"start_time\").show() "
   ]
  },
  {
   "cell_type": "code",
   "execution_count": 25,
   "metadata": {},
   "outputs": [],
   "source": [
    "user_log = user_log.withColumn('date_again', from_unixtime('ts').cast(DateType()))"
   ]
  },
  {
   "cell_type": "code",
   "execution_count": 26,
   "metadata": {},
   "outputs": [
    {
     "name": "stdout",
     "output_type": "stream",
     "text": [
      "+----------+\n",
      "|start_time|\n",
      "+----------+\n",
      "|      null|\n",
      "+----------+\n",
      "\n"
     ]
    }
   ],
   "source": [
    "user_log.select(\"start_time\").dropDuplicates().sort(\"start_time\").show() "
   ]
  },
  {
   "cell_type": "markdown",
   "metadata": {},
   "source": [
    "Colin was listening to Martha Tilston at 12am"
   ]
  },
  {
   "cell_type": "code",
   "execution_count": null,
   "metadata": {},
   "outputs": [],
   "source": [
    "# # Counting the next song page requests\n",
    "# songs_in_hour = user_log.filter(user_log.page == \"NextSong\").groupby(user_log.hour).count().orderBy(user_log.hour.cast(\"float\"))"
   ]
  },
  {
   "cell_type": "code",
   "execution_count": null,
   "metadata": {
    "scrolled": true
   },
   "outputs": [],
   "source": [
    "# songs_in_hour.show()"
   ]
  },
  {
   "cell_type": "code",
   "execution_count": null,
   "metadata": {
    "scrolled": true
   },
   "outputs": [],
   "source": [
    "# songs_in_hour_pd = songs_in_hour.toPandas()\n",
    "# plt.scatter(songs_in_hour_pd[\"hour\"], songs_in_hour_pd[\"count\"])\n",
    "# plt.xlim(-1, 24)\n",
    "# # plt.ylim(0, 1.2 * max(songs_in_hour_pd[\"count\"]))\n",
    "# plt.xlabel(\"Hour\")\n",
    "# plt.ylabel(\"Songs Played\");"
   ]
  },
  {
   "cell_type": "markdown",
   "metadata": {},
   "source": [
    "We can see some trends in how many songs our users played in different hours of the day"
   ]
  },
  {
   "cell_type": "markdown",
   "metadata": {},
   "source": [
    "# Drop Rows with Missing Values\n",
    "Dropping missing values, making sure that we have the userId and SessionId for all the records"
   ]
  },
  {
   "cell_type": "code",
   "execution_count": null,
   "metadata": {},
   "outputs": [],
   "source": [
    "# Dropping missing values\n",
    "user_log_valid = user_log.dropna(how=\"any\", subset=[\"userId\", \"sessionId\"])"
   ]
  },
  {
   "cell_type": "code",
   "execution_count": null,
   "metadata": {
    "scrolled": false
   },
   "outputs": [],
   "source": [
    "# Making sure that we have the userId and SessionId for all the records\n",
    "user_log.select(\"userId\").dropDuplicates().sort(\"userId\").show()"
   ]
  },
  {
   "cell_type": "markdown",
   "metadata": {},
   "source": [
    "There are not None values but there are users with no userId"
   ]
  },
  {
   "cell_type": "code",
   "execution_count": null,
   "metadata": {},
   "outputs": [],
   "source": [
    "# Looking at logs of users with no userId\n",
    "user_log.select([\"userId\", \"firstName\", \"page\", \"song\"]).filter(user_log.userId == \"\").collect()"
   ]
  },
  {
   "cell_type": "code",
   "execution_count": null,
   "metadata": {},
   "outputs": [],
   "source": [
    "# filter for users with blank user id\n",
    "blank_pages = user_log.filter(user_log.userId == '') \\\n",
    "    .select(col('page') \\\n",
    "    .alias('blank_pages')) \\\n",
    "    .dropDuplicates()\n",
    "\n",
    "blank_pages.collect()"
   ]
  },
  {
   "cell_type": "markdown",
   "metadata": {},
   "source": [
    "It seems that the user's with no id represent users who have not signed up yet or who are signed out and are about to log in.\n",
    "It may also represents users who got an error while registrating or loging in."
   ]
  },
  {
   "cell_type": "code",
   "execution_count": null,
   "metadata": {},
   "outputs": [],
   "source": [
    "user_log_valid = user_log_valid.filter(user_log_valid[\"userId\"] != \"\")"
   ]
  },
  {
   "cell_type": "code",
   "execution_count": null,
   "metadata": {},
   "outputs": [],
   "source": [
    "user_log_valid.count()"
   ]
  },
  {
   "cell_type": "markdown",
   "metadata": {},
   "source": [
    "We lost 8346 records. "
   ]
  },
  {
   "cell_type": "code",
   "execution_count": null,
   "metadata": {},
   "outputs": [],
   "source": [
    "print(\"We lost {} records\".format(user_log.count() - user_log_valid.count()))"
   ]
  },
  {
   "cell_type": "code",
   "execution_count": null,
   "metadata": {},
   "outputs": [],
   "source": [
    "female_users = user_log_valid.filter(user_log_valid.gender == 'F') \\\n",
    "    .select('userId', 'gender') \\\n",
    "    .dropDuplicates() \\\n",
    "    .count()\n",
    "\n",
    "male_users = user_log_valid.filter(user_log_valid.gender == 'M') \\\n",
    "    .select('userId', 'gender') \\\n",
    "    .dropDuplicates() \\\n",
    "    .count()"
   ]
  },
  {
   "cell_type": "code",
   "execution_count": null,
   "metadata": {},
   "outputs": [],
   "source": [
    "print(\"We have {} female users and {} male users\".format(female_users, male_users))"
   ]
  },
  {
   "cell_type": "markdown",
   "metadata": {},
   "source": [
    "How many songs were played from the most played artist?"
   ]
  },
  {
   "cell_type": "code",
   "execution_count": null,
   "metadata": {},
   "outputs": [],
   "source": [
    "user_log_valid.filter(user_log_valid.page == 'NextSong') \\\n",
    "    .select('Artist') \\\n",
    "    .groupBy('Artist') \\\n",
    "    .agg({'Artist':'count'}) \\\n",
    "    .withColumnRenamed('count(Artist)', 'Artistcount') \\\n",
    "    .sort(desc('Artistcount')) \\\n",
    "    .show(1)"
   ]
  },
  {
   "cell_type": "markdown",
   "metadata": {},
   "source": [
    "# Users Downgrade Their Accounts\n",
    "We want to distinguish user's activity before and after they downgraded their account from a paid one to a free one."
   ]
  },
  {
   "cell_type": "code",
   "execution_count": null,
   "metadata": {
    "scrolled": true
   },
   "outputs": [],
   "source": [
    "# Users who downgraded their service\n",
    "user_log_valid.filter(\"page = 'Submit Downgrade'\").show()"
   ]
  },
  {
   "cell_type": "code",
   "execution_count": null,
   "metadata": {
    "scrolled": true
   },
   "outputs": [],
   "source": [
    "# Listing the activity of user 61 who downgraded their service\n",
    "user_log.select([\"userId\", \"firstname\", \"page\", \"level\", \"song\"]).filter(user_log.userId == \"61\").collect()"
   ]
  },
  {
   "cell_type": "markdown",
   "metadata": {},
   "source": [
    "After user 61 submited the downgrade she became a free user."
   ]
  },
  {
   "cell_type": "markdown",
   "metadata": {},
   "source": [
    "We want to create a phase column which divides the events of a particular user based on these special events. User inventory should have a different value in the phase column before and after she downgraded her service."
   ]
  },
  {
   "cell_type": "code",
   "execution_count": null,
   "metadata": {},
   "outputs": [],
   "source": [
    "# Flaging log entries when users downgrade their accounts\n",
    "# The value here will be 1 if the event refers to a downgrade, and zero other wise\n",
    "flag_downgrade_event = udf(lambda x: 1 if x == \"Submit Downgrade\" else 0, IntegerType())\n",
    "user_log_valid = user_log_valid.withColumn(\"downgraded\", flag_downgrade_event(\"page\"))"
   ]
  },
  {
   "cell_type": "code",
   "execution_count": null,
   "metadata": {},
   "outputs": [],
   "source": [
    "user_log_valid.head()"
   ]
  },
  {
   "cell_type": "markdown",
   "metadata": {},
   "source": [
    "The column downgraded appeared last"
   ]
  },
  {
   "cell_type": "code",
   "execution_count": null,
   "metadata": {},
   "outputs": [],
   "source": [
    "# Sorting records for a particular user in reverse time order, and adding up the values to distinguish each user's data \n",
    "# as either pre or post downgrade events\n",
    "windowval = Window.partitionBy(\"userId\").orderBy(desc(\"ts\")).rangeBetween(Window.unboundedPreceding, 0)\n",
    "# Creating a phase column that uses the window function and cumulative sum\n",
    "user_log_valid = user_log_valid.withColumn(\"phase\", Fsum(\"downgraded\").over(windowval))"
   ]
  },
  {
   "cell_type": "code",
   "execution_count": null,
   "metadata": {},
   "outputs": [],
   "source": [
    "user_log_valid.select([\"userId\", \"firstname\", \"ts\", \"page\", \"level\", \"phase\"]).filter(user_log.userId == \"30\").sort(\"ts\").collect()"
   ]
  },
  {
   "cell_type": "markdown",
   "metadata": {},
   "source": [
    "Looking at the records, all the events before the downgrade event belong to phase one and after they submit downgrade, we switched to phase zero. If we have more than one phase we will see the phase values decreasing from n to zero."
   ]
  },
  {
   "cell_type": "code",
   "execution_count": null,
   "metadata": {},
   "outputs": [],
   "source": [
    "user_log_valid.select(\"phase\").dropDuplicates().sort(\"phase\").show()"
   ]
  },
  {
   "cell_type": "markdown",
   "metadata": {},
   "source": [
    "# Exploratory Data Analysis\n",
    "When you're working with the full dataset, perform EDA by loading a small subset of the data and doing basic manipulations within Spark. In this workspace, you are already provided a small subset of data you can explore.\n",
    "\n",
    "### Define Churn\n",
    "\n",
    "Once you've done some preliminary analysis, create a column `Churn` to use as the label for your model. I suggest using the `Cancellation Confirmation` events to define your churn, which happen for both paid and free users. As a bonus task, you can also look into the `Downgrade` events.\n",
    "\n",
    "### Explore Data\n",
    "Once you've defined churn, perform some exploratory data analysis to observe the behavior for users who stayed vs users who churned. You can start by exploring aggregates on these two groups of users, observing how much of a specific action they experienced per a certain time unit or number of songs played."
   ]
  },
  {
   "cell_type": "markdown",
   "metadata": {},
   "source": [
    "We want to create a Churn column which divides the users who have confirm a cancellation to use as the label of the model."
   ]
  },
  {
   "cell_type": "code",
   "execution_count": null,
   "metadata": {},
   "outputs": [],
   "source": [
    "# Adding a new column called Churn to our dataframe\n",
    "# The value here will be 1 if the user cancelled, and zero other wise\n",
    "\n",
    "flag_downgrade_event = udf(lambda x: 1 if x == \"Cancellation Confirmation\" else 0, IntegerType())\n",
    "user_log_valid = user_log_valid.withColumn(\"Churn\", flag_downgrade_event(\"page\"))"
   ]
  },
  {
   "cell_type": "code",
   "execution_count": null,
   "metadata": {},
   "outputs": [],
   "source": [
    "# # create churn user column\n",
    "user_log_valid = user_log_valid.withColumn('churn_user', Fmax(\n",
    "    'Churn').over(Window.partitionBy('userId')))"
   ]
  },
  {
   "cell_type": "code",
   "execution_count": null,
   "metadata": {},
   "outputs": [],
   "source": [
    "user_log_valid.groupBy('churn_user').count().show()"
   ]
  },
  {
   "cell_type": "code",
   "execution_count": null,
   "metadata": {},
   "outputs": [],
   "source": [
    "user_log_valid.head()"
   ]
  },
  {
   "cell_type": "markdown",
   "metadata": {},
   "source": [
    "Aggregates, how much of a specific action they experienced per a certain time unit\n",
    "+--------------------+\n",
    "|                page|\n",
    "+--------------------+\n",
    "|          Add Friend|\n",
    "|     Add to Playlist|\n",
    "|               Error|\n",
    "|                Help|\n",
    "|               Login|\n",
    "|              Logout|\n",
    "|            NextSong|\n",
    "|            Register|\n",
    "|         Roll Advert|\n",
    "|       Save Settings|\n",
    "|            Settings|\n",
    "|         Thumbs Down|\n",
    "|           Thumbs Up|\n",
    "+--------------------+\n",
    "\n",
    " |-- artist: string (nullable = true)\n",
    " |-- auth: string (nullable = true)\n",
    " |-- firstName: string (nullable = true)\n",
    " |-- gender: string (nullable = true)\n",
    " |-- itemInSession: long (nullable = true)\n",
    " |-- lastName: string (nullable = true)\n",
    " |-- length: double (nullable = true)\n",
    " |-- level: string (nullable = true)\n",
    " |-- location: string (nullable = true)\n",
    " |-- method: string (nullable = true)\n",
    " |-- page: string (nullable = true)\n",
    " |-- registration: long (nullable = true)\n",
    " |-- sessionId: long (nullable = true)\n",
    " |-- song: string (nullable = true)\n",
    " |-- status: long (nullable = true)\n",
    " |-- ts: long (nullable = true)\n",
    " |-- userAgent: string (nullable = true)\n",
    " |-- userId: string (nullable = true)\n"
   ]
  },
  {
   "cell_type": "code",
   "execution_count": null,
   "metadata": {},
   "outputs": [],
   "source": [
    "user_log = user_log.withColumn(\"hour\", get_hour(user_log.ts))"
   ]
  },
  {
   "cell_type": "code",
   "execution_count": null,
   "metadata": {},
   "outputs": [],
   "source": [
    "get_hour = udf(lambda x: datetime.datetime.fromtimestamp(x / 1000.0).hour)\n",
    "df = user_log.withColumn('start_time', get_hour(user_log.ts).cast(TimestampType()))\n",
    "# extract columns to create time table\n",
    "time_table = df.select('start_time')\n",
    "time_table = time_table.withColumn('hour', hour('start_time'))\n",
    "time_table = time_table.withColumn('day', dayofmonth('start_time'))\n",
    "time_table = time_table.withColumn('week', weekofyear('start_time'))\n",
    "time_table = time_table.withColumn('month', month('start_time'))\n",
    "time_table = time_table.withColumn('year', year('start_time'))\n",
    "time_table = time_table.withColumn('weekday', dayofweek('start_time'))\n",
    "time_table.head(5)"
   ]
  },
  {
   "cell_type": "code",
   "execution_count": null,
   "metadata": {},
   "outputs": [],
   "source": [
    "hour, dayofmonth, weekofyear, month, year, dayofweek"
   ]
  },
  {
   "cell_type": "code",
   "execution_count": null,
   "metadata": {},
   "outputs": [],
   "source": [
    "# Counting the next song page requests\n",
    "songs_in_hour = user_log_valid.filter((user_log_valid.page == \"NextSong\") & (user_log_valid.churn_user == 0)).groupby(user_log_valid.hour).count().orderBy(user_log_valid.hour.cast(\"float\"))\n",
    "songs_in_hour_pd = songs_in_hour.toPandas()\n",
    "plt.scatter(songs_in_hour_pd[\"hour\"], songs_in_hour_pd[\"count\"])\n",
    "plt.xlim(-1, 24)\n",
    "# plt.ylim(0, 1.2 * max(songs_in_hour_pd[\"count\"]))\n",
    "plt.xlabel(\"Hour\")\n",
    "plt.ylabel(\"Songs Played\");"
   ]
  },
  {
   "cell_type": "code",
   "execution_count": null,
   "metadata": {},
   "outputs": [],
   "source": [
    "# Counting the next song page requests\n",
    "songs_in_hour = user_log_valid.filter((user_log_valid.page == \"NextSong\") & (user_log_valid.churn_user == 1)).groupby(user_log_valid.hour).count().orderBy(user_log_valid.hour.cast(\"float\"))\n",
    "songs_in_hour_pd = songs_in_hour.toPandas()\n",
    "plt.scatter(songs_in_hour_pd[\"hour\"], songs_in_hour_pd[\"count\"])\n",
    "plt.xlim(-1, 24)\n",
    "# plt.ylim(0, 1.2 * max(songs_in_hour_pd[\"count\"]))\n",
    "plt.xlabel(\"Hour\")\n",
    "plt.ylabel(\"Songs Played\");"
   ]
  },
  {
   "cell_type": "markdown",
   "metadata": {},
   "source": [
    "We can see some trends in how many songs our users played in different hours of the day"
   ]
  },
  {
   "cell_type": "code",
   "execution_count": null,
   "metadata": {},
   "outputs": [],
   "source": [
    "# # Counting the help page requests\n",
    "# help_in_hour = user_log_valid.filter((user_log_valid.page == \"Help\") & (user_log_valid.churn_user == 0)).groupby(user_log_valid.hour).count().orderBy(user_log_valid.hour.cast(\"float\"))\n",
    "# help_in_hour_pd = help_in_hour.toPandas()\n",
    "# plt.scatter(help_in_hour_pd[\"hour\"], help_in_hour_pd[\"count\"])\n",
    "# plt.xlim(-1, 24)\n",
    "# # plt.ylim(0, 1.2 * max(songs_in_hour_pd[\"count\"]))\n",
    "# plt.xlabel(\"Hour\")\n",
    "# plt.ylabel(\"Helps Requested\");"
   ]
  },
  {
   "cell_type": "code",
   "execution_count": null,
   "metadata": {},
   "outputs": [],
   "source": [
    "# # Counting the help page requests\n",
    "# help_in_hour_chrun = user_log_valid.filter((user_log_valid.page == \"Help\") & (user_log_valid.churn_user == 1)).groupby(user_log_valid.hour).count().orderBy(user_log_valid.hour.cast(\"float\"))\n",
    "# help_in_hour_churn_pd = help_in_hour_chrun.toPandas()\n",
    "# plt.scatter(help_in_hour_churn_pd[\"hour\"], help_in_hour_churn_pd[\"count\"])\n",
    "# plt.xlim(-1, 24)\n",
    "# # plt.ylim(0, 1.2 * max(songs_in_hour_pd[\"count\"]))\n",
    "# plt.xlabel(\"Hour\")\n",
    "# plt.ylabel(\"Helps Requested\");"
   ]
  },
  {
   "cell_type": "code",
   "execution_count": null,
   "metadata": {},
   "outputs": [],
   "source": [
    "# # Counting the regsitration page requests\n",
    "# register_in_hour = user_log_valid.filter((user_log_valid.page == \"Error\") & (user_log_valid.churn_user == 0)).groupby(user_log_valid.hour).count().orderBy(user_log_valid.hour.cast(\"float\"))\n",
    "# register_in_hour_pd = register_in_hour.toPandas()\n",
    "# register_in_hour_pd"
   ]
  },
  {
   "cell_type": "code",
   "execution_count": null,
   "metadata": {},
   "outputs": [],
   "source": [
    "# login log out per day"
   ]
  },
  {
   "cell_type": "code",
   "execution_count": null,
   "metadata": {},
   "outputs": [],
   "source": [
    "# Ratio of thumbs down over thumbs up\n",
    "user_log_valid.filter((user_log_valid.churn_user == 0) & ((user_log_valid.page == 'Thumbs Up') | (user_log_valid.page == 'Thumbs Down'))).groupby(\"page\").count().show()"
   ]
  },
  {
   "cell_type": "code",
   "execution_count": null,
   "metadata": {},
   "outputs": [],
   "source": [
    "# Ratio of thumbs down over thumbs up\n",
    "user_log_valid.filter((user_log_valid.churn_user == 1) & ((user_log_valid.page == 'Thumbs Up') | (user_log_valid.page == 'Thumbs Down'))).groupby(\"page\").count().show()"
   ]
  },
  {
   "cell_type": "code",
   "execution_count": null,
   "metadata": {},
   "outputs": [],
   "source": [
    "# avg count of each page visit from the total pages visited\n",
    "user_log_valid.filter(user_log_valid.churn_user == 0).groupby(\"page\").agg({'page':'count'}).show()"
   ]
  },
  {
   "cell_type": "code",
   "execution_count": null,
   "metadata": {},
   "outputs": [],
   "source": [
    "# avg count of each page visit from the total pages visited\n",
    "user_log_valid.filter(user_log_valid.churn_user == 1).groupby(\"page\").agg({'page':'count'}).show()"
   ]
  },
  {
   "cell_type": "code",
   "execution_count": null,
   "metadata": {},
   "outputs": [],
   "source": [
    "# Aggregates, number of songs"
   ]
  },
  {
   "cell_type": "code",
   "execution_count": null,
   "metadata": {
    "scrolled": true
   },
   "outputs": [],
   "source": [
    "# How many songs do notChurn users listen to on average between visiting our home page? \n",
    "function = udf(lambda ishome : int(ishome == 'Home'), IntegerType())\n",
    "\n",
    "user_window = Window \\\n",
    "    .partitionBy('userID') \\\n",
    "    .orderBy(desc('ts')) \\\n",
    "    .rangeBetween(Window.unboundedPreceding, 0)\n",
    "\n",
    "cusum = user_log_valid.filter((user_log_valid.page == 'NextSong') | (user_log_valid.page == 'Home')) \\\n",
    "    .select('userID', 'page', 'ts') \\\n",
    "    .withColumn('homevisit', function(col('page'))) \\\n",
    "    .withColumn('period', Fsum('homevisit').over(user_window))\n",
    "\n",
    "cusum.filter((cusum.page == 'NextSong')) \\\n",
    "    .filter(user_log_valid.churn_user == 0) \\\n",
    "    .groupBy('userID', 'period') \\\n",
    "    .agg({'period':'count'}) \\\n",
    "    .agg({'count(period)':'avg'}).show()"
   ]
  },
  {
   "cell_type": "code",
   "execution_count": null,
   "metadata": {},
   "outputs": [],
   "source": [
    "# How many songs do Churn users listen to on average between visiting our home page? \n",
    "cusum.filter((cusum.page == 'NextSong')) \\\n",
    "    .filter(user_log_valid.churn_user == 1) \\\n",
    "    .groupBy('userID', 'period') \\\n",
    "    .agg({'period':'count'}) \\\n",
    "    .agg({'count(period)':'avg'}).show()"
   ]
  },
  {
   "cell_type": "code",
   "execution_count": null,
   "metadata": {},
   "outputs": [],
   "source": [
    "user_log_valid.head(1)"
   ]
  },
  {
   "cell_type": "markdown",
   "metadata": {},
   "source": [
    "# Feature Engineering\n",
    "Once you've familiarized yourself with the data, build out the features you find promising to train your model on. To work with the full dataset, you can follow the following steps.\n",
    "- Write a script to extract the necessary features from the smaller subset of data\n",
    "- Ensure that your script is scalable, using the best practices discussed in Lesson 3\n",
    "- Try your script on the full data set, debugging your script if necessary\n",
    "\n",
    "If you are working in the classroom workspace, you can just extract features based on the small subset of data contained here. Be sure to transfer over this work to the larger dataset when you work on your Spark cluster."
   ]
  },
  {
   "cell_type": "code",
   "execution_count": null,
   "metadata": {},
   "outputs": [],
   "source": []
  },
  {
   "cell_type": "markdown",
   "metadata": {},
   "source": [
    "# Modeling\n",
    "Split the full dataset into train, test, and validation sets. Test out several of the machine learning methods you learned. Evaluate the accuracy of the various models, tuning parameters as necessary. Determine your winning model based on test accuracy and report results on the validation set. Since the churned users are a fairly small subset, I suggest using F1 score as the metric to optimize."
   ]
  },
  {
   "cell_type": "code",
   "execution_count": null,
   "metadata": {},
   "outputs": [],
   "source": []
  },
  {
   "cell_type": "markdown",
   "metadata": {},
   "source": [
    "# Final Steps\n",
    "Clean up your code, adding comments and renaming variables to make the code easier to read and maintain. Refer to the Spark Project Overview page and Data Scientist Capstone Project Rubric to make sure you are including all components of the capstone project and meet all expectations. Remember, this includes thorough documentation in a README file in a Github repository, as well as a web app or blog post."
   ]
  },
  {
   "cell_type": "code",
   "execution_count": null,
   "metadata": {},
   "outputs": [],
   "source": []
  }
 ],
 "metadata": {
  "kernelspec": {
   "display_name": "Python 3",
   "language": "python",
   "name": "python3"
  },
  "language_info": {
   "codemirror_mode": {
    "name": "ipython",
    "version": 3
   },
   "file_extension": ".py",
   "mimetype": "text/x-python",
   "name": "python",
   "nbconvert_exporter": "python",
   "pygments_lexer": "ipython3",
   "version": "3.6.3"
  }
 },
 "nbformat": 4,
 "nbformat_minor": 2
}
