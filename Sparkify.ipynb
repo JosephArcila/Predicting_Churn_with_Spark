{
 "cells": [
  {
   "cell_type": "markdown",
   "metadata": {},
   "source": [
    "# Data Wrangling with Spark\n",
    "This workspace contains a tiny subset (128MB) of the full dataset available (12GB) to explore a smaller subset with Spark before deploying your cluster on the cloud. The dataset describes log events comming from a music streaming service. The records describe events such as logging in to the site, visiting a page, listening to the next song, seeing an ad."
   ]
  },
  {
   "cell_type": "code",
   "execution_count": 5,
   "metadata": {
    "scrolled": true
   },
   "outputs": [
    {
     "name": "stdout",
     "output_type": "stream",
     "text": [
      "Requirement already up-to-date: matplotlib in /opt/conda/lib/python3.6/site-packages (3.3.4)\r\n",
      "Requirement already satisfied, skipping upgrade: pillow>=6.2.0 in /opt/conda/lib/python3.6/site-packages (from matplotlib) (8.4.0)\r\n",
      "Requirement already satisfied, skipping upgrade: kiwisolver>=1.0.1 in /opt/conda/lib/python3.6/site-packages (from matplotlib) (1.3.1)\r\n",
      "Requirement already satisfied, skipping upgrade: numpy>=1.15 in /opt/conda/lib/python3.6/site-packages (from matplotlib) (1.19.5)\r\n",
      "Requirement already satisfied, skipping upgrade: python-dateutil>=2.1 in /opt/conda/lib/python3.6/site-packages (from matplotlib) (2.6.1)\r\n",
      "Requirement already satisfied, skipping upgrade: pyparsing!=2.0.4,!=2.1.2,!=2.1.6,>=2.0.3 in /opt/conda/lib/python3.6/site-packages (from matplotlib) (2.2.0)\r\n",
      "Requirement already satisfied, skipping upgrade: cycler>=0.10 in /opt/conda/lib/python3.6/site-packages/cycler-0.10.0-py3.6.egg (from matplotlib) (0.10.0)\r\n",
      "Requirement already satisfied, skipping upgrade: six>=1.5 in /opt/conda/lib/python3.6/site-packages (from python-dateutil>=2.1->matplotlib) (1.11.0)\r\n"
     ]
    }
   ],
   "source": [
    "!pip install --upgrade matplotlib"
   ]
  },
  {
   "cell_type": "code",
   "execution_count": 6,
   "metadata": {},
   "outputs": [],
   "source": [
    "# import libraries\n",
    "from pyspark.sql import SparkSession\n",
    "from pyspark.sql.functions import *\n",
    "from pyspark.sql.functions import max as Fmax\n",
    "from pyspark.sql.functions import sum as Fsum\n",
    "from pyspark.sql.functions import avg as Favg\n",
    "from pyspark.sql.types import IntegerType\n",
    "from pyspark.sql import Window\n",
    "from pyspark.sql.types import*\n",
    "\n",
    "from pyspark.ml import Pipeline, Transformer\n",
    "\n",
    "import datetime\n",
    "\n",
    "import pandas as pd\n",
    "import matplotlib.pyplot as plt\n",
    "%matplotlib inline"
   ]
  },
  {
   "cell_type": "code",
   "execution_count": 7,
   "metadata": {},
   "outputs": [],
   "source": [
    "# create a Spark session\n",
    "spark = SparkSession.builder.appName(\"Spark SQL\").getOrCreate()"
   ]
  },
  {
   "cell_type": "markdown",
   "metadata": {},
   "source": [
    "## Loading and Cleaning the Dataset\n",
    "In this workspace, the mini-dataset file is `mini_sparkify_event_data.json`. Load and clean the dataset, checking for invalid or missing data - for example, records without userids or sessionids. "
   ]
  },
  {
   "cell_type": "code",
   "execution_count": 8,
   "metadata": {},
   "outputs": [],
   "source": [
    "# the IP address of the master node\n",
    "path = \"mini_sparkify_event_data.json\""
   ]
  },
  {
   "cell_type": "code",
   "execution_count": 9,
   "metadata": {},
   "outputs": [],
   "source": [
    "# loading the json file into a spark DataFrame\n",
    "user_log = spark.read.json(path)"
   ]
  },
  {
   "cell_type": "markdown",
   "metadata": {},
   "source": [
    "### Data Exploration "
   ]
  },
  {
   "cell_type": "code",
   "execution_count": 10,
   "metadata": {},
   "outputs": [
    {
     "name": "stdout",
     "output_type": "stream",
     "text": [
      "root\n",
      " |-- artist: string (nullable = true)\n",
      " |-- auth: string (nullable = true)\n",
      " |-- firstName: string (nullable = true)\n",
      " |-- gender: string (nullable = true)\n",
      " |-- itemInSession: long (nullable = true)\n",
      " |-- lastName: string (nullable = true)\n",
      " |-- length: double (nullable = true)\n",
      " |-- level: string (nullable = true)\n",
      " |-- location: string (nullable = true)\n",
      " |-- method: string (nullable = true)\n",
      " |-- page: string (nullable = true)\n",
      " |-- registration: long (nullable = true)\n",
      " |-- sessionId: long (nullable = true)\n",
      " |-- song: string (nullable = true)\n",
      " |-- status: long (nullable = true)\n",
      " |-- ts: long (nullable = true)\n",
      " |-- userAgent: string (nullable = true)\n",
      " |-- userId: string (nullable = true)\n",
      "\n"
     ]
    }
   ],
   "source": [
    "# Seeing the columns we have in this dataframe\n",
    "user_log.printSchema()"
   ]
  },
  {
   "cell_type": "code",
   "execution_count": 11,
   "metadata": {},
   "outputs": [
    {
     "name": "stdout",
     "output_type": "stream",
     "text": [
      "+------+\n",
      "|method|\n",
      "+------+\n",
      "|   PUT|\n",
      "|   GET|\n",
      "+------+\n",
      "\n"
     ]
    }
   ],
   "source": [
    "user_log.select(\"method\").dropDuplicates().show()"
   ]
  },
  {
   "cell_type": "markdown",
   "metadata": {},
   "source": [
    "There are fields describing the user like firstName, lastName and userId. We also have information about the request, for example, the page the user accessed, the HTTP method, and the status of the request."
   ]
  },
  {
   "cell_type": "code",
   "execution_count": 12,
   "metadata": {},
   "outputs": [
    {
     "name": "stdout",
     "output_type": "stream",
     "text": [
      "+--------------+---------+---------+------+-------------+--------+---------+-----+---------------+------+--------+-------------+---------+---------+------+-------------+--------------------+------+\n",
      "|        artist|     auth|firstName|gender|itemInSession|lastName|   length|level|       location|method|    page| registration|sessionId|     song|status|           ts|           userAgent|userId|\n",
      "+--------------+---------+---------+------+-------------+--------+---------+-----+---------------+------+--------+-------------+---------+---------+------+-------------+--------------------+------+\n",
      "|Martha Tilston|Logged In|    Colin|     M|           50| Freeman|277.89016| paid|Bakersfield, CA|   PUT|NextSong|1538173362000|       29|Rockpools|   200|1538352117000|Mozilla/5.0 (Wind...|    30|\n",
      "+--------------+---------+---------+------+-------------+--------+---------+-----+---------------+------+--------+-------------+---------+---------+------+-------------+--------------------+------+\n",
      "only showing top 1 row\n",
      "\n"
     ]
    }
   ],
   "source": [
    "# looking at one particular record\n",
    "user_log.show(n=1)"
   ]
  },
  {
   "cell_type": "markdown",
   "metadata": {},
   "source": [
    "Here we can see that Colin was listening to \"Rockpools\""
   ]
  },
  {
   "cell_type": "code",
   "execution_count": 13,
   "metadata": {},
   "outputs": [
    {
     "data": {
      "text/plain": [
       "[Row(artist='Martha Tilston', auth='Logged In', firstName='Colin', gender='M', itemInSession=50, lastName='Freeman', length=277.89016, level='paid', location='Bakersfield, CA', method='PUT', page='NextSong', registration=1538173362000, sessionId=29, song='Rockpools', status=200, ts=1538352117000, userAgent='Mozilla/5.0 (Windows NT 6.1; WOW64; rv:31.0) Gecko/20100101 Firefox/31.0', userId='30'),\n",
       " Row(artist='Five Iron Frenzy', auth='Logged In', firstName='Micah', gender='M', itemInSession=79, lastName='Long', length=236.09424, level='free', location='Boston-Cambridge-Newton, MA-NH', method='PUT', page='NextSong', registration=1538331630000, sessionId=8, song='Canada', status=200, ts=1538352180000, userAgent='\"Mozilla/5.0 (Windows NT 6.1; WOW64) AppleWebKit/537.36 (KHTML, like Gecko) Chrome/37.0.2062.103 Safari/537.36\"', userId='9'),\n",
       " Row(artist='Adam Lambert', auth='Logged In', firstName='Colin', gender='M', itemInSession=51, lastName='Freeman', length=282.8273, level='paid', location='Bakersfield, CA', method='PUT', page='NextSong', registration=1538173362000, sessionId=29, song='Time For Miracles', status=200, ts=1538352394000, userAgent='Mozilla/5.0 (Windows NT 6.1; WOW64; rv:31.0) Gecko/20100101 Firefox/31.0', userId='30'),\n",
       " Row(artist='Enigma', auth='Logged In', firstName='Micah', gender='M', itemInSession=80, lastName='Long', length=262.71302, level='free', location='Boston-Cambridge-Newton, MA-NH', method='PUT', page='NextSong', registration=1538331630000, sessionId=8, song='Knocking On Forbidden Doors', status=200, ts=1538352416000, userAgent='\"Mozilla/5.0 (Windows NT 6.1; WOW64) AppleWebKit/537.36 (KHTML, like Gecko) Chrome/37.0.2062.103 Safari/537.36\"', userId='9'),\n",
       " Row(artist='Daft Punk', auth='Logged In', firstName='Colin', gender='M', itemInSession=52, lastName='Freeman', length=223.60771, level='paid', location='Bakersfield, CA', method='PUT', page='NextSong', registration=1538173362000, sessionId=29, song='Harder Better Faster Stronger', status=200, ts=1538352676000, userAgent='Mozilla/5.0 (Windows NT 6.1; WOW64; rv:31.0) Gecko/20100101 Firefox/31.0', userId='30')]"
      ]
     },
     "execution_count": 13,
     "metadata": {},
     "output_type": "execute_result"
    }
   ],
   "source": [
    "# Looking at the first 5 records\n",
    "user_log.take(5)"
   ]
  },
  {
   "cell_type": "code",
   "execution_count": 14,
   "metadata": {},
   "outputs": [
    {
     "name": "stdout",
     "output_type": "stream",
     "text": [
      "+-------+-----------------+\n",
      "|summary|           length|\n",
      "+-------+-----------------+\n",
      "|  count|           228108|\n",
      "|   mean|249.1171819778458|\n",
      "| stddev|99.23517921058361|\n",
      "|    min|          0.78322|\n",
      "|    max|       3024.66567|\n",
      "+-------+-----------------+\n",
      "\n"
     ]
    }
   ],
   "source": [
    "# Summary statistics on the length column\n",
    "user_log.describe(\"length\").show()"
   ]
  },
  {
   "cell_type": "code",
   "execution_count": 15,
   "metadata": {},
   "outputs": [
    {
     "name": "stdout",
     "output_type": "stream",
     "text": [
      "We have 286500 rows on the dataset\n"
     ]
    }
   ],
   "source": [
    "print(\"We have {} rows on the dataset\".format(user_log.count()))"
   ]
  },
  {
   "cell_type": "code",
   "execution_count": 16,
   "metadata": {},
   "outputs": [
    {
     "name": "stdout",
     "output_type": "stream",
     "text": [
      "+--------------------+\n",
      "|                page|\n",
      "+--------------------+\n",
      "|               About|\n",
      "|          Add Friend|\n",
      "|     Add to Playlist|\n",
      "|              Cancel|\n",
      "|Cancellation Conf...|\n",
      "|           Downgrade|\n",
      "|               Error|\n",
      "|                Help|\n",
      "|                Home|\n",
      "|               Login|\n",
      "|              Logout|\n",
      "|            NextSong|\n",
      "|            Register|\n",
      "|         Roll Advert|\n",
      "|       Save Settings|\n",
      "|            Settings|\n",
      "|    Submit Downgrade|\n",
      "| Submit Registration|\n",
      "|      Submit Upgrade|\n",
      "|         Thumbs Down|\n",
      "|           Thumbs Up|\n",
      "|             Upgrade|\n",
      "+--------------------+\n",
      "\n"
     ]
    }
   ],
   "source": [
    "# Looking at the page requests that we have\n",
    "user_log.select(\"page\").dropDuplicates().sort(\"page\").show(25)"
   ]
  },
  {
   "cell_type": "markdown",
   "metadata": {},
   "source": [
    "Users can login and out, visit the homepage, or play a song."
   ]
  },
  {
   "cell_type": "code",
   "execution_count": 17,
   "metadata": {},
   "outputs": [
    {
     "name": "stdout",
     "output_type": "stream",
     "text": [
      "+-----+\n",
      "|level|\n",
      "+-----+\n",
      "| free|\n",
      "| paid|\n",
      "+-----+\n",
      "\n"
     ]
    }
   ],
   "source": [
    "user_log.select(\"level\").dropDuplicates().sort(\"level\").show()"
   ]
  },
  {
   "cell_type": "markdown",
   "metadata": {},
   "source": [
    "We have two subscriptions levels, and we are going to define that a user chured when the changed from paid to free user"
   ]
  },
  {
   "cell_type": "code",
   "execution_count": 18,
   "metadata": {},
   "outputs": [
    {
     "name": "stdout",
     "output_type": "stream",
     "text": [
      "+----------+\n",
      "|      auth|\n",
      "+----------+\n",
      "| Cancelled|\n",
      "|     Guest|\n",
      "| Logged In|\n",
      "|Logged Out|\n",
      "+----------+\n",
      "\n"
     ]
    }
   ],
   "source": [
    "user_log.select(\"auth\").dropDuplicates().sort(\"auth\").show() "
   ]
  },
  {
   "cell_type": "code",
   "execution_count": 19,
   "metadata": {},
   "outputs": [
    {
     "data": {
      "text/plain": [
       "[Row(userId='30', firstName='Colin', page='NextSong', song='Rockpools'),\n",
       " Row(userId='30', firstName='Colin', page='NextSong', song='Time For Miracles'),\n",
       " Row(userId='30', firstName='Colin', page='NextSong', song='Harder Better Faster Stronger'),\n",
       " Row(userId='30', firstName='Colin', page='NextSong', song='Passengers (Old Album Version)'),\n",
       " Row(userId='30', firstName='Colin', page='Add to Playlist', song=None),\n",
       " Row(userId='30', firstName='Colin', page='NextSong', song='Fuck Kitty'),\n",
       " Row(userId='30', firstName='Colin', page='NextSong', song='Jade'),\n",
       " Row(userId='30', firstName='Colin', page='NextSong', song='So-Called Friends'),\n",
       " Row(userId='30', firstName='Colin', page='NextSong', song='Represent'),\n",
       " Row(userId='30', firstName='Colin', page='NextSong', song='Here I Am')]"
      ]
     },
     "execution_count": 19,
     "metadata": {},
     "output_type": "execute_result"
    }
   ],
   "source": [
    "# Looking at the events of userId 30\n",
    "user_log.select([\"userId\", \"firstName\", \"page\", \"song\"]).filter(user_log.userId == \"30\").head(10)"
   ]
  },
  {
   "cell_type": "markdown",
   "metadata": {},
   "source": [
    "As users use different pages of the application, their page request are logged"
   ]
  },
  {
   "cell_type": "markdown",
   "metadata": {},
   "source": [
    "### Dropping Rows with Missing Values\n",
    "Dropping missing values, making sure that we have the userId and SessionId for all the records"
   ]
  },
  {
   "cell_type": "code",
   "execution_count": 20,
   "metadata": {},
   "outputs": [],
   "source": [
    "# Dropping missing values\n",
    "user_log_valid = user_log.dropna(how=\"any\", subset=[\"userId\", \"sessionId\"])"
   ]
  },
  {
   "cell_type": "code",
   "execution_count": 21,
   "metadata": {
    "scrolled": false
   },
   "outputs": [
    {
     "name": "stdout",
     "output_type": "stream",
     "text": [
      "+------+\n",
      "|userId|\n",
      "+------+\n",
      "|      |\n",
      "|    10|\n",
      "|   100|\n",
      "|100001|\n",
      "|100002|\n",
      "|100003|\n",
      "|100004|\n",
      "|100005|\n",
      "|100006|\n",
      "|100007|\n",
      "|100008|\n",
      "|100009|\n",
      "|100010|\n",
      "|100011|\n",
      "|100012|\n",
      "|100013|\n",
      "|100014|\n",
      "|100015|\n",
      "|100016|\n",
      "|100017|\n",
      "+------+\n",
      "only showing top 20 rows\n",
      "\n"
     ]
    }
   ],
   "source": [
    "# Making sure that we have the userId and SessionId for all the records\n",
    "user_log.select(\"userId\").dropDuplicates().sort(\"userId\").show()"
   ]
  },
  {
   "cell_type": "markdown",
   "metadata": {},
   "source": [
    "There are not None values but there are users with no userId"
   ]
  },
  {
   "cell_type": "code",
   "execution_count": 22,
   "metadata": {},
   "outputs": [
    {
     "data": {
      "text/plain": [
       "[Row(userId='', firstName=None, page='Home', song=None),\n",
       " Row(userId='', firstName=None, page='Help', song=None),\n",
       " Row(userId='', firstName=None, page='Home', song=None),\n",
       " Row(userId='', firstName=None, page='Login', song=None),\n",
       " Row(userId='', firstName=None, page='Home', song=None),\n",
       " Row(userId='', firstName=None, page='Login', song=None),\n",
       " Row(userId='', firstName=None, page='Login', song=None),\n",
       " Row(userId='', firstName=None, page='Login', song=None),\n",
       " Row(userId='', firstName=None, page='Home', song=None),\n",
       " Row(userId='', firstName=None, page='Login', song=None)]"
      ]
     },
     "execution_count": 22,
     "metadata": {},
     "output_type": "execute_result"
    }
   ],
   "source": [
    "# Looking at logs of users with no userId\n",
    "user_log.select([\"userId\", \"firstName\", \"page\", \"song\"]).filter(user_log.userId == \"\").head(10)"
   ]
  },
  {
   "cell_type": "code",
   "execution_count": 23,
   "metadata": {},
   "outputs": [
    {
     "data": {
      "text/plain": [
       "[Row(blank_pages='Home'),\n",
       " Row(blank_pages='About'),\n",
       " Row(blank_pages='Submit Registration'),\n",
       " Row(blank_pages='Login'),\n",
       " Row(blank_pages='Register'),\n",
       " Row(blank_pages='Help'),\n",
       " Row(blank_pages='Error')]"
      ]
     },
     "execution_count": 23,
     "metadata": {},
     "output_type": "execute_result"
    }
   ],
   "source": [
    "# filter for users with blank user id\n",
    "blank_pages = user_log.filter(user_log.userId == '') \\\n",
    "    .select(col('page') \\\n",
    "    .alias('blank_pages')) \\\n",
    "    .dropDuplicates()\n",
    "\n",
    "blank_pages.collect()"
   ]
  },
  {
   "cell_type": "markdown",
   "metadata": {},
   "source": [
    "It seems that the user's with no id represent users who have not signed up yet or who are signed out and are about to log in.\n",
    "It may also represents users who got an error while registrating or loging in."
   ]
  },
  {
   "cell_type": "code",
   "execution_count": 24,
   "metadata": {},
   "outputs": [],
   "source": [
    "user_log_valid = user_log_valid.filter(user_log_valid[\"userId\"] != \"\")"
   ]
  },
  {
   "cell_type": "code",
   "execution_count": 25,
   "metadata": {},
   "outputs": [
    {
     "data": {
      "text/plain": [
       "278154"
      ]
     },
     "execution_count": 25,
     "metadata": {},
     "output_type": "execute_result"
    }
   ],
   "source": [
    "user_log_valid.count()"
   ]
  },
  {
   "cell_type": "markdown",
   "metadata": {},
   "source": [
    "We lost 8346 records. "
   ]
  },
  {
   "cell_type": "code",
   "execution_count": 26,
   "metadata": {},
   "outputs": [
    {
     "name": "stdout",
     "output_type": "stream",
     "text": [
      "We lost 8346 records\n"
     ]
    }
   ],
   "source": [
    "print(\"We lost {} records\".format(user_log.count() - user_log_valid.count()))"
   ]
  },
  {
   "cell_type": "code",
   "execution_count": 27,
   "metadata": {},
   "outputs": [],
   "source": [
    "female_users = user_log_valid.filter(user_log_valid.gender == 'F') \\\n",
    "    .select('userId', 'gender') \\\n",
    "    .dropDuplicates() \\\n",
    "    .count()\n",
    "\n",
    "male_users = user_log_valid.filter(user_log_valid.gender == 'M') \\\n",
    "    .select('userId', 'gender') \\\n",
    "    .dropDuplicates() \\\n",
    "    .count()"
   ]
  },
  {
   "cell_type": "code",
   "execution_count": 28,
   "metadata": {},
   "outputs": [
    {
     "name": "stdout",
     "output_type": "stream",
     "text": [
      "We have 104 female users and 121 male users\n"
     ]
    }
   ],
   "source": [
    "print(\"We have {} female users and {} male users\".format(female_users, male_users))"
   ]
  },
  {
   "cell_type": "markdown",
   "metadata": {},
   "source": [
    "How many songs were played from the most played artist?"
   ]
  },
  {
   "cell_type": "code",
   "execution_count": 29,
   "metadata": {},
   "outputs": [
    {
     "name": "stdout",
     "output_type": "stream",
     "text": [
      "+-------------+-----------+\n",
      "|       Artist|Artistcount|\n",
      "+-------------+-----------+\n",
      "|Kings Of Leon|       1841|\n",
      "+-------------+-----------+\n",
      "only showing top 1 row\n",
      "\n"
     ]
    }
   ],
   "source": [
    "user_log_valid.filter(user_log_valid.page == 'NextSong') \\\n",
    "    .select('Artist') \\\n",
    "    .groupBy('Artist') \\\n",
    "    .agg({'Artist':'count'}) \\\n",
    "    .withColumnRenamed('count(Artist)', 'Artistcount') \\\n",
    "    .sort(desc('Artistcount')) \\\n",
    "    .show(1)"
   ]
  },
  {
   "cell_type": "markdown",
   "metadata": {},
   "source": [
    "## Exploratory Data Analysis\n",
    "When you're working with the full dataset, perform EDA by loading a small subset of the data and doing basic manipulations within Spark. In this workspace, you are already provided a small subset of data you can explore.\n",
    "\n",
    "### Define Churn\n",
    "\n",
    "Once you've done some preliminary analysis, create a column `Churn` to use as the label for your model. I suggest using the `Cancellation Confirmation` events to define your churn, which happen for both paid and free users. As a bonus task, you can also look into the `Downgrade` events.\n",
    "\n",
    "### Explore Data\n",
    "Once you've defined churn, perform some exploratory data analysis to observe the behavior for users who stayed vs users who churned. You can start by exploring aggregates on these two groups of users, observing how much of a specific action they experienced per a certain time unit or number of songs played."
   ]
  },
  {
   "cell_type": "markdown",
   "metadata": {},
   "source": [
    "## Defining Churn as Users Who Cancel Their Accounts\n",
    "Both paid and free users can Cancel their accounts. I will use this as the label for the model"
   ]
  },
  {
   "cell_type": "markdown",
   "metadata": {},
   "source": [
    "To distinguish user's activity before and after they cancel their account, I create a Churn column which divides the users who have confirm a cancellation to use as the label of the model."
   ]
  },
  {
   "cell_type": "code",
   "execution_count": 30,
   "metadata": {},
   "outputs": [],
   "source": [
    "# Adding a new column called Churn_phase to the dataframe\n",
    "# The value here will be 1 if the user cancelled, and zero other wise\n",
    "# # create churn user column\n",
    "\n",
    "flag_churn_event = udf(lambda x: 1 if x == \"Cancellation Confirmation\" else 0, IntegerType())\n",
    "user_log_valid = user_log_valid.withColumn(\"Churn_phase\", flag_churn_event(\"page\"))"
   ]
  },
  {
   "cell_type": "code",
   "execution_count": 31,
   "metadata": {},
   "outputs": [],
   "source": [
    "# Sorting records for a particular user in reverse time order, and adding up the values to distinguish each user's data \n",
    "# as either pre or post churn events\n",
    "windowval = Window.partitionBy(\"userId\").orderBy(desc(\"ts\")).rangeBetween(Window.unboundedPreceding, 0)\n",
    "# Creating a Churn_phase column that uses the window function and cumulative sum\n",
    "user_log_valid = user_log_valid.withColumn('Churn', Fsum('Churn_phase').over(windowval))"
   ]
  },
  {
   "cell_type": "code",
   "execution_count": 32,
   "metadata": {},
   "outputs": [
    {
     "data": {
      "text/plain": [
       "True"
      ]
     },
     "execution_count": 32,
     "metadata": {},
     "output_type": "execute_result"
    }
   ],
   "source": [
    "# Checking the results\n",
    "user_log_valid.filter(\"page = 'Cancellation Confirmation'\").count() == user_log_valid.select('userId') \\\n",
    "    .where(user_log_valid.Churn == 1).dropDuplicates().count()"
   ]
  },
  {
   "cell_type": "code",
   "execution_count": 33,
   "metadata": {
    "scrolled": true
   },
   "outputs": [
    {
     "data": {
      "text/plain": [
       "[Row(userId='100014', firstname='Rodrigo', ts=1542740649000, page='Cancellation Confirmation', Churn=1, Churn_phase=1),\n",
       " Row(userId='100014', firstname='Rodrigo', ts=1542740642000, page='Cancel', Churn=1, Churn_phase=0),\n",
       " Row(userId='100014', firstname='Rodrigo', ts=1542740641000, page='Downgrade', Churn=1, Churn_phase=0),\n",
       " Row(userId='100014', firstname='Rodrigo', ts=1542740628000, page='NextSong', Churn=1, Churn_phase=0),\n",
       " Row(userId='100014', firstname='Rodrigo', ts=1542740352000, page='NextSong', Churn=1, Churn_phase=0)]"
      ]
     },
     "execution_count": 33,
     "metadata": {},
     "output_type": "execute_result"
    }
   ],
   "source": [
    "user_log_valid.select([\"userId\", \"firstname\", \"ts\", \"page\", \"Churn\", \"Churn_phase\"]) \\\n",
    "    .filter(user_log_valid.userId == \"100014\").sort(desc(\"ts\")).head(5)"
   ]
  },
  {
   "cell_type": "markdown",
   "metadata": {},
   "source": [
    "After the Cancellation Confirmation we no longer see logs from user Adriel"
   ]
  },
  {
   "cell_type": "code",
   "execution_count": 34,
   "metadata": {},
   "outputs": [
    {
     "name": "stdout",
     "output_type": "stream",
     "text": [
      "+-----+------+\n",
      "|Churn| count|\n",
      "+-----+------+\n",
      "|    0|233290|\n",
      "|    1| 44864|\n",
      "+-----+------+\n",
      "\n"
     ]
    }
   ],
   "source": [
    "user_log_valid.groupBy('Churn').count().show()"
   ]
  },
  {
   "cell_type": "code",
   "execution_count": 35,
   "metadata": {},
   "outputs": [
    {
     "name": "stdout",
     "output_type": "stream",
     "text": [
      "+-----------+------+\n",
      "|Churn_phase| count|\n",
      "+-----------+------+\n",
      "|          1|    52|\n",
      "|          0|278102|\n",
      "+-----------+------+\n",
      "\n"
     ]
    }
   ],
   "source": [
    "user_log_valid.groupBy('Churn_phase').count().show()"
   ]
  },
  {
   "cell_type": "code",
   "execution_count": 36,
   "metadata": {},
   "outputs": [],
   "source": [
    "seed = 42\n",
    "\n",
    "fractions_train = user_log_valid.select(\"Churn\").distinct().withColumn(\"fraction\", lit(0.8)).rdd.collectAsMap()\n",
    "train_user_log = user_log_valid.stat.sampleBy(\"Churn\", fractions_train, seed)\n",
    "\n",
    "fractions_test = user_log_valid.select(\"Churn\").distinct().withColumn(\"fraction\", lit(0.2)).rdd.collectAsMap()\n",
    "test_user_log = user_log_valid.stat.sampleBy(\"Churn\", fractions_test, seed)"
   ]
  },
  {
   "cell_type": "code",
   "execution_count": 37,
   "metadata": {},
   "outputs": [],
   "source": [
    "train = train_user_log.alias('train')"
   ]
  },
  {
   "cell_type": "markdown",
   "metadata": {},
   "source": [
    "## Exploring Data to observe the behavior for users who stayed vs users who churned. "
   ]
  },
  {
   "cell_type": "markdown",
   "metadata": {},
   "source": [
    "### Exploring aggregates on these two groups of users"
   ]
  },
  {
   "cell_type": "code",
   "execution_count": 38,
   "metadata": {},
   "outputs": [],
   "source": [
    "## Plot in a histogram the distinct artist that are listened by churn users and not churn users\n",
    "artist_per_user = train.filter(train.Churn == 0).groupby(train.userId, train.artist) \\\n",
    "    .count()\n",
    "artist_per_user_pd = artist_per_user.toPandas()\n",
    "artist_per_user_pd = artist_per_user_pd[~artist_per_user_pd['artist'].isnull()]\n",
    "artist_per_user_pd = artist_per_user_pd.groupby('userId').count().drop(\"count\", axis=1)"
   ]
  },
  {
   "cell_type": "code",
   "execution_count": 39,
   "metadata": {},
   "outputs": [],
   "source": [
    "## Plot in a histogram the distinct artist that are listened by churn users and not churn users\n",
    "artist_per_user_churn = train.filter(train.Churn == 1) \\\n",
    "    .groupby(train.userId, train.artist).count()\n",
    "artist_per_user_churn_pd = artist_per_user_churn.toPandas()\n",
    "artist_per_user_churn_pd = artist_per_user_churn_pd[~artist_per_user_churn_pd['artist'].isnull()]\n",
    "artist_per_user_churn_pd = artist_per_user_churn_pd.groupby('userId').count().drop(\"count\", axis=1)"
   ]
  },
  {
   "cell_type": "code",
   "execution_count": 40,
   "metadata": {},
   "outputs": [
    {
     "data": {
      "image/png": "[encoded data removed]",
      "text/plain": [
       "<Figure size 432x288 with 1 Axes>"
      ]
     },
     "metadata": {
      "needs_background": "light"
     },
     "output_type": "display_data"
    }
   ],
   "source": [
    "plt.hist(artist_per_user_pd[\"artist\"], density=True, label=\"Not churn-users\", alpha=0.5);\n",
    "plt.hist(artist_per_user_churn_pd[\"artist\"], density=True, label=\"Churn-users\", alpha=0.5);\n",
    "plt.xlabel(\"Number of Artist Listened\");\n",
    "plt.ylabel(\"Distribution in percent\");\n",
    "plt.legend();"
   ]
  },
  {
   "cell_type": "markdown",
   "metadata": {},
   "source": [
    "We can notice from this graph that Not churn-users tend to listen to a higher number of artists compared to churn-users"
   ]
  },
  {
   "cell_type": "code",
   "execution_count": 41,
   "metadata": {},
   "outputs": [],
   "source": [
    "# Avg of each page visited\n",
    "page_percent = train.filter(train.Churn == 0).groupBy('page').count() \\\n",
    "    .withColumn('Percent', col('count')/sum('count').over(Window.partitionBy())).select([\"page\", \"Percent\"])\n",
    "page_percent = page_percent.orderBy('Percent', ascending=False)\n",
    "page_percent = page_percent.toPandas()\n",
    "\n",
    "page_percent_churn = train.filter(train.Churn == 1).groupBy('page').count() \\\n",
    "    .withColumn('Percent_Churn_Users', col('count')/sum('count').over(Window.partitionBy())) \\\n",
    "    .select([\"page\", \"Percent_Churn_Users\"])\n",
    "page_percent_churn = page_percent_churn.orderBy('Percent_Churn_Users', ascending=False)\n",
    "page_percent_churn = page_percent_churn.toPandas()"
   ]
  },
  {
   "cell_type": "code",
   "execution_count": 42,
   "metadata": {
    "scrolled": true
   },
   "outputs": [
    {
     "data": {
      "text/html": [
       "<div>\n",
       "<style scoped>\n",
       "    .dataframe tbody tr th:only-of-type {\n",
       "        vertical-align: middle;\n",
       "    }\n",
       "\n",
       "    .dataframe tbody tr th {\n",
       "        vertical-align: top;\n",
       "    }\n",
       "\n",
       "    .dataframe thead th {\n",
       "        text-align: right;\n",
       "    }\n",
       "</style>\n",
       "<table border=\"1\" class=\"dataframe\">\n",
       "  <thead>\n",
       "    <tr style=\"text-align: right;\">\n",
       "      <th></th>\n",
       "      <th>page</th>\n",
       "      <th>Percent</th>\n",
       "      <th>Percent_Churn_Users</th>\n",
       "      <th>Diff</th>\n",
       "    </tr>\n",
       "  </thead>\n",
       "  <tbody>\n",
       "    <tr>\n",
       "      <th>0</th>\n",
       "      <td>NextSong</td>\n",
       "      <td>0.821775</td>\n",
       "      <td>0.811945</td>\n",
       "      <td>0.009830</td>\n",
       "    </tr>\n",
       "    <tr>\n",
       "      <th>5</th>\n",
       "      <td>Roll Advert</td>\n",
       "      <td>0.012537</td>\n",
       "      <td>0.021370</td>\n",
       "      <td>0.008833</td>\n",
       "    </tr>\n",
       "    <tr>\n",
       "      <th>1</th>\n",
       "      <td>Thumbs Up</td>\n",
       "      <td>0.045912</td>\n",
       "      <td>0.041148</td>\n",
       "      <td>0.004764</td>\n",
       "    </tr>\n",
       "    <tr>\n",
       "      <th>7</th>\n",
       "      <td>Thumbs Down</td>\n",
       "      <td>0.008832</td>\n",
       "      <td>0.011258</td>\n",
       "      <td>0.002425</td>\n",
       "    </tr>\n",
       "    <tr>\n",
       "      <th>4</th>\n",
       "      <td>Add Friend</td>\n",
       "      <td>0.015465</td>\n",
       "      <td>0.014498</td>\n",
       "      <td>0.000967</td>\n",
       "    </tr>\n",
       "    <tr>\n",
       "      <th>6</th>\n",
       "      <td>Logout</td>\n",
       "      <td>0.011402</td>\n",
       "      <td>0.012263</td>\n",
       "      <td>0.000862</td>\n",
       "    </tr>\n",
       "    <tr>\n",
       "      <th>12</th>\n",
       "      <td>Upgrade</td>\n",
       "      <td>0.001670</td>\n",
       "      <td>0.002486</td>\n",
       "      <td>0.000816</td>\n",
       "    </tr>\n",
       "    <tr>\n",
       "      <th>3</th>\n",
       "      <td>Add to Playlist</td>\n",
       "      <td>0.023633</td>\n",
       "      <td>0.023046</td>\n",
       "      <td>0.000587</td>\n",
       "    </tr>\n",
       "    <tr>\n",
       "      <th>9</th>\n",
       "      <td>Settings</td>\n",
       "      <td>0.005358</td>\n",
       "      <td>0.005922</td>\n",
       "      <td>0.000564</td>\n",
       "    </tr>\n",
       "    <tr>\n",
       "      <th>11</th>\n",
       "      <td>About</td>\n",
       "      <td>0.001847</td>\n",
       "      <td>0.001285</td>\n",
       "      <td>0.000562</td>\n",
       "    </tr>\n",
       "    <tr>\n",
       "      <th>2</th>\n",
       "      <td>Home</td>\n",
       "      <td>0.036218</td>\n",
       "      <td>0.036678</td>\n",
       "      <td>0.000460</td>\n",
       "    </tr>\n",
       "    <tr>\n",
       "      <th>14</th>\n",
       "      <td>Error</td>\n",
       "      <td>0.000947</td>\n",
       "      <td>0.000587</td>\n",
       "      <td>0.000361</td>\n",
       "    </tr>\n",
       "    <tr>\n",
       "      <th>13</th>\n",
       "      <td>Save Settings</td>\n",
       "      <td>0.001071</td>\n",
       "      <td>0.001397</td>\n",
       "      <td>0.000326</td>\n",
       "    </tr>\n",
       "    <tr>\n",
       "      <th>8</th>\n",
       "      <td>Downgrade</td>\n",
       "      <td>0.007237</td>\n",
       "      <td>0.007542</td>\n",
       "      <td>0.000305</td>\n",
       "    </tr>\n",
       "    <tr>\n",
       "      <th>15</th>\n",
       "      <td>Submit Upgrade</td>\n",
       "      <td>0.000535</td>\n",
       "      <td>0.000642</td>\n",
       "      <td>0.000107</td>\n",
       "    </tr>\n",
       "    <tr>\n",
       "      <th>16</th>\n",
       "      <td>Submit Downgrade</td>\n",
       "      <td>0.000219</td>\n",
       "      <td>0.000140</td>\n",
       "      <td>0.000080</td>\n",
       "    </tr>\n",
       "    <tr>\n",
       "      <th>10</th>\n",
       "      <td>Help</td>\n",
       "      <td>0.005342</td>\n",
       "      <td>0.005391</td>\n",
       "      <td>0.000049</td>\n",
       "    </tr>\n",
       "  </tbody>\n",
       "</table>\n",
       "</div>"
      ],
      "text/plain": [
       "                page   Percent  Percent_Churn_Users      Diff\n",
       "0           NextSong  0.821775             0.811945  0.009830\n",
       "5        Roll Advert  0.012537             0.021370  0.008833\n",
       "1          Thumbs Up  0.045912             0.041148  0.004764\n",
       "7        Thumbs Down  0.008832             0.011258  0.002425\n",
       "4         Add Friend  0.015465             0.014498  0.000967\n",
       "6             Logout  0.011402             0.012263  0.000862\n",
       "12           Upgrade  0.001670             0.002486  0.000816\n",
       "3    Add to Playlist  0.023633             0.023046  0.000587\n",
       "9           Settings  0.005358             0.005922  0.000564\n",
       "11             About  0.001847             0.001285  0.000562\n",
       "2               Home  0.036218             0.036678  0.000460\n",
       "14             Error  0.000947             0.000587  0.000361\n",
       "13     Save Settings  0.001071             0.001397  0.000326\n",
       "8          Downgrade  0.007237             0.007542  0.000305\n",
       "15    Submit Upgrade  0.000535             0.000642  0.000107\n",
       "16  Submit Downgrade  0.000219             0.000140  0.000080\n",
       "10              Help  0.005342             0.005391  0.000049"
      ]
     },
     "execution_count": 42,
     "metadata": {},
     "output_type": "execute_result"
    }
   ],
   "source": [
    "page_percent_comparison = page_percent.merge(page_percent_churn, on='page')\n",
    "page_percent_comparison['Diff'] = (page_percent_comparison['Percent'] - page_percent_comparison['Percent_Churn_Users']) \\\n",
    "    .abs()\n",
    "page_percent_comparison.sort_values('Diff', ascending=False)"
   ]
  },
  {
   "cell_type": "markdown",
   "metadata": {},
   "source": [
    "### Calculating Statistics by Hour"
   ]
  },
  {
   "cell_type": "markdown",
   "metadata": {},
   "source": [
    "#### Observing how much of a specific action they experienced per a certain time unit"
   ]
  },
  {
   "cell_type": "code",
   "execution_count": 43,
   "metadata": {},
   "outputs": [
    {
     "data": {
      "text/plain": [
       "Row(artist=None, auth='Logged In', firstName='Darianna', gender='F', itemInSession=34, lastName='Carpenter', length=None, level='free', location='Bridgeport-Stamford-Norwalk, CT', method='PUT', page='Logout', registration=1538016340000, sessionId=187, song=None, status=307, ts=1542823952000, userAgent='\"Mozilla/5.0 (iPhone; CPU iPhone OS 7_1_2 like Mac OS X) AppleWebKit/537.51.2 (KHTML, like Gecko) Version/7.0 Mobile/11D257 Safari/9537.53\"', userId='100010', Churn_phase=0, Churn=0, hour='18', day='21', weekday=4, month='11')"
      ]
     },
     "execution_count": 43,
     "metadata": {},
     "output_type": "execute_result"
    }
   ],
   "source": [
    "# Converting timestamps to datetime from epoch time, to get the hour of the day\n",
    "get_hour = udf(lambda x: datetime.datetime.fromtimestamp(x / 1000.0).hour)\n",
    "# Adding a new column called hour to our dataframe\n",
    "train = train.withColumn(\"hour\", get_hour(train.ts))\n",
    "\n",
    "get_day = udf(lambda x: datetime.datetime.fromtimestamp(x / 1000.0).day)\n",
    "train = train.withColumn(\"day\", get_day(train.ts))\n",
    "\n",
    "get_weekday = udf(lambda ts: datetime.datetime.fromtimestamp(ts/1000), TimestampType())\n",
    "train = train.withColumn(\"weekday\", dayofweek(get_weekday(train.ts)))\n",
    "\n",
    "get_month = udf(lambda x: datetime.datetime.fromtimestamp(x / 1000.0).month)\n",
    "train = train.withColumn(\"month\", get_month(train.ts))\n",
    "\n",
    "train.head()"
   ]
  },
  {
   "cell_type": "markdown",
   "metadata": {},
   "source": [
    "Colin was listening to Martha Tilston at 12am"
   ]
  },
  {
   "cell_type": "code",
   "execution_count": 44,
   "metadata": {},
   "outputs": [],
   "source": [
    "items_per_day_churn_oct = train.filter((train.Churn == 1) & (train.month == 10)) \\\n",
    "    .select(\"userId\", \"day\", \"itemInSession\").sort(\"userId\", \"day\", \"itemInSession\").groupBy(\"userId\", \"day\") \\\n",
    "    .count().sort(\"userId\", \"day\").toPandas()\n",
    "items_per_day_oct = train.filter((train.Churn == 0) & (train.month == 10)) \\\n",
    "    .select(\"userId\", \"day\", \"itemInSession\").sort(\"userId\", \"day\", \"itemInSession\").groupBy(\"userId\", \"day\") \\\n",
    "    .count().sort(\"userId\", \"day\").toPandas()\n",
    "items_per_day_all_oct = items_per_day_oct['count'].to_frame() \\\n",
    "    .join(items_per_day_churn_oct['count'], lsuffix=' Not Churn', rsuffix=' Churn')\n",
    "\n",
    "items_per_day_churn_nov = train.filter((train.Churn == 1) & (train.month == 11)) \\\n",
    "    .select(\"userId\", \"day\", \"itemInSession\").sort(\"userId\", \"day\", \"itemInSession\").groupBy(\"userId\", \"day\") \\\n",
    "    .count().sort(\"userId\", \"day\").toPandas()\n",
    "items_per_day_nov = train.filter((train.Churn == 0) & (train.month == 10)) \\\n",
    "    .select(\"userId\", \"day\", \"itemInSession\").sort(\"userId\", \"day\", \"itemInSession\").groupBy(\"userId\", \"day\") \\\n",
    "    .count().sort(\"userId\", \"day\").toPandas()\n",
    "items_per_day_all_nov = items_per_day_nov['count'].to_frame() \\\n",
    "    .join(items_per_day_churn_nov['count'], lsuffix=' Not Churn', rsuffix=' Churn')"
   ]
  },
  {
   "cell_type": "code",
   "execution_count": 45,
   "metadata": {},
   "outputs": [],
   "source": [
    "items_per_day_all_oct.rename(columns={'count Not Churn': 'Not Churn', 'count Churn': 'Churn'}, inplace=True)\n",
    "items_per_day_all_nov.rename(columns={'count Not Churn': 'Not Churn', 'count Churn': 'Churn'}, inplace=True)"
   ]
  },
  {
   "cell_type": "code",
   "execution_count": 46,
   "metadata": {},
   "outputs": [
    {
     "data": {
      "image/png": "[encoded data removed]",
      "text/plain": [
       "<Figure size 432x288 with 2 Axes>"
      ]
     },
     "metadata": {
      "needs_background": "light"
     },
     "output_type": "display_data"
    }
   ],
   "source": [
    "import seaborn as sns\n",
    "plt.subplot(1, 2, 1)\n",
    "plt.title('October')\n",
    "sns.boxplot(data=items_per_day_all_oct);\n",
    "plt.ylabel(\"Number of Items per day\");\n",
    "plt.subplot(1, 2, 2)\n",
    "plt.title('November')\n",
    "sns.boxplot(data=items_per_day_all_nov);"
   ]
  },
  {
   "cell_type": "code",
   "execution_count": 47,
   "metadata": {},
   "outputs": [],
   "source": [
    "# Counting the Ads\n",
    "ads_in_weekday = train.filter((train.page == \"Roll Advert\") & (train.Churn == 0)) \\\n",
    "    .groupby(train.weekday).count().orderBy(train.weekday.cast(\"float\"))\n",
    "ads_in_weekday_pd = ads_in_weekday.toPandas()"
   ]
  },
  {
   "cell_type": "code",
   "execution_count": 48,
   "metadata": {},
   "outputs": [],
   "source": [
    "# Counting the Ads\n",
    "ads_in_weekday_churn = train.filter((train.page == \"Roll Advert\") & (train.Churn == 1)) \\\n",
    "    .groupby(train.weekday).count().orderBy(train.weekday.cast(\"float\"))\n",
    "ads_in_weekday_churn_pd = ads_in_weekday_churn.toPandas()"
   ]
  },
  {
   "cell_type": "code",
   "execution_count": 49,
   "metadata": {},
   "outputs": [],
   "source": [
    "ads_in_weekday_pd['count'] = ads_in_weekday_pd['count']/train.filter(train.Churn==0).count()"
   ]
  },
  {
   "cell_type": "code",
   "execution_count": 50,
   "metadata": {},
   "outputs": [],
   "source": [
    "ads_in_weekday_churn_pd['count'] = ads_in_weekday_churn_pd['count']/train.filter(train.Churn==1).count()"
   ]
  },
  {
   "cell_type": "code",
   "execution_count": 51,
   "metadata": {},
   "outputs": [
    {
     "data": {
      "image/png": "[encoded data removed]",
      "text/plain": [
       "<Figure size 576x432 with 1 Axes>"
      ]
     },
     "metadata": {
      "needs_background": "light"
     },
     "output_type": "display_data"
    }
   ],
   "source": [
    "import numpy as np\n",
    "X = ['Monday','Tuesday','Wednesday','Thursday', 'Friday', 'Saturday', 'Sunday'] \n",
    "X_axis = np.arange(7)\n",
    "\n",
    "plt.figure(figsize=(8, 6))\n",
    "plt.bar(X_axis - 0.2, ads_in_weekday_pd['count'], 0.4, label = 'Not Churn')\n",
    "plt.bar(X_axis + 0.2, ads_in_weekday_churn_pd['count'], 0.4, label = 'Churn')\n",
    "  \n",
    "plt.xticks(X_axis, X)\n",
    "plt.xlabel(\"Days of the Week\")\n",
    "plt.ylabel(\"Percent of Roll Advert per Items Interacted\")\n",
    "plt.legend()\n",
    "plt.show()"
   ]
  },
  {
   "cell_type": "code",
   "execution_count": 52,
   "metadata": {},
   "outputs": [],
   "source": [
    "thumbs_table = train.filter((train.page == 'Thumbs Down') | (train.page == 'Thumbs Up')) \\\n",
    "    .select(\"page\", \"Churn\")\n",
    "thumbs_table = thumbs_table.toPandas()"
   ]
  },
  {
   "cell_type": "code",
   "execution_count": 53,
   "metadata": {},
   "outputs": [
    {
     "data": {
      "image/png": "[encoded data removed]",
      "text/plain": [
       "<Figure size 576x432 with 1 Axes>"
      ]
     },
     "metadata": {
      "needs_background": "light"
     },
     "output_type": "display_data"
    }
   ],
   "source": [
    "user = [0, 1]\n",
    "thumbs = ['Thumbs Up', 'Thumbs Down']\n",
    "colors = ['C2', 'C3']\n",
    "\n",
    "artists = [] # for storing references to plot elements\n",
    "baselines = np.zeros(len(user))\n",
    "user_counts = thumbs_table['Churn'].value_counts()\n",
    "\n",
    "plt.figure(figsize=(8, 6))\n",
    "# for each second-variable category:\n",
    "for i, color in zip(range(len(thumbs)), colors):\n",
    "    # isolate the counts of the first category,\n",
    "    thumb = thumbs[i]\n",
    "    inner_counts = thumbs_table[thumbs_table['page'] == thumb]['Churn'].value_counts()\n",
    "    inner_props = inner_counts / user_counts\n",
    "    # then plot those counts on top of the accumulated baseline\n",
    "    bars = plt.bar(x = np.arange(len(user)),\n",
    "                   height = inner_props[user],\n",
    "                   bottom = baselines, \n",
    "                   color=color)\n",
    "    artists.append(bars)\n",
    "    baselines += inner_props[user]\n",
    "\n",
    "plt.xticks(np.arange(len(user)), ['Not Churn', 'Churn'])\n",
    "plt.legend(reversed(artists), reversed(thumbs), framealpha = 1,\n",
    "           bbox_to_anchor = (1, 0.5), loc = 6);\n",
    "plt.ylabel(\"Percent\");"
   ]
  },
  {
   "cell_type": "markdown",
   "metadata": {},
   "source": [
    "#### How many songs do users listen to in a given hour?"
   ]
  },
  {
   "cell_type": "code",
   "execution_count": 54,
   "metadata": {},
   "outputs": [
    {
     "data": {
      "image/png": "[encoded data removed]",
      "text/plain": [
       "<Figure size 1008x432 with 2 Axes>"
      ]
     },
     "metadata": {
      "needs_background": "light"
     },
     "output_type": "display_data"
    }
   ],
   "source": [
    "plt.figure(figsize=(14, 6))\n",
    "\n",
    "# Counting the next song page requests\n",
    "songs_in_hour = train.filter((train.page == \"NextSong\") & (train.Churn == 0)) \\\n",
    "    .groupby(train.hour).count().orderBy(train.hour.cast(\"float\"))\n",
    "songs_in_hour_pd = songs_in_hour.toPandas()\n",
    "\n",
    "plt.subplot(1, 2, 1)\n",
    "plt.title('Not Churn')\n",
    "plt.scatter(songs_in_hour_pd[\"hour\"], songs_in_hour_pd[\"count\"])\n",
    "plt.xlim(-1, 24)\n",
    "plt.ylim(0, 1.2 * songs_in_hour_pd[\"count\"].max())\n",
    "plt.xlabel(\"Hour\")\n",
    "plt.ylabel(\"Songs Played\");\n",
    "\n",
    "# Counting the next song page requests\n",
    "songs_in_hour_churn = train.filter((train.page == \"NextSong\") & (train.Churn == 1)) \\\n",
    "    .groupby(train.hour).count().orderBy(train.hour.cast(\"float\"))\n",
    "songs_in_hour_churn_pd = songs_in_hour_churn.toPandas()\n",
    "\n",
    "plt.subplot(1, 2, 2)\n",
    "plt.title('Churn')\n",
    "plt.scatter(songs_in_hour_churn_pd[\"hour\"], songs_in_hour_churn_pd[\"count\"], color='C1')\n",
    "plt.xlim(-1, 24)\n",
    "plt.ylim(0, 1.2 * songs_in_hour_churn_pd[\"count\"].max())\n",
    "plt.xlabel(\"Hour\")\n",
    "plt.ylabel(\"Songs Played\");"
   ]
  },
  {
   "cell_type": "markdown",
   "metadata": {},
   "source": [
    "We can see some trends in how many songs our users played in different hours of the day"
   ]
  },
  {
   "cell_type": "code",
   "execution_count": 55,
   "metadata": {},
   "outputs": [],
   "source": [
    "n_songs = train.filter((train.Churn == 0) & (train.page == \"NextSong\")).count()\n",
    "n_sessions = train.filter(train.Churn == 0).groupBy(\"userId\", \"sessionId\").count().count()\n",
    "n_songs_churn = train.filter((train.Churn == 1) & (train.page == \"NextSong\")).count()\n",
    "n_sessions_churn = train.filter(train.Churn == 1).groupBy(\"userId\", \"sessionId\").count().count()"
   ]
  },
  {
   "cell_type": "code",
   "execution_count": 56,
   "metadata": {},
   "outputs": [
    {
     "data": {
      "image/png": "[encoded data removed]",
      "text/plain": [
       "<Figure size 360x504 with 1 Axes>"
      ]
     },
     "metadata": {
      "needs_background": "light"
     },
     "output_type": "display_data"
    }
   ],
   "source": [
    "plt.figure(figsize=(5, 7));\n",
    "plt.title('Avg Number of Songs Per Session');\n",
    "plt.bar(x=['Not Churn', 'Churn'], height=[n_songs/n_sessions, n_songs_churn/n_sessions_churn], color=['C0', 'C1']);\n",
    "\n",
    "values = [n_songs/n_sessions, n_songs_churn/n_sessions_churn]\n",
    "\n",
    "for index, value in enumerate(values):\n",
    "    plt.text(index-0.37, value+1, str(value))"
   ]
  },
  {
   "cell_type": "code",
   "execution_count": 57,
   "metadata": {
    "scrolled": true
   },
   "outputs": [],
   "source": [
    "# How many songs do notChurn users listen to on average between visiting our home page? \n",
    "function = udf(lambda ishome : int(ishome == 'Home'), IntegerType())\n",
    "\n",
    "user_window = Window \\\n",
    "    .partitionBy('userID') \\\n",
    "    .orderBy(desc('ts')) \\\n",
    "    .rangeBetween(Window.unboundedPreceding, 0)\n",
    "\n",
    "cusum = train.filter((train.page == 'NextSong') | (train.page == 'Home')) \\\n",
    "    .select('userID', 'page', 'ts') \\\n",
    "    .withColumn('homevisit', function(col('page'))) \\\n",
    "    .withColumn('period', Fsum('homevisit').over(user_window))\n",
    "\n",
    "df = cusum.filter((cusum.page == 'NextSong')) \\\n",
    "    .filter(train.Churn == 0) \\\n",
    "    .groupBy('userID', 'period') \\\n",
    "    .agg({'period':'count'}) \\\n",
    "    .agg({'count(period)':'avg'}).toPandas()\n",
    "avg_songs_between_homepage = df.loc[0, 'avg(count(period))']\n",
    "\n",
    "df_churn = cusum.filter((cusum.page == 'NextSong')) \\\n",
    "    .filter(train.Churn == 1) \\\n",
    "    .groupBy('userID', 'period') \\\n",
    "    .agg({'period':'count'}) \\\n",
    "    .agg({'count(period)':'avg'}).toPandas()\n",
    "avg_songs_between_homepage_churn = df_churn.loc[0, 'avg(count(period))']"
   ]
  },
  {
   "cell_type": "code",
   "execution_count": 58,
   "metadata": {},
   "outputs": [
    {
     "data": {
      "image/png": "[encoded data removed]",
      "text/plain": [
       "<Figure size 360x504 with 1 Axes>"
      ]
     },
     "metadata": {
      "needs_background": "light"
     },
     "output_type": "display_data"
    }
   ],
   "source": [
    "plt.figure(figsize=(5, 7));\n",
    "plt.title('Avg Number of Songs Between Visiting the Home Page');\n",
    "plt.bar(x=['Not Churn', 'Churn'], height=[avg_songs_between_homepage, avg_songs_between_homepage_churn], color=['C0', 'C1']);\n",
    "\n",
    "values = [avg_songs_between_homepage, avg_songs_between_homepage_churn]\n",
    "\n",
    "for index, value in enumerate(values):\n",
    "    plt.text(index-0.37, value+0.3, str(value))"
   ]
  },
  {
   "cell_type": "markdown",
   "metadata": {},
   "source": [
    "# Feature Engineering\n",
    "Once you've familiarized yourself with the data, build out the features you find promising to train your model on. To work with the full dataset, you can follow the following steps.\n",
    "- Write a script to extract the necessary features from the smaller subset of data\n",
    "- Ensure that your script is scalable, using the best practices discussed in Lesson 3\n",
    "- Try your script on the full data set, debugging your script if necessary\n",
    "\n",
    "If you are working in the classroom workspace, you can just extract features based on the small subset of data contained here. Be sure to transfer over this work to the larger dataset when you work on your Spark cluster."
   ]
  },
  {
   "cell_type": "code",
   "execution_count": 59,
   "metadata": {},
   "outputs": [],
   "source": [
    "# artist: count number of unique artist\n",
    "# gender: \n",
    "# itemInSession: total number\n",
    "# length: mean, std, min, 25, 50, 75, max\n",
    "# level: count free, count paid\n",
    "# registration:\n",
    "# sessionId: total number of unique sessionIds\n",
    "# ts: items per weekday\n",
    "# page: value_counts of each page except for cancel and cancel_confi\n",
    "\n",
    "# userAgent: value counts MAYBE"
   ]
  },
  {
   "cell_type": "code",
   "execution_count": 60,
   "metadata": {},
   "outputs": [
    {
     "data": {
      "text/plain": [
       "Row(artist=None, auth='Logged In', firstName='Darianna', gender='F', itemInSession=34, lastName='Carpenter', length=None, level='free', location='Bridgeport-Stamford-Norwalk, CT', method='PUT', page='Logout', registration=1538016340000, sessionId=187, song=None, status=307, ts=1542823952000, userAgent='\"Mozilla/5.0 (iPhone; CPU iPhone OS 7_1_2 like Mac OS X) AppleWebKit/537.51.2 (KHTML, like Gecko) Version/7.0 Mobile/11D257 Safari/9537.53\"', userId='100010', Churn_phase=0, Churn=0, hour='18', day='21', weekday=4, month='11')"
      ]
     },
     "execution_count": 60,
     "metadata": {},
     "output_type": "execute_result"
    }
   ],
   "source": [
    "train.head()"
   ]
  },
  {
   "cell_type": "code",
   "execution_count": 61,
   "metadata": {},
   "outputs": [
    {
     "name": "stdout",
     "output_type": "stream",
     "text": [
      "+------+---------+\n",
      "|userId|n_artists|\n",
      "+------+---------+\n",
      "|100010|      215|\n",
      "|200002|      269|\n",
      "|   125|        8|\n",
      "|   124|     1920|\n",
      "|    51|     1187|\n",
      "|     7|      114|\n",
      "|    15|     1087|\n",
      "|    54|     1467|\n",
      "|   155|      539|\n",
      "|100014|      191|\n",
      "|   132|     1086|\n",
      "|   154|       65|\n",
      "|   101|     1049|\n",
      "|    11|      421|\n",
      "|   138|     1136|\n",
      "|300017|     1778|\n",
      "|100021|      178|\n",
      "|    29|     1515|\n",
      "|    69|      719|\n",
      "|   112|      164|\n",
      "+------+---------+\n",
      "only showing top 20 rows\n",
      "\n"
     ]
    }
   ],
   "source": [
    "df_train = train.groupBy(\"userId\", \"artist\").count().groupBy(\"userId\").count().withColumnRenamed(\"count\", \"n_artists\")\n",
    "df_train.show()"
   ]
  },
  {
   "cell_type": "code",
   "execution_count": 62,
   "metadata": {},
   "outputs": [
    {
     "name": "stdout",
     "output_type": "stream",
     "text": [
      "+------+------+\n",
      "|userId|gender|\n",
      "+------+------+\n",
      "|100010|     F|\n",
      "|200002|     M|\n",
      "|   125|     M|\n",
      "|   124|     F|\n",
      "|    51|     M|\n",
      "|     7|     M|\n",
      "|    15|     M|\n",
      "|    54|     F|\n",
      "|   155|     F|\n",
      "|100014|     M|\n",
      "|   132|     F|\n",
      "|   154|     F|\n",
      "|   101|     M|\n",
      "|    11|     F|\n",
      "|   138|     M|\n",
      "|300017|     F|\n",
      "|100021|     M|\n",
      "|    29|     M|\n",
      "|    69|     F|\n",
      "|   112|     M|\n",
      "+------+------+\n",
      "only showing top 20 rows\n",
      "\n"
     ]
    }
   ],
   "source": [
    "gender = train.select(\"userId\", \"gender\").dropDuplicates()\n",
    "gender.show()"
   ]
  },
  {
   "cell_type": "code",
   "execution_count": 63,
   "metadata": {},
   "outputs": [
    {
     "name": "stdout",
     "output_type": "stream",
     "text": [
      "+------+-------+\n",
      "|userId|n_items|\n",
      "+------+-------+\n",
      "|100010|    318|\n",
      "|200002|    373|\n",
      "|   125|      9|\n",
      "|   124|   3875|\n",
      "|    51|   2000|\n",
      "|     7|    158|\n",
      "|    15|   1839|\n",
      "|    54|   2723|\n",
      "|   155|    805|\n",
      "|100014|    246|\n",
      "|   132|   1833|\n",
      "|   154|     92|\n",
      "|   101|   1689|\n",
      "|    11|    652|\n",
      "|   138|   1978|\n",
      "|300017|   3548|\n",
      "|100021|    267|\n",
      "|    29|   2905|\n",
      "|    69|   1080|\n",
      "|   112|    238|\n",
      "+------+-------+\n",
      "only showing top 20 rows\n",
      "\n"
     ]
    }
   ],
   "source": [
    "n_items = train.select(\"userId\").groupBy(\"userId\").count().withColumnRenamed(\"count\", \"n_items\")\n",
    "n_items.show()"
   ]
  },
  {
   "cell_type": "code",
   "execution_count": 64,
   "metadata": {},
   "outputs": [],
   "source": [
    "df_train = df_train.join(n_items, \"userId\", \"full\")"
   ]
  },
  {
   "cell_type": "code",
   "execution_count": 65,
   "metadata": {
    "scrolled": false
   },
   "outputs": [
    {
     "name": "stdout",
     "output_type": "stream",
     "text": [
      "+------+------------------+------------------+----------+---------+----------+---------+----------+\n",
      "|userId|        length_avg|        length_std|length_min|length_25|length_med|length_75|length_max|\n",
      "+------+------------------+------------------+----------+---------+----------+---------+----------+\n",
      "|100010| 240.2018280769232|  78.0767004621482|  52.27057|195.70893| 232.46322|277.15873| 538.85342|\n",
      "|200002|240.49953716171623|  76.0585627125677|  58.56608|195.18649| 232.12363|269.63546| 592.06485|\n",
      "|   125| 267.9300414285714| 81.77902334528262| 178.41587| 203.2322| 230.03383|337.91955| 391.26159|\n",
      "|   124| 247.9476343048367| 101.5501121027098|  18.05016|197.53751| 233.69098|277.15873|2369.04444|\n",
      "|    51| 248.2978537108014|105.84040328313046|   4.04853|  200.202| 235.20608|274.54649|2594.87302|\n",
      "|     7| 250.0652853846154| 96.53699121711973|   38.3473|202.86649| 232.85506|279.24853| 655.77751|\n",
      "|    15|248.90140342430155|  87.4052233251343|  27.01016|201.35138| 234.34404|281.52118| 1373.6224|\n",
      "|    54|251.09225481826212|101.62475761035884|  11.98975|200.14975| 235.25832|278.46485| 1400.2673|\n",
      "|   155|239.51053359635776| 80.17145009815191|   38.3473|195.94404| 231.26159|268.38159| 655.77751|\n",
      "|100014| 264.2572838834953| 187.4405978833897|  45.94893| 202.4224| 238.54975|282.48771|2594.87302|\n",
      "|   132|251.67571565616808|  97.5678827833094|  51.53914|199.26159| 235.72853|276.76689|1242.46159|\n",
      "|   154|233.61450000000005| 68.37831872916922|  28.26404|188.86485|  239.3073|275.43465| 428.87791|\n",
      "|   101|247.93850593706264| 92.49791762712313|  22.12526|197.25016| 233.69098|277.86404|1670.45179|\n",
      "|    11|246.71932240404058| 96.78202563801717|  40.69832|199.18322| 228.38812|272.19546| 995.13424|\n",
      "|   138|248.38758756919333| 95.45151652259058|  13.63546|199.94077| 234.37016|273.68444|1670.45179|\n",
      "|300017| 245.7350046167064| 98.11326986648298|   9.01179|196.75383| 232.01914|272.66567|1731.00363|\n",
      "|100021|249.45033356020937| 84.98978817266082|  46.86322|202.94485| 235.59791|278.17751| 563.35628|\n",
      "|    29|250.05175330734502|105.39464940117014|    17.162|199.49669| 234.84036|277.36771|2238.74567|\n",
      "|    69| 257.4526152771617|128.22389745643082|  27.01016|201.79546| 234.52689|282.27873|1670.45179|\n",
      "|   112|243.30566886363624| 73.27818078321826|  23.48363|198.03383| 233.69098|279.45751| 518.63465|\n",
      "+------+------------------+------------------+----------+---------+----------+---------+----------+\n",
      "only showing top 20 rows\n",
      "\n"
     ]
    }
   ],
   "source": [
    "df_length_st = train.dropna(how=\"any\", subset=[\"length\"])\n",
    "windowval = Window.partitionBy(\"userId\").rangeBetween(Window.unboundedPreceding, Window.unboundedFollowing)\n",
    "df_length_st = df_length_st.withColumn('length_avg', Favg('length').over(windowval))\n",
    "df_length_st = df_length_st.withColumn('length_std', stddev_samp('length').over(windowval))\n",
    "df_length_st = df_length_st.withColumn('length_min', min('length').over(windowval))\n",
    "percentile_25 = expr(\"percentile_approx(length, 0.25)\")\n",
    "df_length_st = df_length_st.withColumn('length_25', percentile_25.over(windowval))\n",
    "percentile_50 = expr(\"percentile_approx(length, 0.5)\")\n",
    "df_length_st = df_length_st.withColumn('length_med', percentile_50.over(windowval))\n",
    "percentile_75 = expr(\"percentile_approx(length, 0.75)\")\n",
    "df_length_st = df_length_st.withColumn('length_75', percentile_75.over(windowval))\n",
    "df_length_st = df_length_st.withColumn('length_max', max('length').over(windowval))\n",
    "df_length_st = df_length_st.select(\"userId\", \"length_avg\", \"length_std\", \"length_min\", \"length_25\", \"length_med\", \"length_75\", \"length_max\").dropDuplicates()\n",
    "df_length_st.show()"
   ]
  },
  {
   "cell_type": "code",
   "execution_count": 66,
   "metadata": {
    "scrolled": false
   },
   "outputs": [],
   "source": [
    "df_train = df_train.join(df_length_st, \"userId\", \"full\")"
   ]
  },
  {
   "cell_type": "code",
   "execution_count": 67,
   "metadata": {},
   "outputs": [
    {
     "name": "stdout",
     "output_type": "stream",
     "text": [
      "+------+----+----+\n",
      "|userId|free|paid|\n",
      "+------+----+----+\n",
      "|100010| 318|null|\n",
      "|200002|  95| 278|\n",
      "|   125|   9|null|\n",
      "|   124|null|3875|\n",
      "|    51|null|2000|\n",
      "|     7| 158|null|\n",
      "|    15|null|1839|\n",
      "|    54| 449|2274|\n",
      "|   155| 112| 693|\n",
      "|100014|null| 246|\n",
      "|   132|  28|1805|\n",
      "|   154|  92|null|\n",
      "|   101|  60|1629|\n",
      "|    11| 472| 180|\n",
      "|   138| 213|1765|\n",
      "|300017|null|3548|\n",
      "|100021| 267|null|\n",
      "|    29| 313|2592|\n",
      "|    69|  31|1049|\n",
      "|   112| 238|null|\n",
      "+------+----+----+\n",
      "only showing top 20 rows\n",
      "\n"
     ]
    }
   ],
   "source": [
    "level = train.groupBy(\"userId\").pivot(\"level\").count()\n",
    "level.show()"
   ]
  },
  {
   "cell_type": "code",
   "execution_count": 68,
   "metadata": {},
   "outputs": [],
   "source": [
    "df_train = df_train.join(level, \"userId\", \"full\")"
   ]
  },
  {
   "cell_type": "code",
   "execution_count": 69,
   "metadata": {},
   "outputs": [
    {
     "name": "stdout",
     "output_type": "stream",
     "text": [
      "+------+-------------+\n",
      "|userId| registration|\n",
      "+------+-------------+\n",
      "|100010|1538016340000|\n",
      "|200002|1536269906000|\n",
      "|   125|1533157139000|\n",
      "|   124|1532224335000|\n",
      "|    51|1538080987000|\n",
      "|     7|1536667576000|\n",
      "|    15|1538239045000|\n",
      "|    54|1532482662000|\n",
      "|   155|1541370470000|\n",
      "|100014|1535389443000|\n",
      "|   132|1537054553000|\n",
      "|   154|1541268021000|\n",
      "|   101|1535066380000|\n",
      "|    11|1532554781000|\n",
      "|   138|1537865819000|\n",
      "|300017|1537082511000|\n",
      "|100021|1537550344000|\n",
      "|    29|1536988041000|\n",
      "|    69|1536824159000|\n",
      "|   112|1536032681000|\n",
      "+------+-------------+\n",
      "only showing top 20 rows\n",
      "\n"
     ]
    }
   ],
   "source": [
    "registration = train.select(\"userId\", \"registration\").dropDuplicates()\n",
    "registration.show()"
   ]
  },
  {
   "cell_type": "code",
   "execution_count": 70,
   "metadata": {},
   "outputs": [],
   "source": [
    "df_train = df_train.join(registration, \"userId\", \"full\")"
   ]
  },
  {
   "cell_type": "code",
   "execution_count": 71,
   "metadata": {},
   "outputs": [
    {
     "name": "stdout",
     "output_type": "stream",
     "text": [
      "+------+----------+\n",
      "|userId|n_sessions|\n",
      "+------+----------+\n",
      "|100010|         7|\n",
      "|200002|         6|\n",
      "|   125|         1|\n",
      "|   124|        29|\n",
      "|    51|        10|\n",
      "|     7|         7|\n",
      "|    15|        15|\n",
      "|    54|        36|\n",
      "|   155|         6|\n",
      "|100014|         6|\n",
      "|   132|        16|\n",
      "|   154|         3|\n",
      "|   101|        10|\n",
      "|    11|        16|\n",
      "|   138|        15|\n",
      "|300017|        63|\n",
      "|100021|         5|\n",
      "|    29|        34|\n",
      "|    69|         9|\n",
      "|   112|         9|\n",
      "+------+----------+\n",
      "only showing top 20 rows\n",
      "\n"
     ]
    }
   ],
   "source": [
    "sessions = train.select(\"userId\", \"sessionId\").dropDuplicates().groupBy(\"userId\").count().withColumnRenamed(\"count\", \"n_sessions\")\n",
    "sessions.show()"
   ]
  },
  {
   "cell_type": "code",
   "execution_count": 72,
   "metadata": {},
   "outputs": [],
   "source": [
    "df_train = df_train.join(sessions, \"userId\", \"full\")"
   ]
  },
  {
   "cell_type": "code",
   "execution_count": 73,
   "metadata": {},
   "outputs": [
    {
     "name": "stdout",
     "output_type": "stream",
     "text": [
      "+------+----+----+----+----+----+----+----+\n",
      "|userId|   1|   2|   3|   4|   5|   6|   7|\n",
      "+------+----+----+----+----+----+----+----+\n",
      "|200002|null|  77|  78|null| 218|null|null|\n",
      "|100010|null| 100|  40|  28|null|  97|  53|\n",
      "|   125|null|null|null|null|null|   9|null|\n",
      "|     7|null|null|  18| 105|   6|  29|null|\n",
      "|   124| 303| 796| 806| 483| 490| 835| 162|\n",
      "|    51|  87| 475| 424| 178| 269| 519|  48|\n",
      "|    54| 294| 330| 295| 642| 563| 348| 251|\n",
      "|    15| 165| 218| 421| 137| 328| 301| 269|\n",
      "|   155|null|null| 125| 188|  64| 428|null|\n",
      "|   132|  47| 323| 463| 365| 189| 378|  68|\n",
      "|   154|null|null|  23|null|null|  21|  48|\n",
      "|100014|null|null| 126|  47|null|  27|  46|\n",
      "|   101| 100| 333| 464| 437| 213|  87|  55|\n",
      "|    11|  47| 223|  50|  40|  54| 208|  30|\n",
      "|300017| 387| 273| 679| 452| 553| 798| 406|\n",
      "|   138|  61| 216| 244| 109| 578| 464| 306|\n",
      "|    69|  72|  76| 309|  99| 202| 322|null|\n",
      "|100021| 151|null|null|null|  12|  15|  89|\n",
      "|    29| 159| 711| 580| 461| 664| 198| 132|\n",
      "|   112|  22|  94|  20|  27|  36|  39|null|\n",
      "+------+----+----+----+----+----+----+----+\n",
      "only showing top 20 rows\n",
      "\n"
     ]
    }
   ],
   "source": [
    "weekday_items = train.groupBy(\"userId\").pivot(\"weekday\").count()\n",
    "weekday_items.show()"
   ]
  },
  {
   "cell_type": "code",
   "execution_count": 74,
   "metadata": {},
   "outputs": [],
   "source": [
    "df_train = df_train.join(weekday_items, \"userId\", \"full\")"
   ]
  },
  {
   "cell_type": "code",
   "execution_count": 75,
   "metadata": {},
   "outputs": [
    {
     "name": "stdout",
     "output_type": "stream",
     "text": [
      "+------+-----+----------+---------------+------+-------------------------+---------+-----+----+----+------+--------+-----------+-------------+--------+----------------+--------------+-----------+---------+-------+\n",
      "|userId|About|Add Friend|Add to Playlist|Cancel|Cancellation Confirmation|Downgrade|Error|Help|Home|Logout|NextSong|Roll Advert|Save Settings|Settings|Submit Downgrade|Submit Upgrade|Thumbs Down|Thumbs Up|Upgrade|\n",
      "+------+-----+----------+---------------+------+-------------------------+---------+-----+----+----+------+--------+-----------+-------------+--------+----------------+--------------+-----------+---------+-------+\n",
      "|100010|    1|         3|              5|  null|                     null|     null| null|   2|   6|     5|     234|         43|         null|    null|            null|          null|          2|       15|      2|\n",
      "|200002|    2|         3|              6|  null|                     null|        5| null|   1|  16|     3|     303|          4|         null|       3|            null|             1|          6|       18|      2|\n",
      "|   125| null|      null|           null|     1|                        1|     null| null|null|null|  null|       7|       null|         null|    null|            null|          null|       null|     null|   null|\n",
      "|   124|    7|        55|             88|  null|                     null|       29|    5|  19| 146|    47|    3287|          3|            6|      14|            null|          null|         34|      135|   null|\n",
      "|    51|    2|        20|             44|     1|                        1|       19|    1|   9|  55|    20|    1722|       null|            1|       8|            null|          null|         20|       77|   null|\n",
      "|     7| null|      null|              5|  null|                     null|     null|    1|   1|   6|     3|     117|         13|            1|       3|            null|          null|          1|        6|      1|\n",
      "|    15|    1|        25|             52|  null|                     null|       22|    2|   7|  77|    22|    1539|          1|         null|      14|            null|          null|         11|       66|   null|\n",
      "|    54|    4|        27|             58|     1|                        1|       35| null|  15|  98|    27|    2256|         29|            2|      13|            null|          null|         24|      132|      1|\n",
      "|   155|    2|         8|             20|  null|                     null|       10|    3|   6|  22|    11|     659|          8|         null|       4|            null|             1|          2|       47|      2|\n",
      "|100014| null|         3|              6|     1|                        1|        3| null|   1|   5|     3|     206|          2|         null|       1|            null|          null|          3|       11|   null|\n",
      "|   132|    3|        34|             30|  null|                     null|       14|    3|  12|  71|    26|    1524|          2|            3|      15|            null|             1|         16|       78|      1|\n",
      "|   154| null|         2|              1|  null|                     null|     null| null|null|   5|     1|      69|          8|         null|    null|            null|          null|       null|        6|   null|\n",
      "|   101|    1|        25|             44|     1|                        1|       16|    3|  11|  51|    19|    1430|          4|            1|       5|            null|             1|         12|       63|      1|\n",
      "|    11|    6|         4|             17|  null|                     null|        4|    1|   2|  30|     8|     495|         30|            2|       3|            null|             1|          9|       33|      7|\n",
      "|   138|    6|        32|             51|  null|                     null|       19|    1|   9|  54|    15|    1662|         15|            4|      14|            null|             1|         19|       75|      1|\n",
      "|300017|    3|        49|             91|  null|                     null|       20|    4|  24| 124|    33|    2909|          9|            3|      17|            null|          null|         24|      238|   null|\n",
      "|100021|    1|         6|              7|     1|                        1|     null|    2|null|  13|     7|     191|         22|         null|    null|            null|          null|          5|       10|      1|\n",
      "|    29|    2|        40|             67|     1|                        1|       14| null|  25| 101|    31|    2437|         18|            3|      16|            null|             1|         20|      124|      4|\n",
      "|    69|    2|        11|             23|  null|                     null|        9|    4|   5|  39|     8|     902|          3|            1|       2|            null|             1|          9|       60|      1|\n",
      "|   112| null|         7|              5|  null|                     null|     null| null|   1|  12|     3|     176|         16|            3|       3|            null|          null|          2|        8|      2|\n",
      "+------+-----+----------+---------------+------+-------------------------+---------+-----+----+----+------+--------+-----------+-------------+--------+----------------+--------------+-----------+---------+-------+\n",
      "only showing top 20 rows\n",
      "\n"
     ]
    }
   ],
   "source": [
    "page = train.groupBy(\"userId\").pivot(\"page\").count()\n",
    "page.show()"
   ]
  },
  {
   "cell_type": "code",
   "execution_count": 76,
   "metadata": {},
   "outputs": [],
   "source": [
    "df_train = df_train.join(page, \"userId\", \"full\")"
   ]
  },
  {
   "cell_type": "code",
   "execution_count": 77,
   "metadata": {},
   "outputs": [],
   "source": [
    "df_train = df_train.drop(\"Cancel\", \"Cancellation Confirmation\")"
   ]
  },
  {
   "cell_type": "code",
   "execution_count": 78,
   "metadata": {},
   "outputs": [
    {
     "name": "stdout",
     "output_type": "stream",
     "text": [
      "+------+---------+\n",
      "|userId|is_female|\n",
      "+------+---------+\n",
      "|100010|        1|\n",
      "|200002|        0|\n",
      "|   125|        0|\n",
      "|   124|        1|\n",
      "|    51|        0|\n",
      "|     7|        0|\n",
      "|    15|        0|\n",
      "|    54|        1|\n",
      "|   155|        1|\n",
      "|100014|        0|\n",
      "|   132|        1|\n",
      "|   154|        1|\n",
      "|   101|        0|\n",
      "|    11|        1|\n",
      "|   138|        0|\n",
      "|300017|        1|\n",
      "|100021|        0|\n",
      "|    29|        0|\n",
      "|    69|        1|\n",
      "|   112|        0|\n",
      "+------+---------+\n",
      "only showing top 20 rows\n",
      "\n"
     ]
    }
   ],
   "source": [
    "flag_females = udf(lambda x: 1 if x == \"F\" else 0, IntegerType())\n",
    "gender = gender.withColumn(\"is_female\", flag_females(\"gender\"))\n",
    "gender = gender.drop(\"gender\")\n",
    "gender.show()"
   ]
  },
  {
   "cell_type": "code",
   "execution_count": 79,
   "metadata": {},
   "outputs": [],
   "source": [
    "df_train = df_train.join(gender, \"userId\", \"full\")"
   ]
  },
  {
   "cell_type": "code",
   "execution_count": 80,
   "metadata": {},
   "outputs": [
    {
     "name": "stdout",
     "output_type": "stream",
     "text": [
      "+------+-----+\n",
      "|userId|Churn|\n",
      "+------+-----+\n",
      "|100010|    0|\n",
      "|200002|    0|\n",
      "|   125|    1|\n",
      "|   124|    0|\n",
      "|    51|    1|\n",
      "|     7|    0|\n",
      "|    15|    0|\n",
      "|    54|    1|\n",
      "|   155|    0|\n",
      "|100014|    1|\n",
      "|   132|    0|\n",
      "|   154|    0|\n",
      "|   101|    1|\n",
      "|    11|    0|\n",
      "|   138|    0|\n",
      "|300017|    0|\n",
      "|100021|    1|\n",
      "|    29|    1|\n",
      "|    69|    0|\n",
      "|   112|    0|\n",
      "+------+-----+\n",
      "only showing top 20 rows\n",
      "\n"
     ]
    }
   ],
   "source": [
    "train_labels = train.select(\"userId\", \"Churn\").dropDuplicates()\n",
    "train_labels.show()"
   ]
  },
  {
   "cell_type": "code",
   "execution_count": 81,
   "metadata": {},
   "outputs": [],
   "source": [
    "df_train = df_train.join(train_labels, \"userId\", \"full\")"
   ]
  },
  {
   "cell_type": "code",
   "execution_count": 82,
   "metadata": {},
   "outputs": [],
   "source": [
    "df_train = df_train.na.fill(value=0)"
   ]
  },
  {
   "cell_type": "code",
   "execution_count": 83,
   "metadata": {},
   "outputs": [
    {
     "name": "stdout",
     "output_type": "stream",
     "text": [
      "root\n",
      " |-- userId: string (nullable = true)\n",
      " |-- n_artists: long (nullable = true)\n",
      " |-- n_items: long (nullable = true)\n",
      " |-- length_avg: double (nullable = false)\n",
      " |-- length_std: double (nullable = false)\n",
      " |-- length_min: double (nullable = false)\n",
      " |-- length_25: double (nullable = false)\n",
      " |-- length_med: double (nullable = false)\n",
      " |-- length_75: double (nullable = false)\n",
      " |-- length_max: double (nullable = false)\n",
      " |-- free: long (nullable = true)\n",
      " |-- paid: long (nullable = true)\n",
      " |-- registration: long (nullable = true)\n",
      " |-- n_sessions: long (nullable = true)\n",
      " |-- 1: long (nullable = true)\n",
      " |-- 2: long (nullable = true)\n",
      " |-- 3: long (nullable = true)\n",
      " |-- 4: long (nullable = true)\n",
      " |-- 5: long (nullable = true)\n",
      " |-- 6: long (nullable = true)\n",
      " |-- 7: long (nullable = true)\n",
      " |-- About: long (nullable = true)\n",
      " |-- Add Friend: long (nullable = true)\n",
      " |-- Add to Playlist: long (nullable = true)\n",
      " |-- Downgrade: long (nullable = true)\n",
      " |-- Error: long (nullable = true)\n",
      " |-- Help: long (nullable = true)\n",
      " |-- Home: long (nullable = true)\n",
      " |-- Logout: long (nullable = true)\n",
      " |-- NextSong: long (nullable = true)\n",
      " |-- Roll Advert: long (nullable = true)\n",
      " |-- Save Settings: long (nullable = true)\n",
      " |-- Settings: long (nullable = true)\n",
      " |-- Submit Downgrade: long (nullable = true)\n",
      " |-- Submit Upgrade: long (nullable = true)\n",
      " |-- Thumbs Down: long (nullable = true)\n",
      " |-- Thumbs Up: long (nullable = true)\n",
      " |-- Upgrade: long (nullable = true)\n",
      " |-- is_female: integer (nullable = true)\n",
      " |-- Churn: long (nullable = true)\n",
      "\n"
     ]
    }
   ],
   "source": [
    "df_train.printSchema()"
   ]
  },
  {
   "cell_type": "code",
   "execution_count": 87,
   "metadata": {},
   "outputs": [],
   "source": [
    "from pyspark.ml.feature import StandardScaler\n",
    "from pyspark.ml.feature import VectorAssembler"
   ]
  },
  {
   "cell_type": "code",
   "execution_count": 86,
   "metadata": {},
   "outputs": [
    {
     "name": "stdout",
     "output_type": "stream",
     "text": [
      "+------+---------+-------+------------------+------------------+----------+---------+----------+---------+----------+----+----+-------------+----------+---+---+---+---+---+---+---+-----+----------+---------------+---------+-----+----+----+------+--------+-----------+-------------+--------+----------------+--------------+-----------+---------+-------+---------+-----+--------------------+\n",
      "|userId|n_artists|n_items|        length_avg|        length_std|length_min|length_25|length_med|length_75|length_max|free|paid| registration|n_sessions|  1|  2|  3|  4|  5|  6|  7|About|Add Friend|Add to Playlist|Downgrade|Error|Help|Home|Logout|NextSong|Roll Advert|Save Settings|Settings|Submit Downgrade|Submit Upgrade|Thumbs Down|Thumbs Up|Upgrade|is_female|Churn|            features|\n",
      "+------+---------+-------+------------------+------------------+----------+---------+----------+---------+----------+----+----+-------------+----------+---+---+---+---+---+---+---+-----+----------+---------------+---------+-----+----+----+------+--------+-----------+-------------+--------+----------------+--------------+-----------+---------+-------+---------+-----+--------------------+\n",
      "|100010|      215|    318| 240.2018280769232|  78.0767004621482|  52.27057|195.70893| 232.46322|277.15873| 538.85342| 318|   0|1538016340000|         7|  0|100| 40| 28|  0| 97| 53|    1|         3|              5|        0|    0|   2|   6|     5|     234|         43|            0|       0|               0|             0|          2|       15|      2|        1|    0|[215.0,318.0,240....|\n",
      "|200002|      269|    373|240.49953716171623|  76.0585627125677|  58.56608|195.18649| 232.12363|269.63546| 592.06485|  95| 278|1536269906000|         6|  0| 77| 78|  0|218|  0|  0|    2|         3|              6|        5|    0|   1|  16|     3|     303|          4|            0|       3|               0|             1|          6|       18|      2|        0|    0|[269.0,373.0,240....|\n",
      "|   125|        8|      9| 267.9300414285714| 81.77902334528262| 178.41587| 203.2322| 230.03383|337.91955| 391.26159|   9|   0|1533157139000|         1|  0|  0|  0|  0|  0|  9|  0|    0|         0|              0|        0|    0|   0|   0|     0|       7|          0|            0|       0|               0|             0|          0|        0|      0|        0|    1|(37,[0,1,2,3,4,5,...|\n",
      "|   124|     1920|   3875| 247.9476343048367| 101.5501121027098|  18.05016|197.53751| 233.69098|277.15873|2369.04444|   0|3875|1532224335000|        29|303|796|806|483|490|835|162|    7|        55|             88|       29|    5|  19| 146|    47|    3287|          3|            6|      14|               0|             0|         34|      135|      0|        1|    0|[1920.0,3875.0,24...|\n",
      "|    51|     1187|   2000| 248.2978537108014|105.84040328313046|   4.04853|  200.202| 235.20608|274.54649|2594.87302|   0|2000|1538080987000|        10| 87|475|424|178|269|519| 48|    2|        20|             44|       19|    1|   9|  55|    20|    1722|          0|            1|       8|               0|             0|         20|       77|      0|        0|    1|[1187.0,2000.0,24...|\n",
      "|     7|      114|    158| 250.0652853846154| 96.53699121711973|   38.3473|202.86649| 232.85506|279.24853| 655.77751| 158|   0|1536667576000|         7|  0|  0| 18|105|  6| 29|  0|    0|         0|              5|        0|    1|   1|   6|     3|     117|         13|            1|       3|               0|             0|          1|        6|      1|        0|    0|[114.0,158.0,250....|\n",
      "|    15|     1087|   1839|248.90140342430155|  87.4052233251343|  27.01016|201.35138| 234.34404|281.52118| 1373.6224|   0|1839|1538239045000|        15|165|218|421|137|328|301|269|    1|        25|             52|       22|    2|   7|  77|    22|    1539|          1|            0|      14|               0|             0|         11|       66|      0|        0|    0|[1087.0,1839.0,24...|\n",
      "|    54|     1467|   2723|251.09225481826212|101.62475761035884|  11.98975|200.14975| 235.25832|278.46485| 1400.2673| 449|2274|1532482662000|        36|294|330|295|642|563|348|251|    4|        27|             58|       35|    0|  15|  98|    27|    2256|         29|            2|      13|               0|             0|         24|      132|      1|        1|    1|[1467.0,2723.0,25...|\n",
      "|   155|      539|    805|239.51053359635776| 80.17145009815191|   38.3473|195.94404| 231.26159|268.38159| 655.77751| 112| 693|1541370470000|         6|  0|  0|125|188| 64|428|  0|    2|         8|             20|       10|    3|   6|  22|    11|     659|          8|            0|       4|               0|             1|          2|       47|      2|        1|    0|[539.0,805.0,239....|\n",
      "|100014|      191|    246| 264.2572838834953| 187.4405978833897|  45.94893| 202.4224| 238.54975|282.48771|2594.87302|   0| 246|1535389443000|         6|  0|  0|126| 47|  0| 27| 46|    0|         3|              6|        3|    0|   1|   5|     3|     206|          2|            0|       1|               0|             0|          3|       11|      0|        0|    1|[191.0,246.0,264....|\n",
      "|   132|     1086|   1833|251.67571565616808|  97.5678827833094|  51.53914|199.26159| 235.72853|276.76689|1242.46159|  28|1805|1537054553000|        16| 47|323|463|365|189|378| 68|    3|        34|             30|       14|    3|  12|  71|    26|    1524|          2|            3|      15|               0|             1|         16|       78|      1|        1|    0|[1086.0,1833.0,25...|\n",
      "|   154|       65|     92|233.61450000000005| 68.37831872916922|  28.26404|188.86485|  239.3073|275.43465| 428.87791|  92|   0|1541268021000|         3|  0|  0| 23|  0|  0| 21| 48|    0|         2|              1|        0|    0|   0|   5|     1|      69|          8|            0|       0|               0|             0|          0|        6|      0|        1|    0|(37,[0,1,2,3,4,5,...|\n",
      "|   101|     1049|   1689|247.93850593706264| 92.49791762712313|  22.12526|197.25016| 233.69098|277.86404|1670.45179|  60|1629|1535066380000|        10|100|333|464|437|213| 87| 55|    1|        25|             44|       16|    3|  11|  51|    19|    1430|          4|            1|       5|               0|             1|         12|       63|      1|        0|    1|[1049.0,1689.0,24...|\n",
      "|    11|      421|    652|246.71932240404058| 96.78202563801717|  40.69832|199.18322| 228.38812|272.19546| 995.13424| 472| 180|1532554781000|        16| 47|223| 50| 40| 54|208| 30|    6|         4|             17|        4|    1|   2|  30|     8|     495|         30|            2|       3|               0|             1|          9|       33|      7|        1|    0|[421.0,652.0,246....|\n",
      "|   138|     1136|   1978|248.38758756919333| 95.45151652259058|  13.63546|199.94077| 234.37016|273.68444|1670.45179| 213|1765|1537865819000|        15| 61|216|244|109|578|464|306|    6|        32|             51|       19|    1|   9|  54|    15|    1662|         15|            4|      14|               0|             1|         19|       75|      1|        0|    0|[1136.0,1978.0,24...|\n",
      "|300017|     1778|   3548| 245.7350046167064| 98.11326986648298|   9.01179|196.75383| 232.01914|272.66567|1731.00363|   0|3548|1537082511000|        63|387|273|679|452|553|798|406|    3|        49|             91|       20|    4|  24| 124|    33|    2909|          9|            3|      17|               0|             0|         24|      238|      0|        1|    0|[1778.0,3548.0,24...|\n",
      "|100021|      178|    267|249.45033356020937| 84.98978817266082|  46.86322|202.94485| 235.59791|278.17751| 563.35628| 267|   0|1537550344000|         5|151|  0|  0|  0| 12| 15| 89|    1|         6|              7|        0|    2|   0|  13|     7|     191|         22|            0|       0|               0|             0|          5|       10|      1|        0|    1|[178.0,267.0,249....|\n",
      "|    29|     1515|   2905|250.05175330734502|105.39464940117014|    17.162|199.49669| 234.84036|277.36771|2238.74567| 313|2592|1536988041000|        34|159|711|580|461|664|198|132|    2|        40|             67|       14|    0|  25| 101|    31|    2437|         18|            3|      16|               0|             1|         20|      124|      4|        0|    1|[1515.0,2905.0,25...|\n",
      "|    69|      719|   1080| 257.4526152771617|128.22389745643082|  27.01016|201.79546| 234.52689|282.27873|1670.45179|  31|1049|1536824159000|         9| 72| 76|309| 99|202|322|  0|    2|        11|             23|        9|    4|   5|  39|     8|     902|          3|            1|       2|               0|             1|          9|       60|      1|        1|    0|[719.0,1080.0,257...|\n",
      "|   112|      164|    238|243.30566886363624| 73.27818078321826|  23.48363|198.03383| 233.69098|279.45751| 518.63465| 238|   0|1536032681000|         9| 22| 94| 20| 27| 36| 39|  0|    0|         7|              5|        0|    0|   1|  12|     3|     176|         16|            3|       3|               0|             0|          2|        8|      2|        0|    0|[164.0,238.0,243....|\n",
      "+------+---------+-------+------------------+------------------+----------+---------+----------+---------+----------+----+----+-------------+----------+---+---+---+---+---+---+---+-----+----------+---------------+---------+-----+----+----+------+--------+-----------+-------------+--------+----------------+--------------+-----------+---------+-------+---------+-----+--------------------+\n",
      "only showing top 20 rows\n",
      "\n"
     ]
    }
   ],
   "source": [
    "# Vector assembled set of features \n",
    "# (assemble only the columns you want to MinMax Scale)\n",
    "assembler = VectorAssembler(inputCols=[\"n_artists\", \"n_items\", \"length_avg\", \"length_std\", \"length_min\", \"length_25\", \n",
    "                                       \"length_med\", \"length_75\", \"length_max\", \"free\", \"paid\", \"registration\", \n",
    "                                       \"n_sessions\", \"1\", \"2\", \"3\", \"4\", \"5\", \"6\", \"7\", \"About\", \"Add Friend\", \n",
    "                                       \"Add to Playlist\", \"Downgrade\", \"Error\", \"Help\", \"Home\", \"Logout\", \n",
    "                                       \"NextSong\", \"Roll Advert\", \"Save Settings\", \"Settings\", 'Submit Downgrade', \n",
    "                                       'Submit Upgrade', 'Thumbs Down', 'Thumbs Up', 'Upgrade'],\n",
    "                            outputCol=\"features\")\n",
    "\n",
    "output = assembler.transform(df_train)"
   ]
  },
  {
   "cell_type": "code",
   "execution_count": 88,
   "metadata": {},
   "outputs": [
    {
     "name": "stdout",
     "output_type": "stream",
     "text": [
      "+------+---------+-------+------------------+------------------+----------+---------+----------+---------+----------+----+----+-------------+----------+---+---+---+---+---+---+---+-----+----------+---------------+---------+-----+----+----+------+--------+-----------+-------------+--------+----------------+--------------+-----------+---------+-------+---------+-----+--------------------+--------------------+\n",
      "|userId|n_artists|n_items|        length_avg|        length_std|length_min|length_25|length_med|length_75|length_max|free|paid| registration|n_sessions|  1|  2|  3|  4|  5|  6|  7|About|Add Friend|Add to Playlist|Downgrade|Error|Help|Home|Logout|NextSong|Roll Advert|Save Settings|Settings|Submit Downgrade|Submit Upgrade|Thumbs Down|Thumbs Up|Upgrade|is_female|Churn|            features|      scaledFeatures|\n",
      "+------+---------+-------+------------------+------------------+----------+---------+----------+---------+----------+----+----+-------------+----------+---+---+---+---+---+---+---+-----+----------+---------------+---------+-----+----+----+------+--------+-----------+-------------+--------+----------------+--------------+-----------+---------+-------+---------+-----+--------------------+--------------------+\n",
      "|100010|      215|    318| 240.2018280769232|  78.0767004621482|  52.27057|195.70893| 232.46322|277.15873| 538.85342| 318|   0|1538016340000|         7|  0|100| 40| 28|  0| 97| 53|    1|         3|              5|        0|    0|   2|   6|     5|     234|         43|            0|       0|               0|             0|          2|       15|      2|        1|    0|[215.0,318.0,240....|[-0.7162625266006...|\n",
      "|200002|      269|    373|240.49953716171623|  76.0585627125677|  58.56608|195.18649| 232.12363|269.63546| 592.06485|  95| 278|1536269906000|         6|  0| 77| 78|  0|218|  0|  0|    2|         3|              6|        5|    0|   1|  16|     3|     303|          4|            0|       3|               0|             1|          6|       18|      2|        0|    0|[269.0,373.0,240....|[-0.6113779292232...|\n",
      "|   125|        8|      9| 267.9300414285714| 81.77902334528262| 178.41587| 203.2322| 230.03383|337.91955| 391.26159|   9|   0|1533157139000|         1|  0|  0|  0|  0|  0|  9|  0|    0|         0|              0|        0|    0|   0|   0|     0|       7|          0|            0|       0|               0|             0|          0|        0|      0|        0|    1|(37,[0,1,2,3,4,5,...|[-1.1183201498808...|\n",
      "|   124|     1920|   3875| 247.9476343048367| 101.5501121027098|  18.05016|197.53751| 233.69098|277.15873|2369.04444|   0|3875|1532224335000|        29|303|796|806|483|490|835|162|    7|        55|             88|       29|    5|  19| 146|    47|    3287|          3|            6|      14|               0|             0|         34|      135|      0|        1|    0|[1920.0,3875.0,24...|[2.59537152022390...|\n",
      "|    51|     1187|   2000| 248.2978537108014|105.84040328313046|   4.04853|  200.202| 235.20608|274.54649|2594.87302|   0|2000|1538080987000|        10| 87|475|424|178|269|519| 48|    2|        20|             44|       19|    1|   9|  55|    20|    1722|          0|            1|       8|               0|             0|         20|       77|      0|        0|    1|[1187.0,2000.0,24...|[1.17166022619317...|\n",
      "|     7|      114|    158| 250.0652853846154| 96.53699121711973|   38.3473|202.86649| 232.85506|279.24853| 655.77751| 158|   0|1536667576000|         7|  0|  0| 18|105|  6| 29|  0|    0|         0|              5|        0|    1|   1|   6|     3|     117|         13|            1|       3|               0|             0|          1|        6|      1|        0|    0|[114.0,158.0,250....|[-0.9124355698436...|\n",
      "|    15|     1087|   1839|248.90140342430155|  87.4052233251343|  27.01016|201.35138| 234.34404|281.52118| 1373.6224|   0|1839|1538239045000|        15|165|218|421|137|328|301|269|    1|        25|             52|       22|    2|   7|  77|    22|    1539|          1|            0|      14|               0|             0|         11|       66|      0|        0|    0|[1087.0,1839.0,24...|[0.97742949030903...|\n",
      "|    54|     1467|   2723|251.09225481826212|101.62475761035884|  11.98975|200.14975| 235.25832|278.46485| 1400.2673| 449|2274|1532482662000|        36|294|330|295|642|563|348|251|    4|        27|             58|       35|    0|  15|  98|    27|    2256|         29|            2|      13|               0|             0|         24|      132|      1|        1|    1|[1467.0,2723.0,25...|[1.71550628666875...|\n",
      "|   155|      539|    805|239.51053359635776| 80.17145009815191|   38.3473|195.94404| 231.26159|268.38159| 655.77751| 112| 693|1541370470000|         6|  0|  0|125|188| 64|428|  0|    2|         8|             20|       10|    3|   6|  22|    11|     659|          8|            0|       4|               0|             1|          2|       47|      2|        1|    0|[539.0,805.0,239....|[-0.0869549423360...|\n",
      "|100014|      191|    246| 264.2572838834953| 187.4405978833897|  45.94893| 202.4224| 238.54975|282.48771|2594.87302|   0| 246|1535389443000|         6|  0|  0|126| 47|  0| 27| 46|    0|         3|              6|        3|    0|   1|   5|     3|     206|          2|            0|       1|               0|             0|          3|       11|      0|        0|    1|[191.0,246.0,264....|[-0.7628779032128...|\n",
      "|   132|     1086|   1833|251.67571565616808|  97.5678827833094|  51.53914|199.26159| 235.72853|276.76689|1242.46159|  28|1805|1537054553000|        16| 47|323|463|365|189|378| 68|    3|        34|             30|       14|    3|  12|  71|    26|    1524|          2|            3|      15|               0|             1|         16|       78|      1|        1|    0|[1086.0,1833.0,25...|[0.97548718295019...|\n",
      "|   154|       65|     92|233.61450000000005| 68.37831872916922|  28.26404|188.86485|  239.3073|275.43465| 428.87791|  92|   0|1541268021000|         3|  0|  0| 23|  0|  0| 21| 48|    0|         2|              1|        0|    0|   0|   5|     1|      69|          8|            0|       0|               0|             0|          0|        6|      0|        1|    0|(37,[0,1,2,3,4,5,...|[-1.0076086304268...|\n",
      "|   101|     1049|   1689|247.93850593706264| 92.49791762712313|  22.12526|197.25016| 233.69098|277.86404|1670.45179|  60|1629|1535066380000|        10|100|333|464|437|213| 87| 55|    1|        25|             44|       16|    3|  11|  51|    19|    1430|          4|            1|       5|               0|             1|         12|       63|      1|        0|    1|[1049.0,1689.0,24...|[0.90362181067306...|\n",
      "|    11|      421|    652|246.71932240404058| 96.78202563801717|  40.69832|199.18322| 228.38812|272.19546| 995.13424| 472| 180|1532554781000|        16| 47|223| 50| 40| 54|208| 30|    6|         4|             17|        4|    1|   2|  30|     8|     495|         30|            2|       3|               0|             1|          9|       33|      7|        1|    0|[421.0,652.0,246....|[-0.3161472106793...|\n",
      "|   138|     1136|   1978|248.38758756919333| 95.45151652259058|  13.63546|199.94077| 234.37016|273.68444|1670.45179| 213|1765|1537865819000|        15| 61|216|244|109|578|464|306|    6|        32|             51|       19|    1|   9|  54|    15|    1662|         15|            4|      14|               0|             1|         19|       75|      1|        0|    0|[1136.0,1978.0,24...|[1.07260255089226...|\n",
      "|300017|     1778|   3548| 245.7350046167064| 98.11326986648298|   9.01179|196.75383| 232.01914|272.66567|1731.00363|   0|3548|1537082511000|        63|387|273|679|452|553|798|406|    3|        49|             91|       20|    4|  24| 124|    33|    2909|          9|            3|      17|               0|             0|         24|      238|      0|        1|    0|[1778.0,3548.0,24...|[2.31956387526842...|\n",
      "|100021|      178|    267|249.45033356020937| 84.98978817266082|  46.86322|202.94485| 235.59791|278.17751| 563.35628| 267|   0|1537550344000|         5|151|  0|  0|  0| 12| 15| 89|    1|         6|              7|        0|    2|   0|  13|     7|     191|         22|            0|       0|               0|             0|          5|       10|      1|        0|    1|[178.0,267.0,249....|[-0.7881278988777...|\n",
      "|    29|     1515|   2905|250.05175330734502|105.39464940117014|    17.162|199.49669| 234.84036|277.36771|2238.74567| 313|2592|1536988041000|        34|159|711|580|461|664|198|132|    2|        40|             67|       14|    0|  25| 101|    31|    2437|         18|            3|      16|               0|             1|         20|      124|      4|        0|    1|[1515.0,2905.0,25...|[1.80873703989314...|\n",
      "|    69|      719|   1080| 257.4526152771617|128.22389745643082|  27.01016|201.79546| 234.52689|282.27873|1670.45179|  31|1049|1536824159000|         9| 72| 76|309| 99|202|322|  0|    2|        11|             23|        9|    4|   5|  39|     8|     902|          3|            1|       2|               0|             1|          9|       60|      1|        1|    0|[719.0,1080.0,257...|[0.26266038225540...|\n",
      "|   112|      164|    238|243.30566886363624| 73.27818078321826|  23.48363|198.03383| 233.69098|279.45751| 518.63465| 238|   0|1536032681000|         9| 22| 94| 20| 27| 36| 39|  0|    0|         7|              5|        0|    0|   1|  12|     3|     176|         16|            3|       3|               0|             0|          2|        8|      2|        0|    0|[164.0,238.0,243....|[-0.8153202019015...|\n",
      "+------+---------+-------+------------------+------------------+----------+---------+----------+---------+----------+----+----+-------------+----------+---+---+---+---+---+---+---+-----+----------+---------------+---------+-----+----+----+------+--------+-----------+-------------+--------+----------------+--------------+-----------+---------+-------+---------+-----+--------------------+--------------------+\n",
      "only showing top 20 rows\n",
      "\n"
     ]
    }
   ],
   "source": [
    "# Applying MinMaxScaler to your assembled features \n",
    "scaler = StandardScaler(inputCol=\"features\", outputCol=\"scaledFeatures\", withMean=True, withStd=True)\n",
    "# standarize each feature.\n",
    "scaledData = scaler.fit(output).transform(output)"
   ]
  },
  {
   "cell_type": "code",
   "execution_count": 94,
   "metadata": {},
   "outputs": [
    {
     "data": {
      "text/plain": [
       "[Row(features=DenseVector([215.0, 318.0, 240.2018, 78.0767, 52.2706, 195.7089, 232.4632, 277.1587, 538.8534, 318.0, 0.0, 1538016340000.0, 7.0, 0.0, 100.0, 40.0, 28.0, 0.0, 97.0, 53.0, 1.0, 3.0, 5.0, 0.0, 0.0, 2.0, 6.0, 5.0, 234.0, 43.0, 0.0, 0.0, 0.0, 0.0, 2.0, 15.0, 2.0])),\n",
       " Row(features=DenseVector([269.0, 373.0, 240.4995, 76.0586, 58.5661, 195.1865, 232.1236, 269.6355, 592.0648, 95.0, 278.0, 1536269906000.0, 6.0, 0.0, 77.0, 78.0, 0.0, 218.0, 0.0, 0.0, 2.0, 3.0, 6.0, 5.0, 0.0, 1.0, 16.0, 3.0, 303.0, 4.0, 0.0, 3.0, 0.0, 1.0, 6.0, 18.0, 2.0])),\n",
       " Row(features=SparseVector(37, {0: 8.0, 1: 9.0, 2: 267.93, 3: 81.779, 4: 178.4159, 5: 203.2322, 6: 230.0338, 7: 337.9196, 8: 391.2616, 9: 9.0, 11: 1533157139000.0, 12: 1.0, 18: 9.0, 28: 7.0})),\n",
       " Row(features=DenseVector([1920.0, 3875.0, 247.9476, 101.5501, 18.0502, 197.5375, 233.691, 277.1587, 2369.0444, 0.0, 3875.0, 1532224335000.0, 29.0, 303.0, 796.0, 806.0, 483.0, 490.0, 835.0, 162.0, 7.0, 55.0, 88.0, 29.0, 5.0, 19.0, 146.0, 47.0, 3287.0, 3.0, 6.0, 14.0, 0.0, 0.0, 34.0, 135.0, 0.0])),\n",
       " Row(features=DenseVector([1187.0, 2000.0, 248.2979, 105.8404, 4.0485, 200.202, 235.2061, 274.5465, 2594.873, 0.0, 2000.0, 1538080987000.0, 10.0, 87.0, 475.0, 424.0, 178.0, 269.0, 519.0, 48.0, 2.0, 20.0, 44.0, 19.0, 1.0, 9.0, 55.0, 20.0, 1722.0, 0.0, 1.0, 8.0, 0.0, 0.0, 20.0, 77.0, 0.0])),\n",
       " Row(features=DenseVector([114.0, 158.0, 250.0653, 96.537, 38.3473, 202.8665, 232.8551, 279.2485, 655.7775, 158.0, 0.0, 1536667576000.0, 7.0, 0.0, 0.0, 18.0, 105.0, 6.0, 29.0, 0.0, 0.0, 0.0, 5.0, 0.0, 1.0, 1.0, 6.0, 3.0, 117.0, 13.0, 1.0, 3.0, 0.0, 0.0, 1.0, 6.0, 1.0])),\n",
       " Row(features=DenseVector([1087.0, 1839.0, 248.9014, 87.4052, 27.0102, 201.3514, 234.344, 281.5212, 1373.6224, 0.0, 1839.0, 1538239045000.0, 15.0, 165.0, 218.0, 421.0, 137.0, 328.0, 301.0, 269.0, 1.0, 25.0, 52.0, 22.0, 2.0, 7.0, 77.0, 22.0, 1539.0, 1.0, 0.0, 14.0, 0.0, 0.0, 11.0, 66.0, 0.0])),\n",
       " Row(features=DenseVector([1467.0, 2723.0, 251.0923, 101.6248, 11.9898, 200.1498, 235.2583, 278.4648, 1400.2673, 449.0, 2274.0, 1532482662000.0, 36.0, 294.0, 330.0, 295.0, 642.0, 563.0, 348.0, 251.0, 4.0, 27.0, 58.0, 35.0, 0.0, 15.0, 98.0, 27.0, 2256.0, 29.0, 2.0, 13.0, 0.0, 0.0, 24.0, 132.0, 1.0])),\n",
       " Row(features=DenseVector([539.0, 805.0, 239.5105, 80.1715, 38.3473, 195.944, 231.2616, 268.3816, 655.7775, 112.0, 693.0, 1541370470000.0, 6.0, 0.0, 0.0, 125.0, 188.0, 64.0, 428.0, 0.0, 2.0, 8.0, 20.0, 10.0, 3.0, 6.0, 22.0, 11.0, 659.0, 8.0, 0.0, 4.0, 0.0, 1.0, 2.0, 47.0, 2.0])),\n",
       " Row(features=DenseVector([191.0, 246.0, 264.2573, 187.4406, 45.9489, 202.4224, 238.5498, 282.4877, 2594.873, 0.0, 246.0, 1535389443000.0, 6.0, 0.0, 0.0, 126.0, 47.0, 0.0, 27.0, 46.0, 0.0, 3.0, 6.0, 3.0, 0.0, 1.0, 5.0, 3.0, 206.0, 2.0, 0.0, 1.0, 0.0, 0.0, 3.0, 11.0, 0.0])),\n",
       " Row(features=DenseVector([1086.0, 1833.0, 251.6757, 97.5679, 51.5391, 199.2616, 235.7285, 276.7669, 1242.4616, 28.0, 1805.0, 1537054553000.0, 16.0, 47.0, 323.0, 463.0, 365.0, 189.0, 378.0, 68.0, 3.0, 34.0, 30.0, 14.0, 3.0, 12.0, 71.0, 26.0, 1524.0, 2.0, 3.0, 15.0, 0.0, 1.0, 16.0, 78.0, 1.0])),\n",
       " Row(features=SparseVector(37, {0: 65.0, 1: 92.0, 2: 233.6145, 3: 68.3783, 4: 28.264, 5: 188.8648, 6: 239.3073, 7: 275.4346, 8: 428.8779, 9: 92.0, 11: 1541268021000.0, 12: 3.0, 15: 23.0, 18: 21.0, 19: 48.0, 21: 2.0, 22: 1.0, 26: 5.0, 27: 1.0, 28: 69.0, 29: 8.0, 35: 6.0})),\n",
       " Row(features=DenseVector([1049.0, 1689.0, 247.9385, 92.4979, 22.1253, 197.2502, 233.691, 277.864, 1670.4518, 60.0, 1629.0, 1535066380000.0, 10.0, 100.0, 333.0, 464.0, 437.0, 213.0, 87.0, 55.0, 1.0, 25.0, 44.0, 16.0, 3.0, 11.0, 51.0, 19.0, 1430.0, 4.0, 1.0, 5.0, 0.0, 1.0, 12.0, 63.0, 1.0])),\n",
       " Row(features=DenseVector([421.0, 652.0, 246.7193, 96.782, 40.6983, 199.1832, 228.3881, 272.1955, 995.1342, 472.0, 180.0, 1532554781000.0, 16.0, 47.0, 223.0, 50.0, 40.0, 54.0, 208.0, 30.0, 6.0, 4.0, 17.0, 4.0, 1.0, 2.0, 30.0, 8.0, 495.0, 30.0, 2.0, 3.0, 0.0, 1.0, 9.0, 33.0, 7.0])),\n",
       " Row(features=DenseVector([1136.0, 1978.0, 248.3876, 95.4515, 13.6355, 199.9408, 234.3702, 273.6844, 1670.4518, 213.0, 1765.0, 1537865819000.0, 15.0, 61.0, 216.0, 244.0, 109.0, 578.0, 464.0, 306.0, 6.0, 32.0, 51.0, 19.0, 1.0, 9.0, 54.0, 15.0, 1662.0, 15.0, 4.0, 14.0, 0.0, 1.0, 19.0, 75.0, 1.0])),\n",
       " Row(features=DenseVector([1778.0, 3548.0, 245.735, 98.1133, 9.0118, 196.7538, 232.0191, 272.6657, 1731.0036, 0.0, 3548.0, 1537082511000.0, 63.0, 387.0, 273.0, 679.0, 452.0, 553.0, 798.0, 406.0, 3.0, 49.0, 91.0, 20.0, 4.0, 24.0, 124.0, 33.0, 2909.0, 9.0, 3.0, 17.0, 0.0, 0.0, 24.0, 238.0, 0.0])),\n",
       " Row(features=DenseVector([178.0, 267.0, 249.4503, 84.9898, 46.8632, 202.9448, 235.5979, 278.1775, 563.3563, 267.0, 0.0, 1537550344000.0, 5.0, 151.0, 0.0, 0.0, 0.0, 12.0, 15.0, 89.0, 1.0, 6.0, 7.0, 0.0, 2.0, 0.0, 13.0, 7.0, 191.0, 22.0, 0.0, 0.0, 0.0, 0.0, 5.0, 10.0, 1.0])),\n",
       " Row(features=DenseVector([1515.0, 2905.0, 250.0518, 105.3946, 17.162, 199.4967, 234.8404, 277.3677, 2238.7457, 313.0, 2592.0, 1536988041000.0, 34.0, 159.0, 711.0, 580.0, 461.0, 664.0, 198.0, 132.0, 2.0, 40.0, 67.0, 14.0, 0.0, 25.0, 101.0, 31.0, 2437.0, 18.0, 3.0, 16.0, 0.0, 1.0, 20.0, 124.0, 4.0])),\n",
       " Row(features=DenseVector([719.0, 1080.0, 257.4526, 128.2239, 27.0102, 201.7955, 234.5269, 282.2787, 1670.4518, 31.0, 1049.0, 1536824159000.0, 9.0, 72.0, 76.0, 309.0, 99.0, 202.0, 322.0, 0.0, 2.0, 11.0, 23.0, 9.0, 4.0, 5.0, 39.0, 8.0, 902.0, 3.0, 1.0, 2.0, 0.0, 1.0, 9.0, 60.0, 1.0])),\n",
       " Row(features=DenseVector([164.0, 238.0, 243.3057, 73.2782, 23.4836, 198.0338, 233.691, 279.4575, 518.6346, 238.0, 0.0, 1536032681000.0, 9.0, 22.0, 94.0, 20.0, 27.0, 36.0, 39.0, 0.0, 0.0, 7.0, 5.0, 0.0, 0.0, 1.0, 12.0, 3.0, 176.0, 16.0, 3.0, 3.0, 0.0, 0.0, 2.0, 8.0, 2.0])),\n",
       " Row(features=DenseVector([1768.0, 3408.0, 246.1929, 86.7737, 11.5457, 199.1571, 232.9857, 272.7963, 1400.2673, 102.0, 3306.0, 1537811988000.0, 46.0, 410.0, 393.0, 801.0, 370.0, 594.0, 389.0, 451.0, 4.0, 43.0, 90.0, 31.0, 6.0, 16.0, 147.0, 36.0, 2847.0, 7.0, 5.0, 23.0, 0.0, 0.0, 21.0, 131.0, 1.0])),\n",
       " Row(features=DenseVector([288.0, 378.0, 250.8233, 86.5043, 49.1881, 203.833, 236.1987, 278.5955, 655.7775, 12.0, 366.0, 1536102943000.0, 6.0, 0.0, 0.0, 0.0, 103.0, 130.0, 145.0, 0.0, 1.0, 10.0, 9.0, 0.0, 1.0, 4.0, 12.0, 5.0, 314.0, 1.0, 1.0, 0.0, 0.0, 0.0, 7.0, 10.0, 1.0])),\n",
       " Row(features=DenseVector([510.0, 794.0, 252.5851, 96.1096, 33.2796, 201.1424, 238.0012, 275.1473, 871.3138, 677.0, 117.0, 1534942082000.0, 25.0, 67.0, 101.0, 217.0, 89.0, 61.0, 128.0, 131.0, 1.0, 20.0, 15.0, 0.0, 0.0, 8.0, 45.0, 15.0, 608.0, 39.0, 0.0, 8.0, 0.0, 1.0, 4.0, 22.0, 6.0])),\n",
       " Row(features=DenseVector([174.0, 257.0, 261.1405, 97.0186, 36.9106, 210.86, 241.1098, 287.6338, 654.9155, 257.0, 0.0, 1537764007000.0, 6.0, 0.0, 45.0, 0.0, 210.0, 2.0, 0.0, 0.0, 0.0, 6.0, 3.0, 0.0, 1.0, 1.0, 11.0, 8.0, 188.0, 16.0, 0.0, 0.0, 0.0, 0.0, 7.0, 13.0, 3.0])),\n",
       " Row(features=SparseVector(37, {0: 36.0, 1: 55.0, 2: 248.4845, 3: 86.3154, 4: 106.7881, 5: 199.1832, 6: 238.811, 7: 266.4485, 8: 614.7391, 9: 55.0, 11: 1537539836000.0, 12: 3.0, 16: 3.0, 18: 33.0, 19: 19.0, 21: 5.0, 22: 1.0, 25: 1.0, 26: 6.0, 27: 3.0, 28: 35.0, 35: 4.0})),\n",
       " Row(features=DenseVector([160.0, 206.0, 259.506, 103.4535, 59.9244, 203.8853, 242.3636, 293.5636, 796.7865, 0.0, 206.0, 1533886191000.0, 4.0, 0.0, 0.0, 39.0, 56.0, 0.0, 87.0, 24.0, 0.0, 1.0, 4.0, 2.0, 0.0, 1.0, 5.0, 2.0, 173.0, 1.0, 0.0, 0.0, 0.0, 0.0, 3.0, 13.0, 0.0])),\n",
       " Row(features=DenseVector([934.0, 1510.0, 252.259, 96.0177, 33.4624, 199.9408, 234.6575, 278.491, 1400.2673, 77.0, 1433.0, 1532920994000.0, 24.0, 97.0, 182.0, 120.0, 305.0, 166.0, 388.0, 252.0, 1.0, 18.0, 37.0, 13.0, 2.0, 6.0, 66.0, 17.0, 1255.0, 1.0, 1.0, 8.0, 0.0, 1.0, 10.0, 71.0, 3.0])),\n",
       " Row(features=DenseVector([851.0, 1419.0, 256.4843, 111.3513, 11.9375, 200.1759, 237.9751, 284.7081, 2015.7906, 872.0, 547.0, 1538173362000.0, 32.0, 65.0, 384.0, 38.0, 288.0, 113.0, 373.0, 158.0, 2.0, 22.0, 37.0, 4.0, 1.0, 5.0, 55.0, 20.0, 1137.0, 48.0, 0.0, 11.0, 1.0, 1.0, 13.0, 50.0, 12.0])),\n",
       " Row(features=SparseVector(37, {0: 38.0, 1: 51.0, 2: 230.4087, 3: 69.3258, 4: 62.7979, 5: 199.9408, 6: 225.9065, 7: 258.5596, 8: 369.162, 9: 51.0, 11: 1536659447000.0, 12: 3.0, 16: 43.0, 17: 8.0, 22: 4.0, 26: 5.0, 27: 2.0, 28: 37.0, 29: 2.0, 35: 1.0})),\n",
       " Row(features=SparseVector(37, {0: 27.0, 1: 36.0, 2: 247.7911, 3: 63.3368, 4: 124.6036, 5: 201.1424, 6: 237.1391, 7: 286.9546, 8: 387.3432, 9: 36.0, 11: 1536126401000.0, 12: 1.0, 14: 36.0, 22: 3.0, 26: 3.0, 27: 2.0, 28: 26.0, 29: 1.0, 35: 1.0})),\n",
       " Row(features=DenseVector([482.0, 698.0, 250.0462, 103.8312, 34.3244, 196.571, 235.0755, 275.513, 1316.5187, 149.0, 549.0, 1537890437000.0, 7.0, 0.0, 449.0, 0.0, 103.0, 83.0, 63.0, 0.0, 0.0, 13.0, 11.0, 8.0, 3.0, 3.0, 25.0, 7.0, 578.0, 10.0, 0.0, 3.0, 1.0, 2.0, 8.0, 23.0, 3.0])),\n",
       " Row(features=DenseVector([273.0, 372.0, 252.0002, 77.7929, 67.9179, 205.4526, 237.8183, 285.7791, 655.7775, 30.0, 342.0, 1535271638000.0, 4.0, 0.0, 0.0, 55.0, 44.0, 273.0, 0.0, 0.0, 0.0, 6.0, 12.0, 7.0, 1.0, 1.0, 16.0, 5.0, 302.0, 1.0, 0.0, 0.0, 0.0, 1.0, 5.0, 14.0, 1.0])),\n",
       " Row(features=DenseVector([440.0, 664.0, 255.5254, 95.4379, 31.3204, 205.4526, 239.5946, 284.0551, 1292.1465, 664.0, 0.0, 1536138073000.0, 16.0, 28.0, 314.0, 70.0, 46.0, 121.0, 85.0, 0.0, 1.0, 8.0, 11.0, 0.0, 0.0, 5.0, 26.0, 6.0, 512.0, 48.0, 0.0, 3.0, 0.0, 0.0, 7.0, 28.0, 9.0])),\n",
       " Row(features=DenseVector([192.0, 272.0, 247.7616, 81.9861, 50.442, 204.7212, 232.9334, 273.9457, 670.3538, 272.0, 0.0, 1533650280000.0, 7.0, 0.0, 0.0, 50.0, 125.0, 46.0, 45.0, 6.0, 1.0, 4.0, 4.0, 0.0, 2.0, 0.0, 18.0, 5.0, 207.0, 12.0, 0.0, 0.0, 0.0, 0.0, 3.0, 13.0, 3.0])),\n",
       " Row(features=SparseVector(37, {0: 21.0, 1: 29.0, 2: 267.8578, 3: 109.2655, 4: 160.1563, 5: 210.8861, 6: 234.6836, 7: 262.06, 8: 655.7775, 9: 29.0, 11: 1537681013000.0, 12: 2.0, 17: 3.0, 18: 26.0, 21: 1.0, 26: 2.0, 28: 20.0, 29: 4.0, 35: 2.0})),\n",
       " Row(features=DenseVector([888.0, 1415.0, 249.0588, 98.4466, 12.6951, 196.0485, 235.7024, 282.331, 1400.2673, 423.0, 992.0, 1537634865000.0, 20.0, 0.0, 417.0, 284.0, 236.0, 425.0, 34.0, 19.0, 3.0, 16.0, 42.0, 12.0, 1.0, 3.0, 52.0, 21.0, 1158.0, 21.0, 0.0, 6.0, 0.0, 1.0, 14.0, 61.0, 2.0])),\n",
       " Row(features=DenseVector([972.0, 1637.0, 250.7927, 94.2317, 37.5375, 200.7244, 235.624, 279.2485, 1400.2673, 28.0, 1609.0, 1535591420000.0, 28.0, 215.0, 349.0, 93.0, 95.0, 325.0, 560.0, 0.0, 2.0, 28.0, 48.0, 9.0, 2.0, 13.0, 63.0, 23.0, 1308.0, 3.0, 2.0, 8.0, 0.0, 0.0, 18.0, 109.0, 1.0])),\n",
       " Row(features=DenseVector([428.0, 630.0, 244.5013, 84.5428, 45.6355, 200.1759, 230.3996, 274.1808, 676.2314, 47.0, 583.0, 1530306321000.0, 7.0, 0.0, 259.0, 166.0, 0.0, 169.0, 36.0, 0.0, 0.0, 13.0, 11.0, 3.0, 0.0, 4.0, 25.0, 3.0, 512.0, 4.0, 0.0, 3.0, 0.0, 1.0, 6.0, 43.0, 2.0])),\n",
       " Row(features=DenseVector([461.0, 776.0, 248.3833, 129.7726, 43.7024, 196.5448, 230.3734, 273.5016, 2520.9987, 776.0, 0.0, 1537898335000.0, 20.0, 23.0, 43.0, 249.0, 72.0, 126.0, 122.0, 141.0, 1.0, 11.0, 9.0, 0.0, 1.0, 6.0, 31.0, 12.0, 541.0, 98.0, 1.0, 6.0, 0.0, 0.0, 18.0, 35.0, 6.0])),\n",
       " Row(features=DenseVector([1815.0, 3509.0, 251.6967, 106.7741, 19.6436, 199.9408, 233.8216, 276.14, 3024.6657, 495.0, 3014.0, 1534133898000.0, 41.0, 155.0, 734.0, 522.0, 617.0, 556.0, 612.0, 313.0, 5.0, 51.0, 91.0, 34.0, 2.0, 20.0, 117.0, 47.0, 2900.0, 28.0, 3.0, 21.0, 2.0, 3.0, 32.0, 148.0, 5.0])),\n",
       " Row(features=DenseVector([465.0, 683.0, 249.0079, 130.7691, 31.6861, 194.6379, 233.9783, 282.331, 2594.873, 140.0, 543.0, 1536597540000.0, 9.0, 108.0, 61.0, 36.0, 156.0, 239.0, 83.0, 0.0, 0.0, 10.0, 18.0, 7.0, 0.0, 7.0, 18.0, 8.0, 561.0, 12.0, 0.0, 2.0, 0.0, 1.0, 4.0, 33.0, 2.0])),\n",
       " Row(features=DenseVector([923.0, 1626.0, 252.9652, 90.5392, 20.0616, 206.9416, 238.6542, 281.8085, 1665.1751, 810.0, 816.0, 1537053412000.0, 38.0, 15.0, 88.0, 108.0, 87.0, 449.0, 375.0, 504.0, 4.0, 29.0, 49.0, 10.0, 2.0, 6.0, 76.0, 19.0, 1299.0, 44.0, 0.0, 6.0, 2.0, 2.0, 13.0, 59.0, 6.0])),\n",
       " Row(features=DenseVector([673.0, 1090.0, 244.2487, 86.782, 22.1775, 195.2126, 233.3253, 272.1955, 816.2738, 278.0, 812.0, 1534613601000.0, 15.0, 0.0, 6.0, 43.0, 243.0, 276.0, 414.0, 108.0, 4.0, 30.0, 29.0, 7.0, 0.0, 6.0, 42.0, 16.0, 869.0, 22.0, 2.0, 8.0, 0.0, 1.0, 7.0, 45.0, 2.0])),\n",
       " Row(features=DenseVector([846.0, 1363.0, 251.802, 92.0834, 27.0102, 200.5416, 235.624, 282.4877, 792.9204, 0.0, 1363.0, 1535660231000.0, 18.0, 81.0, 293.0, 619.0, 189.0, 85.0, 96.0, 0.0, 1.0, 19.0, 38.0, 2.0, 3.0, 9.0, 38.0, 15.0, 1137.0, 1.0, 0.0, 3.0, 0.0, 0.0, 14.0, 83.0, 0.0])),\n",
       " Row(features=DenseVector([207.0, 268.0, 247.6941, 86.3456, 65.8804, 201.0118, 235.4934, 273.9457, 790.282, 80.0, 188.0, 1538253263000.0, 4.0, 34.0, 36.0, 0.0, 45.0, 0.0, 153.0, 0.0, 1.0, 8.0, 5.0, 2.0, 1.0, 0.0, 10.0, 5.0, 213.0, 5.0, 0.0, 0.0, 0.0, 1.0, 4.0, 11.0, 2.0])),\n",
       " Row(features=DenseVector([252.0, 346.0, 254.094, 92.606, 11.9898, 199.6534, 239.3073, 279.9799, 745.7432, 0.0, 346.0, 1535400650000.0, 6.0, 17.0, 49.0, 75.0, 0.0, 196.0, 9.0, 0.0, 0.0, 5.0, 5.0, 3.0, 0.0, 1.0, 9.0, 2.0, 283.0, 0.0, 0.0, 2.0, 0.0, 0.0, 2.0, 34.0, 0.0])),\n",
       " Row(features=DenseVector([1255.0, 2281.0, 255.2066, 122.9805, 9.0118, 203.6502, 238.4714, 280.424, 2594.873, 393.0, 1888.0, 1538069638000.0, 28.0, 17.0, 429.0, 216.0, 268.0, 499.0, 389.0, 463.0, 1.0, 37.0, 45.0, 23.0, 2.0, 14.0, 96.0, 34.0, 1872.0, 25.0, 4.0, 11.0, 0.0, 1.0, 18.0, 96.0, 2.0])),\n",
       " Row(features=DenseVector([521.0, 756.0, 248.7007, 110.5956, 22.3604, 194.8991, 232.2281, 273.8412, 1472.8877, 59.0, 697.0, 1537440271000.0, 6.0, 0.0, 277.0, 374.0, 0.0, 0.0, 35.0, 70.0, 2.0, 12.0, 21.0, 8.0, 0.0, 4.0, 19.0, 6.0, 627.0, 17.0, 0.0, 3.0, 1.0, 0.0, 5.0, 28.0, 3.0])),\n",
       " Row(features=DenseVector([160.0, 209.0, 244.5165, 79.4471, 56.7114, 202.6575, 229.7726, 273.1098, 571.1669, 209.0, 0.0, 1531769420000.0, 8.0, 9.0, 52.0, 0.0, 22.0, 25.0, 64.0, 37.0, 0.0, 0.0, 3.0, 0.0, 0.0, 0.0, 10.0, 3.0, 167.0, 13.0, 0.0, 2.0, 0.0, 0.0, 2.0, 9.0, 0.0])),\n",
       " Row(features=DenseVector([352.0, 494.0, 256.2544, 122.2587, 42.0567, 200.1236, 235.4412, 277.2632, 1670.4518, 107.0, 387.0, 1531811983000.0, 11.0, 57.0, 45.0, 111.0, 48.0, 66.0, 46.0, 121.0, 1.0, 11.0, 11.0, 0.0, 0.0, 1.0, 20.0, 6.0, 405.0, 7.0, 0.0, 3.0, 0.0, 1.0, 3.0, 23.0, 2.0])),\n",
       " Row(features=DenseVector([330.0, 493.0, 241.4644, 80.5646, 37.6681, 200.1236, 230.8175, 270.7065, 655.7775, 163.0, 330.0, 1532625569000.0, 7.0, 0.0, 97.0, 35.0, 12.0, 14.0, 304.0, 31.0, 1.0, 3.0, 5.0, 4.0, 0.0, 4.0, 27.0, 5.0, 385.0, 26.0, 3.0, 6.0, 1.0, 0.0, 4.0, 17.0, 1.0])),\n",
       " Row(features=DenseVector([181.0, 249.0, 251.4877, 78.81, 27.0102, 206.0534, 239.7514, 275.1212, 655.7775, 249.0, 0.0, 1536303841000.0, 4.0, 114.0, 0.0, 12.0, 13.0, 0.0, 0.0, 110.0, 0.0, 2.0, 7.0, 0.0, 0.0, 0.0, 9.0, 3.0, 197.0, 14.0, 1.0, 0.0, 0.0, 0.0, 1.0, 11.0, 4.0])),\n",
       " Row(features=DenseVector([133.0, 190.0, 252.5806, 82.4003, 80.3783, 207.5946, 239.1244, 289.6191, 655.7775, 190.0, 0.0, 1537665002000.0, 5.0, 0.0, 74.0, 33.0, 0.0, 2.0, 81.0, 0.0, 1.0, 5.0, 2.0, 0.0, 0.0, 0.0, 7.0, 2.0, 145.0, 14.0, 0.0, 1.0, 0.0, 0.0, 2.0, 11.0, 0.0])),\n",
       " Row(features=DenseVector([212.0, 293.0, 239.8516, 84.2306, 13.6355, 191.5555, 225.3057, 265.7693, 655.7775, 173.0, 120.0, 1535361448000.0, 5.0, 0.0, 0.0, 0.0, 0.0, 0.0, 107.0, 186.0, 1.0, 12.0, 6.0, 2.0, 0.0, 1.0, 14.0, 7.0, 225.0, 8.0, 0.0, 2.0, 0.0, 0.0, 3.0, 12.0, 0.0])),\n",
       " Row(features=DenseVector([919.0, 1564.0, 250.251, 88.456, 22.3604, 200.3848, 236.46, 279.2485, 790.282, 55.0, 1509.0, 1532589384000.0, 18.0, 2.0, 418.0, 459.0, 240.0, 208.0, 205.0, 32.0, 2.0, 22.0, 51.0, 7.0, 0.0, 12.0, 43.0, 12.0, 1284.0, 4.0, 0.0, 7.0, 1.0, 1.0, 9.0, 107.0, 2.0])),\n",
       " Row(features=DenseVector([1043.0, 1755.0, 252.2981, 107.9391, 11.9898, 201.7693, 233.0902, 279.0918, 2520.9987, 181.0, 1574.0, 1537149749000.0, 19.0, 42.0, 318.0, 500.0, 98.0, 220.0, 391.0, 186.0, 2.0, 30.0, 41.0, 14.0, 0.0, 7.0, 62.0, 23.0, 1447.0, 14.0, 1.0, 12.0, 1.0, 1.0, 19.0, 77.0, 4.0])),\n",
       " Row(features=DenseVector([87.0, 115.0, 255.955, 75.1383, 92.0028, 203.7808, 245.6551, 290.873, 470.0469, 0.0, 115.0, 1537707098000.0, 1.0, 0.0, 0.0, 0.0, 0.0, 82.0, 33.0, 0.0, 0.0, 4.0, 3.0, 2.0, 0.0, 1.0, 2.0, 0.0, 88.0, 2.0, 1.0, 0.0, 0.0, 0.0, 1.0, 9.0, 0.0])),\n",
       " Row(features=DenseVector([141.0, 203.0, 247.155, 85.4355, 36.153, 199.1832, 239.3073, 286.1187, 655.7775, 203.0, 0.0, 1536563533000.0, 4.0, 0.0, 0.0, 151.0, 12.0, 40.0, 0.0, 0.0, 0.0, 3.0, 3.0, 0.0, 0.0, 0.0, 10.0, 4.0, 150.0, 15.0, 0.0, 5.0, 0.0, 0.0, 2.0, 10.0, 1.0])),\n",
       " Row(features=DenseVector([129.0, 175.0, 251.0472, 74.6765, 63.8428, 204.904, 236.0942, 285.6746, 481.4885, 175.0, 0.0, 1537456136000.0, 5.0, 0.0, 16.0, 0.0, 105.0, 54.0, 0.0, 0.0, 0.0, 2.0, 5.0, 0.0, 0.0, 2.0, 10.0, 2.0, 134.0, 9.0, 1.0, 1.0, 0.0, 0.0, 0.0, 8.0, 1.0])),\n",
       " Row(features=DenseVector([1467.0, 2591.0, 251.6184, 107.167, 21.9163, 201.2469, 235.0755, 275.513, 2520.9987, 243.0, 2348.0, 1537982255000.0, 35.0, 302.0, 214.0, 620.0, 623.0, 629.0, 154.0, 49.0, 9.0, 38.0, 52.0, 23.0, 2.0, 16.0, 81.0, 29.0, 2154.0, 20.0, 5.0, 10.0, 1.0, 1.0, 22.0, 127.0, 1.0])),\n",
       " Row(features=SparseVector(37, {0: 25.0, 1: 38.0, 2: 227.8755, 3: 62.3169, 4: 38.922, 5: 206.5759, 6: 220.1073, 7: 264.9334, 8: 342.9351, 9: 38.0, 11: 1537964483000.0, 12: 1.0, 18: 38.0, 21: 4.0, 22: 1.0, 26: 2.0, 27: 1.0, 28: 24.0, 29: 1.0, 31: 1.0, 34: 1.0, 35: 1.0})),\n",
       " Row(features=DenseVector([294.0, 403.0, 250.9409, 89.5792, 48.1955, 201.5865, 233.3253, 280.633, 872.5155, 0.0, 403.0, 1535623466000.0, 6.0, 75.0, 0.0, 97.0, 90.0, 0.0, 141.0, 0.0, 0.0, 6.0, 13.0, 2.0, 0.0, 1.0, 17.0, 6.0, 333.0, 0.0, 1.0, 4.0, 0.0, 0.0, 1.0, 17.0, 0.0])),\n",
       " Row(features=DenseVector([873.0, 1413.0, 249.8203, 116.1389, 19.6436, 201.1424, 233.482, 275.3824, 2594.873, 84.0, 1329.0, 1529643103000.0, 18.0, 0.0, 363.0, 319.0, 471.0, 211.0, 49.0, 0.0, 2.0, 22.0, 34.0, 10.0, 2.0, 6.0, 45.0, 14.0, 1178.0, 2.0, 3.0, 6.0, 0.0, 1.0, 10.0, 75.0, 1.0])),\n",
       " Row(features=DenseVector([120.0, 172.0, 238.2481, 69.3142, 99.1604, 195.944, 230.9481, 264.8028, 566.5171, 172.0, 0.0, 1532610926000.0, 5.0, 0.0, 57.0, 0.0, 0.0, 0.0, 60.0, 55.0, 0.0, 3.0, 3.0, 0.0, 0.0, 1.0, 13.0, 2.0, 122.0, 14.0, 0.0, 1.0, 0.0, 0.0, 3.0, 6.0, 4.0])),\n",
       " Row(features=DenseVector([163.0, 229.0, 239.4098, 74.1389, 46.3146, 200.9334, 231.6012, 266.7881, 570.8012, 229.0, 0.0, 1534245996000.0, 8.0, 39.0, 142.0, 0.0, 0.0, 20.0, 28.0, 0.0, 0.0, 6.0, 3.0, 0.0, 0.0, 1.0, 12.0, 5.0, 173.0, 18.0, 1.0, 1.0, 0.0, 0.0, 2.0, 6.0, 1.0])),\n",
       " Row(features=DenseVector([909.0, 1574.0, 248.0696, 88.903, 36.1791, 200.9073, 236.1204, 280.1106, 1467.7938, 557.0, 1017.0, 1537188538000.0, 19.0, 16.0, 146.0, 412.0, 609.0, 171.0, 173.0, 47.0, 1.0, 20.0, 45.0, 6.0, 2.0, 7.0, 56.0, 16.0, 1288.0, 40.0, 1.0, 8.0, 2.0, 2.0, 8.0, 66.0, 6.0])),\n",
       " Row(features=DenseVector([526.0, 757.0, 247.5415, 79.8452, 31.7906, 204.46, 236.1987, 277.1587, 655.7775, 0.0, 757.0, 1537201808000.0, 8.0, 111.0, 106.0, 355.0, 93.0, 48.0, 44.0, 0.0, 3.0, 15.0, 24.0, 6.0, 0.0, 2.0, 17.0, 4.0, 640.0, 1.0, 0.0, 2.0, 0.0, 0.0, 3.0, 40.0, 0.0])),\n",
       " Row(features=DenseVector([1385.0, 2489.0, 254.0089, 114.3273, 12.3032, 202.7881, 236.1204, 283.7155, 3024.6657, 357.0, 2132.0, 1538227408000.0, 30.0, 384.0, 243.0, 33.0, 317.0, 594.0, 615.0, 303.0, 6.0, 27.0, 54.0, 16.0, 2.0, 11.0, 92.0, 32.0, 2070.0, 27.0, 3.0, 15.0, 0.0, 1.0, 17.0, 113.0, 3.0])),\n",
       " Row(features=DenseVector([931.0, 1488.0, 247.2737, 87.5535, 33.6975, 198.3996, 235.4673, 276.0616, 978.442, 79.0, 1409.0, 1533102330000.0, 19.0, 60.0, 483.0, 292.0, 223.0, 134.0, 209.0, 87.0, 3.0, 21.0, 40.0, 13.0, 4.0, 10.0, 44.0, 14.0, 1256.0, 3.0, 1.0, 7.0, 0.0, 1.0, 16.0, 54.0, 1.0])),\n",
       " Row(features=DenseVector([2413.0, 5487.0, 249.1129, 105.7957, 11.9898, 198.0861, 233.691, 278.073, 2520.9987, 955.0, 4532.0, 1536642109000.0, 70.0, 507.0, 626.0, 967.0, 1139.0, 786.0, 966.0, 496.0, 7.0, 117.0, 113.0, 38.0, 6.0, 29.0, 203.0, 69.0, 4521.0, 66.0, 3.0, 18.0, 2.0, 3.0, 53.0, 230.0, 9.0])),\n",
       " Row(features=DenseVector([609.0, 869.0, 242.603, 82.1757, 22.0469, 198.0861, 231.8102, 272.5351, 741.9816, 45.0, 824.0, 1538333829000.0, 7.0, 32.0, 43.0, 0.0, 180.0, 199.0, 201.0, 214.0, 2.0, 9.0, 24.0, 10.0, 0.0, 3.0, 22.0, 11.0, 730.0, 3.0, 0.0, 5.0, 0.0, 1.0, 10.0, 34.0, 3.0])),\n",
       " Row(features=DenseVector([293.0, 413.0, 251.1918, 112.2768, 54.6738, 199.9408, 233.3775, 274.9122, 1670.4518, 0.0, 413.0, 1533522419000.0, 9.0, 8.0, 16.0, 110.0, 20.0, 158.0, 101.0, 0.0, 0.0, 14.0, 6.0, 6.0, 0.0, 2.0, 17.0, 3.0, 336.0, 5.0, 1.0, 2.0, 0.0, 0.0, 6.0, 13.0, 0.0])),\n",
       " Row(features=DenseVector([185.0, 267.0, 256.271, 124.936, 45.9489, 203.3367, 238.8893, 271.3857, 1485.9751, 266.0, 1.0, 1536816590000.0, 8.0, 0.0, 0.0, 46.0, 32.0, 66.0, 53.0, 70.0, 0.0, 5.0, 6.0, 0.0, 0.0, 2.0, 14.0, 2.0, 201.0, 21.0, 0.0, 4.0, 0.0, 1.0, 1.0, 10.0, 0.0])),\n",
       " Row(features=DenseVector([922.0, 1464.0, 249.1776, 90.557, 0.7832, 199.2093, 236.0942, 277.8118, 1118.6151, 0.0, 1464.0, 1532472246000.0, 14.0, 66.0, 368.0, 436.0, 422.0, 146.0, 26.0, 0.0, 4.0, 15.0, 38.0, 14.0, 0.0, 3.0, 41.0, 17.0, 1252.0, 0.0, 0.0, 8.0, 0.0, 0.0, 8.0, 64.0, 0.0])),\n",
       " Row(features=SparseVector(37, {0: 50.0, 1: 61.0, 2: 246.5636, 3: 69.1839, 4: 103.6012, 5: 209.0836, 6: 228.2575, 7: 277.5244, 8: 434.5465, 10: 61.0, 11: 1537971741000.0, 12: 3.0, 13: 40.0, 14: 20.0, 18: 1.0, 21: 1.0, 24: 1.0, 25: 2.0, 26: 4.0, 27: 1.0, 28: 50.0, 35: 2.0})),\n",
       " Row(features=DenseVector([579.0, 906.0, 252.3121, 85.2495, 34.7424, 202.7359, 236.4077, 280.1367, 655.7775, 119.0, 787.0, 1537767796000.0, 10.0, 131.0, 96.0, 74.0, 101.0, 59.0, 216.0, 229.0, 3.0, 17.0, 25.0, 6.0, 0.0, 3.0, 42.0, 8.0, 732.0, 11.0, 2.0, 9.0, 0.0, 1.0, 11.0, 35.0, 1.0])),\n",
       " Row(features=DenseVector([150.0, 213.0, 244.2597, 92.5699, 12.6689, 194.2722, 231.2616, 276.1661, 830.1187, 91.0, 122.0, 1534513445000.0, 3.0, 8.0, 0.0, 70.0, 135.0, 0.0, 0.0, 0.0, 2.0, 1.0, 1.0, 1.0, 0.0, 3.0, 7.0, 2.0, 163.0, 10.0, 1.0, 1.0, 0.0, 1.0, 2.0, 17.0, 1.0])),\n",
       " Row(features=DenseVector([385.0, 543.0, 247.9615, 85.0466, 45.6355, 198.0338, 235.3628, 273.2142, 655.7775, 175.0, 368.0, 1537522781000.0, 10.0, 0.0, 67.0, 68.0, 84.0, 35.0, 289.0, 0.0, 0.0, 12.0, 11.0, 4.0, 0.0, 6.0, 21.0, 9.0, 444.0, 9.0, 0.0, 1.0, 0.0, 0.0, 3.0, 22.0, 1.0])),\n",
       " Row(features=DenseVector([1012.0, 1728.0, 247.3832, 90.622, 21.6551, 199.9408, 233.9522, 276.793, 1177.3383, 86.0, 1642.0, 1526739206000.0, 18.0, 326.0, 158.0, 47.0, 216.0, 507.0, 330.0, 144.0, 1.0, 25.0, 60.0, 7.0, 3.0, 8.0, 58.0, 17.0, 1403.0, 5.0, 2.0, 13.0, 0.0, 0.0, 13.0, 111.0, 1.0])),\n",
       " Row(features=DenseVector([1362.0, 2458.0, 245.5853, 87.6573, 11.2583, 196.571, 232.6983, 276.6363, 958.2755, 75.0, 2383.0, 1528780738000.0, 33.0, 214.0, 460.0, 271.0, 271.0, 487.0, 438.0, 317.0, 1.0, 39.0, 52.0, 20.0, 4.0, 11.0, 88.0, 24.0, 2017.0, 6.0, 4.0, 12.0, 1.0, 2.0, 15.0, 160.0, 2.0])),\n",
       " Row(features=DenseVector([186.0, 256.0, 246.4651, 87.0435, 76.7996, 200.9334, 233.8477, 271.5163, 664.3196, 256.0, 0.0, 1538304455000.0, 9.0, 34.0, 63.0, 0.0, 68.0, 24.0, 66.0, 1.0, 0.0, 2.0, 7.0, 0.0, 0.0, 1.0, 14.0, 7.0, 198.0, 14.0, 0.0, 2.0, 0.0, 0.0, 2.0, 8.0, 1.0])),\n",
       " Row(features=DenseVector([677.0, 971.0, 249.3005, 93.4337, 21.9163, 201.8738, 235.1538, 277.1587, 1211.2714, 77.0, 894.0, 1537749786000.0, 7.0, 0.0, 49.0, 351.0, 492.0, 48.0, 31.0, 0.0, 4.0, 5.0, 17.0, 8.0, 0.0, 4.0, 45.0, 10.0, 836.0, 5.0, 0.0, 2.0, 0.0, 1.0, 2.0, 31.0, 1.0])),\n",
       " Row(features=DenseVector([452.0, 648.0, 247.2257, 84.2334, 34.0371, 197.3285, 232.5938, 276.7408, 655.7775, 80.0, 568.0, 1535774889000.0, 5.0, 0.0, 0.0, 12.0, 91.0, 516.0, 29.0, 0.0, 2.0, 10.0, 11.0, 2.0, 0.0, 5.0, 23.0, 7.0, 537.0, 9.0, 2.0, 6.0, 0.0, 0.0, 5.0, 28.0, 1.0])),\n",
       " Row(features=DenseVector([1150.0, 2031.0, 251.5471, 107.6528, 15.8559, 199.6273, 233.482, 277.1587, 1731.0036, 133.0, 1898.0, 1537034286000.0, 21.0, 280.0, 149.0, 443.0, 737.0, 273.0, 82.0, 67.0, 5.0, 48.0, 56.0, 16.0, 2.0, 17.0, 73.0, 22.0, 1669.0, 11.0, 1.0, 10.0, 0.0, 0.0, 12.0, 88.0, 1.0])),\n",
       " Row(features=DenseVector([1300.0, 2335.0, 249.4315, 93.8434, 8.3065, 199.6273, 235.4673, 277.1587, 978.442, 247.0, 2088.0, 1537893493000.0, 24.0, 344.0, 174.0, 431.0, 622.0, 248.0, 334.0, 182.0, 2.0, 42.0, 48.0, 20.0, 2.0, 13.0, 78.0, 24.0, 1935.0, 23.0, 4.0, 13.0, 0.0, 1.0, 23.0, 105.0, 2.0])),\n",
       " Row(features=DenseVector([1570.0, 3005.0, 249.6983, 88.2973, 18.4159, 200.0714, 234.7881, 279.8755, 1049.1293, 66.0, 2939.0, 1521380675000.0, 24.0, 31.0, 381.0, 427.0, 564.0, 661.0, 436.0, 505.0, 3.0, 29.0, 68.0, 34.0, 3.0, 22.0, 102.0, 33.0, 2525.0, 8.0, 1.0, 14.0, 0.0, 0.0, 28.0, 134.0, 1.0])),\n",
       " Row(features=DenseVector([526.0, 768.0, 249.1917, 81.132, 19.6436, 201.7955, 238.8632, 284.6036, 662.8306, 3.0, 765.0, 1536158069000.0, 9.0, 73.0, 0.0, 77.0, 87.0, 89.0, 126.0, 316.0, 1.0, 14.0, 17.0, 0.0, 0.0, 7.0, 16.0, 3.0, 630.0, 0.0, 0.0, 2.0, 0.0, 1.0, 7.0, 69.0, 1.0])),\n",
       " Row(features=DenseVector([482.0, 786.0, 251.3633, 110.0042, 58.2265, 201.7955, 235.0493, 277.4722, 1670.4518, 633.0, 153.0, 1532364714000.0, 10.0, 0.0, 133.0, 160.0, 376.0, 54.0, 63.0, 0.0, 1.0, 16.0, 21.0, 0.0, 0.0, 4.0, 34.0, 12.0, 592.0, 43.0, 1.0, 2.0, 0.0, 1.0, 24.0, 34.0, 1.0])),\n",
       " Row(features=DenseVector([355.0, 523.0, 251.552, 86.6856, 21.6551, 204.3816, 237.113, 272.953, 694.6738, 271.0, 252.0, 1537376437000.0, 10.0, 104.0, 236.0, 66.0, 4.0, 67.0, 4.0, 42.0, 0.0, 5.0, 10.0, 4.0, 0.0, 6.0, 14.0, 13.0, 402.0, 35.0, 1.0, 3.0, 0.0, 1.0, 7.0, 17.0, 4.0])),\n",
       " Row(features=DenseVector([2126.0, 4644.0, 249.2117, 102.3067, 4.8322, 200.5938, 234.7881, 276.793, 2520.9987, 232.0, 4412.0, 1538336771000.0, 75.0, 208.0, 408.0, 764.0, 528.0, 1108.0, 880.0, 748.0, 22.0, 80.0, 108.0, 28.0, 1.0, 25.0, 154.0, 44.0, 3732.0, 19.0, 0.0, 20.0, 0.0, 2.0, 33.0, 368.0, 8.0])),\n",
       " Row(features=DenseVector([628.0, 1006.0, 246.2207, 96.8423, 34.3244, 196.8844, 230.7391, 277.1587, 1485.9751, 548.0, 458.0, 1528560242000.0, 21.0, 7.0, 109.0, 359.0, 225.0, 233.0, 15.0, 58.0, 0.0, 14.0, 19.0, 8.0, 2.0, 5.0, 54.0, 14.0, 773.0, 58.0, 1.0, 10.0, 2.0, 2.0, 10.0, 26.0, 8.0])),\n",
       " Row(features=DenseVector([1003.0, 1673.0, 246.5199, 91.737, 21.6551, 201.4559, 236.2771, 272.1432, 1485.9751, 272.0, 1401.0, 1532498424000.0, 26.0, 120.0, 117.0, 374.0, 450.0, 374.0, 202.0, 36.0, 2.0, 19.0, 32.0, 20.0, 1.0, 11.0, 67.0, 17.0, 1391.0, 19.0, 1.0, 6.0, 0.0, 1.0, 13.0, 70.0, 3.0])),\n",
       " Row(features=DenseVector([970.0, 1576.0, 251.5211, 97.7487, 27.0102, 200.8028, 236.904, 278.0469, 1001.7432, 26.0, 1550.0, 1537014411000.0, 18.0, 131.0, 210.0, 306.0, 392.0, 183.0, 281.0, 73.0, 3.0, 19.0, 50.0, 19.0, 2.0, 5.0, 51.0, 12.0, 1332.0, 2.0, 0.0, 2.0, 0.0, 1.0, 7.0, 70.0, 1.0])),\n",
       " Row(features=SparseVector(37, {0: 25.0, 1: 38.0, 2: 249.088, 3: 82.2165, 4: 33.4624, 5: 190.6412, 6: 238.9416, 7: 287.0853, 8: 421.433, 9: 38.0, 11: 1534359998000.0, 12: 2.0, 16: 7.0, 18: 31.0, 21: 5.0, 26: 2.0, 27: 2.0, 28: 24.0, 29: 3.0, 35: 1.0, 36: 1.0})),\n",
       " Row(features=SparseVector(37, {0: 32.0, 1: 39.0, 2: 248.858, 3: 112.6748, 4: 22.3604, 5: 197.9816, 6: 219.402, 7: 270.4714, 8: 655.7775, 9: 39.0, 11: 1533995214000.0, 12: 5.0, 14: 6.0, 16: 20.0, 18: 1.0, 19: 12.0, 25: 2.0, 26: 2.0, 27: 1.0, 28: 31.0, 29: 3.0})),\n",
       " Row(features=DenseVector([500.0, 779.0, 246.2556, 85.1963, 15.8559, 201.6387, 235.624, 271.1244, 829.5963, 647.0, 132.0, 1530333492000.0, 14.0, 0.0, 0.0, 75.0, 96.0, 297.0, 256.0, 55.0, 0.0, 13.0, 12.0, 5.0, 0.0, 2.0, 31.0, 15.0, 602.0, 44.0, 0.0, 4.0, 2.0, 0.0, 19.0, 26.0, 4.0])),\n",
       " Row(features=DenseVector([520.0, 849.0, 242.0653, 80.6017, 26.3832, 198.7653, 233.482, 273.0575, 826.4877, 533.0, 316.0, 1537208989000.0, 12.0, 0.0, 160.0, 96.0, 208.0, 95.0, 191.0, 99.0, 4.0, 11.0, 18.0, 5.0, 1.0, 4.0, 41.0, 16.0, 645.0, 52.0, 1.0, 7.0, 1.0, 2.0, 7.0, 27.0, 6.0])),\n",
       " Row(features=DenseVector([156.0, 203.0, 258.0483, 161.8991, 94.5889, 188.8126, 231.9146, 268.3816, 1928.6461, 0.0, 203.0, 1537306307000.0, 1.0, 0.0, 0.0, 81.0, 122.0, 0.0, 0.0, 0.0, 2.0, 3.0, 8.0, 2.0, 0.0, 0.0, 7.0, 6.0, 168.0, 0.0, 0.0, 1.0, 0.0, 0.0, 1.0, 5.0, 0.0])),\n",
       " Row(features=DenseVector([1030.0, 1738.0, 246.9662, 96.9479, 22.2559, 201.7955, 233.691, 272.6657, 1665.1751, 16.0, 1722.0, 1530514394000.0, 27.0, 192.0, 243.0, 402.0, 78.0, 395.0, 263.0, 165.0, 5.0, 24.0, 44.0, 8.0, 3.0, 7.0, 49.0, 14.0, 1419.0, 1.0, 1.0, 13.0, 1.0, 1.0, 13.0, 135.0, 0.0])),\n",
       " Row(features=SparseVector(37, {0: 69.0, 1: 83.0, 2: 256.2232, 3: 94.9797, 4: 99.1604, 5: 207.2028, 6: 229.0151, 7: 285.9359, 8: 756.2444, 10: 83.0, 11: 1536589088000.0, 12: 1.0, 18: 83.0, 21: 2.0, 22: 1.0, 26: 2.0, 28: 71.0, 31: 1.0, 35: 6.0})),\n",
       " Row(features=DenseVector([1012.0, 1680.0, 248.33, 85.6423, 22.1253, 198.0861, 234.9448, 281.8346, 959.7906, 57.0, 1623.0, 1535269914000.0, 17.0, 11.0, 330.0, 425.0, 134.0, 335.0, 109.0, 336.0, 3.0, 23.0, 42.0, 11.0, 2.0, 4.0, 60.0, 20.0, 1412.0, 8.0, 1.0, 9.0, 0.0, 0.0, 16.0, 69.0, 0.0])),\n",
       " Row(features=DenseVector([291.0, 421.0, 251.3456, 101.9401, 35.0559, 199.6273, 235.3367, 283.4804, 1140.8714, 258.0, 163.0, 1537897424000.0, 8.0, 18.0, 5.0, 164.0, 51.0, 106.0, 52.0, 25.0, 0.0, 6.0, 11.0, 3.0, 1.0, 3.0, 14.0, 6.0, 317.0, 21.0, 2.0, 4.0, 0.0, 1.0, 9.0, 17.0, 4.0])),\n",
       " Row(features=DenseVector([469.0, 646.0, 252.3235, 122.9021, 43.8069, 202.7359, 233.9, 275.1212, 1892.571, 160.0, 486.0, 1531281160000.0, 4.0, 38.0, 0.0, 0.0, 0.0, 256.0, 329.0, 23.0, 1.0, 13.0, 15.0, 5.0, 0.0, 4.0, 16.0, 5.0, 541.0, 16.0, 0.0, 1.0, 0.0, 1.0, 4.0, 23.0, 1.0])),\n",
       " Row(features=DenseVector([1115.0, 1808.0, 247.2733, 97.0709, 15.2289, 198.2167, 233.273, 276.14, 1731.0036, 0.0, 1808.0, 1533438580000.0, 12.0, 0.0, 193.0, 116.0, 549.0, 218.0, 586.0, 146.0, 3.0, 35.0, 51.0, 19.0, 1.0, 19.0, 53.0, 18.0, 1526.0, 0.0, 3.0, 9.0, 0.0, 0.0, 9.0, 62.0, 0.0])),\n",
       " Row(features=DenseVector([126.0, 162.0, 269.8155, 140.8124, 120.3979, 204.7996, 233.9, 275.7481, 1400.2673, 162.0, 0.0, 1537915702000.0, 8.0, 0.0, 0.0, 0.0, 31.0, 110.0, 19.0, 2.0, 0.0, 0.0, 1.0, 0.0, 0.0, 0.0, 5.0, 5.0, 129.0, 14.0, 0.0, 1.0, 0.0, 0.0, 2.0, 5.0, 0.0])),\n",
       " Row(features=DenseVector([288.0, 400.0, 254.7398, 97.799, 43.7808, 201.7955, 235.2844, 282.8273, 714.3702, 332.0, 68.0, 1536649963000.0, 11.0, 8.0, 18.0, 133.0, 154.0, 16.0, 11.0, 60.0, 1.0, 7.0, 10.0, 0.0, 1.0, 3.0, 17.0, 6.0, 314.0, 22.0, 0.0, 1.0, 0.0, 0.0, 3.0, 13.0, 2.0])),\n",
       " Row(features=DenseVector([977.0, 1601.0, 245.4849, 81.4125, 26.3832, 200.202, 236.9824, 280.2673, 1062.9742, 18.0, 1583.0, 1533670697000.0, 15.0, 55.0, 222.0, 429.0, 472.0, 169.0, 253.0, 1.0, 7.0, 20.0, 36.0, 18.0, 2.0, 2.0, 57.0, 21.0, 1334.0, 2.0, 0.0, 10.0, 0.0, 1.0, 40.0, 50.0, 1.0])),\n",
       " Row(features=DenseVector([460.0, 658.0, 250.676, 99.1503, 43.3628, 189.7791, 232.1236, 280.8681, 1001.7432, 100.0, 558.0, 1536372490000.0, 7.0, 131.0, 50.0, 44.0, 149.0, 105.0, 170.0, 9.0, 1.0, 17.0, 18.0, 6.0, 2.0, 3.0, 19.0, 6.0, 548.0, 3.0, 0.0, 1.0, 0.0, 1.0, 6.0, 26.0, 1.0])),\n",
       " Row(features=DenseVector([373.0, 537.0, 244.1401, 75.4472, 57.7824, 201.8216, 230.4779, 270.8893, 662.8306, 84.0, 453.0, 1536854322000.0, 8.0, 0.0, 38.0, 42.0, 109.0, 151.0, 136.0, 61.0, 1.0, 10.0, 5.0, 4.0, 1.0, 3.0, 20.0, 7.0, 446.0, 14.0, 0.0, 1.0, 1.0, 0.0, 5.0, 19.0, 0.0])),\n",
       " Row(features=SparseVector(37, {0: 43.0, 1: 64.0, 2: 244.0725, 3: 94.0649, 4: 48.5612, 5: 197.3285, 6: 226.8208, 7: 271.5946, 8: 636.7865, 9: 64.0, 11: 1537309344000.0, 12: 2.0, 15: 2.0, 17: 62.0, 22: 1.0, 25: 1.0, 26: 3.0, 27: 2.0, 28: 43.0, 29: 9.0, 35: 3.0})),\n",
       " Row(features=DenseVector([414.0, 651.0, 247.9312, 99.4999, 32.4959, 196.2053, 234.1089, 270.1579, 1316.5187, 459.0, 192.0, 1537484200000.0, 12.0, 14.0, 226.0, 267.0, 60.0, 0.0, 84.0, 0.0, 1.0, 11.0, 12.0, 3.0, 0.0, 5.0, 24.0, 6.0, 515.0, 36.0, 0.0, 1.0, 0.0, 0.0, 3.0, 31.0, 3.0])),\n",
       " Row(features=DenseVector([989.0, 1673.0, 256.2203, 109.8479, 33.802, 201.7955, 238.3669, 281.2077, 1670.4518, 645.0, 1028.0, 1538211832000.0, 33.0, 31.0, 471.0, 212.0, 536.0, 221.0, 170.0, 32.0, 3.0, 25.0, 33.0, 13.0, 4.0, 14.0, 50.0, 22.0, 1373.0, 37.0, 0.0, 8.0, 1.0, 0.0, 19.0, 67.0, 4.0])),\n",
       " Row(features=DenseVector([676.0, 1032.0, 249.9552, 97.2496, 33.4624, 199.9408, 233.5342, 275.5653, 1199.5946, 199.0, 833.0, 1537699856000.0, 11.0, 10.0, 228.0, 219.0, 105.0, 14.0, 101.0, 355.0, 1.0, 23.0, 33.0, 8.0, 0.0, 7.0, 36.0, 11.0, 840.0, 10.0, 1.0, 4.0, 1.0, 1.0, 7.0, 44.0, 3.0])),\n",
       " Row(features=DenseVector([105.0, 134.0, 235.0703, 89.5876, 55.6926, 195.3693, 223.8951, 263.8363, 836.5971, 62.0, 72.0, 1533532298000.0, 6.0, 0.0, 4.0, 14.0, 0.0, 34.0, 74.0, 8.0, 0.0, 2.0, 4.0, 0.0, 0.0, 0.0, 6.0, 3.0, 111.0, 3.0, 0.0, 0.0, 0.0, 1.0, 0.0, 3.0, 1.0])),\n",
       " Row(features=DenseVector([775.0, 1256.0, 248.5143, 98.0107, 33.4624, 198.6085, 235.7024, 275.6698, 1665.1751, 77.0, 1179.0, 1537120757000.0, 16.0, 79.0, 7.0, 40.0, 140.0, 325.0, 616.0, 49.0, 1.0, 16.0, 25.0, 7.0, 3.0, 8.0, 46.0, 13.0, 1053.0, 2.0, 0.0, 4.0, 1.0, 1.0, 16.0, 58.0, 2.0])),\n",
       " Row(features=DenseVector([689.0, 1070.0, 240.1481, 80.0293, 24.5024, 196.2836, 231.6534, 273.0053, 722.442, 316.0, 754.0, 1535525247000.0, 17.0, 157.0, 175.0, 62.0, 142.0, 177.0, 108.0, 249.0, 2.0, 22.0, 35.0, 2.0, 0.0, 9.0, 42.0, 10.0, 860.0, 18.0, 2.0, 4.0, 0.0, 0.0, 10.0, 53.0, 1.0])),\n",
       " Row(features=DenseVector([628.0, 971.0, 249.6245, 98.9475, 21.6551, 197.1457, 236.2248, 278.5955, 1160.0975, 535.0, 436.0, 1538313468000.0, 15.0, 35.0, 164.0, 101.0, 129.0, 109.0, 267.0, 166.0, 0.0, 13.0, 23.0, 2.0, 0.0, 7.0, 32.0, 13.0, 787.0, 24.0, 1.0, 8.0, 1.0, 1.0, 22.0, 36.0, 1.0])),\n",
       " Row(features=DenseVector([1073.0, 1831.0, 250.3076, 105.898, 12.6428, 198.9742, 236.251, 278.6216, 1670.4518, 336.0, 1495.0, 1536287099000.0, 15.0, 458.0, 616.0, 103.0, 206.0, 218.0, 86.0, 144.0, 0.0, 30.0, 52.0, 11.0, 0.0, 8.0, 69.0, 22.0, 1505.0, 20.0, 2.0, 11.0, 0.0, 1.0, 14.0, 80.0, 6.0])),\n",
       " Row(features=SparseVector(37, {0: 6.0, 1: 6.0, 2: 266.0741, 3: 42.9161, 4: 226.5334, 5: 240.4044, 6: 241.2404, 7: 311.2746, 8: 329.2469, 9: 6.0, 11: 1532433959000.0, 12: 1.0, 17: 6.0, 28: 6.0})),\n",
       " Row(features=SparseVector(37, {0: 4.0, 1: 4.0, 2: 230.5563, 3: 37.9771, 4: 197.8248, 5: 197.8248, 6: 221.6485, 7: 272.1955, 8: 272.1955, 9: 4.0, 11: 1543247354000.0, 12: 1.0, 14: 4.0, 28: 3.0, 29: 1.0})),\n",
       " Row(features=DenseVector([307.0, 407.0, 246.1353, 78.2496, 67.4477, 201.7955, 231.9146, 281.9391, 655.7775, 4.0, 403.0, 1537779419000.0, 3.0, 0.0, 0.0, 173.0, 166.0, 57.0, 11.0, 0.0, 2.0, 6.0, 9.0, 1.0, 0.0, 4.0, 13.0, 3.0, 345.0, 0.0, 1.0, 3.0, 0.0, 1.0, 1.0, 17.0, 1.0])),\n",
       " Row(features=SparseVector(37, {0: 21.0, 1: 29.0, 2: 236.8204, 3: 48.4274, 4: 111.3073, 5: 210.3375, 6: 234.1351, 7: 267.9114, 8: 344.0061, 9: 29.0, 11: 1536343087000.0, 12: 1.0, 17: 29.0, 26: 1.0, 28: 20.0, 29: 2.0, 31: 2.0, 35: 3.0})),\n",
       " Row(features=SparseVector(37, {0: 79.0, 1: 102.0, 2: 250.8326, 3: 89.6185, 4: 86.5955, 5: 187.8722, 6: 237.0346, 7: 290.9514, 8: 655.7775, 9: 102.0, 11: 1535047210000.0, 12: 3.0, 14: 1.0, 15: 73.0, 18: 28.0, 21: 3.0, 22: 3.0, 26: 5.0, 28: 79.0, 29: 8.0, 34: 1.0, 35: 3.0})),\n",
       " Row(features=DenseVector([1026.0, 1662.0, 248.5798, 94.0429, 9.0118, 200.4371, 233.3775, 277.1587, 1285.3285, 90.0, 1572.0, 1536948181000.0, 10.0, 239.0, 65.0, 35.0, 301.0, 54.0, 463.0, 505.0, 4.0, 31.0, 34.0, 14.0, 2.0, 7.0, 43.0, 10.0, 1398.0, 8.0, 2.0, 12.0, 0.0, 1.0, 14.0, 82.0, 0.0])),\n",
       " Row(features=DenseVector([985.0, 1630.0, 250.4732, 93.7518, 13.1653, 202.6314, 235.0493, 281.5996, 1381.5898, 434.0, 1196.0, 1536963370000.0, 17.0, 332.0, 110.0, 105.0, 552.0, 211.0, 109.0, 211.0, 3.0, 18.0, 44.0, 11.0, 2.0, 9.0, 67.0, 19.0, 1357.0, 12.0, 0.0, 8.0, 0.0, 1.0, 16.0, 59.0, 4.0])),\n",
       " Row(features=DenseVector([1489.0, 3009.0, 247.504, 98.3783, 27.0102, 198.7391, 233.7432, 276.2967, 2002.5726, 1629.0, 1380.0, 1537812949000.0, 75.0, 193.0, 362.0, 487.0, 518.0, 551.0, 514.0, 384.0, 6.0, 61.0, 58.0, 32.0, 2.0, 18.0, 122.0, 49.0, 2336.0, 95.0, 3.0, 14.0, 2.0, 1.0, 59.0, 141.0, 10.0])),\n",
       " Row(features=DenseVector([1018.0, 1667.0, 245.5839, 91.0232, 26.9318, 196.4665, 231.784, 272.5089, 972.0681, 335.0, 1332.0, 1538050164000.0, 22.0, 74.0, 163.0, 198.0, 363.0, 216.0, 434.0, 219.0, 3.0, 22.0, 39.0, 9.0, 1.0, 8.0, 49.0, 14.0, 1414.0, 20.0, 3.0, 11.0, 0.0, 0.0, 11.0, 57.0, 4.0])),\n",
       " Row(features=DenseVector([2501.0, 5812.0, 250.9423, 105.6567, 15.5685, 201.4298, 234.1351, 280.0061, 2520.9987, 922.0, 4890.0, 1536403972000.0, 84.0, 235.0, 890.0, 959.0, 1053.0, 743.0, 1071.0, 861.0, 18.0, 90.0, 155.0, 55.0, 3.0, 31.0, 212.0, 57.0, 4782.0, 71.0, 10.0, 38.0, 0.0, 1.0, 58.0, 228.0, 3.0])),\n",
       " Row(features=DenseVector([31.0, 46.0, 242.9331, 61.495, 127.242, 194.2722, 240.953, 279.1179, 367.9865, 17.0, 29.0, 1535498705000.0, 4.0, 0.0, 0.0, 0.0, 5.0, 7.0, 0.0, 34.0, 0.0, 1.0, 1.0, 0.0, 0.0, 0.0, 4.0, 1.0, 30.0, 2.0, 0.0, 1.0, 0.0, 0.0, 1.0, 3.0, 2.0])),\n",
       " Row(features=DenseVector([424.0, 609.0, 246.6321, 118.6846, 33.384, 195.291, 231.8102, 277.1587, 2015.7906, 154.0, 455.0, 1538215963000.0, 6.0, 0.0, 31.0, 165.0, 132.0, 231.0, 50.0, 0.0, 1.0, 10.0, 13.0, 2.0, 0.0, 3.0, 23.0, 6.0, 507.0, 14.0, 2.0, 4.0, 0.0, 1.0, 5.0, 17.0, 1.0])),\n",
       " Row(features=DenseVector([245.0, 351.0, 259.8298, 89.0207, 93.4396, 204.1726, 239.3073, 291.6044, 667.0624, 351.0, 0.0, 1537142824000.0, 13.0, 26.0, 28.0, 27.0, 57.0, 34.0, 57.0, 122.0, 0.0, 6.0, 9.0, 0.0, 1.0, 1.0, 19.0, 5.0, 278.0, 15.0, 0.0, 6.0, 0.0, 0.0, 1.0, 7.0, 3.0])),\n",
       " Row(features=DenseVector([199.0, 278.0, 244.8685, 90.1047, 38.3996, 196.2053, 230.7914, 272.0387, 734.4844, 278.0, 0.0, 1536850071000.0, 7.0, 0.0, 85.0, 0.0, 0.0, 13.0, 92.0, 88.0, 1.0, 4.0, 7.0, 0.0, 0.0, 1.0, 12.0, 5.0, 209.0, 20.0, 0.0, 1.0, 0.0, 0.0, 1.0, 15.0, 2.0])),\n",
       " Row(features=DenseVector([350.0, 500.0, 251.0351, 93.7356, 70.7391, 204.9302, 233.691, 271.3073, 967.3661, 176.0, 324.0, 1537043743000.0, 12.0, 0.0, 53.0, 102.0, 0.0, 186.0, 159.0, 0.0, 0.0, 4.0, 8.0, 4.0, 0.0, 2.0, 19.0, 6.0, 404.0, 9.0, 0.0, 4.0, 0.0, 0.0, 13.0, 24.0, 2.0])),\n",
       " Row(features=DenseVector([458.0, 660.0, 248.0193, 93.2954, 62.9024, 197.1457, 233.6126, 271.02, 792.9204, 175.0, 485.0, 1531760527000.0, 10.0, 0.0, 184.0, 223.0, 253.0, 0.0, 0.0, 0.0, 1.0, 15.0, 16.0, 5.0, 1.0, 5.0, 30.0, 11.0, 521.0, 8.0, 1.0, 10.0, 0.0, 1.0, 8.0, 27.0, 0.0])),\n",
       " Row(features=DenseVector([978.0, 1611.0, 250.7241, 99.0139, 18.0502, 197.5114, 233.5865, 277.1587, 1121.2534, 103.0, 1508.0, 1537956751000.0, 12.0, 38.0, 263.0, 372.0, 0.0, 325.0, 307.0, 306.0, 0.0, 15.0, 38.0, 15.0, 0.0, 9.0, 58.0, 18.0, 1346.0, 9.0, 2.0, 6.0, 0.0, 1.0, 17.0, 73.0, 2.0])),\n",
       " Row(features=SparseVector(37, {0: 10.0, 1: 17.0, 2: 246.4039, 3: 67.4318, 4: 188.6036, 5: 207.464, 6: 231.0526, 7: 252.4469, 8: 411.6371, 9: 17.0, 11: 1537970819000.0, 12: 1.0, 14: 17.0, 22: 1.0, 26: 2.0, 28: 9.0, 29: 2.0, 34: 1.0})),\n",
       " Row(features=SparseVector(37, {0: 41.0, 1: 60.0, 2: 250.6412, 3: 69.9426, 4: 107.3889, 5: 198.2951, 6: 239.6208, 7: 288.6265, 8: 419.6044, 9: 60.0, 11: 1536257455000.0, 12: 2.0, 13: 39.0, 19: 21.0, 20: 1.0, 21: 2.0, 22: 2.0, 25: 1.0, 26: 3.0, 28: 40.0, 29: 8.0, 35: 1.0})),\n",
       " Row(features=DenseVector([203.0, 293.0, 254.6084, 102.7325, 26.5661, 198.1122, 236.9302, 280.1367, 783.3334, 9.0, 284.0, 1533629444000.0, 7.0, 0.0, 57.0, 83.0, 0.0, 111.0, 0.0, 42.0, 1.0, 3.0, 8.0, 3.0, 1.0, 3.0, 14.0, 3.0, 229.0, 0.0, 1.0, 2.0, 0.0, 1.0, 4.0, 19.0, 1.0])),\n",
       " Row(features=DenseVector([1129.0, 1920.0, 252.1876, 94.7701, 22.3604, 201.7955, 236.2248, 280.2151, 1314.4812, 38.0, 1882.0, 1535093367000.0, 19.0, 208.0, 349.0, 419.0, 398.0, 254.0, 231.0, 61.0, 1.0, 17.0, 39.0, 15.0, 1.0, 9.0, 62.0, 18.0, 1630.0, 4.0, 7.0, 19.0, 1.0, 1.0, 14.0, 81.0, 1.0])),\n",
       " Row(features=DenseVector([777.0, 1235.0, 254.8493, 123.8535, 11.9898, 198.2167, 235.5196, 280.6069, 2594.873, 120.0, 1115.0, 1536831228000.0, 16.0, 141.0, 8.0, 42.0, 337.0, 362.0, 345.0, 0.0, 3.0, 8.0, 28.0, 4.0, 2.0, 8.0, 50.0, 13.0, 1046.0, 6.0, 0.0, 2.0, 0.0, 0.0, 8.0, 56.0, 1.0])),\n",
       " Row(features=DenseVector([763.0, 1219.0, 245.3134, 90.2272, 11.9898, 197.6159, 231.8102, 272.7963, 790.282, 0.0, 1219.0, 1529252604000.0, 12.0, 275.0, 10.0, 173.0, 223.0, 0.0, 95.0, 443.0, 1.0, 24.0, 25.0, 11.0, 0.0, 5.0, 53.0, 16.0, 1004.0, 1.0, 2.0, 9.0, 0.0, 0.0, 6.0, 62.0, 0.0])),\n",
       " Row(features=DenseVector([328.0, 479.0, 245.0609, 88.0885, 38.3473, 198.0338, 229.5898, 266.2918, 765.4657, 277.0, 202.0, 1537381154000.0, 7.0, 0.0, 16.0, 0.0, 112.0, 60.0, 282.0, 9.0, 1.0, 2.0, 9.0, 3.0, 0.0, 2.0, 22.0, 5.0, 380.0, 30.0, 0.0, 0.0, 0.0, 1.0, 8.0, 14.0, 1.0])),\n",
       " Row(features=DenseVector([133.0, 179.0, 256.0487, 98.2837, 98.1416, 192.3653, 235.2844, 293.8771, 741.642, 179.0, 0.0, 1532899177000.0, 9.0, 11.0, 32.0, 40.0, 91.0, 2.0, 3.0, 0.0, 0.0, 1.0, 6.0, 0.0, 0.0, 1.0, 8.0, 2.0, 137.0, 12.0, 1.0, 2.0, 0.0, 0.0, 0.0, 6.0, 3.0])),\n",
       " Row(features=DenseVector([255.0, 382.0, 256.347, 95.4083, 33.4624, 204.042, 238.4975, 294.2689, 790.282, 382.0, 0.0, 1536956945000.0, 9.0, 11.0, 0.0, 0.0, 95.0, 59.0, 110.0, 107.0, 1.0, 13.0, 7.0, 0.0, 0.0, 1.0, 12.0, 5.0, 288.0, 28.0, 0.0, 3.0, 0.0, 0.0, 10.0, 9.0, 3.0])),\n",
       " Row(features=DenseVector([161.0, 215.0, 240.3339, 74.117, 71.4706, 194.4551, 228.8583, 271.882, 612.0485, 215.0, 0.0, 1537537765000.0, 7.0, 0.0, 55.0, 1.0, 0.0, 14.0, 120.0, 25.0, 0.0, 0.0, 2.0, 0.0, 0.0, 0.0, 8.0, 2.0, 168.0, 12.0, 0.0, 0.0, 0.0, 0.0, 4.0, 17.0, 0.0])),\n",
       " Row(features=DenseVector([515.0, 817.0, 247.1697, 103.687, 29.9881, 197.7204, 230.9742, 273.4755, 1400.2673, 473.0, 344.0, 1532696273000.0, 14.0, 0.0, 49.0, 0.0, 128.0, 217.0, 194.0, 229.0, 2.0, 21.0, 16.0, 10.0, 1.0, 2.0, 33.0, 10.0, 631.0, 26.0, 0.0, 2.0, 1.0, 2.0, 22.0, 34.0, 4.0])),\n",
       " Row(features=SparseVector(37, {0: 20.0, 1: 26.0, 2: 238.6477, 3: 69.5288, 4: 144.2477, 5: 183.6926, 6: 227.7873, 7: 264.9334, 8: 473.2338, 9: 26.0, 11: 1530789251000.0, 12: 1.0, 18: 26.0, 22: 1.0, 25: 1.0, 26: 1.0, 27: 1.0, 28: 20.0, 35: 2.0})),\n",
       " Row(features=DenseVector([598.0, 903.0, 247.7993, 94.6178, 41.8477, 198.6346, 235.1016, 276.8453, 1302.3865, 2.0, 901.0, 1541223737000.0, 9.0, 0.0, 73.0, 118.0, 79.0, 56.0, 481.0, 96.0, 0.0, 9.0, 28.0, 11.0, 3.0, 5.0, 36.0, 9.0, 761.0, 0.0, 0.0, 3.0, 0.0, 0.0, 3.0, 34.0, 1.0])),\n",
       " Row(features=DenseVector([732.0, 1199.0, 248.2917, 112.3926, 38.3473, 200.0975, 232.3848, 274.442, 2520.9987, 923.0, 276.0, 1535907116000.0, 36.0, 75.0, 159.0, 420.0, 103.0, 186.0, 177.0, 79.0, 0.0, 9.0, 26.0, 5.0, 0.0, 6.0, 54.0, 22.0, 931.0, 61.0, 0.0, 6.0, 1.0, 0.0, 27.0, 46.0, 5.0])),\n",
       " Row(features=DenseVector([608.0, 877.0, 245.0712, 87.4563, 38.3473, 198.4779, 232.9596, 272.1432, 1137.5016, 149.0, 728.0, 1535903878000.0, 11.0, 10.0, 164.0, 13.0, 14.0, 71.0, 117.0, 488.0, 1.0, 12.0, 21.0, 4.0, 0.0, 3.0, 33.0, 10.0, 742.0, 9.0, 0.0, 3.0, 0.0, 1.0, 3.0, 32.0, 3.0])),\n",
       " Row(features=DenseVector([288.0, 416.0, 248.3034, 94.8274, 22.4648, 204.1726, 235.4412, 279.0918, 978.442, 416.0, 0.0, 1537531076000.0, 12.0, 33.0, 153.0, 104.0, 22.0, 85.0, 8.0, 11.0, 1.0, 7.0, 5.0, 0.0, 0.0, 3.0, 21.0, 8.0, 318.0, 22.0, 0.0, 2.0, 0.0, 0.0, 2.0, 25.0, 2.0])),\n",
       " Row(features=DenseVector([1107.0, 1914.0, 249.1873, 96.632, 24.5546, 201.6387, 233.9, 276.7669, 1670.4518, 366.0, 1548.0, 1536019842000.0, 30.0, 348.0, 640.0, 250.0, 280.0, 208.0, 113.0, 75.0, 4.0, 29.0, 47.0, 16.0, 0.0, 12.0, 80.0, 30.0, 1577.0, 20.0, 1.0, 8.0, 0.0, 1.0, 11.0, 77.0, 1.0])),\n",
       " Row(features=DenseVector([538.0, 799.0, 244.4378, 92.1764, 47.8298, 198.2951, 229.7726, 271.0722, 1242.4616, 108.0, 691.0, 1537679535000.0, 12.0, 0.0, 277.0, 0.0, 105.0, 95.0, 277.0, 45.0, 0.0, 25.0, 21.0, 1.0, 0.0, 4.0, 28.0, 9.0, 665.0, 3.0, 1.0, 4.0, 0.0, 1.0, 3.0, 32.0, 1.0])),\n",
       " Row(features=DenseVector([691.0, 1046.0, 249.6154, 110.5942, 22.4648, 195.7873, 233.9261, 275.0167, 1731.0036, 152.0, 894.0, 1530674962000.0, 13.0, 11.0, 135.0, 78.0, 252.0, 6.0, 188.0, 376.0, 1.0, 13.0, 32.0, 11.0, 0.0, 7.0, 30.0, 12.0, 865.0, 13.0, 1.0, 9.0, 0.0, 1.0, 8.0, 42.0, 1.0])),\n",
       " Row(features=SparseVector(37, {0: 57.0, 1: 77.0, 2: 244.6282, 3: 63.5273, 4: 116.14, 5: 197.4853, 6: 232.202, 7: 275.2779, 8: 439.562, 9: 77.0, 11: 1537821607000.0, 12: 3.0, 13: 15.0, 18: 62.0, 22: 1.0, 25: 1.0, 26: 3.0, 27: 2.0, 28: 58.0, 29: 9.0, 35: 3.0})),\n",
       " Row(features=DenseVector([82.0, 120.0, 245.9946, 88.7109, 22.3604, 198.7653, 239.673, 274.1024, 714.3702, 120.0, 0.0, 1534255113000.0, 6.0, 19.0, 36.0, 0.0, 0.0, 60.0, 0.0, 5.0, 0.0, 3.0, 2.0, 0.0, 0.0, 0.0, 9.0, 0.0, 84.0, 13.0, 1.0, 2.0, 0.0, 0.0, 0.0, 3.0, 1.0])),\n",
       " Row(features=DenseVector([795.0, 1271.0, 243.2977, 99.4131, 25.4167, 196.2053, 232.202, 273.0836, 1670.4518, 67.0, 1204.0, 1536935950000.0, 16.0, 209.0, 79.0, 385.0, 324.0, 160.0, 103.0, 11.0, 1.0, 11.0, 36.0, 7.0, 2.0, 5.0, 37.0, 15.0, 1029.0, 2.0, 2.0, 6.0, 0.0, 1.0, 7.0, 109.0, 1.0])),\n",
       " Row(features=DenseVector([188.0, 261.0, 248.7702, 92.5841, 12.3032, 201.4298, 231.8102, 278.7783, 685.5571, 198.0, 63.0, 1536919023000.0, 5.0, 0.0, 0.0, 0.0, 221.0, 5.0, 35.0, 0.0, 2.0, 2.0, 6.0, 1.0, 0.0, 0.0, 12.0, 4.0, 203.0, 13.0, 1.0, 0.0, 0.0, 1.0, 2.0, 11.0, 3.0])),\n",
       " Row(features=DenseVector([330.0, 501.0, 258.5189, 145.092, 13.6877, 206.9938, 238.9416, 278.7522, 2594.873, 410.0, 91.0, 1536954914000.0, 15.0, 71.0, 224.0, 13.0, 57.0, 24.0, 111.0, 1.0, 2.0, 12.0, 9.0, 3.0, 0.0, 5.0, 25.0, 10.0, 385.0, 23.0, 2.0, 5.0, 1.0, 1.0, 1.0, 12.0, 5.0])),\n",
       " Row(features=DenseVector([1398.0, 2533.0, 246.5988, 102.2291, 13.6355, 196.9367, 234.6314, 274.7293, 2594.873, 207.0, 2326.0, 1538331630000.0, 31.0, 403.0, 362.0, 529.0, 319.0, 527.0, 297.0, 96.0, 9.0, 30.0, 56.0, 21.0, 2.0, 13.0, 87.0, 28.0, 2135.0, 13.0, 1.0, 10.0, 1.0, 2.0, 24.0, 95.0, 6.0])),\n",
       " Row(features=SparseVector(37, {0: 54.0, 1: 69.0, 2: 247.25, 3: 72.8733, 4: 134.3473, 5: 208.5351, 6: 228.7277, 7: 269.4004, 8: 494.9938, 9: 69.0, 11: 1534613931000.0, 12: 3.0, 14: 27.0, 15: 19.0, 18: 23.0, 21: 2.0, 22: 3.0, 26: 4.0, 28: 55.0, 29: 2.0, 30: 1.0, 31: 1.0, 35: 1.0})),\n",
       " Row(features=DenseVector([60.0, 85.0, 250.4239, 82.1401, 136.0453, 209.9457, 235.7285, 269.3481, 652.1465, 52.0, 33.0, 1537167593000.0, 3.0, 0.0, 43.0, 0.0, 28.0, 0.0, 0.0, 14.0, 0.0, 0.0, 7.0, 1.0, 0.0, 0.0, 3.0, 1.0, 61.0, 2.0, 0.0, 0.0, 0.0, 1.0, 1.0, 5.0, 1.0])),\n",
       " Row(features=DenseVector([808.0, 1317.0, 249.988, 87.0735, 11.2583, 201.7955, 236.0942, 280.2151, 1071.2551, 218.0, 1099.0, 1540940608000.0, 20.0, 146.0, 395.0, 210.0, 158.0, 117.0, 166.0, 125.0, 3.0, 16.0, 31.0, 5.0, 2.0, 8.0, 44.0, 6.0, 1110.0, 12.0, 0.0, 7.0, 0.0, 0.0, 10.0, 62.0, 1.0])),\n",
       " Row(features=SparseVector(37, {0: 32.0, 1: 41.0, 2: 248.7468, 3: 90.8598, 4: 68.6755, 5: 204.3293, 6: 247.1702, 7: 306.4681, 8: 421.5898, 9: 41.0, 11: 1537618437000.0, 12: 4.0, 13: 14.0, 14: 17.0, 17: 10.0, 22: 2.0, 26: 3.0, 27: 1.0, 28: 31.0, 29: 3.0, 35: 1.0})),\n",
       " Row(features=DenseVector([101.0, 144.0, 257.4363, 132.7231, 64.1563, 194.5596, 223.3465, 276.0616, 1242.4616, 144.0, 0.0, 1538255180000.0, 6.0, 0.0, 19.0, 45.0, 0.0, 0.0, 73.0, 7.0, 0.0, 0.0, 3.0, 0.0, 0.0, 1.0, 9.0, 4.0, 104.0, 3.0, 2.0, 5.0, 0.0, 0.0, 1.0, 9.0, 1.0])),\n",
       " Row(features=DenseVector([1134.0, 1971.0, 252.1652, 136.2709, 7.8363, 197.7987, 237.113, 280.3979, 3024.6657, 221.0, 1750.0, 1536663902000.0, 26.0, 443.0, 310.0, 171.0, 45.0, 300.0, 201.0, 501.0, 6.0, 26.0, 45.0, 12.0, 1.0, 14.0, 65.0, 22.0, 1626.0, 21.0, 2.0, 11.0, 0.0, 1.0, 16.0, 102.0, 1.0])),\n",
       " Row(features=DenseVector([152.0, 200.0, 255.3232, 93.9771, 31.5032, 202.9971, 238.8893, 299.6763, 661.6812, 200.0, 0.0, 1536980520000.0, 3.0, 0.0, 0.0, 33.0, 135.0, 32.0, 0.0, 0.0, 0.0, 6.0, 4.0, 0.0, 0.0, 0.0, 4.0, 3.0, 157.0, 11.0, 0.0, 3.0, 0.0, 0.0, 1.0, 10.0, 1.0])),\n",
       " Row(features=DenseVector([514.0, 735.0, 250.9759, 110.2723, 27.0102, 197.7726, 232.5416, 277.1587, 1485.9751, 26.0, 709.0, 1536817381000.0, 5.0, 0.0, 0.0, 47.0, 177.0, 176.0, 335.0, 0.0, 0.0, 9.0, 10.0, 8.0, 1.0, 1.0, 27.0, 8.0, 612.0, 1.0, 3.0, 6.0, 0.0, 1.0, 5.0, 40.0, 1.0])),\n",
       " Row(features=DenseVector([1044.0, 1763.0, 248.7153, 85.1649, 30.5889, 201.7955, 237.7138, 277.7073, 1037.8183, 265.0, 1498.0, 1536844410000.0, 19.0, 30.0, 545.0, 116.0, 161.0, 167.0, 422.0, 322.0, 1.0, 23.0, 45.0, 12.0, 2.0, 15.0, 66.0, 16.0, 1443.0, 16.0, 3.0, 11.0, 2.0, 2.0, 16.0, 87.0, 3.0])),\n",
       " Row(features=DenseVector([427.0, 666.0, 256.9982, 136.4929, 26.9057, 201.7955, 235.7024, 278.5693, 2520.9987, 386.0, 280.0, 1531679695000.0, 11.0, 0.0, 0.0, 69.0, 88.0, 152.0, 198.0, 159.0, 1.0, 11.0, 13.0, 8.0, 1.0, 5.0, 29.0, 7.0, 509.0, 18.0, 3.0, 6.0, 1.0, 1.0, 18.0, 30.0, 3.0])),\n",
       " Row(features=DenseVector([368.0, 577.0, 247.5248, 92.824, 26.0436, 201.7432, 237.0869, 277.1587, 1140.8714, 577.0, 0.0, 1536963671000.0, 21.0, 2.0, 107.0, 128.0, 67.0, 81.0, 130.0, 62.0, 1.0, 7.0, 14.0, 0.0, 1.0, 0.0, 32.0, 11.0, 425.0, 50.0, 2.0, 2.0, 0.0, 0.0, 13.0, 18.0, 1.0])),\n",
       " Row(features=DenseVector([283.0, 386.0, 253.2049, 97.5599, 48.1955, 202.0828, 234.8926, 275.6698, 1087.1898, 33.0, 353.0, 1536679150000.0, 10.0, 1.0, 133.0, 0.0, 17.0, 20.0, 126.0, 89.0, 1.0, 11.0, 9.0, 8.0, 0.0, 3.0, 15.0, 4.0, 318.0, 3.0, 0.0, 1.0, 0.0, 1.0, 2.0, 7.0, 1.0])),\n",
       " Row(features=DenseVector([697.0, 1122.0, 247.6506, 87.8653, 25.0771, 197.2502, 232.2542, 278.1775, 706.8991, 234.0, 888.0, 1537367773000.0, 13.0, 0.0, 63.0, 236.0, 77.0, 276.0, 266.0, 204.0, 2.0, 23.0, 27.0, 12.0, 0.0, 8.0, 40.0, 11.0, 921.0, 24.0, 3.0, 7.0, 0.0, 1.0, 12.0, 28.0, 1.0])),\n",
       " Row(features=DenseVector([1035.0, 1783.0, 248.9452, 92.097, 21.2632, 201.8216, 234.8665, 277.1587, 1197.0608, 11.0, 1772.0, 1538120859000.0, 16.0, 150.0, 275.0, 146.0, 249.0, 133.0, 500.0, 330.0, 1.0, 18.0, 45.0, 14.0, 3.0, 10.0, 65.0, 16.0, 1493.0, 3.0, 3.0, 10.0, 0.0, 1.0, 10.0, 90.0, 1.0])),\n",
       " Row(features=DenseVector([482.0, 775.0, 247.9496, 91.8902, 33.8281, 200.1236, 232.8551, 274.3375, 949.6028, 344.0, 431.0, 1537751138000.0, 21.0, 10.0, 149.0, 52.0, 173.0, 234.0, 157.0, 0.0, 3.0, 18.0, 14.0, 9.0, 0.0, 8.0, 39.0, 9.0, 603.0, 15.0, 3.0, 7.0, 0.0, 1.0, 4.0, 39.0, 3.0])),\n",
       " Row(features=DenseVector([1024.0, 1687.0, 249.4638, 95.6308, 35.0036, 196.1269, 233.691, 277.9424, 1242.4616, 0.0, 1687.0, 1536795126000.0, 17.0, 192.0, 428.0, 581.0, 108.0, 218.0, 86.0, 74.0, 6.0, 24.0, 36.0, 12.0, 1.0, 9.0, 56.0, 19.0, 1421.0, 1.0, 1.0, 13.0, 0.0, 0.0, 11.0, 77.0, 0.0])),\n",
       " Row(features=DenseVector([860.0, 1380.0, 249.4255, 104.7886, 49.8934, 200.8551, 234.8926, 277.4461, 2390.2036, 3.0, 1377.0, 1534859694000.0, 18.0, 203.0, 0.0, 279.0, 172.0, 287.0, 379.0, 60.0, 1.0, 18.0, 33.0, 7.0, 1.0, 7.0, 31.0, 12.0, 1148.0, 0.0, 0.0, 3.0, 0.0, 0.0, 12.0, 107.0, 0.0])),\n",
       " Row(features=DenseVector([718.0, 1125.0, 243.4913, 90.462, 15.8559, 201.064, 230.6608, 273.0575, 1636.9889, 426.0, 699.0, 1533908361000.0, 20.0, 108.0, 422.0, 321.0, 10.0, 42.0, 222.0, 0.0, 0.0, 26.0, 18.0, 1.0, 0.0, 6.0, 38.0, 14.0, 934.0, 22.0, 0.0, 4.0, 0.0, 1.0, 11.0, 46.0, 4.0])),\n",
       " Row(features=DenseVector([477.0, 635.0, 245.0698, 80.5026, 54.3865, 202.5008, 235.7024, 272.0387, 972.0681, 0.0, 635.0, 1538159495000.0, 6.0, 0.0, 152.0, 0.0, 0.0, 329.0, 93.0, 61.0, 1.0, 7.0, 7.0, 7.0, 0.0, 1.0, 20.0, 10.0, 545.0, 1.0, 0.0, 6.0, 0.0, 0.0, 3.0, 27.0, 0.0])),\n",
       " Row(features=DenseVector([851.0, 1360.0, 250.861, 85.7636, 32.7048, 202.6836, 239.1767, 280.8942, 734.38, 61.0, 1299.0, 1535268719000.0, 15.0, 45.0, 449.0, 326.0, 314.0, 113.0, 113.0, 0.0, 3.0, 26.0, 29.0, 12.0, 3.0, 5.0, 50.0, 12.0, 1138.0, 4.0, 3.0, 6.0, 0.0, 1.0, 8.0, 59.0, 1.0])),\n",
       " Row(features=DenseVector([275.0, 356.0, 252.0701, 110.8575, 93.5963, 189.6747, 231.2093, 279.771, 1086.6934, 0.0, 356.0, 1534461078000.0, 11.0, 137.0, 164.0, 22.0, 13.0, 5.0, 15.0, 0.0, 1.0, 6.0, 7.0, 0.0, 0.0, 1.0, 12.0, 2.0, 297.0, 0.0, 0.0, 3.0, 0.0, 0.0, 5.0, 22.0, 0.0])),\n",
       " Row(features=DenseVector([549.0, 856.0, 246.6176, 82.2333, 9.0118, 200.1236, 233.9, 279.2746, 662.8306, 147.0, 709.0, 1534318843000.0, 10.0, 0.0, 122.0, 280.0, 151.0, 289.0, 14.0, 0.0, 0.0, 20.0, 20.0, 10.0, 4.0, 8.0, 39.0, 5.0, 687.0, 10.0, 3.0, 4.0, 0.0, 0.0, 6.0, 38.0, 2.0])),\n",
       " Row(features=DenseVector([1819.0, 3691.0, 247.0495, 87.5013, 2.1677, 199.8885, 234.0567, 277.1587, 1349.4591, 9.0, 3682.0, 1537611935000.0, 57.0, 540.0, 228.0, 846.0, 647.0, 439.0, 682.0, 309.0, 4.0, 65.0, 94.0, 12.0, 4.0, 13.0, 123.0, 33.0, 3017.0, 4.0, 5.0, 15.0, 1.0, 1.0, 29.0, 270.0, 1.0])),\n",
       " Row(features=DenseVector([1009.0, 1674.0, 247.9729, 99.6531, 22.3604, 199.9669, 233.691, 276.793, 1670.4518, 0.0, 1674.0, 1537672236000.0, 27.0, 0.0, 236.0, 619.0, 144.0, 346.0, 261.0, 68.0, 2.0, 14.0, 51.0, 20.0, 1.0, 9.0, 54.0, 21.0, 1375.0, 1.0, 6.0, 12.0, 0.0, 0.0, 46.0, 62.0, 0.0])),\n",
       " Row(features=DenseVector([239.0, 319.0, 246.1253, 91.3225, 22.1253, 196.8844, 239.2028, 272.6657, 700.8126, 50.0, 269.0, 1528772084000.0, 6.0, 0.0, 9.0, 59.0, 0.0, 147.0, 104.0, 0.0, 0.0, 8.0, 7.0, 0.0, 0.0, 1.0, 12.0, 1.0, 255.0, 0.0, 0.0, 0.0, 0.0, 1.0, 2.0, 31.0, 1.0])),\n",
       " Row(features=SparseVector(37, {0: 39.0, 1: 60.0, 2: 232.5175, 3: 73.7445, 4: 94.2232, 5: 193.2273, 6: 226.3767, 7: 252.2118, 8: 437.9163, 9: 60.0, 11: 1533247234000.0, 12: 1.0, 19: 60.0, 22: 1.0, 26: 3.0, 28: 39.0, 29: 12.0, 34: 1.0, 35: 2.0})),\n",
       " Row(features=DenseVector([180.0, 241.0, 254.7085, 107.2144, 125.2567, 200.5416, 239.4118, 278.2559, 1242.4616, 0.0, 241.0, 1537920589000.0, 3.0, 0.0, 26.0, 32.0, 0.0, 0.0, 183.0, 0.0, 0.0, 8.0, 7.0, 1.0, 1.0, 2.0, 5.0, 1.0, 198.0, 0.0, 0.0, 2.0, 0.0, 0.0, 1.0, 15.0, 0.0])),\n",
       " Row(features=SparseVector(37, {0: 71.0, 1: 90.0, 2: 279.4408, 3: 192.6777, 4: 65.8804, 5: 200.6722, 6: 241.4232, 7: 296.7244, 8: 1670.4518, 9: 90.0, 11: 1537586184000.0, 12: 1.0, 16: 90.0, 26: 2.0, 28: 72.0, 29: 4.0, 30: 1.0, 31: 1.0, 34: 3.0, 35: 6.0, 36: 1.0})),\n",
       " Row(features=DenseVector([1169.0, 2050.0, 250.5194, 114.6952, 33.4624, 200.9334, 235.2583, 277.2371, 2520.9987, 126.0, 1924.0, 1537347211000.0, 23.0, 400.0, 290.0, 166.0, 219.0, 451.0, 493.0, 31.0, 3.0, 36.0, 59.0, 15.0, 0.0, 13.0, 62.0, 18.0, 1702.0, 8.0, 6.0, 20.0, 0.0, 1.0, 16.0, 88.0, 3.0])),\n",
       " Row(features=DenseVector([482.0, 726.0, 243.0796, 81.8752, 22.4648, 196.1791, 232.5938, 274.1285, 657.7367, 260.0, 466.0, 1528403713000.0, 13.0, 66.0, 38.0, 230.0, 220.0, 19.0, 27.0, 126.0, 1.0, 17.0, 17.0, 3.0, 0.0, 1.0, 34.0, 13.0, 570.0, 23.0, 3.0, 10.0, 0.0, 1.0, 6.0, 23.0, 3.0])),\n",
       " Row(features=DenseVector([1144.0, 1982.0, 246.8809, 91.5332, 37.7204, 198.0861, 232.202, 274.1808, 1457.371, 117.0, 1865.0, 1538169823000.0, 22.0, 210.0, 451.0, 344.0, 271.0, 33.0, 402.0, 271.0, 6.0, 40.0, 48.0, 18.0, 3.0, 9.0, 67.0, 18.0, 1659.0, 4.0, 2.0, 7.0, 0.0, 1.0, 23.0, 74.0, 3.0])),\n",
       " Row(features=DenseVector([3070.0, 7747.0, 249.1088, 101.3042, 20.4534, 199.1571, 235.7024, 279.3269, 3024.6657, 1465.0, 6282.0, 1529027541000.0, 107.0, 973.0, 1172.0, 1289.0, 1133.0, 1362.0, 871.0, 947.0, 13.0, 104.0, 195.0, 59.0, 4.0, 35.0, 298.0, 102.0, 6419.0, 104.0, 4.0, 31.0, 2.0, 3.0, 56.0, 307.0, 11.0])),\n",
       " Row(features=SparseVector(37, {0: 48.0, 1: 63.0, 2: 247.1335, 3: 89.6368, 4: 68.571, 5: 194.4551, 6: 228.153, 7: 285.8575, 8: 503.8232, 9: 63.0, 11: 1537939256000.0, 12: 2.0, 16: 21.0, 18: 42.0, 21: 2.0, 26: 1.0, 27: 1.0, 28: 47.0, 29: 7.0, 31: 1.0, 34: 1.0, 35: 3.0})),\n",
       " Row(features=DenseVector([932.0, 1491.0, 248.9438, 93.8802, 29.9098, 198.3212, 232.8812, 276.1661, 1506.22, 0.0, 1491.0, 1531804365000.0, 8.0, 100.0, 524.0, 572.0, 111.0, 55.0, 129.0, 0.0, 0.0, 29.0, 34.0, 5.0, 3.0, 9.0, 48.0, 14.0, 1261.0, 0.0, 2.0, 11.0, 0.0, 0.0, 17.0, 58.0, 0.0])),\n",
       " Row(features=DenseVector([578.0, 845.0, 249.2542, 147.5021, 22.0469, 198.922, 230.8175, 270.7587, 2743.0918, 344.0, 501.0, 1533885783000.0, 9.0, 0.0, 223.0, 103.0, 387.0, 78.0, 54.0, 0.0, 3.0, 10.0, 14.0, 4.0, 1.0, 5.0, 34.0, 7.0, 698.0, 19.0, 1.0, 7.0, 0.0, 1.0, 8.0, 27.0, 4.0])),\n",
       " Row(features=DenseVector([744.0, 1154.0, 248.7639, 92.829, 15.3857, 201.9522, 235.4934, 277.002, 1485.9751, 282.0, 872.0, 1532771049000.0, 28.0, 18.0, 313.0, 89.0, 88.0, 166.0, 284.0, 196.0, 1.0, 15.0, 20.0, 9.0, 3.0, 8.0, 45.0, 10.0, 951.0, 15.0, 2.0, 10.0, 0.0, 1.0, 8.0, 53.0, 3.0])),\n",
       " Row(features=DenseVector([487.0, 696.0, 251.3976, 91.0827, 33.4624, 198.1906, 238.4975, 283.4804, 1282.4812, 82.0, 614.0, 1534768517000.0, 12.0, 87.0, 161.0, 137.0, 222.0, 67.0, 22.0, 0.0, 1.0, 11.0, 12.0, 10.0, 0.0, 7.0, 27.0, 9.0, 582.0, 6.0, 1.0, 5.0, 1.0, 1.0, 5.0, 18.0, 0.0])),\n",
       " Row(features=DenseVector([120.0, 156.0, 232.3158, 71.9111, 54.282, 191.9212, 233.4036, 263.8885, 584.1498, 156.0, 0.0, 1534370883000.0, 8.0, 0.0, 5.0, 10.0, 23.0, 0.0, 81.0, 37.0, 0.0, 3.0, 8.0, 0.0, 0.0, 1.0, 6.0, 4.0, 121.0, 10.0, 0.0, 0.0, 0.0, 0.0, 1.0, 2.0, 0.0])),\n",
       " Row(features=DenseVector([262.0, 376.0, 248.2689, 92.817, 51.4608, 201.7955, 231.8102, 271.0461, 913.4493, 376.0, 0.0, 1533758535000.0, 8.0, 172.0, 60.0, 30.0, 24.0, 82.0, 8.0, 0.0, 0.0, 4.0, 5.0, 0.0, 0.0, 2.0, 16.0, 8.0, 290.0, 26.0, 0.0, 1.0, 0.0, 0.0, 8.0, 14.0, 2.0])),\n",
       " Row(features=DenseVector([780.0, 1328.0, 246.2471, 86.0021, 26.9057, 197.851, 233.691, 274.4681, 869.8771, 964.0, 364.0, 1533192032000.0, 33.0, 42.0, 59.0, 227.0, 387.0, 500.0, 58.0, 55.0, 5.0, 21.0, 29.0, 6.0, 0.0, 7.0, 60.0, 29.0, 1039.0, 58.0, 1.0, 9.0, 2.0, 1.0, 13.0, 43.0, 5.0])),\n",
       " Row(features=DenseVector([342.0, 510.0, 244.4042, 100.7759, 52.0093, 196.2836, 231.3661, 268.5906, 1400.2673, 175.0, 335.0, 1537638755000.0, 10.0, 175.0, 164.0, 44.0, 0.0, 82.0, 0.0, 45.0, 4.0, 7.0, 16.0, 5.0, 0.0, 3.0, 24.0, 9.0, 389.0, 7.0, 0.0, 3.0, 1.0, 1.0, 14.0, 24.0, 3.0])),\n",
       " Row(features=DenseVector([758.0, 1132.0, 249.3589, 91.6625, 19.513, 197.2763, 236.0159, 282.3048, 913.4493, 0.0, 1132.0, 1531910878000.0, 11.0, 338.0, 90.0, 189.0, 26.0, 0.0, 151.0, 338.0, 1.0, 15.0, 26.0, 6.0, 2.0, 9.0, 28.0, 6.0, 979.0, 1.0, 0.0, 3.0, 0.0, 0.0, 11.0, 45.0, 0.0])),\n",
       " Row(features=DenseVector([341.0, 477.0, 241.2793, 88.978, 12.4338, 197.1457, 227.3432, 262.4257, 1087.1898, 0.0, 477.0, 1536855067000.0, 4.0, 0.0, 0.0, 0.0, 245.0, 169.0, 63.0, 0.0, 2.0, 7.0, 8.0, 5.0, 1.0, 3.0, 20.0, 3.0, 402.0, 0.0, 1.0, 1.0, 0.0, 0.0, 2.0, 22.0, 0.0])),\n",
       " Row(features=DenseVector([682.0, 1036.0, 248.7822, 79.6039, 36.2053, 201.6387, 235.7024, 277.7073, 659.1996, 343.0, 693.0, 1532634173000.0, 21.0, 17.0, 50.0, 81.0, 90.0, 391.0, 236.0, 171.0, 0.0, 18.0, 29.0, 5.0, 0.0, 3.0, 34.0, 15.0, 841.0, 31.0, 2.0, 5.0, 0.0, 1.0, 7.0, 43.0, 2.0])),\n",
       " Row(features=DenseVector([1341.0, 2357.0, 248.4282, 101.463, 27.0102, 197.3285, 234.762, 277.1587, 2520.9987, 118.0, 2239.0, 1533398428000.0, 9.0, 303.0, 545.0, 406.0, 454.0, 27.0, 280.0, 342.0, 4.0, 37.0, 55.0, 17.0, 3.0, 7.0, 69.0, 22.0, 2009.0, 5.0, 1.0, 11.0, 0.0, 1.0, 18.0, 97.0, 1.0])),\n",
       " Row(features=DenseVector([112.0, 148.0, 255.0772, 140.1016, 90.1742, 191.8428, 239.3073, 283.3759, 1485.9751, 148.0, 0.0, 1531350022000.0, 6.0, 21.0, 79.0, 0.0, 8.0, 34.0, 0.0, 6.0, 1.0, 0.0, 2.0, 0.0, 0.0, 0.0, 9.0, 3.0, 116.0, 9.0, 1.0, 2.0, 0.0, 0.0, 1.0, 3.0, 1.0])),\n",
       " Row(features=DenseVector([119.0, 172.0, 252.6482, 86.3173, 61.8836, 200.6461, 238.8632, 281.6518, 735.2681, 134.0, 38.0, 1532450666000.0, 3.0, 19.0, 6.0, 0.0, 43.0, 0.0, 0.0, 104.0, 0.0, 7.0, 4.0, 0.0, 0.0, 1.0, 11.0, 3.0, 126.0, 9.0, 0.0, 0.0, 0.0, 0.0, 1.0, 7.0, 3.0])),\n",
       " Row(features=SparseVector(37, {0: 65.0, 1: 87.0, 2: 236.6943, 3: 89.9763, 4: 50.7816, 5: 193.1489, 6: 232.62, 7: 281.2077, 8: 515.2126, 9: 87.0, 11: 1530763799000.0, 12: 1.0, 15: 87.0, 21: 2.0, 22: 1.0, 26: 4.0, 28: 66.0, 29: 7.0, 34: 1.0, 35: 5.0, 36: 1.0})),\n",
       " Row(features=DenseVector([1322.0, 2308.0, 251.7592, 115.9281, 6.3473, 198.4779, 233.7432, 279.3008, 2732.2771, 295.0, 2013.0, 1537365219000.0, 22.0, 56.0, 837.0, 269.0, 77.0, 229.0, 613.0, 227.0, 3.0, 29.0, 54.0, 27.0, 1.0, 11.0, 67.0, 20.0, 1937.0, 15.0, 1.0, 13.0, 0.0, 2.0, 18.0, 107.0, 3.0])),\n",
       " Row(features=DenseVector([377.0, 572.0, 245.4361, 96.1674, 33.4624, 198.0861, 231.6534, 269.7138, 1151.9212, 14.0, 558.0, 1534622171000.0, 13.0, 0.0, 116.0, 42.0, 280.0, 54.0, 0.0, 80.0, 5.0, 8.0, 19.0, 3.0, 1.0, 0.0, 22.0, 7.0, 455.0, 1.0, 2.0, 4.0, 0.0, 1.0, 2.0, 41.0, 1.0])),\n",
       " Row(features=SparseVector(37, {0: 109.0, 1: 130.0, 2: 236.6286, 3: 88.3291, 4: 68.153, 5: 186.4877, 6: 218.0959, 7: 263.3138, 8: 655.7775, 10: 130.0, 11: 1537862870000.0, 12: 1.0, 15: 130.0, 21: 3.0, 22: 1.0, 25: 1.0, 26: 5.0, 27: 1.0, 28: 110.0, 30: 2.0, 31: 4.0, 35: 3.0})),\n",
       " Row(features=DenseVector([185.0, 277.0, 240.0212, 82.1097, 26.3832, 191.7383, 236.0942, 278.5432, 599.6926, 277.0, 0.0, 1534175704000.0, 11.0, 59.0, 23.0, 99.0, 14.0, 26.0, 30.0, 26.0, 0.0, 1.0, 11.0, 0.0, 0.0, 1.0, 14.0, 5.0, 204.0, 19.0, 1.0, 2.0, 0.0, 0.0, 8.0, 9.0, 0.0])),\n",
       " Row(features=DenseVector([235.0, 337.0, 240.6004, 80.3542, 17.162, 191.8428, 227.3955, 277.3938, 655.7775, 17.0, 320.0, 1538289776000.0, 7.0, 176.0, 18.0, 20.0, 10.0, 0.0, 100.0, 13.0, 2.0, 8.0, 7.0, 7.0, 0.0, 1.0, 13.0, 5.0, 272.0, 2.0, 1.0, 4.0, 0.0, 1.0, 5.0, 6.0, 1.0])),\n",
       " Row(features=DenseVector([171.0, 232.0, 253.1001, 105.2066, 52.3228, 198.6608, 230.4779, 278.6216, 978.442, 232.0, 0.0, 1538065863000.0, 6.0, 16.0, 26.0, 53.0, 25.0, 0.0, 75.0, 37.0, 1.0, 3.0, 3.0, 0.0, 1.0, 1.0, 11.0, 4.0, 181.0, 11.0, 0.0, 0.0, 0.0, 0.0, 2.0, 13.0, 1.0])),\n",
       " Row(features=DenseVector([489.0, 714.0, 249.0298, 88.0781, 11.2061, 197.224, 233.3253, 279.562, 715.7024, 0.0, 714.0, 1536799770000.0, 7.0, 0.0, 262.0, 99.0, 233.0, 0.0, 78.0, 42.0, 3.0, 14.0, 8.0, 11.0, 0.0, 4.0, 27.0, 9.0, 604.0, 0.0, 4.0, 4.0, 0.0, 0.0, 5.0, 21.0, 0.0])),\n",
       " Row(features=SparseVector(37, {0: 152.0, 1: 179.0, 2: 252.81, 3: 93.3791, 4: 68.6755, 5: 203.2061, 6: 231.6534, 7: 274.1808, 8: 732.3946, 10: 179.0, 11: 1529934689000.0, 12: 3.0, 14: 4.0, 15: 20.0, 16: 108.0, 17: 47.0, 21: 1.0, 22: 5.0, 23: 2.0, 26: 5.0, 28: 159.0, 29: 3.0, 35: 4.0})),\n",
       " Row(features=DenseVector([659.0, 1050.0, 245.0573, 83.4064, 56.0583, 195.8918, 232.3065, 278.5693, 655.7775, 484.0, 566.0, 1533812833000.0, 21.0, 2.0, 213.0, 295.0, 111.0, 14.0, 173.0, 242.0, 1.0, 19.0, 24.0, 8.0, 0.0, 6.0, 36.0, 15.0, 822.0, 58.0, 2.0, 8.0, 2.0, 2.0, 6.0, 37.0, 4.0])),\n",
       " Row(features=DenseVector([272.0, 386.0, 245.6439, 89.4351, 32.2608, 197.0934, 230.4257, 274.9122, 879.2551, 386.0, 0.0, 1538316317000.0, 12.0, 43.0, 132.0, 88.0, 72.0, 20.0, 18.0, 13.0, 2.0, 7.0, 10.0, 0.0, 0.0, 4.0, 19.0, 7.0, 298.0, 17.0, 1.0, 6.0, 0.0, 0.0, 4.0, 8.0, 3.0])),\n",
       " Row(features=DenseVector([733.0, 1093.0, 253.8264, 101.2181, 27.0102, 199.131, 238.5759, 278.8044, 1278.2232, 0.0, 1093.0, 1534779204000.0, 15.0, 97.0, 55.0, 253.0, 301.0, 118.0, 265.0, 4.0, 3.0, 29.0, 25.0, 10.0, 0.0, 1.0, 33.0, 13.0, 912.0, 0.0, 2.0, 10.0, 0.0, 0.0, 7.0, 48.0, 0.0])),\n",
       " Row(features=DenseVector([343.0, 515.0, 244.789, 82.2407, 40.8812, 199.7318, 231.2616, 274.1808, 622.2624, 385.0, 130.0, 1537057938000.0, 8.0, 0.0, 0.0, 49.0, 129.0, 126.0, 168.0, 43.0, 2.0, 7.0, 9.0, 2.0, 2.0, 7.0, 21.0, 3.0, 394.0, 29.0, 2.0, 8.0, 0.0, 1.0, 3.0, 22.0, 3.0])),\n",
       " Row(features=DenseVector([878.0, 1423.0, 245.0088, 80.7749, 10.0306, 199.4967, 232.9073, 272.3783, 655.7775, 176.0, 1247.0, 1536398117000.0, 16.0, 47.0, 43.0, 185.0, 152.0, 328.0, 567.0, 101.0, 2.0, 17.0, 36.0, 14.0, 0.0, 5.0, 56.0, 16.0, 1185.0, 9.0, 3.0, 10.0, 0.0, 0.0, 11.0, 56.0, 3.0])),\n",
       " Row(features=SparseVector(37, {0: 70.0, 1: 84.0, 2: 232.4307, 3: 69.8145, 4: 124.682, 5: 177.7367, 6: 221.7008, 7: 258.5334, 8: 508.0028, 9: 84.0, 11: 1535062159000.0, 12: 2.0, 14: 38.0, 15: 46.0, 25: 1.0, 26: 4.0, 27: 1.0, 28: 69.0, 29: 4.0, 30: 1.0, 31: 1.0, 34: 1.0, 35: 2.0})),\n",
       " Row(features=DenseVector([762.0, 1200.0, 244.9322, 85.7006, 14.9677, 200.4893, 233.691, 270.2885, 734.5367, 188.0, 1012.0, 1535032914000.0, 17.0, 0.0, 140.0, 213.0, 323.0, 145.0, 183.0, 196.0, 3.0, 17.0, 21.0, 20.0, 1.0, 3.0, 35.0, 18.0, 983.0, 9.0, 1.0, 5.0, 0.0, 1.0, 30.0, 48.0, 3.0])),\n",
       " Row(features=DenseVector([136.0, 173.0, 255.3166, 101.157, 95.8167, 201.5604, 235.624, 274.3114, 933.0673, 173.0, 0.0, 1526838391000.0, 6.0, 37.0, 52.0, 35.0, 49.0, 0.0, 0.0, 0.0, 0.0, 2.0, 5.0, 0.0, 1.0, 2.0, 8.0, 2.0, 138.0, 6.0, 1.0, 1.0, 0.0, 0.0, 0.0, 5.0, 2.0])),\n",
       " Row(features=DenseVector([101.0, 150.0, 266.7713, 106.6118, 48.1955, 204.3293, 246.1253, 297.1947, 655.7775, 150.0, 0.0, 1534627466000.0, 4.0, 0.0, 42.0, 108.0, 0.0, 0.0, 0.0, 0.0, 0.0, 2.0, 2.0, 0.0, 0.0, 1.0, 9.0, 5.0, 107.0, 11.0, 0.0, 1.0, 0.0, 0.0, 2.0, 8.0, 0.0]))]"
      ]
     },
     "execution_count": 94,
     "metadata": {},
     "output_type": "execute_result"
    }
   ],
   "source": [
    "scaledData.select(\"features\").collect()"
   ]
  },
  {
   "cell_type": "code",
   "execution_count": null,
   "metadata": {},
   "outputs": [],
   "source": []
  },
  {
   "cell_type": "markdown",
   "metadata": {},
   "source": [
    "# Modeling\n",
    "Split the full dataset into train, test, and validation sets. Test out several of the machine learning methods you learned. Evaluate the accuracy of the various models, tuning parameters as necessary. Determine your winning model based on test accuracy and report results on the validation set. Since the churned users are a fairly small subset, I suggest using F1 score as the metric to optimize."
   ]
  },
  {
   "cell_type": "code",
   "execution_count": null,
   "metadata": {},
   "outputs": [],
   "source": []
  },
  {
   "cell_type": "markdown",
   "metadata": {},
   "source": [
    "# Final Steps\n",
    "Clean up your code, adding comments and renaming variables to make the code easier to read and maintain. Refer to the Spark Project Overview page and Data Scientist Capstone Project Rubric to make sure you are including all components of the capstone project and meet all expectations. Remember, this includes thorough documentation in a README file in a Github repository, as well as a web app or blog post."
   ]
  },
  {
   "cell_type": "code",
   "execution_count": null,
   "metadata": {},
   "outputs": [],
   "source": []
  }
 ],
 "metadata": {
  "kernelspec": {
   "display_name": "Python 3",
   "language": "python",
   "name": "python3"
  },
  "language_info": {
   "codemirror_mode": {
    "name": "ipython",
    "version": 3
   },
   "file_extension": ".py",
   "mimetype": "text/x-python",
   "name": "python",
   "nbconvert_exporter": "python",
   "pygments_lexer": "ipython3",
   "version": "3.6.3"
  }
 },
 "nbformat": 4,
 "nbformat_minor": 2
}
