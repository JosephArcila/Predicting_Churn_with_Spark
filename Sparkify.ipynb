{
 "cells": [
  {
   "cell_type": "markdown",
   "metadata": {},
   "source": [
    "# Data Wrangling with Spark\n",
    "<p>We are going to work with data from a realistic digital music service similar to Spotify where many users stream songs every day. Users can cancel their service at any time. So it's crucial to make sure users love the service.</p>\n",
    "<p>Predicting churn rates is a challenging and common problem regularly encountered in customer-facing businesses. Additionally, the ability to efficiently manipulate large datasets with Spark is one of the highest-demand skills in the field of data.</p>\n",
    "<p>In this article, we'll learn to manipulate large datasets with Spark to engineer relevant features for prediction. We'll use Spark because it is capable of far beyond what could be done with non-distributed technologies like scikit-learn for Big Data.</p>"
   ]
  },
  {
   "cell_type": "code",
   "execution_count": 1,
   "metadata": {},
   "outputs": [
    {
     "name": "stdout",
     "output_type": "stream",
     "text": [
      "Requirement already up-to-date: matplotlib in /opt/conda/lib/python3.6/site-packages (3.3.4)\n",
      "Requirement already satisfied, skipping upgrade: cycler>=0.10 in /opt/conda/lib/python3.6/site-packages/cycler-0.10.0-py3.6.egg (from matplotlib) (0.10.0)\n",
      "Requirement already satisfied, skipping upgrade: python-dateutil>=2.1 in /opt/conda/lib/python3.6/site-packages (from matplotlib) (2.6.1)\n",
      "Requirement already satisfied, skipping upgrade: numpy>=1.15 in /opt/conda/lib/python3.6/site-packages (from matplotlib) (1.19.5)\n",
      "Requirement already satisfied, skipping upgrade: kiwisolver>=1.0.1 in /opt/conda/lib/python3.6/site-packages (from matplotlib) (1.3.1)\n",
      "Requirement already satisfied, skipping upgrade: pyparsing!=2.0.4,!=2.1.2,!=2.1.6,>=2.0.3 in /opt/conda/lib/python3.6/site-packages (from matplotlib) (2.2.0)\n",
      "Requirement already satisfied, skipping upgrade: pillow>=6.2.0 in /opt/conda/lib/python3.6/site-packages (from matplotlib) (8.4.0)\n",
      "Requirement already satisfied, skipping upgrade: six in /opt/conda/lib/python3.6/site-packages (from cycler>=0.10->matplotlib) (1.11.0)\n"
     ]
    }
   ],
   "source": [
    "# Importing libraries\n",
    "import random\n",
    "import datetime\n",
    "import numpy as np\n",
    "import pandas as pd\n",
    "import seaborn as sns\n",
    "import matplotlib.pyplot as plt\n",
    "%matplotlib inline\n",
    "!pip install --upgrade matplotlib\n",
    "from pyspark.ml.feature import VectorAssembler, MinMaxScaler\n",
    "from pyspark.ml.tuning import CrossValidator, ParamGridBuilder\n",
    "from pyspark.ml.evaluation import MulticlassClassificationEvaluator\n",
    "from pyspark.ml.classification import LogisticRegression, DecisionTreeClassifier, RandomForestClassifier, GBTClassifier\n",
    "from pyspark.sql import Window\n",
    "from pyspark.sql import SparkSession\n",
    "from pyspark.sql.types import*\n",
    "from pyspark.sql.functions import*\n",
    "from pyspark.sql.functions import max as Fmax\n",
    "from pyspark.sql.functions import sum as Fsum\n",
    "from pyspark.sql.functions import avg as Favg"
   ]
  },
  {
   "cell_type": "code",
   "execution_count": 2,
   "metadata": {},
   "outputs": [],
   "source": [
    "# creating a Spark session\n",
    "spark = SparkSession.builder.appName(\"Spark SQL\").getOrCreate()"
   ]
  },
  {
   "cell_type": "markdown",
   "metadata": {},
   "source": [
    "## Loading the Dataset\n",
    "In this workspace, the mini-dataset file is `mini_sparkify_event_data.json`."
   ]
  },
  {
   "cell_type": "code",
   "execution_count": 3,
   "metadata": {},
   "outputs": [],
   "source": [
    "# the IP address of the master node\n",
    "path = \"mini_sparkify_event_data.json\""
   ]
  },
  {
   "cell_type": "code",
   "execution_count": 4,
   "metadata": {},
   "outputs": [],
   "source": [
    "# loading the json file into a spark DataFrame\n",
    "user_log = spark.read.json(path)"
   ]
  },
  {
   "cell_type": "markdown",
   "metadata": {},
   "source": [
    "## Data Exploration "
   ]
  },
  {
   "cell_type": "code",
   "execution_count": 5,
   "metadata": {},
   "outputs": [
    {
     "name": "stdout",
     "output_type": "stream",
     "text": [
      "root\n",
      " |-- artist: string (nullable = true)\n",
      " |-- auth: string (nullable = true)\n",
      " |-- firstName: string (nullable = true)\n",
      " |-- gender: string (nullable = true)\n",
      " |-- itemInSession: long (nullable = true)\n",
      " |-- lastName: string (nullable = true)\n",
      " |-- length: double (nullable = true)\n",
      " |-- level: string (nullable = true)\n",
      " |-- location: string (nullable = true)\n",
      " |-- method: string (nullable = true)\n",
      " |-- page: string (nullable = true)\n",
      " |-- registration: long (nullable = true)\n",
      " |-- sessionId: long (nullable = true)\n",
      " |-- song: string (nullable = true)\n",
      " |-- status: long (nullable = true)\n",
      " |-- ts: long (nullable = true)\n",
      " |-- userAgent: string (nullable = true)\n",
      " |-- userId: string (nullable = true)\n",
      "\n"
     ]
    }
   ],
   "source": [
    "# Seeing the columns in this dataframe\n",
    "user_log.printSchema()"
   ]
  },
  {
   "cell_type": "code",
   "execution_count": 6,
   "metadata": {},
   "outputs": [
    {
     "name": "stdout",
     "output_type": "stream",
     "text": [
      "+------+\n",
      "|method|\n",
      "+------+\n",
      "|   PUT|\n",
      "|   GET|\n",
      "+------+\n",
      "\n"
     ]
    }
   ],
   "source": [
    "user_log.select(\"method\").dropDuplicates().show()"
   ]
  },
  {
   "cell_type": "markdown",
   "metadata": {},
   "source": [
    "There are fields describing the user like firstName, lastName and userId. We also have information about the request, for example, the page the user accessed, the HTTP method, and the status of the request."
   ]
  },
  {
   "cell_type": "code",
   "execution_count": 7,
   "metadata": {},
   "outputs": [
    {
     "name": "stdout",
     "output_type": "stream",
     "text": [
      "+--------------+---------+---------+------+-------------+--------+---------+-----+---------------+------+--------+-------------+---------+---------+------+-------------+--------------------+------+\n",
      "|        artist|     auth|firstName|gender|itemInSession|lastName|   length|level|       location|method|    page| registration|sessionId|     song|status|           ts|           userAgent|userId|\n",
      "+--------------+---------+---------+------+-------------+--------+---------+-----+---------------+------+--------+-------------+---------+---------+------+-------------+--------------------+------+\n",
      "|Martha Tilston|Logged In|    Colin|     M|           50| Freeman|277.89016| paid|Bakersfield, CA|   PUT|NextSong|1538173362000|       29|Rockpools|   200|1538352117000|Mozilla/5.0 (Wind...|    30|\n",
      "+--------------+---------+---------+------+-------------+--------+---------+-----+---------------+------+--------+-------------+---------+---------+------+-------------+--------------------+------+\n",
      "only showing top 1 row\n",
      "\n"
     ]
    }
   ],
   "source": [
    "# looking at one particular record\n",
    "user_log.show(n=1)"
   ]
  },
  {
   "cell_type": "markdown",
   "metadata": {},
   "source": [
    "Here we can see that Colin was listening to \"Rockpools\""
   ]
  },
  {
   "cell_type": "code",
   "execution_count": 8,
   "metadata": {},
   "outputs": [
    {
     "data": {
      "text/plain": [
       "[Row(artist='Martha Tilston', auth='Logged In', firstName='Colin', gender='M', itemInSession=50, lastName='Freeman', length=277.89016, level='paid', location='Bakersfield, CA', method='PUT', page='NextSong', registration=1538173362000, sessionId=29, song='Rockpools', status=200, ts=1538352117000, userAgent='Mozilla/5.0 (Windows NT 6.1; WOW64; rv:31.0) Gecko/20100101 Firefox/31.0', userId='30'),\n",
       " Row(artist='Five Iron Frenzy', auth='Logged In', firstName='Micah', gender='M', itemInSession=79, lastName='Long', length=236.09424, level='free', location='Boston-Cambridge-Newton, MA-NH', method='PUT', page='NextSong', registration=1538331630000, sessionId=8, song='Canada', status=200, ts=1538352180000, userAgent='\"Mozilla/5.0 (Windows NT 6.1; WOW64) AppleWebKit/537.36 (KHTML, like Gecko) Chrome/37.0.2062.103 Safari/537.36\"', userId='9'),\n",
       " Row(artist='Adam Lambert', auth='Logged In', firstName='Colin', gender='M', itemInSession=51, lastName='Freeman', length=282.8273, level='paid', location='Bakersfield, CA', method='PUT', page='NextSong', registration=1538173362000, sessionId=29, song='Time For Miracles', status=200, ts=1538352394000, userAgent='Mozilla/5.0 (Windows NT 6.1; WOW64; rv:31.0) Gecko/20100101 Firefox/31.0', userId='30'),\n",
       " Row(artist='Enigma', auth='Logged In', firstName='Micah', gender='M', itemInSession=80, lastName='Long', length=262.71302, level='free', location='Boston-Cambridge-Newton, MA-NH', method='PUT', page='NextSong', registration=1538331630000, sessionId=8, song='Knocking On Forbidden Doors', status=200, ts=1538352416000, userAgent='\"Mozilla/5.0 (Windows NT 6.1; WOW64) AppleWebKit/537.36 (KHTML, like Gecko) Chrome/37.0.2062.103 Safari/537.36\"', userId='9'),\n",
       " Row(artist='Daft Punk', auth='Logged In', firstName='Colin', gender='M', itemInSession=52, lastName='Freeman', length=223.60771, level='paid', location='Bakersfield, CA', method='PUT', page='NextSong', registration=1538173362000, sessionId=29, song='Harder Better Faster Stronger', status=200, ts=1538352676000, userAgent='Mozilla/5.0 (Windows NT 6.1; WOW64; rv:31.0) Gecko/20100101 Firefox/31.0', userId='30')]"
      ]
     },
     "execution_count": 8,
     "metadata": {},
     "output_type": "execute_result"
    }
   ],
   "source": [
    "# Looking at the first 5 records\n",
    "user_log.take(5)"
   ]
  },
  {
   "cell_type": "markdown",
   "metadata": {},
   "source": [
    "<p>Every time the user interacts with the service it generates data that contains the key insights for keeping users happy and helping the business thrive.</p>\n",
    "<p>The full dataset that contains the events is 12GB and is available on AWS, we will analyze a mini subset but we can choose to deploy a Spark cluster on the cloud using a cloud service.</p>"
   ]
  },
  {
   "cell_type": "code",
   "execution_count": 9,
   "metadata": {},
   "outputs": [
    {
     "name": "stdout",
     "output_type": "stream",
     "text": [
      "+-------+-----------------+\n",
      "|summary|           length|\n",
      "+-------+-----------------+\n",
      "|  count|           228108|\n",
      "|   mean|249.1171819778458|\n",
      "| stddev|99.23517921058361|\n",
      "|    min|          0.78322|\n",
      "|    max|       3024.66567|\n",
      "+-------+-----------------+\n",
      "\n"
     ]
    }
   ],
   "source": [
    "# Summary statistics on the length column which reffers to the lenght of each action in seconds\n",
    "user_log.describe(\"length\").show()"
   ]
  },
  {
   "cell_type": "code",
   "execution_count": 10,
   "metadata": {},
   "outputs": [
    {
     "name": "stdout",
     "output_type": "stream",
     "text": [
      "We have 286500 rows on the dataset\n"
     ]
    }
   ],
   "source": [
    "print(\"We have {} rows on the dataset\".format(user_log.count()))"
   ]
  },
  {
   "cell_type": "code",
   "execution_count": 11,
   "metadata": {},
   "outputs": [
    {
     "name": "stdout",
     "output_type": "stream",
     "text": [
      "+--------------------+\n",
      "|                page|\n",
      "+--------------------+\n",
      "|               About|\n",
      "|          Add Friend|\n",
      "|     Add to Playlist|\n",
      "|              Cancel|\n",
      "|Cancellation Conf...|\n",
      "|           Downgrade|\n",
      "|               Error|\n",
      "|                Help|\n",
      "|                Home|\n",
      "|               Login|\n",
      "|              Logout|\n",
      "|            NextSong|\n",
      "|            Register|\n",
      "|         Roll Advert|\n",
      "|       Save Settings|\n",
      "|            Settings|\n",
      "|    Submit Downgrade|\n",
      "| Submit Registration|\n",
      "|      Submit Upgrade|\n",
      "|         Thumbs Down|\n",
      "|           Thumbs Up|\n",
      "|             Upgrade|\n",
      "+--------------------+\n",
      "\n"
     ]
    }
   ],
   "source": [
    "# Looking at the possible page requests for users\n",
    "user_log.select(\"page\").dropDuplicates().sort(\"page\").show(25)"
   ]
  },
  {
   "cell_type": "markdown",
   "metadata": {},
   "source": [
    "Users can login and out, visit the homepage, or play a song."
   ]
  },
  {
   "cell_type": "code",
   "execution_count": 12,
   "metadata": {},
   "outputs": [
    {
     "name": "stdout",
     "output_type": "stream",
     "text": [
      "+-----+\n",
      "|level|\n",
      "+-----+\n",
      "| free|\n",
      "| paid|\n",
      "+-----+\n",
      "\n"
     ]
    }
   ],
   "source": [
    "user_log.select(\"level\").dropDuplicates().sort(\"level\").show()"
   ]
  },
  {
   "cell_type": "markdown",
   "metadata": {},
   "source": [
    "We have two subscriptions levels, the free-tier place advertisements between the songs and the paid model."
   ]
  },
  {
   "cell_type": "code",
   "execution_count": 13,
   "metadata": {},
   "outputs": [
    {
     "data": {
      "text/plain": [
       "[Row(userId='30', firstName='Colin', page='NextSong', song='Rockpools'),\n",
       " Row(userId='30', firstName='Colin', page='NextSong', song='Time For Miracles'),\n",
       " Row(userId='30', firstName='Colin', page='NextSong', song='Harder Better Faster Stronger'),\n",
       " Row(userId='30', firstName='Colin', page='NextSong', song='Passengers (Old Album Version)'),\n",
       " Row(userId='30', firstName='Colin', page='Add to Playlist', song=None),\n",
       " Row(userId='30', firstName='Colin', page='NextSong', song='Fuck Kitty'),\n",
       " Row(userId='30', firstName='Colin', page='NextSong', song='Jade'),\n",
       " Row(userId='30', firstName='Colin', page='NextSong', song='So-Called Friends'),\n",
       " Row(userId='30', firstName='Colin', page='NextSong', song='Represent'),\n",
       " Row(userId='30', firstName='Colin', page='NextSong', song='Here I Am')]"
      ]
     },
     "execution_count": 13,
     "metadata": {},
     "output_type": "execute_result"
    }
   ],
   "source": [
    "# Looking at the events of userId 30\n",
    "user_log.select([\"userId\", \"firstName\", \"page\", \"song\"]).filter(user_log.userId == \"30\").head(10)"
   ]
  },
  {
   "cell_type": "markdown",
   "metadata": {},
   "source": [
    "As users use different pages of the application, their page request are logged"
   ]
  },
  {
   "cell_type": "markdown",
   "metadata": {},
   "source": [
    "## Checking for invalid or missing data"
   ]
  },
  {
   "cell_type": "code",
   "execution_count": 14,
   "metadata": {},
   "outputs": [],
   "source": [
    "# Dropping missing values\n",
    "user_log_valid = user_log.dropna(how=\"any\", subset=[\"userId\", \"sessionId\"])"
   ]
  },
  {
   "cell_type": "code",
   "execution_count": 15,
   "metadata": {
    "scrolled": false
   },
   "outputs": [
    {
     "name": "stdout",
     "output_type": "stream",
     "text": [
      "+------+\n",
      "|userId|\n",
      "+------+\n",
      "|      |\n",
      "|    10|\n",
      "|   100|\n",
      "|100001|\n",
      "|100002|\n",
      "|100003|\n",
      "|100004|\n",
      "|100005|\n",
      "|100006|\n",
      "|100007|\n",
      "|100008|\n",
      "|100009|\n",
      "|100010|\n",
      "|100011|\n",
      "|100012|\n",
      "|100013|\n",
      "|100014|\n",
      "|100015|\n",
      "|100016|\n",
      "|100017|\n",
      "+------+\n",
      "only showing top 20 rows\n",
      "\n"
     ]
    }
   ],
   "source": [
    "# Making sure that we have the userId and SessionId for all the records\n",
    "user_log.select(\"userId\").dropDuplicates().sort(\"userId\").show()"
   ]
  },
  {
   "cell_type": "markdown",
   "metadata": {},
   "source": [
    "There are not None values but there are users with no userId"
   ]
  },
  {
   "cell_type": "code",
   "execution_count": 16,
   "metadata": {},
   "outputs": [
    {
     "data": {
      "text/plain": [
       "[Row(userId='', firstName=None, page='Home', song=None, auth='Logged Out'),\n",
       " Row(userId='', firstName=None, page='Help', song=None, auth='Logged Out'),\n",
       " Row(userId='', firstName=None, page='Home', song=None, auth='Logged Out'),\n",
       " Row(userId='', firstName=None, page='Login', song=None, auth='Logged Out'),\n",
       " Row(userId='', firstName=None, page='Home', song=None, auth='Logged Out')]"
      ]
     },
     "execution_count": 16,
     "metadata": {},
     "output_type": "execute_result"
    }
   ],
   "source": [
    "# Looking at logs of users with no userId\n",
    "user_log.select([\"userId\", \"firstName\", \"page\", \"song\", \"auth\"]).filter(user_log.userId == \"\").head(5)"
   ]
  },
  {
   "cell_type": "code",
   "execution_count": 17,
   "metadata": {},
   "outputs": [
    {
     "data": {
      "text/plain": [
       "[Row(blank_pages='Home'),\n",
       " Row(blank_pages='About'),\n",
       " Row(blank_pages='Submit Registration'),\n",
       " Row(blank_pages='Login'),\n",
       " Row(blank_pages='Register'),\n",
       " Row(blank_pages='Help'),\n",
       " Row(blank_pages='Error')]"
      ]
     },
     "execution_count": 17,
     "metadata": {},
     "output_type": "execute_result"
    }
   ],
   "source": [
    "# filter for users with blank user id\n",
    "blank_pages = user_log.filter(user_log.userId == '') \\\n",
    "    .select(col('page') \\\n",
    "    .alias('blank_pages')) \\\n",
    "    .dropDuplicates()\n",
    "\n",
    "blank_pages.collect()"
   ]
  },
  {
   "cell_type": "markdown",
   "metadata": {},
   "source": [
    "It seems that the user's with no id represent users who have not signed up yet or who logged out.\n",
    "It may also represents users who got an error while registrating or loging in."
   ]
  },
  {
   "cell_type": "code",
   "execution_count": 18,
   "metadata": {},
   "outputs": [],
   "source": [
    "user_log_valid = user_log_valid.filter(user_log_valid[\"userId\"] != \"\")"
   ]
  },
  {
   "cell_type": "code",
   "execution_count": 19,
   "metadata": {},
   "outputs": [
    {
     "data": {
      "text/plain": [
       "278154"
      ]
     },
     "execution_count": 19,
     "metadata": {},
     "output_type": "execute_result"
    }
   ],
   "source": [
    "user_log_valid.count()"
   ]
  },
  {
   "cell_type": "code",
   "execution_count": 20,
   "metadata": {},
   "outputs": [
    {
     "name": "stdout",
     "output_type": "stream",
     "text": [
      "We lost 8346 records\n"
     ]
    }
   ],
   "source": [
    "print(\"We lost {} records\".format(user_log.count() - user_log_valid.count()))"
   ]
  },
  {
   "cell_type": "code",
   "execution_count": 21,
   "metadata": {},
   "outputs": [],
   "source": [
    "female_users = user_log_valid.filter(user_log_valid.gender == 'F') \\\n",
    "    .select('userId', 'gender') \\\n",
    "    .dropDuplicates() \\\n",
    "    .count()\n",
    "\n",
    "male_users = user_log_valid.filter(user_log_valid.gender == 'M') \\\n",
    "    .select('userId', 'gender') \\\n",
    "    .dropDuplicates() \\\n",
    "    .count()"
   ]
  },
  {
   "cell_type": "code",
   "execution_count": 22,
   "metadata": {},
   "outputs": [
    {
     "name": "stdout",
     "output_type": "stream",
     "text": [
      "We have 104 female users and 121 male users\n"
     ]
    }
   ],
   "source": [
    "print(\"We have {} female users and {} male users\".format(female_users, male_users))"
   ]
  },
  {
   "cell_type": "markdown",
   "metadata": {},
   "source": [
    "How many songs were played from the most played artist?"
   ]
  },
  {
   "cell_type": "code",
   "execution_count": 23,
   "metadata": {},
   "outputs": [
    {
     "name": "stdout",
     "output_type": "stream",
     "text": [
      "+-------------+-----------+\n",
      "|       Artist|Artistcount|\n",
      "+-------------+-----------+\n",
      "|Kings Of Leon|       1841|\n",
      "+-------------+-----------+\n",
      "only showing top 1 row\n",
      "\n"
     ]
    }
   ],
   "source": [
    "user_log_valid.filter(user_log_valid.page == 'NextSong') \\\n",
    "    .select('Artist') \\\n",
    "    .groupBy('Artist') \\\n",
    "    .agg({'Artist':'count'}) \\\n",
    "    .withColumnRenamed('count(Artist)', 'Artistcount') \\\n",
    "    .sort(desc('Artistcount')) \\\n",
    "    .show(1)"
   ]
  },
  {
   "cell_type": "markdown",
   "metadata": {},
   "source": [
    "## Defining Churn as Users Who Cancel Their Accounts\n",
    "<p>Let's predict which users are at risk of canceling their service. If we can accurately identify these users before they leave, we can then test strategies on them to potentially save millions in revenue.</p>\n",
    "<p>We will load, explore and clean the dataset with Spark. Based on this exploration, We'll create features and build models with Spark to predict which users canceled from the digital music service.</p>"
   ]
  },
  {
   "cell_type": "markdown",
   "metadata": {},
   "source": [
    "Creating a Churn column which divides the users who have confirm a cancellation to use as the label of the model."
   ]
  },
  {
   "cell_type": "code",
   "execution_count": 24,
   "metadata": {},
   "outputs": [],
   "source": [
    "# flagging users who have an event called \"Cancellation Confirmation\" to distinguish each \n",
    "# user's data as either pre or post churn events\n",
    "flag_churn_event = udf(lambda x: 1 if x == \"Cancellation Confirmation\" else 0, IntegerType())\n",
    "# Adding a new column called Churn_phase to our dataframe\n",
    "user_log_valid = user_log_valid.withColumn(\"Churn_phase\", flag_churn_event(\"page\"))"
   ]
  },
  {
   "cell_type": "code",
   "execution_count": 25,
   "metadata": {},
   "outputs": [],
   "source": [
    "# Adding a new column called Churn to the dataframe. The value here will be 1 if the user \n",
    "# cancelled, and zero other wise\n",
    "windowval = Window.partitionBy(\"userId\").orderBy(desc(\"ts\")).rangeBetween(Window.unboundedPreceding, 0)\n",
    "# Creating a Churn column that uses the window function and cumulative sum\n",
    "user_log_valid = user_log_valid.withColumn('Churn', Fsum('Churn_phase').over(windowval))"
   ]
  },
  {
   "cell_type": "code",
   "execution_count": 26,
   "metadata": {
    "scrolled": true
   },
   "outputs": [
    {
     "data": {
      "text/plain": [
       "[Row(userId='100014', firstname='Rodrigo', ts=1542740649000, page='Cancellation Confirmation', Churn=1, Churn_phase=1),\n",
       " Row(userId='100014', firstname='Rodrigo', ts=1542740642000, page='Cancel', Churn=1, Churn_phase=0),\n",
       " Row(userId='100014', firstname='Rodrigo', ts=1542740641000, page='Downgrade', Churn=1, Churn_phase=0),\n",
       " Row(userId='100014', firstname='Rodrigo', ts=1542740628000, page='NextSong', Churn=1, Churn_phase=0),\n",
       " Row(userId='100014', firstname='Rodrigo', ts=1542740352000, page='NextSong', Churn=1, Churn_phase=0)]"
      ]
     },
     "execution_count": 26,
     "metadata": {},
     "output_type": "execute_result"
    }
   ],
   "source": [
    "user_log_valid.select([\"userId\", \"firstname\", \"ts\", \"page\", \"Churn\", \"Churn_phase\"]) \\\n",
    "    .filter(user_log_valid.userId == \"100014\").sort(desc(\"ts\")).head(5)"
   ]
  },
  {
   "cell_type": "markdown",
   "metadata": {},
   "source": [
    "After the Cancellation Confirmation we no longer see logs from Rodrigo"
   ]
  },
  {
   "cell_type": "code",
   "execution_count": 27,
   "metadata": {},
   "outputs": [
    {
     "name": "stdout",
     "output_type": "stream",
     "text": [
      "+-----+-----+\n",
      "|Churn|count|\n",
      "+-----+-----+\n",
      "|    0|  173|\n",
      "|    1|   52|\n",
      "+-----+-----+\n",
      "\n"
     ]
    }
   ],
   "source": [
    "user_log_valid.select(\"userId\", \"Churn\").dropDuplicates().groupBy(\"Churn\").count().show()"
   ]
  },
  {
   "cell_type": "markdown",
   "metadata": {},
   "source": [
    "Since the churned users are a fairly small subset, we will be using the F1 score as the metric to optimize. Also, we'll use stratified sampling with two strata, one for Retained users and the other for Churned users. This is to guarantee that the train and test set is representative of the overall population in terms of the percent of Churned and Retained users in the dataset."
   ]
  },
  {
   "cell_type": "code",
   "execution_count": 28,
   "metadata": {},
   "outputs": [],
   "source": [
    "# Defining the target labels\n",
    "labels = user_log_valid.select(\"userId\", \"Churn\").dropDuplicates()\n",
    "\n",
    "# setting the seed\n",
    "seed = 42\n",
    "# Sampling the data with roughly 75% of the Churned and Retained users\n",
    "fractions = labels.select(\"Churn\").distinct().withColumn(\"fraction\", lit(0.747)).rdd.collectAsMap()\n",
    "train_ids = labels.stat.sampleBy(\"Churn\", fractions, seed)\n",
    "train_ids = train_ids.drop(\"Churn\")"
   ]
  },
  {
   "cell_type": "code",
   "execution_count": 29,
   "metadata": {},
   "outputs": [],
   "source": [
    "train = user_log_valid.join(train_ids, on=\"userId\", how=\"inner\")\n",
    "test = user_log_valid.join(train_ids, on=\"userId\", how=\"leftanti\")"
   ]
  },
  {
   "cell_type": "markdown",
   "metadata": {},
   "source": [
    "## EDA on the Training Data\n",
    "Now that we have taken a quick glance at the data and defined the target labels, let's set aside the test data to avoid data snooping bias. If we estimate the generalization error using the test set, our estimate will be too optimistic, and the launched system will not perform as well as expected.\n",
    "\n",
    "Let's perform some exploratory data analysis on the training data to observe the behavior for users who stayed vs users who canceled their service."
   ]
  },
  {
   "cell_type": "markdown",
   "metadata": {},
   "source": [
    "### Exploring aggregates on these two groups of users"
   ]
  },
  {
   "cell_type": "code",
   "execution_count": 30,
   "metadata": {},
   "outputs": [],
   "source": [
    "## Plotting in a histogram the distinct artist that are listened by churn users and retained users\n",
    "\n",
    "artist_per_user = train.filter(train.Churn == 0).groupby(train.userId, train.artist) \\\n",
    "    .count()\n",
    "artist_per_user_pd = artist_per_user.toPandas()\n",
    "artist_per_user_pd = artist_per_user_pd[~artist_per_user_pd['artist'].isnull()]\n",
    "artist_per_user_pd = artist_per_user_pd.groupby('userId').count().drop(\"count\", axis=1)\n",
    "\n",
    "artist_per_user_churn = train.filter(train.Churn == 1) \\\n",
    "    .groupby(train.userId, train.artist).count()\n",
    "artist_per_user_churn_pd = artist_per_user_churn.toPandas()\n",
    "artist_per_user_churn_pd = artist_per_user_churn_pd[~artist_per_user_churn_pd['artist'].isnull()]\n",
    "artist_per_user_churn_pd = artist_per_user_churn_pd.groupby('userId').count().drop(\"count\", axis=1)"
   ]
  },
  {
   "cell_type": "code",
   "execution_count": 31,
   "metadata": {},
   "outputs": [
    {
     "data": {
      "image/png": "[encoded data removed]",
      "text/plain": [
       "<Figure size 576x432 with 1 Axes>"
      ]
     },
     "metadata": {
      "needs_background": "light"
     },
     "output_type": "display_data"
    }
   ],
   "source": [
    "plt.figure(figsize=(8, 6))\n",
    "plt.hist(artist_per_user_pd[\"artist\"], density=True, label=\"Retained Users\", alpha=0.5);\n",
    "plt.hist(artist_per_user_churn_pd[\"artist\"], density=True, label=\"Churned Users\", alpha=0.5);\n",
    "plt.xlabel(\"Number of Artists Listened\");\n",
    "plt.ylabel(\"Distribution in percent\");\n",
    "plt.legend();"
   ]
  },
  {
   "cell_type": "markdown",
   "metadata": {},
   "source": [
    "We can notice from this histogram that Retained Users tend to listen to a higher number of artists compared to Churned users"
   ]
  },
  {
   "cell_type": "code",
   "execution_count": 32,
   "metadata": {},
   "outputs": [],
   "source": [
    "# Calculating the percent of each page visited for Retained Users\n",
    "page_percent = train.filter(train.Churn == 0).groupBy('page').count() \\\n",
    "    .withColumn('Percent_Retained_Users', col('count')/sum('count').over(Window.partitionBy())).select([\"page\", \"Percent_Retained_Users\"])\n",
    "page_percent = page_percent.toPandas()\n",
    "\n",
    "# Calculating the percent of each page visited for Churned Users\n",
    "page_percent_churn = train.filter(train.Churn == 1).groupBy('page').count() \\\n",
    "    .withColumn('Percent_Churned_Users', col('count')/sum('count').over(Window.partitionBy())) \\\n",
    "    .select([\"page\", \"Percent_Churned_Users\"])\n",
    "page_percent_churn = page_percent_churn.toPandas()"
   ]
  },
  {
   "cell_type": "code",
   "execution_count": 33,
   "metadata": {
    "scrolled": false
   },
   "outputs": [
    {
     "data": {
      "text/html": [
       "<div>\n",
       "<style scoped>\n",
       "    .dataframe tbody tr th:only-of-type {\n",
       "        vertical-align: middle;\n",
       "    }\n",
       "\n",
       "    .dataframe tbody tr th {\n",
       "        vertical-align: top;\n",
       "    }\n",
       "\n",
       "    .dataframe thead th {\n",
       "        text-align: right;\n",
       "    }\n",
       "</style>\n",
       "<table border=\"1\" class=\"dataframe\">\n",
       "  <thead>\n",
       "    <tr style=\"text-align: right;\">\n",
       "      <th></th>\n",
       "      <th>page</th>\n",
       "      <th>Percent_Retained_Users</th>\n",
       "      <th>Percent_Churned_Users</th>\n",
       "      <th>Diff</th>\n",
       "    </tr>\n",
       "  </thead>\n",
       "  <tbody>\n",
       "    <tr>\n",
       "      <th>12</th>\n",
       "      <td>Thumbs Up</td>\n",
       "      <td>0.046616</td>\n",
       "      <td>0.040106</td>\n",
       "      <td>0.006510</td>\n",
       "    </tr>\n",
       "    <tr>\n",
       "      <th>4</th>\n",
       "      <td>Roll Advert</td>\n",
       "      <td>0.013632</td>\n",
       "      <td>0.019113</td>\n",
       "      <td>0.005480</td>\n",
       "    </tr>\n",
       "    <tr>\n",
       "      <th>11</th>\n",
       "      <td>NextSong</td>\n",
       "      <td>0.819859</td>\n",
       "      <td>0.814684</td>\n",
       "      <td>0.005175</td>\n",
       "    </tr>\n",
       "    <tr>\n",
       "      <th>1</th>\n",
       "      <td>Thumbs Down</td>\n",
       "      <td>0.008885</td>\n",
       "      <td>0.011310</td>\n",
       "      <td>0.002425</td>\n",
       "    </tr>\n",
       "    <tr>\n",
       "      <th>10</th>\n",
       "      <td>Add Friend</td>\n",
       "      <td>0.015653</td>\n",
       "      <td>0.014454</td>\n",
       "      <td>0.001199</td>\n",
       "    </tr>\n",
       "    <tr>\n",
       "      <th>2</th>\n",
       "      <td>Home</td>\n",
       "      <td>0.036172</td>\n",
       "      <td>0.037243</td>\n",
       "      <td>0.001071</td>\n",
       "    </tr>\n",
       "    <tr>\n",
       "      <th>3</th>\n",
       "      <td>Downgrade</td>\n",
       "      <td>0.007223</td>\n",
       "      <td>0.008027</td>\n",
       "      <td>0.000803</td>\n",
       "    </tr>\n",
       "    <tr>\n",
       "      <th>7</th>\n",
       "      <td>About</td>\n",
       "      <td>0.001857</td>\n",
       "      <td>0.001235</td>\n",
       "      <td>0.000623</td>\n",
       "    </tr>\n",
       "    <tr>\n",
       "      <th>5</th>\n",
       "      <td>Logout</td>\n",
       "      <td>0.011498</td>\n",
       "      <td>0.012068</td>\n",
       "      <td>0.000570</td>\n",
       "    </tr>\n",
       "    <tr>\n",
       "      <th>14</th>\n",
       "      <td>Upgrade</td>\n",
       "      <td>0.001776</td>\n",
       "      <td>0.002273</td>\n",
       "      <td>0.000497</td>\n",
       "    </tr>\n",
       "    <tr>\n",
       "      <th>8</th>\n",
       "      <td>Settings</td>\n",
       "      <td>0.005247</td>\n",
       "      <td>0.005641</td>\n",
       "      <td>0.000395</td>\n",
       "    </tr>\n",
       "    <tr>\n",
       "      <th>9</th>\n",
       "      <td>Add to Playlist</td>\n",
       "      <td>0.023566</td>\n",
       "      <td>0.023322</td>\n",
       "      <td>0.000244</td>\n",
       "    </tr>\n",
       "    <tr>\n",
       "      <th>15</th>\n",
       "      <td>Error</td>\n",
       "      <td>0.000945</td>\n",
       "      <td>0.000730</td>\n",
       "      <td>0.000215</td>\n",
       "    </tr>\n",
       "    <tr>\n",
       "      <th>6</th>\n",
       "      <td>Save Settings</td>\n",
       "      <td>0.001059</td>\n",
       "      <td>0.001263</td>\n",
       "      <td>0.000204</td>\n",
       "    </tr>\n",
       "    <tr>\n",
       "      <th>16</th>\n",
       "      <td>Submit Upgrade</td>\n",
       "      <td>0.000576</td>\n",
       "      <td>0.000730</td>\n",
       "      <td>0.000154</td>\n",
       "    </tr>\n",
       "    <tr>\n",
       "      <th>13</th>\n",
       "      <td>Help</td>\n",
       "      <td>0.005176</td>\n",
       "      <td>0.005304</td>\n",
       "      <td>0.000128</td>\n",
       "    </tr>\n",
       "    <tr>\n",
       "      <th>0</th>\n",
       "      <td>Submit Downgrade</td>\n",
       "      <td>0.000261</td>\n",
       "      <td>0.000196</td>\n",
       "      <td>0.000064</td>\n",
       "    </tr>\n",
       "  </tbody>\n",
       "</table>\n",
       "</div>"
      ],
      "text/plain": [
       "                page  Percent_Retained_Users  Percent_Churned_Users      Diff\n",
       "12         Thumbs Up                0.046616               0.040106  0.006510\n",
       "4        Roll Advert                0.013632               0.019113  0.005480\n",
       "11          NextSong                0.819859               0.814684  0.005175\n",
       "1        Thumbs Down                0.008885               0.011310  0.002425\n",
       "10        Add Friend                0.015653               0.014454  0.001199\n",
       "2               Home                0.036172               0.037243  0.001071\n",
       "3          Downgrade                0.007223               0.008027  0.000803\n",
       "7              About                0.001857               0.001235  0.000623\n",
       "5             Logout                0.011498               0.012068  0.000570\n",
       "14           Upgrade                0.001776               0.002273  0.000497\n",
       "8           Settings                0.005247               0.005641  0.000395\n",
       "9    Add to Playlist                0.023566               0.023322  0.000244\n",
       "15             Error                0.000945               0.000730  0.000215\n",
       "6      Save Settings                0.001059               0.001263  0.000204\n",
       "16    Submit Upgrade                0.000576               0.000730  0.000154\n",
       "13              Help                0.005176               0.005304  0.000128\n",
       "0   Submit Downgrade                0.000261               0.000196  0.000064"
      ]
     },
     "execution_count": 33,
     "metadata": {},
     "output_type": "execute_result"
    }
   ],
   "source": [
    "# Merging the Retained and Churned Users table of the percent of each page visited\n",
    "page_percent_comparison = page_percent.merge(page_percent_churn, on='page')\n",
    "# Creating a column called Diff to compare where do both groups differ the most\n",
    "page_percent_comparison['Diff'] = (page_percent_comparison['Percent_Retained_Users'] - page_percent_comparison['Percent_Churned_Users']) \\\n",
    "    .abs()\n",
    "# Sorting the table by descending order from the Diff column\n",
    "page_percent_comparison.sort_values('Diff', ascending=False)"
   ]
  },
  {
   "cell_type": "markdown",
   "metadata": {},
   "source": [
    "Looking at this table of the pages visited by Retained and Churned users, sorted by highest difference between these groups, we can notice that the thumbs up and down ratio can be promising features for the ML algorithms. The number of Ads (Roll Advert) or Songs played (NextSong) per a certain time unit also look promising."
   ]
  },
  {
   "cell_type": "markdown",
   "metadata": {},
   "source": [
    "### Observing how much of a specific action they experienced per a certain time unit"
   ]
  },
  {
   "cell_type": "markdown",
   "metadata": {},
   "source": [
    "Let's convert the timestamp to the common date format to compare how much of a specific action they experienced per a certain time unit"
   ]
  },
  {
   "cell_type": "code",
   "execution_count": 34,
   "metadata": {},
   "outputs": [
    {
     "data": {
      "text/plain": [
       "Row(userId='100010', artist=None, auth='Logged In', firstName='Darianna', gender='F', itemInSession=34, lastName='Carpenter', length=None, level='free', location='Bridgeport-Stamford-Norwalk, CT', method='PUT', page='Logout', registration=1538016340000, sessionId=187, song=None, status=307, ts=1542823952000, userAgent='\"Mozilla/5.0 (iPhone; CPU iPhone OS 7_1_2 like Mac OS X) AppleWebKit/537.51.2 (KHTML, like Gecko) Version/7.0 Mobile/11D257 Safari/9537.53\"', Churn_phase=0, Churn=0, hour='18', day='21', weekday=4, month='11')"
      ]
     },
     "execution_count": 34,
     "metadata": {},
     "output_type": "execute_result"
    }
   ],
   "source": [
    "# Converting timestamps to datetime from epoch time, to get the hour of the day\n",
    "get_hour = udf(lambda ts: datetime.datetime.fromtimestamp(ts / 1000.0).hour)\n",
    "# Adding a new column called hour to our dataframe\n",
    "train = train.withColumn(\"hour\", get_hour(train.ts))\n",
    "\n",
    "# Converting timestamps to datetime from epoch time, to get the day\n",
    "get_day = udf(lambda ts: datetime.datetime.fromtimestamp(ts / 1000.0).day)\n",
    "# Adding a new column called day to our dataframe\n",
    "train = train.withColumn(\"day\", get_day(train.ts))\n",
    "\n",
    "# Converting timestamps to datetime from epoch time, to get the weekday\n",
    "get_weekday = udf(lambda ts: datetime.datetime.fromtimestamp(ts/1000.0), TimestampType())\n",
    "# Adding a new column called weekday to our dataframe\n",
    "train = train.withColumn(\"weekday\", dayofweek(get_weekday(train.ts)))\n",
    "\n",
    "# Converting timestamps to datetime from epoch time, to get the month\n",
    "get_month = udf(lambda ts: datetime.datetime.fromtimestamp(ts / 1000.0).month)\n",
    "# Adding a new column called month to our dataframe\n",
    "train = train.withColumn(\"month\", get_month(train.ts))\n",
    "\n",
    "train.head()"
   ]
  },
  {
   "cell_type": "markdown",
   "metadata": {},
   "source": [
    "Darianna was logging out at 6pm on november 21"
   ]
  },
  {
   "cell_type": "markdown",
   "metadata": {},
   "source": [
    "Let's compare the number of interactions per day for both groups in each month"
   ]
  },
  {
   "cell_type": "code",
   "execution_count": 35,
   "metadata": {},
   "outputs": [],
   "source": [
    "# Creating a dataframe that displays the number of interactions each day for each Churned User on October\n",
    "items_per_day_churn_oct = train.filter((train.Churn == 1) & (train.month == 10)) \\\n",
    "    .sort(\"userId\", \"day\", \"itemInSession\").groupBy(\"userId\", \"day\").count().sort(\"userId\", \"day\").toPandas()\n",
    "# Creating a dataframe that displays the number of interactions each day for each Retained User on October\n",
    "items_per_day_oct = train.filter((train.Churn == 0) & (train.month == 10)) \\\n",
    "    .sort(\"userId\", \"day\", \"itemInSession\").groupBy(\"userId\", \"day\").count().sort(\"userId\", \"day\").toPandas()\n",
    "# Merging the Churned and Retained Users for comparison\n",
    "items_per_day_all_oct = items_per_day_oct['count'].to_frame() \\\n",
    "    .join(items_per_day_churn_oct['count'], lsuffix=' Retained Users', rsuffix=' Churned Users')\n",
    "\n",
    "# Creating a dataframe that displays the number of interactions each day for each Churned User on November\n",
    "items_per_day_churn_nov = train.filter((train.Churn == 1) & (train.month == 11)) \\\n",
    "    .sort(\"userId\", \"day\", \"itemInSession\").groupBy(\"userId\", \"day\").count().sort(\"userId\", \"day\").toPandas()\n",
    "# Creating a dataframe that displays the number of interactions each day for each Retained User on November\n",
    "items_per_day_nov = train.filter((train.Churn == 0) & (train.month == 11)) \\\n",
    "    .sort(\"userId\", \"day\", \"itemInSession\").groupBy(\"userId\", \"day\").count().sort(\"userId\", \"day\").toPandas()\n",
    "# Merging the Churned and Retained Users for comparison\n",
    "items_per_day_all_nov = items_per_day_nov['count'].to_frame() \\\n",
    "    .join(items_per_day_churn_nov['count'], lsuffix=' Retained Users', rsuffix=' Churned Users')"
   ]
  },
  {
   "cell_type": "code",
   "execution_count": 36,
   "metadata": {},
   "outputs": [],
   "source": [
    "# Renaming the columns of interest\n",
    "items_per_day_all_oct.rename(columns={'count Retained Users': 'Retained Users', 'count Churned Users': 'Churned Users'}, inplace=True)\n",
    "items_per_day_all_nov.rename(columns={'count Retained Users': 'Retained Users', 'count Churned Users': 'Churned Users'}, inplace=True)"
   ]
  },
  {
   "cell_type": "code",
   "execution_count": 37,
   "metadata": {},
   "outputs": [
    {
     "data": {
      "image/png": "[encoded data removed]",
      "text/plain": [
       "<Figure size 576x432 with 2 Axes>"
      ]
     },
     "metadata": {
      "needs_background": "light"
     },
     "output_type": "display_data"
    }
   ],
   "source": [
    "plt.figure(figsize=(8, 6))\n",
    "plt.subplot(1, 2, 1)\n",
    "plt.title('October')\n",
    "sns.boxplot(data=items_per_day_all_oct);\n",
    "plt.ylabel(\"Number of Items per day\");\n",
    "plt.subplot(1, 2, 2)\n",
    "plt.title('November')\n",
    "sns.boxplot(data=items_per_day_all_nov);"
   ]
  },
  {
   "cell_type": "markdown",
   "metadata": {},
   "source": [
    "The distribution of the number of items per day between the two groups is not so different, the small differences such as the number of outliers present in the Retained Users group may be explained simply by the size of that group"
   ]
  },
  {
   "cell_type": "code",
   "execution_count": 38,
   "metadata": {},
   "outputs": [],
   "source": [
    "# Counting the Ads of Retained Users\n",
    "ads_in_weekday = train.filter((train.page == \"Roll Advert\") & (train.Churn == 0)) \\\n",
    "    .groupby(train.weekday).count().orderBy(train.weekday.cast(\"float\"))\n",
    "ads_in_weekday_pd = ads_in_weekday.toPandas()\n",
    "\n",
    "# Counting the Ads of Churned Users\n",
    "ads_in_weekday_churn = train.filter((train.page == \"Roll Advert\") & (train.Churn == 1)) \\\n",
    "    .groupby(train.weekday).count().orderBy(train.weekday.cast(\"float\"))\n",
    "ads_in_weekday_churn_pd = ads_in_weekday_churn.toPandas()\n",
    "\n",
    "# Calculating percentages per day of the week\n",
    "ads_in_weekday_pd['count'] = ads_in_weekday_pd['count']/train.filter(train.Churn==0).count()\n",
    "ads_in_weekday_churn_pd['count'] = ads_in_weekday_churn_pd['count']/train.filter(train.Churn==1).count()"
   ]
  },
  {
   "cell_type": "markdown",
   "metadata": {},
   "source": [
    "Let's now explore the number of Ads viewed by each group on each day of the week."
   ]
  },
  {
   "cell_type": "code",
   "execution_count": 39,
   "metadata": {},
   "outputs": [
    {
     "data": {
      "image/png": "[encoded data removed]",
      "text/plain": [
       "<Figure size 576x432 with 1 Axes>"
      ]
     },
     "metadata": {
      "needs_background": "light"
     },
     "output_type": "display_data"
    }
   ],
   "source": [
    "X = ['Monday','Tuesday','Wednesday','Thursday', 'Friday', 'Saturday', 'Sunday'] \n",
    "X_axis = np.arange(7)\n",
    "plt.figure(figsize=(8, 6))\n",
    "plt.bar(X_axis - 0.2, ads_in_weekday_pd['count'], 0.4, label = 'Retained Users')\n",
    "plt.bar(X_axis + 0.2, ads_in_weekday_churn_pd['count'], 0.4, label = 'Churned Users')\n",
    "plt.xticks(X_axis, X)\n",
    "plt.xlabel(\"Days of the Week\")\n",
    "plt.ylabel(\"Percent of Roll Advert per Items Interacted\")\n",
    "plt.legend()\n",
    "plt.show()"
   ]
  },
  {
   "cell_type": "markdown",
   "metadata": {},
   "source": [
    "Notice that the number of Ads per number of items interacted is significantly higher on Friday and Saturday for Churned Users compared to Retained Users. Adding statistics per day of the week as features for the Machine Learning model might be a good idea."
   ]
  },
  {
   "cell_type": "markdown",
   "metadata": {},
   "source": [
    "Let's now compare the rate of Thumbs Up and Down of each group that we thought might be a good feature when we looked at the previous table."
   ]
  },
  {
   "cell_type": "code",
   "execution_count": 40,
   "metadata": {},
   "outputs": [
    {
     "data": {
      "image/png": "[encoded data removed]",
      "text/plain": [
       "<Figure size 576x432 with 1 Axes>"
      ]
     },
     "metadata": {
      "needs_background": "light"
     },
     "output_type": "display_data"
    }
   ],
   "source": [
    "thumbs_table = train.filter((train.page == 'Thumbs Down') | (train.page == 'Thumbs Up')) \\\n",
    "    .select(\"page\", \"Churn\")\n",
    "thumbs_table = thumbs_table.toPandas()\n",
    "\n",
    "user = [0, 1]\n",
    "thumbs = ['Thumbs Up', 'Thumbs Down']\n",
    "colors = ['C2', 'C3']\n",
    "\n",
    "artists = [] # for storing references to plot elements\n",
    "baselines = np.zeros(len(user))\n",
    "user_counts = thumbs_table['Churn'].value_counts()\n",
    "\n",
    "plt.figure(figsize=(8, 6))\n",
    "# for each second-variable category:\n",
    "for i, color in zip(range(len(thumbs)), colors):\n",
    "    # isolate the counts of the first category,\n",
    "    thumb = thumbs[i]\n",
    "    inner_counts = thumbs_table[thumbs_table['page'] == thumb]['Churn'].value_counts()\n",
    "    inner_props = inner_counts / user_counts\n",
    "    # then plot those counts on top of the accumulated baseline\n",
    "    bars = plt.bar(x = np.arange(len(user)),\n",
    "                   height = inner_props[user],\n",
    "                   bottom = baselines, \n",
    "                   color=color)\n",
    "    artists.append(bars)\n",
    "    baselines += inner_props[user]\n",
    "\n",
    "plt.xticks(np.arange(len(user)), ['Retained Users', 'Churned Users'])\n",
    "plt.legend(reversed(artists), reversed(thumbs), framealpha = 1,\n",
    "           bbox_to_anchor = (1, 0.5), loc = 6);\n",
    "plt.ylabel(\"Percent\");"
   ]
  },
  {
   "cell_type": "markdown",
   "metadata": {},
   "source": [
    "Indeed, Churn Users have on average less Thumbs Up and more Thumbs Down than Retained Users."
   ]
  },
  {
   "cell_type": "markdown",
   "metadata": {},
   "source": [
    "### Calculating Statistics by Hour\n",
    "How many songs do each of these groups listen to in a given hour?"
   ]
  },
  {
   "cell_type": "code",
   "execution_count": 41,
   "metadata": {},
   "outputs": [
    {
     "data": {
      "text/plain": [
       "Text(0, 0.5, 'Songs Played')"
      ]
     },
     "execution_count": 41,
     "metadata": {},
     "output_type": "execute_result"
    },
    {
     "data": {
      "image/png": "[encoded data removed]",
      "text/plain": [
       "<Figure size 1008x432 with 2 Axes>"
      ]
     },
     "metadata": {
      "needs_background": "light"
     },
     "output_type": "display_data"
    }
   ],
   "source": [
    "plt.figure(figsize=(14, 6))\n",
    "\n",
    "# Counting the next song page requests\n",
    "songs_in_hour = train.filter((train.page == \"NextSong\") & (train.Churn == 0)) \\\n",
    "    .groupby(train.hour).count().orderBy(train.hour.cast(\"float\"))\n",
    "songs_in_hour_pd = songs_in_hour.toPandas()\n",
    "\n",
    "plt.subplot(1, 2, 1)\n",
    "plt.title('Not Churn')\n",
    "plt.scatter(songs_in_hour_pd[\"hour\"], songs_in_hour_pd[\"count\"])\n",
    "plt.xlim(-1, 24)\n",
    "plt.ylim(0, 1.2 * songs_in_hour_pd[\"count\"].max())\n",
    "plt.xlabel(\"Hour\")\n",
    "plt.ylabel(\"Songs Played\");\n",
    "\n",
    "# Counting the next song page requests\n",
    "songs_in_hour_churn = train.filter((train.page == \"NextSong\") & (train.Churn == 1)) \\\n",
    "    .groupby(train.hour).count().orderBy(train.hour.cast(\"float\"))\n",
    "songs_in_hour_churn_pd = songs_in_hour_churn.toPandas()\n",
    "\n",
    "plt.subplot(1, 2, 2)\n",
    "plt.title('Churn')\n",
    "plt.scatter(songs_in_hour_churn_pd[\"hour\"], songs_in_hour_churn_pd[\"count\"], color='C1')\n",
    "plt.xlim(-1, 24)\n",
    "plt.ylim(0, 1.2 * songs_in_hour_churn_pd[\"count\"].max())\n",
    "plt.xlabel(\"Hour\")\n",
    "plt.ylabel(\"Songs Played\")"
   ]
  },
  {
   "cell_type": "markdown",
   "metadata": {},
   "source": [
    "We can see some trends in how many songs users played in different hours of the day, and the pattern doesn't look so different from Retained and Churned Users."
   ]
  },
  {
   "cell_type": "markdown",
   "metadata": {},
   "source": [
    "Lastly, before moving into feature engineering let's compare the number of songs listened by each group per session and between home page visits to see if we can find some differences."
   ]
  },
  {
   "cell_type": "code",
   "execution_count": 42,
   "metadata": {},
   "outputs": [],
   "source": [
    "n_songs = train.filter((train.Churn == 0) & (train.page == \"NextSong\")).count()\n",
    "n_sessions = train.filter(train.Churn == 0).groupBy(\"userId\", \"sessionId\").count().count()\n",
    "n_songs_churn = train.filter((train.Churn == 1) & (train.page == \"NextSong\")).count()\n",
    "n_sessions_churn = train.filter(train.Churn == 1).groupBy(\"userId\", \"sessionId\").count().count()"
   ]
  },
  {
   "cell_type": "code",
   "execution_count": 43,
   "metadata": {
    "scrolled": true
   },
   "outputs": [],
   "source": [
    "function = udf(lambda ishome : int(ishome == 'Home'), IntegerType())\n",
    "\n",
    "user_window = Window.partitionBy('userID').orderBy(desc('ts')).rangeBetween(Window.unboundedPreceding, 0)\n",
    "\n",
    "cusum = train.filter((train.page == 'NextSong') | (train.page == 'Home')).select('userID', 'page', 'ts') \\\n",
    "    .withColumn('homevisit', function(col('page'))).withColumn('period', Fsum('homevisit').over(user_window))\n",
    "\n",
    "df = cusum.filter((cusum.page == 'NextSong')).filter(train.Churn == 0).groupBy('userID', 'period') \\\n",
    "    .agg({'period':'count'}).agg({'count(period)':'avg'}).toPandas()\n",
    "avg_songs_between_homepage = df.loc[0, 'avg(count(period))']\n",
    "\n",
    "df_churn = cusum.filter((cusum.page == 'NextSong')).filter(train.Churn == 1).groupBy('userID', 'period') \\\n",
    "    .agg({'period':'count'}).agg({'count(period)':'avg'}).toPandas()\n",
    "avg_songs_between_homepage_churn = df_churn.loc[0, 'avg(count(period))']"
   ]
  },
  {
   "cell_type": "code",
   "execution_count": 44,
   "metadata": {},
   "outputs": [
    {
     "data": {
      "image/png": "[encoded data removed]",
      "text/plain": [
       "<Figure size 864x432 with 2 Axes>"
      ]
     },
     "metadata": {
      "needs_background": "light"
     },
     "output_type": "display_data"
    }
   ],
   "source": [
    "plt.figure(figsize=(12, 6));\n",
    "\n",
    "plt.subplot(1, 2, 1)\n",
    "plt.title('Avg Number of Songs Per Session');\n",
    "plt.bar(x=['Retained Users', 'Churned Users'], height=[n_songs/n_sessions, n_songs_churn/n_sessions_churn], \n",
    "        color=['C0', 'C1']);\n",
    "\n",
    "values = [n_songs/n_sessions, n_songs_churn/n_sessions_churn]\n",
    "\n",
    "for index, value in enumerate(values):\n",
    "    plt.text(index-0.37, value+1, str(value))\n",
    "\n",
    "    \n",
    "plt.subplot(1, 2, 2)\n",
    "plt.title('Avg Number of Songs Between Visiting the Home Page');\n",
    "plt.bar(x=['Retained Users', 'Churned Users'], height=[avg_songs_between_homepage, avg_songs_between_homepage_churn], \n",
    "        color=['C0', 'C1']);\n",
    "\n",
    "values = [avg_songs_between_homepage, avg_songs_between_homepage_churn]\n",
    "\n",
    "for index, value in enumerate(values):\n",
    "    plt.text(index-0.37, value+0.3, str(value))"
   ]
  },
  {
   "cell_type": "markdown",
   "metadata": {},
   "source": [
    "On average, Churned Users listen about 1 song less per session and between visiting the home page compared to Retained Users."
   ]
  },
  {
   "cell_type": "markdown",
   "metadata": {},
   "source": [
    "# Feature Engineering\n",
    "Now that we are familiarized with the data, let's build out the features we found promising to train the model on."
   ]
  },
  {
   "cell_type": "markdown",
   "metadata": {},
   "source": [
    "As we saw in the previous histogram, the Retained Users listen to a higher number of artists than Churned Users, so let's add that feature to the dataframe we are going to train the ML models on."
   ]
  },
  {
   "cell_type": "code",
   "execution_count": 45,
   "metadata": {},
   "outputs": [
    {
     "name": "stdout",
     "output_type": "stream",
     "text": [
      "+------+---------+\n",
      "|userId|n_artists|\n",
      "+------+---------+\n",
      "|100010|      253|\n",
      "|200002|      340|\n",
      "|   125|        9|\n",
      "|    51|     1386|\n",
      "|   124|     2233|\n",
      "|     7|      143|\n",
      "|    15|     1303|\n",
      "|    54|     1745|\n",
      "|   155|      644|\n",
      "|   132|     1300|\n",
      "|   154|       79|\n",
      "|100014|      234|\n",
      "|   101|     1242|\n",
      "|    11|      535|\n",
      "|   138|     1333|\n",
      "|300017|     2071|\n",
      "|    29|     1805|\n",
      "|    69|      866|\n",
      "|100021|      208|\n",
      "|    42|     2074|\n",
      "+------+---------+\n",
      "only showing top 20 rows\n",
      "\n"
     ]
    }
   ],
   "source": [
    "df = user_log_valid.groupBy(\"userId\", \"artist\").count().groupBy(\"userId\").count().withColumnRenamed(\"count\", \"n_artists\")\n",
    "df.show()"
   ]
  },
  {
   "cell_type": "markdown",
   "metadata": {},
   "source": [
    "Let's also add the number of interactions each user has had with the service."
   ]
  },
  {
   "cell_type": "code",
   "execution_count": 46,
   "metadata": {},
   "outputs": [
    {
     "name": "stdout",
     "output_type": "stream",
     "text": [
      "+------+--------------+\n",
      "|userId|n_interactions|\n",
      "+------+--------------+\n",
      "|100010|           381|\n",
      "|200002|           474|\n",
      "|   125|            11|\n",
      "|    51|          2464|\n",
      "|   124|          4825|\n",
      "|     7|           201|\n",
      "|    54|          3437|\n",
      "|    15|          2278|\n",
      "|   155|          1002|\n",
      "|   132|          2304|\n",
      "|   154|           118|\n",
      "|100014|           310|\n",
      "|   101|          2149|\n",
      "|    11|           848|\n",
      "|   138|          2469|\n",
      "|300017|          4428|\n",
      "|    29|          3603|\n",
      "|    69|          1342|\n",
      "|100021|           319|\n",
      "|    42|          4257|\n",
      "+------+--------------+\n",
      "only showing top 20 rows\n",
      "\n"
     ]
    }
   ],
   "source": [
    "n_interactions = user_log_valid.select(\"userId\").groupBy(\"userId\").count().withColumnRenamed(\"count\", \"n_interactions\")\n",
    "n_interactions.show()"
   ]
  },
  {
   "cell_type": "code",
   "execution_count": 47,
   "metadata": {},
   "outputs": [],
   "source": [
    "df = df.join(n_interactions, \"userId\", \"full\")"
   ]
  },
  {
   "cell_type": "markdown",
   "metadata": {},
   "source": [
    "The length column in the dataset refers to the length of each action in seconds. I think calculating summary statistics over this column for each user might contain insights that the model can learn from, for example, what is the mean, 25 percentile, or standard deviation of the actions in seconds the user performed."
   ]
  },
  {
   "cell_type": "code",
   "execution_count": 48,
   "metadata": {
    "scrolled": false
   },
   "outputs": [
    {
     "name": "stdout",
     "output_type": "stream",
     "text": [
      "+------+------------------+------------------+----------+---------+----------+---------+----------+\n",
      "|userId|        length_avg|        length_std|length_min|length_25|length_med|length_75|length_max|\n",
      "+------+------------------+------------------+----------+---------+----------+---------+----------+\n",
      "|100010|  243.421444909091|  79.5156544698794|  52.27057|197.45914| 237.13914|277.15873| 538.85342|\n",
      "|200002|242.91699209302305|   75.447490312729|  26.56608|198.03383| 237.26975|273.89342| 592.06485|\n",
      "|   125|261.13913750000006|  78.1110647194169| 178.41587| 203.2322| 213.60281|323.81342| 391.26159|\n",
      "|   124|248.17653659965674| 99.33044264553511|  18.05016|198.05995|  233.9522|277.52444|2369.04444|\n",
      "|    51|247.88055082899118|104.57060972073867|   4.04853|198.76526| 235.20608|273.94567|2594.87302|\n",
      "|     7| 253.5605806666668|109.42993284782153|   38.3473|201.79546| 232.61995|276.13995|   878.602|\n",
      "|    15|249.37701452978064| 88.73888041148142|  21.91628| 200.9073| 235.25832| 280.0322| 1373.6224|\n",
      "|    54|250.38539934530132| 98.02306791001034|  11.98975|199.23546| 235.93751|277.52444| 1400.2673|\n",
      "|   155| 242.4137706097561| 83.04446237736163|  26.90567|196.54485| 231.75791|273.10975| 655.77751|\n",
      "|100014|263.43763455252935|171.84711846316384|  45.94893| 204.9824| 238.54975|284.13342|2594.87302|\n",
      "|   132|250.58034431535253| 95.39930795241943|  26.04363|198.66077| 236.09424|276.76689|1242.46159|\n",
      "|   154| 245.9526655952382| 81.59410053108489|  28.26404|190.27546| 243.82649|281.62567| 655.77751|\n",
      "|   101|249.00612947690533|112.86871743022515|  22.12526|197.27628| 233.29914|277.15873|3024.66567|\n",
      "|    11| 246.7851051622872| 92.85278861471296|  40.69832| 199.8624| 229.61587| 276.4273| 995.13424|\n",
      "|   138|247.56032983574826| 95.13594055311236|  13.63546|198.39955| 233.69098|273.78893|1670.45179|\n",
      "|300017|  247.083419661344|  99.6912392587168|   9.01179| 197.0673| 232.54159|273.81506|1731.00363|\n",
      "|100021| 250.5790245217391| 85.32241208511373|  32.73098|203.04934|  236.9824|282.27873| 563.35628|\n",
      "|    29|249.18017257926053|109.17772071048194|  13.42649|198.53016| 234.44853|276.89751|2520.99873|\n",
      "|    69|254.27913390222213|120.32463137132146|  27.01016|200.59383| 233.92608|279.27465|1670.45179|\n",
      "|   112|246.80347251162797|100.98631654346671|  22.36036|197.38077| 233.56036|279.30077|1242.46159|\n",
      "+------+------------------+------------------+----------+---------+----------+---------+----------+\n",
      "only showing top 20 rows\n",
      "\n"
     ]
    }
   ],
   "source": [
    "df_length_st = user_log_valid.dropna(how=\"any\", subset=[\"length\"])\n",
    "windowval = Window.partitionBy(\"userId\").rangeBetween(Window.unboundedPreceding, Window.unboundedFollowing)\n",
    "df_length_st = df_length_st.withColumn('length_avg', Favg('length').over(windowval))\n",
    "df_length_st = df_length_st.withColumn('length_std', stddev_samp('length').over(windowval))\n",
    "df_length_st = df_length_st.withColumn('length_min', min('length').over(windowval))\n",
    "percentile_25 = expr(\"percentile_approx(length, 0.25)\")\n",
    "df_length_st = df_length_st.withColumn('length_25', percentile_25.over(windowval))\n",
    "percentile_50 = expr(\"percentile_approx(length, 0.5)\")\n",
    "df_length_st = df_length_st.withColumn('length_med', percentile_50.over(windowval))\n",
    "percentile_75 = expr(\"percentile_approx(length, 0.75)\")\n",
    "df_length_st = df_length_st.withColumn('length_75', percentile_75.over(windowval))\n",
    "df_length_st = df_length_st.withColumn('length_max', max('length').over(windowval))\n",
    "df_length_st = df_length_st.select(\"userId\", \"length_avg\", \"length_std\", \"length_min\", \"length_25\", \"length_med\", \"length_75\", \"length_max\").dropDuplicates()\n",
    "df_length_st.show()"
   ]
  },
  {
   "cell_type": "code",
   "execution_count": 49,
   "metadata": {
    "scrolled": false
   },
   "outputs": [],
   "source": [
    "df = df.join(df_length_st, \"userId\", \"full\")"
   ]
  },
  {
   "cell_type": "markdown",
   "metadata": {},
   "source": [
    "Since both paid and free users can cancel their accounts, Let's add a feature of the number of interactions a user had as a free and paid user."
   ]
  },
  {
   "cell_type": "code",
   "execution_count": 50,
   "metadata": {},
   "outputs": [
    {
     "name": "stdout",
     "output_type": "stream",
     "text": [
      "+------+----+----+\n",
      "|userId|free|paid|\n",
      "+------+----+----+\n",
      "|200002| 120| 354|\n",
      "|100010| 381|null|\n",
      "|   125|  11|null|\n",
      "|     7| 201|null|\n",
      "|   124|null|4825|\n",
      "|    51|null|2464|\n",
      "|    54| 578|2859|\n",
      "|    15|null|2278|\n",
      "|   155| 144| 858|\n",
      "|   132|  34|2270|\n",
      "|   154| 118|null|\n",
      "|100014|null| 310|\n",
      "|    11| 619| 229|\n",
      "|   101|  76|2073|\n",
      "|300017|null|4428|\n",
      "|   138| 262|2207|\n",
      "|100021| 319|null|\n",
      "|    29| 390|3213|\n",
      "|    69|  39|1303|\n",
      "|   112| 292|null|\n",
      "+------+----+----+\n",
      "only showing top 20 rows\n",
      "\n"
     ]
    }
   ],
   "source": [
    "level = user_log_valid.groupBy(\"userId\").pivot(\"level\").count()\n",
    "level.show()"
   ]
  },
  {
   "cell_type": "code",
   "execution_count": 51,
   "metadata": {},
   "outputs": [],
   "source": [
    "df = df.join(level, \"userId\", \"full\")"
   ]
  },
  {
   "cell_type": "markdown",
   "metadata": {},
   "source": [
    "Maybe the cohort of the users is related to whether they canceled their account or not. Let's include the timestamp of the time when the user got registered in the service."
   ]
  },
  {
   "cell_type": "code",
   "execution_count": 52,
   "metadata": {},
   "outputs": [
    {
     "name": "stdout",
     "output_type": "stream",
     "text": [
      "+------+-------------+\n",
      "|userId| registration|\n",
      "+------+-------------+\n",
      "|200024|1537897424000|\n",
      "|200025|1532696273000|\n",
      "|   118|1537893493000|\n",
      "|    28|1537634865000|\n",
      "|100003|1537309344000|\n",
      "|   122|1535498705000|\n",
      "|   149|1536980520000|\n",
      "|   111|1536372490000|\n",
      "|300001|1526739206000|\n",
      "|     3|1533886191000|\n",
      "|    62|1531804365000|\n",
      "|100017|1533247234000|\n",
      "|    10|1538159495000|\n",
      "|200010|1537764007000|\n",
      "|    40|1535525247000|\n",
      "|   131|1533102330000|\n",
      "|   136|1537034286000|\n",
      "|    75|1537201808000|\n",
      "|   128|1535269914000|\n",
      "|200019|1537638755000|\n",
      "+------+-------------+\n",
      "only showing top 20 rows\n",
      "\n"
     ]
    }
   ],
   "source": [
    "registration = user_log_valid.select(\"userId\", \"registration\").dropDuplicates()\n",
    "registration.show()"
   ]
  },
  {
   "cell_type": "code",
   "execution_count": 53,
   "metadata": {},
   "outputs": [],
   "source": [
    "df = df.join(registration, \"userId\", \"full\")"
   ]
  },
  {
   "cell_type": "markdown",
   "metadata": {},
   "source": [
    "Because this subset of the data is just from two months, maybe the number of times the user opened the service is related to whether or not they'll cancel."
   ]
  },
  {
   "cell_type": "code",
   "execution_count": 54,
   "metadata": {},
   "outputs": [
    {
     "name": "stdout",
     "output_type": "stream",
     "text": [
      "+------+----------+\n",
      "|userId|n_sessions|\n",
      "+------+----------+\n",
      "|100010|         7|\n",
      "|200002|         6|\n",
      "|   125|         1|\n",
      "|    51|        10|\n",
      "|   124|        29|\n",
      "|     7|         7|\n",
      "|    54|        37|\n",
      "|    15|        15|\n",
      "|   155|         6|\n",
      "|100014|         6|\n",
      "|   132|        16|\n",
      "|   154|         3|\n",
      "|   101|        10|\n",
      "|    11|        16|\n",
      "|300017|        63|\n",
      "|   138|        15|\n",
      "|    29|        34|\n",
      "|    69|         9|\n",
      "|100021|         5|\n",
      "|    42|        47|\n",
      "+------+----------+\n",
      "only showing top 20 rows\n",
      "\n"
     ]
    }
   ],
   "source": [
    "sessions = user_log_valid.select(\"userId\", \"sessionId\").dropDuplicates().groupBy(\"userId\").count().withColumnRenamed(\"count\", \"n_sessions\")\n",
    "sessions.show()"
   ]
  },
  {
   "cell_type": "code",
   "execution_count": 55,
   "metadata": {},
   "outputs": [],
   "source": [
    "df = df.join(sessions, \"userId\", \"full\")"
   ]
  },
  {
   "cell_type": "markdown",
   "metadata": {},
   "source": [
    "As we saw previously, calculating interactions per day of the week might be a good feature for the ML models."
   ]
  },
  {
   "cell_type": "code",
   "execution_count": 56,
   "metadata": {},
   "outputs": [
    {
     "name": "stdout",
     "output_type": "stream",
     "text": [
      "+------+----+----+----+----+----+----+----+\n",
      "|userId|   1|   2|   3|   4|   5|   6|   7|\n",
      "+------+----+----+----+----+----+----+----+\n",
      "|200002|null|  86|  96|null| 292|null|null|\n",
      "|100010|null| 121|  55|  33|null| 112|  60|\n",
      "|   125|null|null|null|null|null|  11|null|\n",
      "|     7|null|null|  24| 133|   7|  37|null|\n",
      "|   124| 373| 975|1000| 623| 599|1047| 208|\n",
      "|    51| 107| 568| 526| 228| 343| 629|  63|\n",
      "|    54| 393| 425| 369| 800| 705| 442| 303|\n",
      "|    15| 209| 263| 520| 172| 416| 367| 331|\n",
      "|   155|null|null| 156| 233|  81| 532|null|\n",
      "|   132|  60| 389| 578| 471| 252| 468|  86|\n",
      "|   154|null|null|  30|null|null|  24|  64|\n",
      "|100014|null|null| 167|  57|null|  33|  53|\n",
      "|   101| 137| 432| 581| 552| 273| 106|  68|\n",
      "|    11|  62| 282|  70|  49|  68| 279|  38|\n",
      "|300017| 495| 343| 847| 577| 711| 970| 485|\n",
      "|   138|  80| 278| 293| 132| 727| 584| 375|\n",
      "|    69|  87|  92| 388| 130| 261| 384|null|\n",
      "|100021| 182|null|null|null|  14|  19| 104|\n",
      "|    29| 194| 881| 732| 563| 827| 248| 158|\n",
      "|   112|  28| 108|  24|  33|  45|  54|null|\n",
      "+------+----+----+----+----+----+----+----+\n",
      "only showing top 20 rows\n",
      "\n"
     ]
    }
   ],
   "source": [
    "user_log_valid = user_log_valid.withColumn(\"weekday\", dayofweek(get_weekday(user_log_valid.ts)))\n",
    "weekday_items = user_log_valid.groupBy(\"userId\").pivot(\"weekday\").count()\n",
    "weekday_items.show()"
   ]
  },
  {
   "cell_type": "code",
   "execution_count": 57,
   "metadata": {},
   "outputs": [],
   "source": [
    "df = df.join(weekday_items, \"userId\", \"full\")"
   ]
  },
  {
   "cell_type": "markdown",
   "metadata": {},
   "source": [
    "Off course, we should also add to the features dataframe the count of each page the user interacted with."
   ]
  },
  {
   "cell_type": "code",
   "execution_count": 58,
   "metadata": {},
   "outputs": [
    {
     "name": "stdout",
     "output_type": "stream",
     "text": [
      "+------+-----+----------+---------------+------+-------------------------+---------+-----+----+----+------+--------+-----------+-------------+--------+----------------+--------------+-----------+---------+-------+\n",
      "|userId|About|Add Friend|Add to Playlist|Cancel|Cancellation Confirmation|Downgrade|Error|Help|Home|Logout|NextSong|Roll Advert|Save Settings|Settings|Submit Downgrade|Submit Upgrade|Thumbs Down|Thumbs Up|Upgrade|\n",
      "+------+-----+----------+---------------+------+-------------------------+---------+-----+----+----+------+--------+-----------+-------------+--------+----------------+--------------+-----------+---------+-------+\n",
      "|200002|    3|         4|              8|  null|                     null|        5| null|   2|  20|     5|     387|          7|         null|       3|            null|             1|          6|       21|      2|\n",
      "|100010|    1|         4|              7|  null|                     null|     null| null|   2|  11|     5|     275|         52|         null|    null|            null|          null|          5|       17|      2|\n",
      "|   125| null|      null|           null|     1|                        1|     null| null|null|null|  null|       8|          1|         null|    null|            null|          null|       null|     null|   null|\n",
      "|    51|    2|        28|             52|     1|                        1|       23|    1|  12|  75|    24|    2111|       null|            1|      12|            null|          null|         21|      100|   null|\n",
      "|   124|    7|        74|            118|  null|                     null|       41|    6|  23| 176|    59|    4079|          4|            6|      20|            null|          null|         41|      171|   null|\n",
      "|     7| null|         1|              5|  null|                     null|     null|    1|   1|  10|     3|     150|         16|            1|       3|            null|          null|          1|        7|      2|\n",
      "|    54|    5|        33|             72|     1|                        1|       39|    1|  17| 129|    36|    2841|         47|            3|      17|               1|             1|         29|      163|      1|\n",
      "|    15|    2|        31|             59|  null|                     null|       28|    2|   8|  93|    27|    1914|          1|            2|      16|            null|          null|         14|       81|   null|\n",
      "|   155|    2|        11|             24|  null|                     null|       12|    3|   9|  30|    14|     820|          8|         null|       5|            null|             1|          3|       58|      2|\n",
      "|   132|    4|        41|             38|  null|                     null|       19|    3|  16|  83|    34|    1928|          2|            4|      17|            null|             1|         17|       96|      1|\n",
      "|100014| null|         6|              7|     1|                        1|        3| null|   2|   7|     3|     257|          2|         null|       1|            null|          null|          3|       17|   null|\n",
      "|   154| null|         3|              1|  null|                     null|     null| null|   1|   6|     2|      84|         10|         null|    null|            null|          null|       null|       11|   null|\n",
      "|    11|    7|         6|             20|  null|                     null|        5|    1|   3|  37|    14|     647|         39|            2|       6|               1|             2|          9|       40|      9|\n",
      "|   101|    2|        29|             61|     1|                        1|       22|    3|  12|  74|    24|    1797|          8|            2|       9|            null|             1|         16|       86|      1|\n",
      "|   138|    8|        41|             67|  null|                     null|       21|    1|  13|  71|    18|    2070|         17|            4|      17|            null|             1|         24|       95|      1|\n",
      "|300017|    3|        63|            113|  null|                     null|       25|    5|  27| 151|    41|    3632|         11|            3|      23|            null|          null|         28|      303|   null|\n",
      "|    29|    2|        47|             89|     1|                        1|       18| null|  28| 121|    41|    3028|         22|            4|      19|            null|             1|         22|      154|      5|\n",
      "|100021|    1|         7|              7|     1|                        1|     null|    2|null|  15|     7|     230|         30|         null|    null|            null|          null|          5|       11|      2|\n",
      "|    69|    3|        12|             33|  null|                     null|        9|    4|   7|  49|    10|    1125|          3|            1|       3|            null|             1|          9|       72|      1|\n",
      "|    42|    6|        52|            104|  null|                     null|       37|    7|  20| 176|    44|    3573|         10|            7|      28|            null|             1|         25|      166|      1|\n",
      "+------+-----+----------+---------------+------+-------------------------+---------+-----+----+----+------+--------+-----------+-------------+--------+----------------+--------------+-----------+---------+-------+\n",
      "only showing top 20 rows\n",
      "\n"
     ]
    }
   ],
   "source": [
    "page = user_log_valid.groupBy(\"userId\").pivot(\"page\").count()\n",
    "page.show()"
   ]
  },
  {
   "cell_type": "code",
   "execution_count": 59,
   "metadata": {},
   "outputs": [],
   "source": [
    "df = df.join(page, \"userId\", \"full\")"
   ]
  },
  {
   "cell_type": "code",
   "execution_count": 60,
   "metadata": {},
   "outputs": [],
   "source": [
    "df = df.drop(\"Cancel\", \"Cancellation Confirmation\")"
   ]
  },
  {
   "cell_type": "markdown",
   "metadata": {},
   "source": [
    "I'm not sure if the gender is related to whether or not they'll canceled the service, but we can later rectify this by evaluating the features importance of the trained ML model."
   ]
  },
  {
   "cell_type": "code",
   "execution_count": 61,
   "metadata": {},
   "outputs": [
    {
     "name": "stdout",
     "output_type": "stream",
     "text": [
      "+------+---------+\n",
      "|userId|is_female|\n",
      "+------+---------+\n",
      "|    44|        1|\n",
      "|    46|        1|\n",
      "|    41|        1|\n",
      "|    72|        1|\n",
      "|300023|        1|\n",
      "|    39|        1|\n",
      "|100010|        1|\n",
      "|    40|        1|\n",
      "|    94|        1|\n",
      "|    35|        1|\n",
      "|    75|        1|\n",
      "|   116|        1|\n",
      "|200001|        0|\n",
      "|200020|        0|\n",
      "|100008|        1|\n",
      "|200015|        0|\n",
      "|   100|        0|\n",
      "|100006|        1|\n",
      "|300005|        1|\n",
      "|    25|        1|\n",
      "+------+---------+\n",
      "only showing top 20 rows\n",
      "\n"
     ]
    }
   ],
   "source": [
    "gender = user_log_valid.select(\"userId\", \"gender\").dropDuplicates()\n",
    "flag_females = udf(lambda x: 1 if x == \"F\" else 0, IntegerType())\n",
    "gender = gender.withColumn(\"is_female\", flag_females(\"gender\"))\n",
    "gender = gender.drop(\"gender\")\n",
    "gender.show()"
   ]
  },
  {
   "cell_type": "code",
   "execution_count": 62,
   "metadata": {},
   "outputs": [],
   "source": [
    "df = df.join(gender, \"userId\", \"full\")"
   ]
  },
  {
   "cell_type": "markdown",
   "metadata": {},
   "source": [
    "Finally, let's add the labels."
   ]
  },
  {
   "cell_type": "code",
   "execution_count": 63,
   "metadata": {},
   "outputs": [
    {
     "name": "stdout",
     "output_type": "stream",
     "text": [
      "+------+-----+\n",
      "|userId|Churn|\n",
      "+------+-----+\n",
      "|100010|    0|\n",
      "|200002|    0|\n",
      "|   125|    1|\n",
      "|   124|    0|\n",
      "|    51|    1|\n",
      "|     7|    0|\n",
      "|    15|    0|\n",
      "|    54|    1|\n",
      "|   155|    0|\n",
      "|100014|    1|\n",
      "|   132|    0|\n",
      "|   154|    0|\n",
      "|   101|    1|\n",
      "|    11|    0|\n",
      "|   138|    0|\n",
      "|300017|    0|\n",
      "|100021|    1|\n",
      "|    29|    1|\n",
      "|    69|    0|\n",
      "|   112|    0|\n",
      "+------+-----+\n",
      "only showing top 20 rows\n",
      "\n"
     ]
    }
   ],
   "source": [
    "train_labels = user_log_valid.select(\"userId\", \"Churn\").dropDuplicates()\n",
    "train_labels.show()"
   ]
  },
  {
   "cell_type": "code",
   "execution_count": 64,
   "metadata": {},
   "outputs": [],
   "source": [
    "df = df.join(train_labels, \"userId\", \"full\")"
   ]
  },
  {
   "cell_type": "markdown",
   "metadata": {},
   "source": [
    "Because many of the features we added were not present for all users, some values are null. Let's replace those null values with zeros."
   ]
  },
  {
   "cell_type": "code",
   "execution_count": 65,
   "metadata": {},
   "outputs": [],
   "source": [
    "df = df.na.fill(value=0)"
   ]
  },
  {
   "cell_type": "markdown",
   "metadata": {},
   "source": [
    "Perfect, let's look at the features we've built."
   ]
  },
  {
   "cell_type": "code",
   "execution_count": 66,
   "metadata": {},
   "outputs": [
    {
     "name": "stdout",
     "output_type": "stream",
     "text": [
      "root\n",
      " |-- userId: string (nullable = true)\n",
      " |-- n_artists: long (nullable = true)\n",
      " |-- n_interactions: long (nullable = true)\n",
      " |-- length_avg: double (nullable = false)\n",
      " |-- length_std: double (nullable = false)\n",
      " |-- length_min: double (nullable = false)\n",
      " |-- length_25: double (nullable = false)\n",
      " |-- length_med: double (nullable = false)\n",
      " |-- length_75: double (nullable = false)\n",
      " |-- length_max: double (nullable = false)\n",
      " |-- free: long (nullable = true)\n",
      " |-- paid: long (nullable = true)\n",
      " |-- registration: long (nullable = true)\n",
      " |-- n_sessions: long (nullable = true)\n",
      " |-- 1: long (nullable = true)\n",
      " |-- 2: long (nullable = true)\n",
      " |-- 3: long (nullable = true)\n",
      " |-- 4: long (nullable = true)\n",
      " |-- 5: long (nullable = true)\n",
      " |-- 6: long (nullable = true)\n",
      " |-- 7: long (nullable = true)\n",
      " |-- About: long (nullable = true)\n",
      " |-- Add Friend: long (nullable = true)\n",
      " |-- Add to Playlist: long (nullable = true)\n",
      " |-- Downgrade: long (nullable = true)\n",
      " |-- Error: long (nullable = true)\n",
      " |-- Help: long (nullable = true)\n",
      " |-- Home: long (nullable = true)\n",
      " |-- Logout: long (nullable = true)\n",
      " |-- NextSong: long (nullable = true)\n",
      " |-- Roll Advert: long (nullable = true)\n",
      " |-- Save Settings: long (nullable = true)\n",
      " |-- Settings: long (nullable = true)\n",
      " |-- Submit Downgrade: long (nullable = true)\n",
      " |-- Submit Upgrade: long (nullable = true)\n",
      " |-- Thumbs Down: long (nullable = true)\n",
      " |-- Thumbs Up: long (nullable = true)\n",
      " |-- Upgrade: long (nullable = true)\n",
      " |-- is_female: integer (nullable = true)\n",
      " |-- Churn: long (nullable = true)\n",
      "\n"
     ]
    }
   ],
   "source": [
    "df.printSchema()"
   ]
  },
  {
   "cell_type": "code",
   "execution_count": 67,
   "metadata": {},
   "outputs": [],
   "source": [
    "# Vector assembled set of features \n",
    "inputCols = [\"n_artists\", \"n_interactions\", \"length_avg\", \"length_std\", \"length_min\", \"length_25\", \"length_med\", \"length_75\", \n",
    " \"length_max\", \"free\", \"paid\", \"registration\", \"n_sessions\", \"1\", \"2\", \"3\", \"4\", \"5\", \"6\", \"7\", \"About\", \"Add Friend\", \n",
    " \"Add to Playlist\", \"Downgrade\", \"Error\", \"Help\", \"Home\", \"Logout\", \"NextSong\", \"Roll Advert\", \"Save Settings\", \n",
    " \"Settings\", 'Submit Downgrade', \"Submit Upgrade\", 'Thumbs Down', 'Thumbs Up', 'Upgrade', \"is_female\"]\n",
    "assembler = VectorAssembler(inputCols=inputCols, outputCol=\"features\")\n",
    "\n",
    "output = assembler.transform(df)"
   ]
  },
  {
   "cell_type": "markdown",
   "metadata": {},
   "source": [
    "# Modeling\n",
    "<p>Good enough. Now let's split the full dataset into train and test sets. Testing out several machine learning methods and evaluating the F1 score of the various models. We'll determine the winning model based on cross validation F1 score and report results on the test set. We'll use the F1 score as the metric to optimize because the users that canceled are a fairly small subset.</p>\n",
    "<p>Because the data frame that we have built has features with very different scales, for example the \"is_female\" feature ranges from 0 to 1, while the \"registration\" feature has 13 digits. We are going to need to apply feature scaling, we'll use min-max scaling where values will end up ranging from 0 to 1.</p>"
   ]
  },
  {
   "cell_type": "code",
   "execution_count": 68,
   "metadata": {},
   "outputs": [],
   "source": [
    "output_train = output.join(train_ids, on=\"userId\", how=\"inner\")\n",
    "output_test = output.join(train_ids, on=\"userId\", how=\"leftanti\")"
   ]
  },
  {
   "cell_type": "code",
   "execution_count": 69,
   "metadata": {},
   "outputs": [],
   "source": [
    "# Applying Standard Scaling to the assembled features \n",
    "scaler = MinMaxScaler(inputCol=\"features\", outputCol=\"scaledFeatures\")\n",
    "scaledData_train = scaler.fit(output_train).transform(output_train)\n",
    "scaledData_test = scaler.fit(output_test).transform(output_test)"
   ]
  },
  {
   "cell_type": "code",
   "execution_count": 70,
   "metadata": {},
   "outputs": [
    {
     "data": {
      "text/plain": [
       "Row(label=0, features=DenseVector([0.0703, 0.039, 0.4333, 0.2955, 0.2233, 0.3147, 0.6719, 0.0077, 0.0969, 0.1867, 0.0, 0.6438, 0.0566, 0.0, 0.0832, 0.0345, 0.0233, 0.0, 0.0836, 0.0506, 0.04, 0.028, 0.0292, 0.0, 0.0, 0.0435, 0.031, 0.0403, 0.034, 0.4062, 0.0, 0.0, 0.0, 0.0, 0.0667, 0.0389, 0.1333, 1.0]))"
      ]
     },
     "execution_count": 70,
     "metadata": {},
     "output_type": "execute_result"
    }
   ],
   "source": [
    "train_data = scaledData_train.select(col(\"Churn\").alias(\"label\"), col(\"scaledFeatures\").alias(\"features\"))\n",
    "test_data = scaledData_test.select(col(\"Churn\").alias(\"label\"), col(\"scaledFeatures\").alias(\"features\"))\n",
    "train_data.head()"
   ]
  },
  {
   "cell_type": "markdown",
   "metadata": {},
   "source": [
    "<p>Now that we explored the data, sampled a training set and a test set, cleaned and prepared the data, we are now ready to select and train a Machine Learning model. We are going to user Cross-Validation to better evaluate the different models.</p>\n",
    "<p>The CrossValidator function from Spark.ml expects an estimator (ml model), an estimatorParamMaps (object which is the grid of parameters to search from to find the best combination of parameters), and evaluator which is the metric that we want to evaluate.</p>\n",
    "<p>Before diving deeper into a single Machine Learning algorithm, we are going to try out many models from various categories of Machine Learning algorithms without spending time tweaking the hyperparameters. The goal is to find the most promising model, which is why we need to define the estimatorParamMaps as an empty grid.</p>"
   ]
  },
  {
   "cell_type": "code",
   "execution_count": 71,
   "metadata": {},
   "outputs": [],
   "source": [
    "grid = ParamGridBuilder().build()\n",
    "evaluator = MulticlassClassificationEvaluator(metricName='f1')"
   ]
  },
  {
   "cell_type": "code",
   "execution_count": 72,
   "metadata": {},
   "outputs": [
    {
     "data": {
      "text/plain": [
       "[0.6210290756791191]"
      ]
     },
     "execution_count": 72,
     "metadata": {},
     "output_type": "execute_result"
    }
   ],
   "source": [
    "lr = LogisticRegression()\n",
    "cv_lr = CrossValidator(estimator=lr, estimatorParamMaps=grid, evaluator=evaluator)\n",
    "cvModel_lr = cv_lr.fit(train_data)\n",
    "cvModel_lr.avgMetrics"
   ]
  },
  {
   "cell_type": "code",
   "execution_count": 73,
   "metadata": {},
   "outputs": [
    {
     "data": {
      "text/plain": [
       "[0.638160972080441]"
      ]
     },
     "execution_count": 73,
     "metadata": {},
     "output_type": "execute_result"
    }
   ],
   "source": [
    "dt = DecisionTreeClassifier()\n",
    "cv_dt = CrossValidator(estimator=dt, estimatorParamMaps=grid, evaluator=evaluator)\n",
    "cvModel_dt = cv_dt.fit(train_data)\n",
    "cvModel_dt.avgMetrics"
   ]
  },
  {
   "cell_type": "code",
   "execution_count": 74,
   "metadata": {},
   "outputs": [
    {
     "data": {
      "text/plain": [
       "[0.6590522868195726]"
      ]
     },
     "execution_count": 74,
     "metadata": {},
     "output_type": "execute_result"
    }
   ],
   "source": [
    "rf = RandomForestClassifier()\n",
    "cv_rf = CrossValidator(estimator=rf, estimatorParamMaps=grid, evaluator=evaluator)\n",
    "cvModel_rf = cv_rf.fit(train_data)\n",
    "cvModel_rf.avgMetrics"
   ]
  },
  {
   "cell_type": "code",
   "execution_count": 75,
   "metadata": {},
   "outputs": [
    {
     "data": {
      "text/plain": [
       "[0.6294283788743197]"
      ]
     },
     "execution_count": 75,
     "metadata": {},
     "output_type": "execute_result"
    }
   ],
   "source": [
    "gbt = GBTClassifier()\n",
    "cv_gbt = CrossValidator(estimator=gbt, estimatorParamMaps=grid, evaluator=evaluator)\n",
    "cvModel_gbt = cv_gbt.fit(train_data)\n",
    "cvModel_gbt.avgMetrics"
   ]
  },
  {
   "cell_type": "markdown",
   "metadata": {},
   "source": [
    "The most promising model appears to be the RandomForestClassifier, now we need to fine-tune it. We'll use random search to fine-tune the maxBins parameter because the search space is large. for the other two parameters we'll fine-tune using  a simple grid search."
   ]
  },
  {
   "cell_type": "code",
   "execution_count": 76,
   "metadata": {},
   "outputs": [
    {
     "name": "stdout",
     "output_type": "stream",
     "text": [
      "[10, 24, 96, 84]\n"
     ]
    }
   ],
   "source": [
    "bins = random.sample(range(10, 100), 4)\n",
    "print(bins)\n",
    "params_grid = ParamGridBuilder().addGrid(rf.maxDepth, [3,5,7]).addGrid(rf.impurity, ['gini', 'entropy']).addGrid(rf.maxBins, bins).build()"
   ]
  },
  {
   "cell_type": "code",
   "execution_count": 77,
   "metadata": {},
   "outputs": [],
   "source": [
    "cv_rf_final = CrossValidator(estimator=rf, estimatorParamMaps=params_grid, evaluator=evaluator)\n",
    "cvModel_rf_final = cv_rf_final.fit(train_data)"
   ]
  },
  {
   "cell_type": "code",
   "execution_count": 78,
   "metadata": {},
   "outputs": [],
   "source": [
    "bestModel = cvModel_rf_final.bestModel"
   ]
  },
  {
   "cell_type": "code",
   "execution_count": 79,
   "metadata": {},
   "outputs": [
    {
     "data": {
      "text/plain": [
       "[0.6590522868195726]"
      ]
     },
     "execution_count": 79,
     "metadata": {},
     "output_type": "execute_result"
    }
   ],
   "source": [
    "cvModel_rf.avgMetrics"
   ]
  },
  {
   "cell_type": "code",
   "execution_count": 111,
   "metadata": {},
   "outputs": [
    {
     "data": {
      "text/plain": [
       "[0.6307134087084659,\n",
       " 0.6361937118011287,\n",
       " 0.6396647790922247,\n",
       " 0.642149859127728,\n",
       " 0.6460793082351848,\n",
       " 0.6461774338036823,\n",
       " 0.647554331857401,\n",
       " 0.6499232997700676,\n",
       " 0.6508180330255613,\n",
       " 0.6526784165216463,\n",
       " 0.6526784165216463,\n",
       " 0.6534408696009706,\n",
       " 0.6544723326085741,\n",
       " 0.6556940557670351,\n",
       " 0.6556940557670351,\n",
       " 0.6556940557670351,\n",
       " 0.6586487730074667,\n",
       " 0.6610874669513768,\n",
       " 0.6685310985971028,\n",
       " 0.6730633666744714,\n",
       " 0.673772575381166,\n",
       " 0.6803100850077585,\n",
       " 0.7016981521095627,\n",
       " 0.7060487915222196]"
      ]
     },
     "execution_count": 111,
     "metadata": {},
     "output_type": "execute_result"
    }
   ],
   "source": [
    "cvModel_rf_final.avgMetrics.sort()\n",
    "cvModel_rf_final.avgMetrics"
   ]
  },
  {
   "cell_type": "markdown",
   "metadata": {},
   "source": [
    "The final model has the following parameters."
   ]
  },
  {
   "cell_type": "code",
   "execution_count": 103,
   "metadata": {},
   "outputs": [
    {
     "data": {
      "text/plain": [
       "7"
      ]
     },
     "execution_count": 103,
     "metadata": {},
     "output_type": "execute_result"
    }
   ],
   "source": [
    "bestModel._java_obj.getMaxDepth()"
   ]
  },
  {
   "cell_type": "code",
   "execution_count": 104,
   "metadata": {},
   "outputs": [
    {
     "data": {
      "text/plain": [
       "'gini'"
      ]
     },
     "execution_count": 104,
     "metadata": {},
     "output_type": "execute_result"
    }
   ],
   "source": [
    "bestModel._java_obj.getImpurity()"
   ]
  },
  {
   "cell_type": "code",
   "execution_count": 105,
   "metadata": {},
   "outputs": [
    {
     "data": {
      "text/plain": [
       "24"
      ]
     },
     "execution_count": 105,
     "metadata": {},
     "output_type": "execute_result"
    }
   ],
   "source": [
    "bestModel._java_obj.getMaxBins()"
   ]
  },
  {
   "cell_type": "markdown",
   "metadata": {},
   "source": [
    "After tweaking the model for a while, now we have a system that performs sufficiently well. Now is the time to evaluate the final model on the test set."
   ]
  },
  {
   "cell_type": "code",
   "execution_count": 106,
   "metadata": {},
   "outputs": [],
   "source": [
    "predictions = bestModel.transform(test_data)"
   ]
  },
  {
   "cell_type": "code",
   "execution_count": 107,
   "metadata": {},
   "outputs": [
    {
     "name": "stdout",
     "output_type": "stream",
     "text": [
      "Test F1 score = 0.656903 \n"
     ]
    }
   ],
   "source": [
    "f1 = evaluator.evaluate(predictions)\n",
    "print(\"Test F1 score = %g \" % (f1))"
   ]
  },
  {
   "cell_type": "markdown",
   "metadata": {},
   "source": [
    "Not bad, can be much more improved but is a great starting point. Let's compare the results of the different parameters."
   ]
  },
  {
   "cell_type": "code",
   "execution_count": 112,
   "metadata": {},
   "outputs": [
    {
     "data": {
      "text/html": [
       "<div>\n",
       "<style scoped>\n",
       "    .dataframe tbody tr th:only-of-type {\n",
       "        vertical-align: middle;\n",
       "    }\n",
       "\n",
       "    .dataframe tbody tr th {\n",
       "        vertical-align: top;\n",
       "    }\n",
       "\n",
       "    .dataframe thead th {\n",
       "        text-align: right;\n",
       "    }\n",
       "</style>\n",
       "<table border=\"1\" class=\"dataframe\">\n",
       "  <thead>\n",
       "    <tr style=\"text-align: right;\">\n",
       "      <th></th>\n",
       "      <th>maxDepth</th>\n",
       "      <th>impurity</th>\n",
       "      <th>maxBins</th>\n",
       "      <th>F1 score</th>\n",
       "    </tr>\n",
       "  </thead>\n",
       "  <tbody>\n",
       "    <tr>\n",
       "      <th>0</th>\n",
       "      <td>7</td>\n",
       "      <td>entropy</td>\n",
       "      <td>84</td>\n",
       "      <td>0.706049</td>\n",
       "    </tr>\n",
       "    <tr>\n",
       "      <th>1</th>\n",
       "      <td>7</td>\n",
       "      <td>entropy</td>\n",
       "      <td>96</td>\n",
       "      <td>0.701698</td>\n",
       "    </tr>\n",
       "    <tr>\n",
       "      <th>2</th>\n",
       "      <td>7</td>\n",
       "      <td>entropy</td>\n",
       "      <td>24</td>\n",
       "      <td>0.680310</td>\n",
       "    </tr>\n",
       "    <tr>\n",
       "      <th>3</th>\n",
       "      <td>7</td>\n",
       "      <td>entropy</td>\n",
       "      <td>10</td>\n",
       "      <td>0.673773</td>\n",
       "    </tr>\n",
       "    <tr>\n",
       "      <th>4</th>\n",
       "      <td>7</td>\n",
       "      <td>gini</td>\n",
       "      <td>84</td>\n",
       "      <td>0.673063</td>\n",
       "    </tr>\n",
       "    <tr>\n",
       "      <th>5</th>\n",
       "      <td>7</td>\n",
       "      <td>gini</td>\n",
       "      <td>96</td>\n",
       "      <td>0.668531</td>\n",
       "    </tr>\n",
       "    <tr>\n",
       "      <th>6</th>\n",
       "      <td>7</td>\n",
       "      <td>gini</td>\n",
       "      <td>24</td>\n",
       "      <td>0.661087</td>\n",
       "    </tr>\n",
       "    <tr>\n",
       "      <th>7</th>\n",
       "      <td>7</td>\n",
       "      <td>gini</td>\n",
       "      <td>10</td>\n",
       "      <td>0.658649</td>\n",
       "    </tr>\n",
       "    <tr>\n",
       "      <th>8</th>\n",
       "      <td>5</td>\n",
       "      <td>entropy</td>\n",
       "      <td>24</td>\n",
       "      <td>0.655694</td>\n",
       "    </tr>\n",
       "    <tr>\n",
       "      <th>9</th>\n",
       "      <td>5</td>\n",
       "      <td>entropy</td>\n",
       "      <td>84</td>\n",
       "      <td>0.655694</td>\n",
       "    </tr>\n",
       "    <tr>\n",
       "      <th>10</th>\n",
       "      <td>5</td>\n",
       "      <td>entropy</td>\n",
       "      <td>96</td>\n",
       "      <td>0.655694</td>\n",
       "    </tr>\n",
       "    <tr>\n",
       "      <th>11</th>\n",
       "      <td>5</td>\n",
       "      <td>entropy</td>\n",
       "      <td>10</td>\n",
       "      <td>0.654472</td>\n",
       "    </tr>\n",
       "    <tr>\n",
       "      <th>12</th>\n",
       "      <td>5</td>\n",
       "      <td>gini</td>\n",
       "      <td>84</td>\n",
       "      <td>0.653441</td>\n",
       "    </tr>\n",
       "    <tr>\n",
       "      <th>13</th>\n",
       "      <td>5</td>\n",
       "      <td>gini</td>\n",
       "      <td>96</td>\n",
       "      <td>0.652678</td>\n",
       "    </tr>\n",
       "    <tr>\n",
       "      <th>14</th>\n",
       "      <td>5</td>\n",
       "      <td>gini</td>\n",
       "      <td>24</td>\n",
       "      <td>0.652678</td>\n",
       "    </tr>\n",
       "    <tr>\n",
       "      <th>15</th>\n",
       "      <td>5</td>\n",
       "      <td>gini</td>\n",
       "      <td>10</td>\n",
       "      <td>0.650818</td>\n",
       "    </tr>\n",
       "    <tr>\n",
       "      <th>16</th>\n",
       "      <td>3</td>\n",
       "      <td>entropy</td>\n",
       "      <td>84</td>\n",
       "      <td>0.649923</td>\n",
       "    </tr>\n",
       "    <tr>\n",
       "      <th>17</th>\n",
       "      <td>3</td>\n",
       "      <td>entropy</td>\n",
       "      <td>96</td>\n",
       "      <td>0.647554</td>\n",
       "    </tr>\n",
       "    <tr>\n",
       "      <th>18</th>\n",
       "      <td>3</td>\n",
       "      <td>entropy</td>\n",
       "      <td>24</td>\n",
       "      <td>0.646177</td>\n",
       "    </tr>\n",
       "    <tr>\n",
       "      <th>19</th>\n",
       "      <td>3</td>\n",
       "      <td>entropy</td>\n",
       "      <td>10</td>\n",
       "      <td>0.646079</td>\n",
       "    </tr>\n",
       "    <tr>\n",
       "      <th>20</th>\n",
       "      <td>3</td>\n",
       "      <td>gini</td>\n",
       "      <td>84</td>\n",
       "      <td>0.642150</td>\n",
       "    </tr>\n",
       "    <tr>\n",
       "      <th>21</th>\n",
       "      <td>3</td>\n",
       "      <td>gini</td>\n",
       "      <td>96</td>\n",
       "      <td>0.639665</td>\n",
       "    </tr>\n",
       "    <tr>\n",
       "      <th>22</th>\n",
       "      <td>3</td>\n",
       "      <td>gini</td>\n",
       "      <td>24</td>\n",
       "      <td>0.636194</td>\n",
       "    </tr>\n",
       "    <tr>\n",
       "      <th>23</th>\n",
       "      <td>3</td>\n",
       "      <td>gini</td>\n",
       "      <td>10</td>\n",
       "      <td>0.630713</td>\n",
       "    </tr>\n",
       "  </tbody>\n",
       "</table>\n",
       "</div>"
      ],
      "text/plain": [
       "    maxDepth impurity  maxBins  F1 score\n",
       "0          7  entropy       84  0.706049\n",
       "1          7  entropy       96  0.701698\n",
       "2          7  entropy       24  0.680310\n",
       "3          7  entropy       10  0.673773\n",
       "4          7     gini       84  0.673063\n",
       "5          7     gini       96  0.668531\n",
       "6          7     gini       24  0.661087\n",
       "7          7     gini       10  0.658649\n",
       "8          5  entropy       24  0.655694\n",
       "9          5  entropy       84  0.655694\n",
       "10         5  entropy       96  0.655694\n",
       "11         5  entropy       10  0.654472\n",
       "12         5     gini       84  0.653441\n",
       "13         5     gini       96  0.652678\n",
       "14         5     gini       24  0.652678\n",
       "15         5     gini       10  0.650818\n",
       "16         3  entropy       84  0.649923\n",
       "17         3  entropy       96  0.647554\n",
       "18         3  entropy       24  0.646177\n",
       "19         3  entropy       10  0.646079\n",
       "20         3     gini       84  0.642150\n",
       "21         3     gini       96  0.639665\n",
       "22         3     gini       24  0.636194\n",
       "23         3     gini       10  0.630713"
      ]
     },
     "execution_count": 112,
     "metadata": {},
     "output_type": "execute_result"
    }
   ],
   "source": [
    "results = []\n",
    "for n in range(len(cvModel_rf_final.avgMetrics)):\n",
    "    params = list(cvModel_rf_final.getEstimatorParamMaps()[n].values())\n",
    "    params.append(cvModel_rf_final.avgMetrics[n])\n",
    "    results.append(params)\n",
    "    \n",
    "parameters_comp = pd.DataFrame(results, columns =['maxDepth', 'impurity', 'maxBins', 'F1 score'])\n",
    "parameters_comp.sort_values(\"F1 score\", ascending=False).reset_index(drop=True)"
   ]
  },
  {
   "cell_type": "markdown",
   "metadata": {},
   "source": [
    "Finally, let's explore why that model performed best by looking at the feature importance of the model."
   ]
  },
  {
   "cell_type": "code",
   "execution_count": 113,
   "metadata": {
    "scrolled": false
   },
   "outputs": [
    {
     "data": {
      "text/html": [
       "<div>\n",
       "<style scoped>\n",
       "    .dataframe tbody tr th:only-of-type {\n",
       "        vertical-align: middle;\n",
       "    }\n",
       "\n",
       "    .dataframe tbody tr th {\n",
       "        vertical-align: top;\n",
       "    }\n",
       "\n",
       "    .dataframe thead th {\n",
       "        text-align: right;\n",
       "    }\n",
       "</style>\n",
       "<table border=\"1\" class=\"dataframe\">\n",
       "  <thead>\n",
       "    <tr style=\"text-align: right;\">\n",
       "      <th></th>\n",
       "      <th>Importance</th>\n",
       "      <th>Feature</th>\n",
       "    </tr>\n",
       "  </thead>\n",
       "  <tbody>\n",
       "    <tr>\n",
       "      <th>0</th>\n",
       "      <td>0.069274</td>\n",
       "      <td>length_75</td>\n",
       "    </tr>\n",
       "    <tr>\n",
       "      <th>1</th>\n",
       "      <td>0.059426</td>\n",
       "      <td>n_artists</td>\n",
       "    </tr>\n",
       "    <tr>\n",
       "      <th>2</th>\n",
       "      <td>0.056710</td>\n",
       "      <td>Thumbs Down</td>\n",
       "    </tr>\n",
       "    <tr>\n",
       "      <th>3</th>\n",
       "      <td>0.055955</td>\n",
       "      <td>length_std</td>\n",
       "    </tr>\n",
       "    <tr>\n",
       "      <th>4</th>\n",
       "      <td>0.039122</td>\n",
       "      <td>Roll Advert</td>\n",
       "    </tr>\n",
       "    <tr>\n",
       "      <th>5</th>\n",
       "      <td>0.038193</td>\n",
       "      <td>n_sessions</td>\n",
       "    </tr>\n",
       "    <tr>\n",
       "      <th>6</th>\n",
       "      <td>0.037241</td>\n",
       "      <td>length_avg</td>\n",
       "    </tr>\n",
       "    <tr>\n",
       "      <th>7</th>\n",
       "      <td>0.033814</td>\n",
       "      <td>1</td>\n",
       "    </tr>\n",
       "    <tr>\n",
       "      <th>8</th>\n",
       "      <td>0.033374</td>\n",
       "      <td>7</td>\n",
       "    </tr>\n",
       "    <tr>\n",
       "      <th>9</th>\n",
       "      <td>0.031917</td>\n",
       "      <td>n_interactions</td>\n",
       "    </tr>\n",
       "    <tr>\n",
       "      <th>10</th>\n",
       "      <td>0.031101</td>\n",
       "      <td>free</td>\n",
       "    </tr>\n",
       "    <tr>\n",
       "      <th>11</th>\n",
       "      <td>0.030510</td>\n",
       "      <td>6</td>\n",
       "    </tr>\n",
       "    <tr>\n",
       "      <th>12</th>\n",
       "      <td>0.030114</td>\n",
       "      <td>3</td>\n",
       "    </tr>\n",
       "    <tr>\n",
       "      <th>13</th>\n",
       "      <td>0.029261</td>\n",
       "      <td>length_min</td>\n",
       "    </tr>\n",
       "    <tr>\n",
       "      <th>14</th>\n",
       "      <td>0.028941</td>\n",
       "      <td>Home</td>\n",
       "    </tr>\n",
       "    <tr>\n",
       "      <th>15</th>\n",
       "      <td>0.028915</td>\n",
       "      <td>Settings</td>\n",
       "    </tr>\n",
       "    <tr>\n",
       "      <th>16</th>\n",
       "      <td>0.028046</td>\n",
       "      <td>length_25</td>\n",
       "    </tr>\n",
       "    <tr>\n",
       "      <th>17</th>\n",
       "      <td>0.025674</td>\n",
       "      <td>length_max</td>\n",
       "    </tr>\n",
       "    <tr>\n",
       "      <th>18</th>\n",
       "      <td>0.025083</td>\n",
       "      <td>About</td>\n",
       "    </tr>\n",
       "    <tr>\n",
       "      <th>19</th>\n",
       "      <td>0.024955</td>\n",
       "      <td>2</td>\n",
       "    </tr>\n",
       "    <tr>\n",
       "      <th>20</th>\n",
       "      <td>0.024455</td>\n",
       "      <td>Add to Playlist</td>\n",
       "    </tr>\n",
       "    <tr>\n",
       "      <th>21</th>\n",
       "      <td>0.023999</td>\n",
       "      <td>5</td>\n",
       "    </tr>\n",
       "    <tr>\n",
       "      <th>22</th>\n",
       "      <td>0.022912</td>\n",
       "      <td>Logout</td>\n",
       "    </tr>\n",
       "    <tr>\n",
       "      <th>23</th>\n",
       "      <td>0.021938</td>\n",
       "      <td>NextSong</td>\n",
       "    </tr>\n",
       "    <tr>\n",
       "      <th>24</th>\n",
       "      <td>0.020735</td>\n",
       "      <td>registration</td>\n",
       "    </tr>\n",
       "    <tr>\n",
       "      <th>25</th>\n",
       "      <td>0.020108</td>\n",
       "      <td>length_med</td>\n",
       "    </tr>\n",
       "    <tr>\n",
       "      <th>26</th>\n",
       "      <td>0.019581</td>\n",
       "      <td>Downgrade</td>\n",
       "    </tr>\n",
       "    <tr>\n",
       "      <th>27</th>\n",
       "      <td>0.017241</td>\n",
       "      <td>Add Friend</td>\n",
       "    </tr>\n",
       "    <tr>\n",
       "      <th>28</th>\n",
       "      <td>0.014843</td>\n",
       "      <td>Upgrade</td>\n",
       "    </tr>\n",
       "    <tr>\n",
       "      <th>29</th>\n",
       "      <td>0.013783</td>\n",
       "      <td>paid</td>\n",
       "    </tr>\n",
       "    <tr>\n",
       "      <th>30</th>\n",
       "      <td>0.013012</td>\n",
       "      <td>4</td>\n",
       "    </tr>\n",
       "    <tr>\n",
       "      <th>31</th>\n",
       "      <td>0.011526</td>\n",
       "      <td>Help</td>\n",
       "    </tr>\n",
       "    <tr>\n",
       "      <th>32</th>\n",
       "      <td>0.011202</td>\n",
       "      <td>Thumbs Up</td>\n",
       "    </tr>\n",
       "    <tr>\n",
       "      <th>33</th>\n",
       "      <td>0.010224</td>\n",
       "      <td>Save Settings</td>\n",
       "    </tr>\n",
       "    <tr>\n",
       "      <th>34</th>\n",
       "      <td>0.008909</td>\n",
       "      <td>Error</td>\n",
       "    </tr>\n",
       "    <tr>\n",
       "      <th>35</th>\n",
       "      <td>0.004441</td>\n",
       "      <td>Submit Downgrade</td>\n",
       "    </tr>\n",
       "    <tr>\n",
       "      <th>36</th>\n",
       "      <td>0.002109</td>\n",
       "      <td>Submit Upgrade</td>\n",
       "    </tr>\n",
       "    <tr>\n",
       "      <th>37</th>\n",
       "      <td>0.001358</td>\n",
       "      <td>is_female</td>\n",
       "    </tr>\n",
       "  </tbody>\n",
       "</table>\n",
       "</div>"
      ],
      "text/plain": [
       "    Importance           Feature\n",
       "0     0.069274         length_75\n",
       "1     0.059426         n_artists\n",
       "2     0.056710       Thumbs Down\n",
       "3     0.055955        length_std\n",
       "4     0.039122       Roll Advert\n",
       "5     0.038193        n_sessions\n",
       "6     0.037241        length_avg\n",
       "7     0.033814                 1\n",
       "8     0.033374                 7\n",
       "9     0.031917    n_interactions\n",
       "10    0.031101              free\n",
       "11    0.030510                 6\n",
       "12    0.030114                 3\n",
       "13    0.029261        length_min\n",
       "14    0.028941              Home\n",
       "15    0.028915          Settings\n",
       "16    0.028046         length_25\n",
       "17    0.025674        length_max\n",
       "18    0.025083             About\n",
       "19    0.024955                 2\n",
       "20    0.024455   Add to Playlist\n",
       "21    0.023999                 5\n",
       "22    0.022912            Logout\n",
       "23    0.021938          NextSong\n",
       "24    0.020735      registration\n",
       "25    0.020108        length_med\n",
       "26    0.019581         Downgrade\n",
       "27    0.017241        Add Friend\n",
       "28    0.014843           Upgrade\n",
       "29    0.013783              paid\n",
       "30    0.013012                 4\n",
       "31    0.011526              Help\n",
       "32    0.011202         Thumbs Up\n",
       "33    0.010224     Save Settings\n",
       "34    0.008909             Error\n",
       "35    0.004441  Submit Downgrade\n",
       "36    0.002109    Submit Upgrade\n",
       "37    0.001358         is_female"
      ]
     },
     "execution_count": 113,
     "metadata": {},
     "output_type": "execute_result"
    }
   ],
   "source": [
    "feature_importances = []\n",
    "for importance, feature in zip(bestModel.featureImportances.toArray(), inputCols):\n",
    "    combo = [importance, feature]\n",
    "    feature_importances.append(combo)\n",
    "\n",
    "features = pd.DataFrame(feature_importances, columns =['Importance', 'Feature'])\n",
    "features.sort_values(\"Importance\", ascending=False).reset_index(drop=True)"
   ]
  },
  {
   "cell_type": "markdown",
   "metadata": {},
   "source": [
    "The most important features for the best model were: the statistics we calculated about the lenght in seconds of each action the user performed in the service, the number of artists listened, and the number of Ads"
   ]
  },
  {
   "cell_type": "markdown",
   "metadata": {},
   "source": [
    "If we want to further improve the model, we can do a wider search of the best combination of hyperparameters, and treat some of the feature preparation steps as hyperparameters. The grid search will automatically find out whether or not to add or remove features. We could also look at specific errors that the system makes, and then try to understand why it makes them and what could fix the problem (adding extra features or getting rid of uninformative ones, etc.)."
   ]
  }
 ],
 "metadata": {
  "kernelspec": {
   "display_name": "Python 3",
   "language": "python",
   "name": "python3"
  },
  "language_info": {
   "codemirror_mode": {
    "name": "ipython",
    "version": 3
   },
   "file_extension": ".py",
   "mimetype": "text/x-python",
   "name": "python",
   "nbconvert_exporter": "python",
   "pygments_lexer": "ipython3",
   "version": "3.6.3"
  }
 },
 "nbformat": 4,
 "nbformat_minor": 2
}
